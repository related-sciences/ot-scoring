{
 "cells": [
  {
   "cell_type": "markdown",
   "metadata": {},
   "source": [
    "## Scoring POC Notebook"
   ]
  },
  {
   "cell_type": "code",
   "execution_count": 1,
   "metadata": {},
   "outputs": [],
   "source": [
    "import java.nio.file.Paths\n",
    "import org.apache.spark.sql.Row\n",
    "import org.apache.spark.sql.DataFrame\n",
    "import org.apache.spark.sql.functions._\n",
    "import scala.collection.JavaConversions.mapAsScalaMap\n",
    "import scala.collection.JavaConversions._\n",
    "import org.apache.spark.sql.expressions.Window\n",
    "import org.yaml.snakeyaml.Yaml\n",
    "import scala.io.Source"
   ]
  },
  {
   "cell_type": "code",
   "execution_count": 14,
   "metadata": {},
   "outputs": [
    {
     "data": {
      "text/plain": [
       "class org.apache.spark.sql.SparkSession"
      ]
     },
     "execution_count": 14,
     "metadata": {},
     "output_type": "execute_result"
    }
   ],
   "source": [
    "spark.getClass()"
   ]
  },
  {
   "cell_type": "code",
   "execution_count": 2,
   "metadata": {},
   "outputs": [
    {
     "data": {
      "text/plain": [
       "input_dir = /home/eczech/data/ot/extract\n",
       "output_dir = /home/eczech/data/ot/results\n",
       "input_file = /home/eczech/data/ot/extract/evidence.json\n",
       "df = [access_level: string, disease: struct<biosample: struct<id: string, name: string>, efo_info: struct<efo_id: string, label: string ... 2 more fields> ... 3 more fields> ... 12 more fields]\n"
      ]
     },
     "metadata": {},
     "output_type": "display_data",
     "source": "user"
    },
    {
     "data": {
      "text/plain": [
       "[access_level: string, disease: struct<biosample: struct<id: string, name: string>, efo_info: struct<efo_id: string, label: string ... 2 more fields> ... 3 more fields> ... 12 more fields]"
      ]
     },
     "execution_count": 2,
     "metadata": {},
     "output_type": "execute_result"
    }
   ],
   "source": [
    "val input_dir = Paths.get(System.getProperty(\"user.home\"), \"data\", \"ot\", \"extract\")\n",
    "val output_dir = Paths.get(System.getProperty(\"user.home\"), \"data\", \"ot\", \"results\")\n",
    "val input_file = input_dir.resolve(\"evidence.json\")\n",
    "val df = spark.read.json(input_file.toString())"
   ]
  },
  {
   "cell_type": "code",
   "execution_count": 3,
   "metadata": {},
   "outputs": [
    {
     "data": {
      "text/plain": [
       "1626544"
      ]
     },
     "execution_count": 3,
     "metadata": {},
     "output_type": "execute_result"
    }
   ],
   "source": [
    "df.count()"
   ]
  },
  {
   "cell_type": "code",
   "execution_count": 4,
   "metadata": {},
   "outputs": [
    {
     "data": {
      "text/plain": [
       "dfe = [target_id: string, efo_codes: array<string> ... 4 more fields]\n",
       "cols = Array(target_id, efo_codes, disease_id, score, source_id, id)\n"
      ]
     },
     "metadata": {},
     "output_type": "display_data",
     "source": "user"
    },
    {
     "data": {
      "text/plain": [
       "Array(target_id, efo_codes, disease_id, score, source_id, id)"
      ]
     },
     "execution_count": 4,
     "metadata": {},
     "output_type": "execute_result"
    }
   ],
   "source": [
    "val dfe = df.select(\n",
    "        $\"target.id\".as(\"target_id\"),\n",
    "        $\"private.efo_codes\".as(\"efo_codes\"),\n",
    "        $\"disease.id\".as(\"disease_id\"),\n",
    "        $\"scores.association_score\".as(\"score\"),\n",
    "        $\"sourceID\".as(\"source_id\"),\n",
    "        $\"id\"\n",
    "    )\n",
    "val cols = dfe.columns"
   ]
  },
  {
   "cell_type": "code",
   "execution_count": 5,
   "metadata": {},
   "outputs": [
    {
     "name": "stdout",
     "output_type": "stream",
     "text": [
      "+------------+------------+-----------+------------+------------+------------+\n",
      "|   target_id|   efo_codes| disease_id|       score|   source_id|          id|\n",
      "+------------+------------+-----------+------------+------------+------------+\n",
      "|ENSG00000...|[EFO_0000...|EFO_0000384|0.1130747...|expressio...|38c0851b3...|\n",
      "|ENSG00000...|[EFO_0000...|EFO_0000384|      0.3762|expressio...|899d05b84...|\n",
      "|ENSG00000...|[EFO_0000...|EFO_0000384|      0.3465|expressio...|a56ee52c9...|\n",
      "|ENSG00000...|[EFO_0000...|EFO_0000384|0.3266999...|expressio...|b3c46e0fa...|\n",
      "|ENSG00000...|[EFO_0000...|EFO_0000384|0.4158000...|expressio...|eca9e41d0...|\n",
      "+------------+------------+-----------+------------+------------+------------+\n",
      "only showing top 5 rows\n",
      "\n"
     ]
    }
   ],
   "source": [
    "dfe.show(5, 12)"
   ]
  },
  {
   "cell_type": "code",
   "execution_count": 6,
   "metadata": {},
   "outputs": [
    {
     "name": "stdout",
     "output_type": "stream",
     "text": [
      "+------------------+------+\n",
      "|         source_id| count|\n",
      "+------------------+------+\n",
      "|   uniprot_somatic|   284|\n",
      "|           progeny|   308|\n",
      "|            sysbio|   408|\n",
      "|    gene2phenotype|  1586|\n",
      "|            crispr|  1659|\n",
      "|           intogen|  2375|\n",
      "|uniprot_literature|  4553|\n",
      "|       eva_somatic|  7585|\n",
      "|          reactome| 10159|\n",
      "|  genomics_england| 10528|\n",
      "|           uniprot| 30480|\n",
      "|    phewas_catalog| 55987|\n",
      "|cancer_gene_census| 60310|\n",
      "|        slapenrich| 74570|\n",
      "|               eva| 96734|\n",
      "|      gwas_catalog|180984|\n",
      "|  expression_atlas|204229|\n",
      "|            chembl|383122|\n",
      "|         phenodigm|500683|\n",
      "+------------------+------+\n",
      "\n"
     ]
    }
   ],
   "source": [
    "dfe.groupBy(\"source_id\").count().orderBy(\"count\").show()"
   ]
  },
  {
   "cell_type": "code",
   "execution_count": 7,
   "metadata": {},
   "outputs": [
    {
     "name": "stdout",
     "output_type": "stream",
     "text": [
      "+------------------------------------------------------------------------------+\n",
      "|                                                                     efo_codes|\n",
      "+------------------------------------------------------------------------------+\n",
      "|[EFO_0000540, EFO_0000405, EFO_0000384, EFO_0005140, EFO_0000408, EFO_0003767]|\n",
      "|[EFO_0000540, EFO_0000405, EFO_0000384, EFO_0005140, EFO_0000408, EFO_0003767]|\n",
      "|[EFO_0000540, EFO_0000405, EFO_0000384, EFO_0005140, EFO_0000408, EFO_0003767]|\n",
      "+------------------------------------------------------------------------------+\n",
      "only showing top 3 rows\n",
      "\n"
     ]
    }
   ],
   "source": [
    "dfe.select(\"efo_codes\").show(3, 100)"
   ]
  },
  {
   "cell_type": "code",
   "execution_count": 8,
   "metadata": {},
   "outputs": [
    {
     "name": "stdout",
     "output_type": "stream",
     "text": [
      "+---+------+\n",
      "|  n| count|\n",
      "+---+------+\n",
      "|  1|     4|\n",
      "|  2| 31382|\n",
      "|  3|117825|\n",
      "|  4|177100|\n",
      "|  5|143127|\n",
      "|  6|199967|\n",
      "|  7| 99531|\n",
      "|  8|105265|\n",
      "|  9|129871|\n",
      "| 10|155527|\n",
      "| 11|104358|\n",
      "| 12| 57374|\n",
      "| 13| 56029|\n",
      "| 14| 30250|\n",
      "| 15| 28318|\n",
      "| 16| 13342|\n",
      "| 17| 17993|\n",
      "| 18| 12379|\n",
      "| 19| 21961|\n",
      "| 20| 18028|\n",
      "+---+------+\n",
      "only showing top 20 rows\n",
      "\n"
     ]
    }
   ],
   "source": [
    "dfe.select(size($\"efo_codes\").as(\"n\")).groupBy(\"n\").count().orderBy(\"n\").show()"
   ]
  },
  {
   "cell_type": "code",
   "execution_count": 9,
   "metadata": {},
   "outputs": [
    {
     "name": "stdout",
     "output_type": "stream",
     "text": [
      "+-----+-------+\n",
      "|value|  count|\n",
      "+-----+-------+\n",
      "| true|1626544|\n",
      "+-----+-------+\n",
      "\n"
     ]
    }
   ],
   "source": [
    "// Verify that the efo_codes list contains the disease_id before exploding based on \n",
    "// the efo_codes field (which could result in rows being lost if efo_codes is empty\n",
    "// or does not contain the primary disease id)\n",
    "dfe.map(r => r.getAs[Seq[String]](\"efo_codes\") contains r.getAs[String](\"disease_id\"))\n",
    "    .groupBy(\"value\").count().show()"
   ]
  },
  {
   "cell_type": "code",
   "execution_count": 10,
   "metadata": {},
   "outputs": [
    {
     "data": {
      "text/plain": [
       "direct_data_sources = List(expression_atlas)\n",
       "dfi = [id: string, source_id: string ... 6 more fields]\n"
      ]
     },
     "metadata": {},
     "output_type": "display_data",
     "source": "user"
    },
    {
     "data": {
      "text/plain": [
       "[id: string, source_id: string ... 6 more fields]"
      ]
     },
     "execution_count": 10,
     "metadata": {},
     "output_type": "execute_result"
    }
   ],
   "source": [
    "val direct_data_sources = List(\"expression_atlas\")\n",
    "val dfi = dfe\n",
    "    .select(\"id\", \"source_id\", \"disease_id\", \"target_id\", \"efo_codes\", \"score\")\n",
    "    .withColumn(\"is_direct_source\", $\"source_id\".isin(direct_data_sources:_*))\n",
    "    .withColumn(\n",
    "        \"efo_ids\", \n",
    "        when($\"is_direct_source\", array($\"disease_id\"))\n",
    "        .otherwise($\"efo_codes\")\n",
    "    )\n",
    "    \n",
    "dfi"
   ]
  },
  {
   "cell_type": "code",
   "execution_count": 11,
   "metadata": {},
   "outputs": [
    {
     "data": {
      "text/plain": [
       "dfie = [id: string, source_id: string ... 5 more fields]\n"
      ]
     },
     "metadata": {},
     "output_type": "display_data",
     "source": "user"
    },
    {
     "data": {
      "text/plain": [
       "[id: string, source_id: string ... 5 more fields]"
      ]
     },
     "execution_count": 11,
     "metadata": {},
     "output_type": "execute_result"
    }
   ],
   "source": [
    "val dfie = dfi\n",
    "    .withColumnRenamed(\"disease_id\", \"orig_disease_id\")\n",
    "    .select(\n",
    "        $\"id\", $\"source_id\", $\"orig_disease_id\", $\"target_id\", $\"score\",\n",
    "        explode($\"efo_ids\").as(\"disease_id\")\n",
    "    )\n",
    "    .withColumn(\n",
    "        \"is_direct_id\",\n",
    "        $\"orig_disease_id\" === $\"disease_id\"\n",
    "    )\n",
    "dfie"
   ]
  },
  {
   "cell_type": "code",
   "execution_count": 12,
   "metadata": {},
   "outputs": [
    {
     "data": {
      "text/plain": [
       "14067077"
      ]
     },
     "execution_count": 12,
     "metadata": {},
     "output_type": "execute_result"
    }
   ],
   "source": [
    "dfie.count()"
   ]
  },
  {
   "cell_type": "code",
   "execution_count": 13,
   "metadata": {},
   "outputs": [
    {
     "name": "stdout",
     "output_type": "stream",
     "text": [
      "+--------------------+---------+---------------+---------------+-----+-----------+------------+\n",
      "|                  id|source_id|orig_disease_id|      target_id|score| disease_id|is_direct_id|\n",
      "+--------------------+---------+---------------+---------------+-----+-----------+------------+\n",
      "|abb040109d9414a1f...|   sysbio|    EFO_0001645|ENSG00000226777|0.859|EFO_0003777|       false|\n",
      "|abb040109d9414a1f...|   sysbio|    EFO_0001645|ENSG00000226777|0.859|EFO_0000408|       false|\n",
      "|abb040109d9414a1f...|   sysbio|    EFO_0001645|ENSG00000226777|0.859|EFO_0000319|       false|\n",
      "|abb040109d9414a1f...|   sysbio|    EFO_0001645|ENSG00000226777|0.859|EFO_0001645|        true|\n",
      "+--------------------+---------+---------------+---------------+-----+-----------+------------+\n",
      "\n"
     ]
    }
   ],
   "source": [
    "dfie.filter(\n",
    "    $\"disease.id\" === \"EFO_0001645\" &&\n",
    "    $\"target.id\" === \"ENSG00000226777\" &&\n",
    "    $\"sourceID\" === \"sysbio\"\n",
    ").show()"
   ]
  },
  {
   "cell_type": "code",
   "execution_count": null,
   "metadata": {},
   "outputs": [],
   "source": [
    "(\n",
    "    for (v <- Seq(0, 1)) \n",
    "    yield {dfie.filter($\"is_direct_id\" === v).limit(3)}\n",
    ") reduce(_ union _) show(6, 12)"
   ]
  },
  {
   "cell_type": "code",
   "execution_count": null,
   "metadata": {},
   "outputs": [],
   "source": [
    "dfie.groupBy(\"source_id\").pivot(\"is_direct_id\").agg(count(\"id\")).show()"
   ]
  },
  {
   "cell_type": "code",
   "execution_count": null,
   "metadata": {},
   "outputs": [],
   "source": [
    "dfie.groupBy(\"target_id\", \"disease_id\").count().withColumnRenamed(\"count\", \"n\")\n",
    "    .groupBy(\"n\").count().orderBy($\"n\".desc).show"
   ]
  },
  {
   "cell_type": "code",
   "execution_count": null,
   "metadata": {},
   "outputs": [],
   "source": [
    "import java.util.{Map => JMap}\n",
    "def using[A](r: Source)(f: Source => A): A = {try f(r) finally r.close()}\n",
    "def loadConfig(path: String): JMap[String, Any] = {\n",
    "    val content = using(Source.fromFile(path))(f => f.mkString)\n",
    "    (new Yaml).load(content).asInstanceOf[JMap[String, Any]]\n",
    "}\n",
    "def loadScoringConfig(path: String): Map[String, Double] = {\n",
    "    mapAsScalaMap(\n",
    "        loadConfig(path)\n",
    "        .get(\"scoring_weights\").asInstanceOf[JMap[String, Any]]\n",
    "        .get(\"source\").asInstanceOf[JMap[String, Double]]\n",
    "    ).toMap\n",
    "}\n",
    "val config = loadScoringConfig(\"../config/scoring.yml\")\n",
    "config"
   ]
  },
  {
   "cell_type": "code",
   "execution_count": null,
   "metadata": {},
   "outputs": [],
   "source": [
    "val lkp = typedLit(config)\n",
    "val dfse = dfie\n",
    "    .withColumnRenamed(\"score\", \"score_evidence\")\n",
    "    .withColumn(\"score_source\", $\"score_evidence\" * coalesce(lkp($\"source_id\"), lit(1.0)))\n",
    "dfse.show(3)"
   ]
  },
  {
   "cell_type": "code",
   "execution_count": 177,
   "metadata": {},
   "outputs": [
    {
     "name": "stdout",
     "output_type": "stream",
     "text": [
      "+--------------------+----------------+---------------+---------------+--------------+--------------+------------+------------+---+-------+\n",
      "|                  id|       source_id|orig_disease_id|      target_id|score_evidence|    disease_id|is_direct_id|score_source|rid|  score|\n",
      "+--------------------+----------------+---------------+---------------+--------------+--------------+------------+------------+---+-------+\n",
      "|c2ddf8443100ed7f1...|       phenodigm|  Orphanet_3337|ENSG00000000460|        0.9317|   EFO_0009566|       false|     0.18634|  1|0.18634|\n",
      "|c2ddf8443100ed7f1...|       phenodigm|  Orphanet_3337|ENSG00000000460|        0.9317| Orphanet_3337|        true|     0.18634|  1|0.18634|\n",
      "|5f0d033bca543b007...|genomics_england| Orphanet_33574|ENSG00000001084|           1.0|Orphanet_68367|       false|         1.0|  1|    1.0|\n",
      "|a622181d1a443117e...|genomics_england| Orphanet_33574|ENSG00000001084|           1.0|Orphanet_68367|       false|         1.0|  2|   0.25|\n",
      "|6e6fcb2a7b6ef8285...|    gwas_catalog|    EFO_0004337|ENSG00000001617|          0.65|    GO_0008150|       false|        0.65|  1|   0.65|\n",
      "+--------------------+----------------+---------------+---------------+--------------+--------------+------------+------------+---+-------+\n",
      "only showing top 5 rows\n",
      "\n"
     ]
    },
    {
     "data": {
      "text/plain": [
       "w = org.apache.spark.sql.expressions.WindowSpec@35ae1cc2\n",
       "dfseh = [id: string, source_id: string ... 8 more fields]\n"
      ]
     },
     "metadata": {},
     "output_type": "display_data",
     "source": "user"
    },
    {
     "data": {
      "text/plain": [
       "[id: string, source_id: string ... 8 more fields]"
      ]
     },
     "execution_count": 177,
     "metadata": {},
     "output_type": "execute_result"
    }
   ],
   "source": [
    "var w = Window.partitionBy(\"target_id\", \"disease_id\", \"source_id\").orderBy($\"score_source\".desc)\n",
    "val dfseh = dfse\n",
    "    .withColumn(\"rid\", row_number().over(w))\n",
    "    .withColumn(\"score\", $\"score_source\" / pow($\"rid\", 2.0))\n",
    "dfseh.show(5)"
   ]
  },
  {
   "cell_type": "code",
   "execution_count": 178,
   "metadata": {},
   "outputs": [
    {
     "name": "stdout",
     "output_type": "stream",
     "text": [
      "+-------+--------------------+\n",
      "|summary|               score|\n",
      "+-------+--------------------+\n",
      "|  count|            14067077|\n",
      "|   mean| 0.05697707589949231|\n",
      "| stddev|  0.1466786322141555|\n",
      "|    min|4.590854684798087...|\n",
      "|    max|                 1.0|\n",
      "+-------+--------------------+\n",
      "\n"
     ]
    }
   ],
   "source": [
    "dfseh.describe(\"score\").show()"
   ]
  },
  {
   "cell_type": "code",
   "execution_count": 186,
   "metadata": {},
   "outputs": [
    {
     "name": "stdout",
     "output_type": "stream",
     "text": [
      "+---------------+--------------+----------------+---------+---------+-------+\n",
      "|      target_id|    disease_id|       source_id|score_raw|is_direct|  score|\n",
      "+---------------+--------------+----------------+---------+---------+-------+\n",
      "|ENSG00000000460|   EFO_0009566|       phenodigm|  0.18634|    false|0.18634|\n",
      "|ENSG00000000460| Orphanet_3337|       phenodigm|  0.18634|     true|0.18634|\n",
      "|ENSG00000001084|Orphanet_68367|genomics_england|     1.25|    false|    1.0|\n",
      "+---------------+--------------+----------------+---------+---------+-------+\n",
      "only showing top 3 rows\n",
      "\n"
     ]
    },
    {
     "data": {
      "text/plain": [
       "dfses = [target_id: string, disease_id: string ... 4 more fields]\n"
      ]
     },
     "metadata": {},
     "output_type": "display_data",
     "source": "user"
    },
    {
     "data": {
      "text/plain": [
       "[target_id: string, disease_id: string ... 4 more fields]"
      ]
     },
     "execution_count": 186,
     "metadata": {},
     "output_type": "execute_result"
    }
   ],
   "source": [
    "// Aggregate association to source level\n",
    "// - clip summed scores at 1\n",
    "// - take max is_direct before applying max again at association level\n",
    "// - See: https://github.com/opentargets/data_pipeline/blob/7098546ee09ca1fc3c690a0bd6999b865ddfe646/mrtarget/modules/Association.py#L285\n",
    "//   for how scores are clipped at source level but not at datatype or overall levels\n",
    "val dfses = dfseh.groupBy(\"target_id\", \"disease_id\", \"source_id\")\n",
    "    .agg(sum(\"score\").as(\"score_raw\"), max(\"is_direct_id\").as(\"is_direct\"))\n",
    "    .withColumn(\"score\", when($\"score_raw\" > 1, 1).otherwise($\"score_raw\"))\n",
    "dfses.show(3)"
   ]
  },
  {
   "cell_type": "code",
   "execution_count": 187,
   "metadata": {},
   "outputs": [
    {
     "name": "stdout",
     "output_type": "stream",
     "text": [
      "+---------+-------+\n",
      "|score_bin|  count|\n",
      "+---------+-------+\n",
      "|      0.0| 339977|\n",
      "|      1.0|1474378|\n",
      "|      4.0| 181197|\n",
      "|      3.0|  66604|\n",
      "|      2.0| 212497|\n",
      "|      5.0|  16993|\n",
      "+---------+-------+\n",
      "\n"
     ]
    },
    {
     "data": {
      "text/plain": [
       "bucketizer = bucketizer_35fb4623cc5e\n"
      ]
     },
     "metadata": {},
     "output_type": "display_data",
     "source": "user"
    },
    {
     "data": {
      "text/plain": [
       "bucketizer_35fb4623cc5e"
      ]
     },
     "execution_count": 187,
     "metadata": {},
     "output_type": "execute_result"
    }
   ],
   "source": [
    "import org.apache.spark.ml.feature.Bucketizer\n",
    "val bucketizer = new Bucketizer()\n",
    "    .setInputCol(\"score_raw\")\n",
    "    .setOutputCol(\"score_bin\")\n",
    "    .setSplits(Array(0.0, 0.1, 0.5, 0.8, 1.0, 1.5, 2.0, 1000.0))\n",
    "bucketizer.transform(dfses).groupBy(\"score_bin\").count().show()"
   ]
  },
  {
   "cell_type": "code",
   "execution_count": 188,
   "metadata": {},
   "outputs": [
    {
     "name": "stdout",
     "output_type": "stream",
     "text": [
      "+-------+--------------------+\n",
      "|summary|           score_raw|\n",
      "+-------+--------------------+\n",
      "|  count|             2291646|\n",
      "|   mean|  0.3497490074440019|\n",
      "| stddev|  0.3227700291513107|\n",
      "|    min|2.124299626275006...|\n",
      "|    max|   1.644636205517087|\n",
      "+-------+--------------------+\n",
      "\n"
     ]
    }
   ],
   "source": [
    "dfses.describe(\"score_raw\").show()"
   ]
  },
  {
   "cell_type": "code",
   "execution_count": 189,
   "metadata": {},
   "outputs": [
    {
     "name": "stdout",
     "output_type": "stream",
     "text": [
      "+---------------+--------------+-------------------+---------+-----------+\n",
      "|      target_id|    disease_id|              score|is_direct| source_ids|\n",
      "+---------------+--------------+-------------------+---------+-----------+\n",
      "|ENSG00000000938|Orphanet_44890|                0.2|     true|   [chembl]|\n",
      "|ENSG00000000971| Orphanet_1505|0.23495000000000002|    false|[phenodigm]|\n",
      "|ENSG00000000971|Orphanet_98687|                0.2|    false|[phenodigm]|\n",
      "|ENSG00000001497|   EFO_0000178|           0.405682|     true|   [crispr]|\n",
      "|ENSG00000001626| Orphanet_2924|            0.22535|     true|[phenodigm]|\n",
      "+---------------+--------------+-------------------+---------+-----------+\n",
      "only showing top 5 rows\n",
      "\n"
     ]
    },
    {
     "data": {
      "text/plain": [
       "w = org.apache.spark.sql.expressions.WindowSpec@3e8739d6\n",
       "dfsea = [target_id: string, disease_id: string ... 3 more fields]\n"
      ]
     },
     "metadata": {},
     "output_type": "display_data",
     "source": "user"
    },
    {
     "data": {
      "text/plain": [
       "[target_id: string, disease_id: string ... 3 more fields]"
      ]
     },
     "execution_count": 189,
     "metadata": {},
     "output_type": "execute_result"
    }
   ],
   "source": [
    "// Aggregate to association level\n",
    "var w = Window.partitionBy(\"target_id\", \"disease_id\").orderBy($\"score\".desc)\n",
    "val dfsea = dfses\n",
    "    .withColumn(\"rid\", row_number().over(w))\n",
    "    .withColumn(\"score\", $\"score\" / pow($\"rid\", 2.0))\n",
    "    .groupBy(\"target_id\", \"disease_id\")\n",
    "    .agg(    \n",
    "        sum(\"score\").as(\"score\"), \n",
    "        max(\"is_direct\").as(\"is_direct\"),\n",
    "        collect_set(\"source_id\").as(\"source_ids\")\n",
    "    )\n",
    "dfsea.show(5)"
   ]
  },
  {
   "cell_type": "code",
   "execution_count": 196,
   "metadata": {},
   "outputs": [
    {
     "data": {
      "text/plain": [
       "path = /home/eczech/data/ot/results/score_source.parquet\n"
      ]
     },
     "metadata": {},
     "output_type": "display_data",
     "source": "user"
    },
    {
     "data": {
      "text/plain": [
       "/home/eczech/data/ot/results/score_source.parquet"
      ]
     },
     "execution_count": 196,
     "metadata": {},
     "output_type": "execute_result"
    }
   ],
   "source": [
    "var path = output_dir.resolve(\"score_source.parquet\")\n",
    "dfses.write.format(\"parquet\").mode(\"overwrite\").save(path.toString())\n",
    "path"
   ]
  },
  {
   "cell_type": "code",
   "execution_count": 197,
   "metadata": {},
   "outputs": [
    {
     "data": {
      "text/plain": [
       "path = /home/eczech/data/ot/results/score_association.parquet\n"
      ]
     },
     "metadata": {},
     "output_type": "display_data",
     "source": "user"
    },
    {
     "data": {
      "text/plain": [
       "/home/eczech/data/ot/results/score_association.parquet"
      ]
     },
     "execution_count": 197,
     "metadata": {},
     "output_type": "execute_result"
    }
   ],
   "source": [
    "var path = output_dir.resolve(\"score_association.parquet\")\n",
    "dfsea.write.format(\"parquet\").mode(\"overwrite\").save(path.toString())\n",
    "path"
   ]
  },
  {
   "cell_type": "code",
   "execution_count": 201,
   "metadata": {},
   "outputs": [
    {
     "data": {
      "text/plain": [
       "testtr: (df: org.apache.spark.sql.DataFrame)org.apache.spark.sql.DataFrame\n"
      ]
     },
     "metadata": {},
     "output_type": "display_data",
     "source": "user"
    },
    {
     "name": "stdout",
     "output_type": "stream",
     "text": [
      "+---------------+--------------+-----+---------+----------+\n",
      "|      target_id|    disease_id|score|is_direct|source_ids|\n",
      "+---------------+--------------+-----+---------+----------+\n",
      "|ENSG00000000938|Orphanet_44890|  0.2|     true|  [chembl]|\n",
      "+---------------+--------------+-----+---------+----------+\n",
      "only showing top 1 row\n",
      "\n"
     ]
    }
   ],
   "source": [
    "def testtr(df: DataFrame): DataFrame = {\n",
    "    df\n",
    "}\n",
    "dfsea.transform(testtr).show(1)"
   ]
  }
 ],
 "metadata": {
  "kernelspec": {
   "display_name": "Apache Toree - Scala",
   "language": "scala",
   "name": "apache_toree_scala"
  },
  "language_info": {
   "codemirror_mode": "text/x-scala",
   "file_extension": ".scala",
   "mimetype": "text/x-scala",
   "name": "scala",
   "pygments_lexer": "scala",
   "version": "2.11.12"
  }
 },
 "nbformat": 4,
 "nbformat_minor": 4
}
