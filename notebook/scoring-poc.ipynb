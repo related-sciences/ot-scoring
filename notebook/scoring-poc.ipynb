{
 "cells": [
  {
   "cell_type": "markdown",
   "metadata": {},
   "source": [
    "## Scoring POC Notebook"
   ]
  },
  {
   "cell_type": "code",
   "execution_count": 158,
   "metadata": {},
   "outputs": [],
   "source": [
    "import java.nio.file.Paths\n",
    "import org.apache.spark.sql.Row\n",
    "import org.apache.spark.sql.functions.{udf, when, split, explode}"
   ]
  },
  {
   "cell_type": "code",
   "execution_count": 3,
   "metadata": {},
   "outputs": [
    {
     "data": {
      "text/plain": [
       "input_dir = /home/eczech/data/ot/extract\n",
       "input_file = /home/eczech/data/ot/extract/evidence.json\n",
       "df = [access_level: string, disease: struct<biosample: struct<id: string, name: string>, efo_info: struct<efo_id: string, label: string ... 2 more fields> ... 3 more fields> ... 12 more fields]\n"
      ]
     },
     "metadata": {},
     "output_type": "display_data",
     "source": "user"
    },
    {
     "data": {
      "text/plain": [
       "[access_level: string, disease: struct<biosample: struct<id: string, name: string>, efo_info: struct<efo_id: string, label: string ... 2 more fields> ... 3 more fields> ... 12 more fields]"
      ]
     },
     "execution_count": 3,
     "metadata": {},
     "output_type": "execute_result"
    }
   ],
   "source": [
    "var input_dir = Paths.get(System.getProperty(\"user.home\"), \"data\", \"ot\", \"extract\")\n",
    "var input_file = input_dir.resolve(\"evidence.json\")\n",
    "val df = spark.read.json(input_file.toString())"
   ]
  },
  {
   "cell_type": "code",
   "execution_count": 102,
   "metadata": {},
   "outputs": [
    {
     "data": {
      "text/plain": [
       "dfe = [target_id: string, efo_codes: array<string> ... 4 more fields]\n",
       "cols = Array(target_id, efo_codes, disease_id, score, source_id, id)\n"
      ]
     },
     "metadata": {},
     "output_type": "display_data",
     "source": "user"
    },
    {
     "data": {
      "text/plain": [
       "Array(target_id, efo_codes, disease_id, score, source_id, id)"
      ]
     },
     "execution_count": 102,
     "metadata": {},
     "output_type": "execute_result"
    }
   ],
   "source": [
    "var dfe = df.select(\n",
    "        $\"target.id\".as(\"target_id\"),\n",
    "        $\"private.efo_codes\".as(\"efo_codes\"),\n",
    "        $\"disease.id\".as(\"disease_id\"),\n",
    "        $\"scores.association_score\".as(\"score\"),\n",
    "        $\"sourceID\".as(\"source_id\"),\n",
    "        $\"id\"\n",
    "    )\n",
    "var cols = dfe.columns"
   ]
  },
  {
   "cell_type": "code",
   "execution_count": 59,
   "metadata": {},
   "outputs": [
    {
     "name": "stdout",
     "output_type": "stream",
     "text": [
      "+------------------+------+\n",
      "|         source_id| count|\n",
      "+------------------+------+\n",
      "|   uniprot_somatic|   284|\n",
      "|           progeny|   308|\n",
      "|            sysbio|   408|\n",
      "|    gene2phenotype|  1586|\n",
      "|            crispr|  1659|\n",
      "|           intogen|  2375|\n",
      "|uniprot_literature|  4553|\n",
      "|       eva_somatic|  7585|\n",
      "|          reactome| 10159|\n",
      "|  genomics_england| 10528|\n",
      "|           uniprot| 30480|\n",
      "|    phewas_catalog| 55987|\n",
      "|cancer_gene_census| 60310|\n",
      "|        slapenrich| 74570|\n",
      "|               eva| 96734|\n",
      "|      gwas_catalog|180984|\n",
      "|  expression_atlas|204229|\n",
      "|            chembl|383122|\n",
      "|         phenodigm|500683|\n",
      "+------------------+------+\n",
      "\n"
     ]
    }
   ],
   "source": [
    "dfe.groupBy(\"source_id\").count().orderBy(\"count\").show()"
   ]
  },
  {
   "cell_type": "code",
   "execution_count": 163,
   "metadata": {},
   "outputs": [
    {
     "data": {
      "text/plain": [
       "direct_data_sources = List(expression_atlas)\n",
       "dfi = [id: string, source_id: string ... 3 more fields]\n"
      ]
     },
     "metadata": {},
     "output_type": "display_data",
     "source": "user"
    },
    {
     "data": {
      "text/plain": [
       "[id: string, source_id: string ... 3 more fields]"
      ]
     },
     "execution_count": 163,
     "metadata": {},
     "output_type": "execute_result"
    }
   ],
   "source": [
    "var direct_data_sources = List(\"expression_atlas\")\n",
    "var dfi = dfe.select(\"id\", \"source_id\", \"disease_id\", \"efo_codes\").withColumn(\n",
    "    \"efo_ids\", \n",
    "    //when($\"source_id\".isin(direct_data_sources:_*), split($\"disease_id\", \":\").cast(\"array<string>\"))\n",
    "    when($\"source_id\".isin(direct_data_sources:_*), array($\"disease_id\"))\n",
    "    .otherwise($\"efo_codes\")\n",
    ")\n",
    "dfi"
   ]
  },
  {
   "cell_type": "code",
   "execution_count": 166,
   "metadata": {},
   "outputs": [
    {
     "data": {
      "text/plain": [
       "dfie = [id: string, source_id: string ... 2 more fields]\n"
      ]
     },
     "metadata": {},
     "output_type": "display_data",
     "source": "user"
    },
    {
     "data": {
      "text/plain": [
       "[id: string, source_id: string ... 2 more fields]"
      ]
     },
     "execution_count": 166,
     "metadata": {},
     "output_type": "execute_result"
    }
   ],
   "source": [
    "var dfie = dfi.select($\"id\", $\"source_id\", $\"disease_id\", explode($\"efo_ids\"))\n",
    "dfie"
   ]
  },
  {
   "cell_type": "code",
   "execution_count": 168,
   "metadata": {},
   "outputs": [
    {
     "name": "stdout",
     "output_type": "stream",
     "text": [
      "+--------------------------------+----------------+-----------+-----------+\n",
      "|                              id|       source_id| disease_id|        col|\n",
      "+--------------------------------+----------------+-----------+-----------+\n",
      "|38c0851b3dba497d71ad645a01f498c3|expression_atlas|EFO_0000384|EFO_0000384|\n",
      "|899d05b84c11212adf3102b3af1a2690|expression_atlas|EFO_0000384|EFO_0000384|\n",
      "|a56ee52c9af9d70155016194a74ba536|expression_atlas|EFO_0000384|EFO_0000384|\n",
      "|0ce48d3c91926a55bc6a6dbf40d62123|          chembl|EFO_0000326|EFO_0000616|\n",
      "|0ce48d3c91926a55bc6a6dbf40d62123|          chembl|EFO_0000326|EFO_0000618|\n",
      "|0ce48d3c91926a55bc6a6dbf40d62123|          chembl|EFO_0000326|EFO_0000311|\n",
      "+--------------------------------+----------------+-----------+-----------+\n",
      "\n"
     ]
    }
   ],
   "source": [
    "dfie.filter($\"source_id\".isin(direct_data_sources:_*)).limit(3).union(\n",
    "    dfie.filter(!$\"source_id\".isin(direct_data_sources:_*)).limit(3)\n",
    ").show(10, 50)"
   ]
  }
 ],
 "metadata": {
  "kernelspec": {
   "display_name": "Apache Toree - Scala",
   "language": "scala",
   "name": "apache_toree_scala"
  },
  "language_info": {
   "codemirror_mode": "text/x-scala",
   "file_extension": ".scala",
   "mimetype": "text/x-scala",
   "name": "scala",
   "pygments_lexer": "scala",
   "version": "2.11.12"
  }
 },
 "nbformat": 4,
 "nbformat_minor": 4
}
