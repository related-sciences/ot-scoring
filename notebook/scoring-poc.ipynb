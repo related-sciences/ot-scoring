{
 "cells": [
  {
   "cell_type": "markdown",
   "metadata": {},
   "source": [
    "## Scoring POC Notebook"
   ]
  },
  {
   "cell_type": "code",
   "execution_count": 1,
   "metadata": {},
   "outputs": [],
   "source": [
    "import java.nio.file.Paths\n",
    "import org.apache.spark.sql.Row\n",
    "import org.apache.spark.sql.DataFrame\n",
    "import org.apache.spark.sql.functions._\n",
    "import scala.collection.JavaConversions.mapAsScalaMap\n",
    "import scala.collection.JavaConversions._\n",
    "import org.apache.spark.sql.expressions.Window\n",
    "import org.yaml.snakeyaml.Yaml\n",
    "import scala.io.Source"
   ]
  },
  {
   "cell_type": "code",
   "execution_count": 2,
   "metadata": {},
   "outputs": [
    {
     "data": {
      "text/plain": [
       "input_dir = /home/eczech/data/ot/extract\n",
       "output_dir = /home/eczech/data/ot/results\n",
       "input_file = /home/eczech/data/ot/extract/evidence.json\n",
       "df = [access_level: string, disease: struct<biosample: struct<id: string, name: string>, efo_info: struct<efo_id: string, label: string ... 2 more fields> ... 3 more fields> ... 12 more fields]\n"
      ]
     },
     "metadata": {},
     "output_type": "display_data",
     "source": "user"
    },
    {
     "data": {
      "text/plain": [
       "[access_level: string, disease: struct<biosample: struct<id: string, name: string>, efo_info: struct<efo_id: string, label: string ... 2 more fields> ... 3 more fields> ... 12 more fields]"
      ]
     },
     "execution_count": 2,
     "metadata": {},
     "output_type": "execute_result"
    }
   ],
   "source": [
    "val input_dir = Paths.get(System.getProperty(\"user.home\"), \"data\", \"ot\", \"extract\")\n",
    "val output_dir = Paths.get(System.getProperty(\"user.home\"), \"data\", \"ot\", \"results\")\n",
    "val input_file = input_dir.resolve(\"evidence.json\")\n",
    "val df = spark.read.json(input_file.toString())"
   ]
  },
  {
   "cell_type": "code",
   "execution_count": 52,
   "metadata": {},
   "outputs": [
    {
     "data": {
      "text/plain": [
       "Name: Syntax Error.\n",
       "Message: \n",
       "StackTrace: "
      ]
     },
     "execution_count": 52,
     "metadata": {},
     "output_type": "execute_result"
    }
   ],
   "source": [
    "// df.printSchema()"
   ]
  },
  {
   "cell_type": "code",
   "execution_count": 53,
   "metadata": {},
   "outputs": [
    {
     "data": {
      "text/plain": [
       "1626544"
      ]
     },
     "execution_count": 53,
     "metadata": {},
     "output_type": "execute_result"
    }
   ],
   "source": [
    "df.count()"
   ]
  },
  {
   "cell_type": "code",
   "execution_count": 73,
   "metadata": {},
   "outputs": [
    {
     "data": {
      "text/plain": [
       "Name: Syntax Error.\n",
       "Message: \n",
       "StackTrace: "
      ]
     },
     "execution_count": 73,
     "metadata": {},
     "output_type": "execute_result"
    }
   ],
   "source": [
    "// df.printSchema"
   ]
  },
  {
   "cell_type": "code",
   "execution_count": 78,
   "metadata": {},
   "outputs": [
    {
     "name": "stdout",
     "output_type": "stream",
     "text": [
      "+-------------------------------+\n",
      "|evidence_log2_fold_change_value|\n",
      "+-------------------------------+\n",
      "|                            2.1|\n",
      "|                            3.8|\n",
      "|                            3.5|\n",
      "+-------------------------------+\n",
      "only showing top 3 rows\n",
      "\n"
     ]
    },
    {
     "data": {
      "text/plain": [
       "evidence_fields = List(evidence.resource_score.value, evidence.drug2clinic.resource_score.value, evidence.target2drug.resource_score.value, evidence.log2_fold_change.value, evidence.log2_fold_change.percentile_rank, unique_association_fields.cases, evidence.variant2disease.resource_score.value, evidence.gene2variant)\n",
       "evidence_cols = List(evidence.resource_score.value AS `evidence_resource_score_value`, evidence.drug2clinic.resource_score.value AS `evidence_drug2clinic_resource_score_value`, evidence.target2drug.resource_score.value AS `evidence_target2drug_resource_score_value`, evidence.log2_fold_change.value AS `evidence_log2_fold_change_value`, evidence.log2_fold_change.percentile_rank AS `evidence_log2_fold_change_percentile_rank`, un...\n"
      ]
     },
     "metadata": {},
     "output_type": "display_data",
     "source": "user"
    },
    {
     "data": {
      "text/plain": [
       "lastException: Throwable = null\n"
      ]
     },
     "metadata": {},
     "output_type": "display_data",
     "source": "user"
    },
    {
     "data": {
      "text/plain": [
       "List(evidence.resource_score.value AS `evidence_resource_score_value`, evidence.drug2clinic.resource_score.value AS `evidence_drug2clinic_resource_score_value`, evidence.target2drug.resource_score.value AS `evidence_target2drug_resource_score_value`, evidence.log2_fold_change.value AS `evidence_log2_fold_change_value`, evidence.log2_fold_change.percentile_rank AS `evidence_log2_fold_change_percentile_rank`, un..."
      ]
     },
     "execution_count": 78,
     "metadata": {},
     "output_type": "execute_result"
    }
   ],
   "source": [
    "val evidence_fields = List(\n",
    "    \"evidence.resource_score.value\",\n",
    "    \"evidence.drug2clinic.resource_score.value\",\n",
    "    \"evidence.target2drug.resource_score.value\",\n",
    "    \"evidence.log2_fold_change.value\",\n",
    "    \"evidence.log2_fold_change.percentile_rank\",\n",
    "    \"unique_association_fields.cases\",\n",
    "    \"evidence.variant2disease.resource_score.value\",\n",
    "    \"evidence.gene2variant\"\n",
    ")\n",
    "val evidence_cols = evidence_fields.map(c => col(c).alias(c.replace(\".\", \"_\")))\n",
    "\n",
    "val dfe = df\n",
    "    .select(\n",
    "        $\"target.id\".as(\"target_id\"),\n",
    "        $\"type\".as(\"type_id\"),\n",
    "        $\"private.efo_codes\".as(\"efo_codes\"),\n",
    "        $\"disease.id\".as(\"disease_id\"),\n",
    "        $\"scores.association_score\".as(\"score\"),\n",
    "        $\"sourceID\".as(\"source_id\"),\n",
    "        $\"id\",\n",
    "        struct(evidence_cols:_*).as(\"resource_data\")\n",
    "    )\n",
    "\n",
    "dfe.select(\"resource_data.evidence_log2_fold_change_value\").show(3)"
   ]
  },
  {
   "cell_type": "code",
   "execution_count": 69,
   "metadata": {},
   "outputs": [
    {
     "data": {
      "text/plain": [
       "Name: Syntax Error.\n",
       "Message: \n",
       "StackTrace: "
      ]
     },
     "execution_count": 69,
     "metadata": {},
     "output_type": "execute_result"
    }
   ],
   "source": [
    "// val dfe = df.select(\n",
    "//         $\"target.id\".as(\"target_id\"),\n",
    "//         $\"private.efo_codes\".as(\"efo_codes\"),\n",
    "//         $\"disease.id\".as(\"disease_id\"),\n",
    "//         $\"scores.association_score\".as(\"score\"),\n",
    "//         $\"sourceID\".as(\"source_id\"),\n",
    "//         $\"evidence\".as(\"resource_data\"),\n",
    "//         $\"id\"\n",
    "//     )"
   ]
  },
  {
   "cell_type": "code",
   "execution_count": 70,
   "metadata": {},
   "outputs": [
    {
     "name": "stdout",
     "output_type": "stream",
     "text": [
      "+---------------+--------------+------------------+-----------+------------------+----------------+------------------+------------------+\n",
      "|      target_id|       type_id|         efo_codes| disease_id|             score|       source_id|                id|     resource_data|\n",
      "+---------------+--------------+------------------+-----------+------------------+----------------+------------------+------------------+\n",
      "|ENSG00000134438|rna_expression|[EFO_0000384, E...|EFO_0000384|0.1130747022339...|expression_atlas|38c0851b3dba497...|[3.64E-6,,, 2.1...|\n",
      "|ENSG00000162747|rna_expression|[EFO_0000384, E...|EFO_0000384|            0.3762|expression_atlas|899d05b84c11212...|[6.28E-35,,, 3....|\n",
      "|ENSG00000105989|rna_expression|[EFO_0000384, E...|EFO_0000384|            0.3465|expression_atlas|a56ee52c9af9d70...|[1.53E-20,,, 3....|\n",
      "|ENSG00000261520|rna_expression|[EFO_0000384, E...|EFO_0000384|0.3266999999999...|expression_atlas|b3c46e0faca5bb8...|[7.26E-17,,, 3....|\n",
      "|ENSG00000255398|rna_expression|[EFO_0000384, E...|EFO_0000384|0.4158000000000...|expression_atlas|eca9e41d053d4e3...|[2.89E-35,,, 4....|\n",
      "+---------------+--------------+------------------+-----------+------------------+----------------+------------------+------------------+\n",
      "only showing top 5 rows\n",
      "\n"
     ]
    }
   ],
   "source": [
    "dfe.show(5, 18)"
   ]
  },
  {
   "cell_type": "code",
   "execution_count": 63,
   "metadata": {},
   "outputs": [
    {
     "name": "stdout",
     "output_type": "stream",
     "text": [
      "+-------------------+------+\n",
      "|               type| count|\n",
      "+-------------------+------+\n",
      "|   somatic_mutation| 70554|\n",
      "|   affected_pathway| 87104|\n",
      "|     rna_expression|204229|\n",
      "|genetic_association|380852|\n",
      "|         known_drug|383122|\n",
      "|       animal_model|500683|\n",
      "+-------------------+------+\n",
      "\n"
     ]
    }
   ],
   "source": [
    "dfe.groupBy(\"type\").count().orderBy(\"count\").show()"
   ]
  },
  {
   "cell_type": "code",
   "execution_count": 85,
   "metadata": {},
   "outputs": [
    {
     "name": "stdout",
     "output_type": "stream",
     "text": [
      "+------------------+-------------------+------+\n",
      "|         source_id|            type_id| count|\n",
      "+------------------+-------------------+------+\n",
      "|   uniprot_somatic|   somatic_mutation|   284|\n",
      "|           progeny|   affected_pathway|   308|\n",
      "|            sysbio|   affected_pathway|   408|\n",
      "|    gene2phenotype|genetic_association|  1586|\n",
      "|            crispr|   affected_pathway|  1659|\n",
      "|           intogen|   somatic_mutation|  2375|\n",
      "|uniprot_literature|genetic_association|  4553|\n",
      "|       eva_somatic|   somatic_mutation|  7585|\n",
      "|          reactome|   affected_pathway| 10159|\n",
      "|  genomics_england|genetic_association| 10528|\n",
      "|           uniprot|genetic_association| 30480|\n",
      "|    phewas_catalog|genetic_association| 55987|\n",
      "|cancer_gene_census|   somatic_mutation| 60310|\n",
      "|        slapenrich|   affected_pathway| 74570|\n",
      "|               eva|genetic_association| 96734|\n",
      "|      gwas_catalog|genetic_association|180984|\n",
      "|  expression_atlas|     rna_expression|204229|\n",
      "|            chembl|         known_drug|383122|\n",
      "|         phenodigm|       animal_model|500683|\n",
      "+------------------+-------------------+------+\n",
      "\n"
     ]
    }
   ],
   "source": [
    "dfe.groupBy(\"source_id\", \"type_id\").count().orderBy(\"count\").show()"
   ]
  },
  {
   "cell_type": "code",
   "execution_count": 31,
   "metadata": {},
   "outputs": [
    {
     "name": "stdout",
     "output_type": "stream",
     "text": [
      "+------------------+------+\n",
      "|         source_id| count|\n",
      "+------------------+------+\n",
      "|   uniprot_somatic|   284|\n",
      "|           progeny|   308|\n",
      "|            sysbio|   408|\n",
      "|    gene2phenotype|  1586|\n",
      "|            crispr|  1659|\n",
      "|           intogen|  2375|\n",
      "|uniprot_literature|  4553|\n",
      "|       eva_somatic|  7585|\n",
      "|          reactome| 10159|\n",
      "|  genomics_england| 10528|\n",
      "|           uniprot| 30480|\n",
      "|    phewas_catalog| 55987|\n",
      "|cancer_gene_census| 60310|\n",
      "|        slapenrich| 74570|\n",
      "|               eva| 96734|\n",
      "|      gwas_catalog|180984|\n",
      "|  expression_atlas|204229|\n",
      "|            chembl|383122|\n",
      "|         phenodigm|500683|\n",
      "+------------------+------+\n",
      "\n"
     ]
    }
   ],
   "source": [
    "dfe.groupBy(\"source_id\").count().orderBy(\"count\").show()"
   ]
  },
  {
   "cell_type": "code",
   "execution_count": 8,
   "metadata": {},
   "outputs": [
    {
     "name": "stdout",
     "output_type": "stream",
     "text": [
      "+------------------------------------------------------------------------------+\n",
      "|                                                                     efo_codes|\n",
      "+------------------------------------------------------------------------------+\n",
      "|[EFO_0000384, EFO_0000405, EFO_0000540, EFO_0000408, EFO_0003767, EFO_0005140]|\n",
      "|[EFO_0000384, EFO_0000405, EFO_0000540, EFO_0000408, EFO_0003767, EFO_0005140]|\n",
      "|[EFO_0000384, EFO_0000405, EFO_0000540, EFO_0000408, EFO_0003767, EFO_0005140]|\n",
      "+------------------------------------------------------------------------------+\n",
      "only showing top 3 rows\n",
      "\n"
     ]
    }
   ],
   "source": [
    "dfe.select(\"efo_codes\").show(3, 100)"
   ]
  },
  {
   "cell_type": "code",
   "execution_count": 9,
   "metadata": {},
   "outputs": [
    {
     "name": "stdout",
     "output_type": "stream",
     "text": [
      "+---+------+\n",
      "|  n| count|\n",
      "+---+------+\n",
      "|  1|     4|\n",
      "|  2| 31382|\n",
      "|  3|117817|\n",
      "|  4|177100|\n",
      "|  5|143127|\n",
      "|  6|199967|\n",
      "|  7| 99531|\n",
      "|  8|105265|\n",
      "|  9|129871|\n",
      "| 10|155527|\n",
      "| 11|104358|\n",
      "| 12| 57374|\n",
      "| 13| 56029|\n",
      "| 14| 30258|\n",
      "| 15| 28318|\n",
      "| 16| 13342|\n",
      "| 17| 17993|\n",
      "| 18| 12379|\n",
      "| 19| 21961|\n",
      "| 20| 18028|\n",
      "+---+------+\n",
      "only showing top 20 rows\n",
      "\n"
     ]
    }
   ],
   "source": [
    "dfe.select(size($\"efo_codes\").as(\"n\")).groupBy(\"n\").count().orderBy(\"n\").show()"
   ]
  },
  {
   "cell_type": "code",
   "execution_count": 63,
   "metadata": {},
   "outputs": [
    {
     "name": "stdout",
     "output_type": "stream",
     "text": [
      "+-----+-------+\n",
      "|value|  count|\n",
      "+-----+-------+\n",
      "| true|1626544|\n",
      "+-----+-------+\n",
      "\n"
     ]
    }
   ],
   "source": [
    "// Verify that the efo_codes list contains the disease_id before exploding based on \n",
    "// the efo_codes field (which could result in rows being lost if efo_codes is empty\n",
    "// or does not contain the primary disease id)\n",
    "dfe.map(r => r.getAs[Seq[String]](\"efo_codes\") contains r.getAs[String](\"disease_id\"))\n",
    "    .groupBy(\"value\").count().show()"
   ]
  },
  {
   "cell_type": "markdown",
   "metadata": {},
   "source": [
    "#### Prepare Disease Ids"
   ]
  },
  {
   "cell_type": "code",
   "execution_count": 79,
   "metadata": {},
   "outputs": [
    {
     "data": {
      "text/plain": [
       "direct_data_sources = List(expression_atlas)\n",
       "dfi = [target_id: string, type_id: string ... 8 more fields]\n"
      ]
     },
     "metadata": {},
     "output_type": "display_data",
     "source": "user"
    },
    {
     "data": {
      "text/plain": [
       "[target_id: string, type_id: string ... 8 more fields]"
      ]
     },
     "execution_count": 79,
     "metadata": {},
     "output_type": "execute_result"
    }
   ],
   "source": [
    "val direct_data_sources = List(\"expression_atlas\")\n",
    "val dfi = dfe\n",
    "    .withColumn(\"is_direct_source\", $\"source_id\".isin(direct_data_sources:_*))\n",
    "    .withColumn(\n",
    "        \"efo_ids\", \n",
    "        when($\"is_direct_source\", array($\"disease_id\"))\n",
    "        .otherwise($\"efo_codes\")\n",
    "    )\n",
    "    .withColumnRenamed(\"disease_id\", \"orig_disease_id\")\n",
    "    \n",
    "dfi"
   ]
  },
  {
   "cell_type": "code",
   "execution_count": 80,
   "metadata": {},
   "outputs": [
    {
     "name": "stdout",
     "output_type": "stream",
     "text": [
      "root\n",
      " |-- target_id: string (nullable = true)\n",
      " |-- type_id: string (nullable = true)\n",
      " |-- efo_codes: array (nullable = true)\n",
      " |    |-- element: string (containsNull = true)\n",
      " |-- orig_disease_id: string (nullable = true)\n",
      " |-- score: double (nullable = true)\n",
      " |-- source_id: string (nullable = true)\n",
      " |-- id: string (nullable = true)\n",
      " |-- resource_data: struct (nullable = false)\n",
      " |    |-- evidence_resource_score_value: double (nullable = true)\n",
      " |    |-- evidence_drug2clinic_resource_score_value: double (nullable = true)\n",
      " |    |-- evidence_target2drug_resource_score_value: long (nullable = true)\n",
      " |    |-- evidence_log2_fold_change_value: double (nullable = true)\n",
      " |    |-- evidence_log2_fold_change_percentile_rank: long (nullable = true)\n",
      " |    |-- unique_association_fields_cases: string (nullable = true)\n",
      " |    |-- evidence_variant2disease_resource_score_value: double (nullable = true)\n",
      " |    |-- evidence_gene2variant: struct (nullable = true)\n",
      " |    |    |-- date_asserted: string (nullable = true)\n",
      " |    |    |-- evidence_codes: array (nullable = true)\n",
      " |    |    |    |-- element: string (containsNull = true)\n",
      " |    |    |-- functional_consequence: string (nullable = true)\n",
      " |    |    |-- is_associated: boolean (nullable = true)\n",
      " |    |    |-- provenance_type: struct (nullable = true)\n",
      " |    |    |    |-- database: struct (nullable = true)\n",
      " |    |    |    |    |-- dbxref: struct (nullable = true)\n",
      " |    |    |    |    |    |-- id: string (nullable = true)\n",
      " |    |    |    |    |    |-- url: string (nullable = true)\n",
      " |    |    |    |    |    |-- version: string (nullable = true)\n",
      " |    |    |    |    |-- id: string (nullable = true)\n",
      " |    |    |    |    |-- version: string (nullable = true)\n",
      " |    |    |    |-- expert: struct (nullable = true)\n",
      " |    |    |    |    |-- statement: string (nullable = true)\n",
      " |    |    |    |    |-- status: boolean (nullable = true)\n",
      " |    |    |    |-- literature: struct (nullable = true)\n",
      " |    |    |    |    |-- references: array (nullable = true)\n",
      " |    |    |    |    |    |-- element: struct (containsNull = true)\n",
      " |    |    |    |    |    |    |-- lit_id: string (nullable = true)\n",
      " |    |    |-- resource_score: struct (nullable = true)\n",
      " |    |    |    |-- method: struct (nullable = true)\n",
      " |    |    |    |    |-- description: string (nullable = true)\n",
      " |    |    |    |    |-- url: string (nullable = true)\n",
      " |    |    |    |-- type: string (nullable = true)\n",
      " |    |    |    |-- value: double (nullable = true)\n",
      " |    |    |-- urls: array (nullable = true)\n",
      " |    |    |    |-- element: struct (containsNull = true)\n",
      " |    |    |    |    |-- nice_name: string (nullable = true)\n",
      " |    |    |    |    |-- url: string (nullable = true)\n",
      " |-- is_direct_source: boolean (nullable = true)\n",
      " |-- efo_ids: array (nullable = true)\n",
      " |    |-- element: string (containsNull = true)\n",
      "\n"
     ]
    }
   ],
   "source": [
    "dfi.printSchema()"
   ]
  },
  {
   "cell_type": "code",
   "execution_count": 82,
   "metadata": {},
   "outputs": [
    {
     "name": "stdout",
     "output_type": "stream",
     "text": [
      "+-------+-------+\n",
      "|is_null|  count|\n",
      "+-------+-------+\n",
      "|   true|1262359|\n",
      "|  false| 364185|\n",
      "+-------+-------+\n",
      "\n"
     ]
    },
    {
     "data": {
      "text/plain": [
       "lastException: Throwable = null\n"
      ]
     },
     "metadata": {},
     "output_type": "display_data",
     "source": "user"
    }
   ],
   "source": [
    "dfi.select($\"resource_data.evidence_gene2variant\".isNull.as(\"is_null\")).groupBy(\"is_null\").count().show()"
   ]
  },
  {
   "cell_type": "markdown",
   "metadata": {},
   "source": [
    "#### Resource Scores"
   ]
  },
  {
   "cell_type": "code",
   "execution_count": 84,
   "metadata": {},
   "outputs": [
    {
     "name": "stdout",
     "output_type": "stream",
     "text": [
      "+--------------+-------+\n",
      "|score_resource|  count|\n",
      "+--------------+-------+\n",
      "|          true|1262359|\n",
      "|         false| 364185|\n",
      "+--------------+-------+\n",
      "\n"
     ]
    },
    {
     "data": {
      "text/plain": [
       "scoringUdf = UserDefinedFunction(<function3>,BooleanType,None)\n"
      ]
     },
     "metadata": {},
     "output_type": "display_data",
     "source": "user"
    },
    {
     "data": {
      "text/plain": [
       "dfir: Unit = ()\n"
      ]
     },
     "metadata": {},
     "output_type": "display_data",
     "source": "user"
    },
    {
     "data": {
      "text/plain": [
       "UserDefinedFunction(<function3>,BooleanType,None)"
      ]
     },
     "execution_count": 84,
     "metadata": {},
     "output_type": "execute_result"
    }
   ],
   "source": [
    "val scoringUdf = udf {\n",
    "    (typeId: String, sourceId: String, resourceData: Row) => {\n",
    "        var evidence = resourceData.getAs[Row](\"evidence_gene2variant\")\n",
    "        evidence == null\n",
    "    }\n",
    "}\n",
    "val dfir = dfi\n",
    "    .withColumn(\"score_resource\", scoringUdf($\"type_id\", $\"source_id\", $\"resource_data\"))\n",
    "    .groupBy(\"score_resource\").count().show()"
   ]
  },
  {
   "cell_type": "code",
   "execution_count": 67,
   "metadata": {},
   "outputs": [
    {
     "name": "stdout",
     "output_type": "stream",
     "text": [
      "+---------------+--------------+--------------------+---------------+-------------------+----------------+--------------------+--------------------+----------------+-------------+--------------------+\n",
      "|      target_id|          type|           efo_codes|orig_disease_id|              score|       source_id|                  id|       resource_data|is_direct_source|      efo_ids|      score_resource|\n",
      "+---------------+--------------+--------------------+---------------+-------------------+----------------+--------------------+--------------------+----------------+-------------+--------------------+\n",
      "|ENSG00000134438|rna_expression|[EFO_0000384, EFO...|    EFO_0000384|0.11307470223393612|expression_atlas|38c0851b3dba497d7...|[3.64E-6,,, 2.1, ...|            true|[EFO_0000384]|rna_expression:ex...|\n",
      "|ENSG00000162747|rna_expression|[EFO_0000384, EFO...|    EFO_0000384|             0.3762|expression_atlas|899d05b84c11212ad...|[6.28E-35,,, 3.8,...|            true|[EFO_0000384]|rna_expression:ex...|\n",
      "|ENSG00000105989|rna_expression|[EFO_0000384, EFO...|    EFO_0000384|             0.3465|expression_atlas|a56ee52c9af9d7015...|[1.53E-20,,, 3.5,...|            true|[EFO_0000384]|rna_expression:ex...|\n",
      "+---------------+--------------+--------------------+---------------+-------------------+----------------+--------------------+--------------------+----------------+-------------+--------------------+\n",
      "only showing top 3 rows\n",
      "\n"
     ]
    },
    {
     "data": {
      "text/plain": [
       "scoringUdf = UserDefinedFunction(<function3>,StringType,None)\n",
       "dfir = [target_id: string, type: string ... 9 more fields]\n"
      ]
     },
     "metadata": {},
     "output_type": "display_data",
     "source": "user"
    },
    {
     "data": {
      "text/plain": [
       "[target_id: string, type: string ... 9 more fields]"
      ]
     },
     "execution_count": 67,
     "metadata": {},
     "output_type": "execute_result"
    }
   ],
   "source": [
    "val scoringUdf = udf {\n",
    "    (typeId: String, sourceId: String, resourceData: Row) => typeId + \":\" + sourceId\n",
    "}\n",
    "val dfir = dfi.withColumn(\"score_resource\", scoringUdf($\"type_id\", $\"source_id\", $\"resource_data\"))\n",
    "dfir.show(3)"
   ]
  },
  {
   "cell_type": "markdown",
   "metadata": {},
   "source": [
    "#### Explode By Disease"
   ]
  },
  {
   "cell_type": "code",
   "execution_count": 56,
   "metadata": {},
   "outputs": [
    {
     "data": {
      "text/plain": [
       "dfie = [id: string, source_id: string ... 6 more fields]\n"
      ]
     },
     "metadata": {},
     "output_type": "display_data",
     "source": "user"
    },
    {
     "data": {
      "text/plain": [
       "[id: string, source_id: string ... 6 more fields]"
      ]
     },
     "execution_count": 56,
     "metadata": {},
     "output_type": "execute_result"
    }
   ],
   "source": [
    "val dfie = dfir\n",
    "    .select(\n",
    "        $\"id\", $\"source_id\", $\"orig_disease_id\", $\"target_id\", $\"resource_data\", $\"score\",\n",
    "        explode($\"efo_ids\").as(\"disease_id\")\n",
    "    )\n",
    "    .withColumn(\n",
    "        \"is_direct_id\",\n",
    "        $\"orig_disease_id\" === $\"disease_id\"\n",
    "    )\n",
    "dfie"
   ]
  },
  {
   "cell_type": "code",
   "execution_count": 57,
   "metadata": {},
   "outputs": [
    {
     "data": {
      "text/plain": [
       "14067077"
      ]
     },
     "execution_count": 57,
     "metadata": {},
     "output_type": "execute_result"
    }
   ],
   "source": [
    "dfie.count()"
   ]
  },
  {
   "cell_type": "code",
   "execution_count": 58,
   "metadata": {},
   "outputs": [
    {
     "name": "stdout",
     "output_type": "stream",
     "text": [
      "+--------------------+----------------+---------------+---------------+--------------------+-------------------+-----------+------------+\n",
      "|                  id|       source_id|orig_disease_id|      target_id|       resource_data|              score| disease_id|is_direct_id|\n",
      "+--------------------+----------------+---------------+---------------+--------------------+-------------------+-----------+------------+\n",
      "|38c0851b3dba497d7...|expression_atlas|    EFO_0000384|ENSG00000134438|[3.64E-6,,, 2.1, ...|0.11307470223393612|EFO_0000384|        true|\n",
      "|899d05b84c11212ad...|expression_atlas|    EFO_0000384|ENSG00000162747|[6.28E-35,,, 3.8,...|             0.3762|EFO_0000384|        true|\n",
      "|a56ee52c9af9d7015...|expression_atlas|    EFO_0000384|ENSG00000105989|[1.53E-20,,, 3.5,...|             0.3465|EFO_0000384|        true|\n",
      "+--------------------+----------------+---------------+---------------+--------------------+-------------------+-----------+------------+\n",
      "only showing top 3 rows\n",
      "\n"
     ]
    }
   ],
   "source": [
    "dfie.show(3)"
   ]
  },
  {
   "cell_type": "code",
   "execution_count": 13,
   "metadata": {},
   "outputs": [
    {
     "name": "stdout",
     "output_type": "stream",
     "text": [
      "+--------------------+---------+---------------+---------------+-----+-----------+------------+\n",
      "|                  id|source_id|orig_disease_id|      target_id|score| disease_id|is_direct_id|\n",
      "+--------------------+---------+---------------+---------------+-----+-----------+------------+\n",
      "|abb040109d9414a1f...|   sysbio|    EFO_0001645|ENSG00000226777|0.859|EFO_0003777|       false|\n",
      "|abb040109d9414a1f...|   sysbio|    EFO_0001645|ENSG00000226777|0.859|EFO_0000408|       false|\n",
      "|abb040109d9414a1f...|   sysbio|    EFO_0001645|ENSG00000226777|0.859|EFO_0000319|       false|\n",
      "|abb040109d9414a1f...|   sysbio|    EFO_0001645|ENSG00000226777|0.859|EFO_0001645|        true|\n",
      "+--------------------+---------+---------------+---------------+-----+-----------+------------+\n",
      "\n"
     ]
    }
   ],
   "source": [
    "dfie.filter(\n",
    "    $\"disease.id\" === \"EFO_0001645\" &&\n",
    "    $\"target.id\" === \"ENSG00000226777\" &&\n",
    "    $\"sourceID\" === \"sysbio\"\n",
    ").show()"
   ]
  },
  {
   "cell_type": "code",
   "execution_count": null,
   "metadata": {},
   "outputs": [],
   "source": [
    "(\n",
    "    for (v <- Seq(0, 1)) \n",
    "    yield {dfie.filter($\"is_direct_id\" === v).limit(3)}\n",
    ") reduce(_ union _) show(6, 12)"
   ]
  },
  {
   "cell_type": "code",
   "execution_count": null,
   "metadata": {},
   "outputs": [],
   "source": [
    "dfie.groupBy(\"source_id\").pivot(\"is_direct_id\").agg(count(\"id\")).show()"
   ]
  },
  {
   "cell_type": "code",
   "execution_count": null,
   "metadata": {},
   "outputs": [],
   "source": [
    "dfie.groupBy(\"target_id\", \"disease_id\").count().withColumnRenamed(\"count\", \"n\")\n",
    "    .groupBy(\"n\").count().orderBy($\"n\".desc).show"
   ]
  },
  {
   "cell_type": "code",
   "execution_count": null,
   "metadata": {},
   "outputs": [],
   "source": [
    "import java.util.{Map => JMap}\n",
    "def using[A](r: Source)(f: Source => A): A = {try f(r) finally r.close()}\n",
    "def loadConfig(path: String): JMap[String, Any] = {\n",
    "    val content = using(Source.fromFile(path))(f => f.mkString)\n",
    "    (new Yaml).load(content).asInstanceOf[JMap[String, Any]]\n",
    "}\n",
    "def loadScoringConfig(path: String): Map[String, Double] = {\n",
    "    mapAsScalaMap(\n",
    "        loadConfig(path)\n",
    "        .get(\"scoring_weights\").asInstanceOf[JMap[String, Any]]\n",
    "        .get(\"source\").asInstanceOf[JMap[String, Double]]\n",
    "    ).toMap\n",
    "}\n",
    "val config = loadScoringConfig(\"../config/scoring.yml\")\n",
    "config"
   ]
  },
  {
   "cell_type": "code",
   "execution_count": null,
   "metadata": {},
   "outputs": [],
   "source": [
    "val lkp = typedLit(config)\n",
    "val dfse = dfie\n",
    "    .withColumnRenamed(\"score\", \"score_evidence\")\n",
    "    .withColumn(\"score_source\", $\"score_evidence\" * coalesce(lkp($\"source_id\"), lit(1.0)))\n",
    "dfse.show(3)"
   ]
  },
  {
   "cell_type": "code",
   "execution_count": 177,
   "metadata": {},
   "outputs": [
    {
     "name": "stdout",
     "output_type": "stream",
     "text": [
      "+--------------------+----------------+---------------+---------------+--------------+--------------+------------+------------+---+-------+\n",
      "|                  id|       source_id|orig_disease_id|      target_id|score_evidence|    disease_id|is_direct_id|score_source|rid|  score|\n",
      "+--------------------+----------------+---------------+---------------+--------------+--------------+------------+------------+---+-------+\n",
      "|c2ddf8443100ed7f1...|       phenodigm|  Orphanet_3337|ENSG00000000460|        0.9317|   EFO_0009566|       false|     0.18634|  1|0.18634|\n",
      "|c2ddf8443100ed7f1...|       phenodigm|  Orphanet_3337|ENSG00000000460|        0.9317| Orphanet_3337|        true|     0.18634|  1|0.18634|\n",
      "|5f0d033bca543b007...|genomics_england| Orphanet_33574|ENSG00000001084|           1.0|Orphanet_68367|       false|         1.0|  1|    1.0|\n",
      "|a622181d1a443117e...|genomics_england| Orphanet_33574|ENSG00000001084|           1.0|Orphanet_68367|       false|         1.0|  2|   0.25|\n",
      "|6e6fcb2a7b6ef8285...|    gwas_catalog|    EFO_0004337|ENSG00000001617|          0.65|    GO_0008150|       false|        0.65|  1|   0.65|\n",
      "+--------------------+----------------+---------------+---------------+--------------+--------------+------------+------------+---+-------+\n",
      "only showing top 5 rows\n",
      "\n"
     ]
    },
    {
     "data": {
      "text/plain": [
       "w = org.apache.spark.sql.expressions.WindowSpec@35ae1cc2\n",
       "dfseh = [id: string, source_id: string ... 8 more fields]\n"
      ]
     },
     "metadata": {},
     "output_type": "display_data",
     "source": "user"
    },
    {
     "data": {
      "text/plain": [
       "[id: string, source_id: string ... 8 more fields]"
      ]
     },
     "execution_count": 177,
     "metadata": {},
     "output_type": "execute_result"
    }
   ],
   "source": [
    "var w = Window.partitionBy(\"target_id\", \"disease_id\", \"source_id\").orderBy($\"score_source\".desc)\n",
    "val dfseh = dfse\n",
    "    .withColumn(\"rid\", row_number().over(w))\n",
    "    .withColumn(\"score\", $\"score_source\" / pow($\"rid\", 2.0))\n",
    "dfseh.show(5)"
   ]
  },
  {
   "cell_type": "code",
   "execution_count": 178,
   "metadata": {},
   "outputs": [
    {
     "name": "stdout",
     "output_type": "stream",
     "text": [
      "+-------+--------------------+\n",
      "|summary|               score|\n",
      "+-------+--------------------+\n",
      "|  count|            14067077|\n",
      "|   mean| 0.05697707589949231|\n",
      "| stddev|  0.1466786322141555|\n",
      "|    min|4.590854684798087...|\n",
      "|    max|                 1.0|\n",
      "+-------+--------------------+\n",
      "\n"
     ]
    }
   ],
   "source": [
    "dfseh.describe(\"score\").show()"
   ]
  },
  {
   "cell_type": "code",
   "execution_count": 186,
   "metadata": {},
   "outputs": [
    {
     "name": "stdout",
     "output_type": "stream",
     "text": [
      "+---------------+--------------+----------------+---------+---------+-------+\n",
      "|      target_id|    disease_id|       source_id|score_raw|is_direct|  score|\n",
      "+---------------+--------------+----------------+---------+---------+-------+\n",
      "|ENSG00000000460|   EFO_0009566|       phenodigm|  0.18634|    false|0.18634|\n",
      "|ENSG00000000460| Orphanet_3337|       phenodigm|  0.18634|     true|0.18634|\n",
      "|ENSG00000001084|Orphanet_68367|genomics_england|     1.25|    false|    1.0|\n",
      "+---------------+--------------+----------------+---------+---------+-------+\n",
      "only showing top 3 rows\n",
      "\n"
     ]
    },
    {
     "data": {
      "text/plain": [
       "dfses = [target_id: string, disease_id: string ... 4 more fields]\n"
      ]
     },
     "metadata": {},
     "output_type": "display_data",
     "source": "user"
    },
    {
     "data": {
      "text/plain": [
       "[target_id: string, disease_id: string ... 4 more fields]"
      ]
     },
     "execution_count": 186,
     "metadata": {},
     "output_type": "execute_result"
    }
   ],
   "source": [
    "// Aggregate association to source level\n",
    "// - clip summed scores at 1\n",
    "// - take max is_direct before applying max again at association level\n",
    "// - See: https://github.com/opentargets/data_pipeline/blob/7098546ee09ca1fc3c690a0bd6999b865ddfe646/mrtarget/modules/Association.py#L285\n",
    "//   for how scores are clipped at source level but not at datatype or overall levels\n",
    "val dfses = dfseh.groupBy(\"target_id\", \"disease_id\", \"source_id\")\n",
    "    .agg(sum(\"score\").as(\"score_raw\"), max(\"is_direct_id\").as(\"is_direct\"))\n",
    "    .withColumn(\"score\", when($\"score_raw\" > 1, 1).otherwise($\"score_raw\"))\n",
    "dfses.show(3)"
   ]
  },
  {
   "cell_type": "code",
   "execution_count": 187,
   "metadata": {},
   "outputs": [
    {
     "name": "stdout",
     "output_type": "stream",
     "text": [
      "+---------+-------+\n",
      "|score_bin|  count|\n",
      "+---------+-------+\n",
      "|      0.0| 339977|\n",
      "|      1.0|1474378|\n",
      "|      4.0| 181197|\n",
      "|      3.0|  66604|\n",
      "|      2.0| 212497|\n",
      "|      5.0|  16993|\n",
      "+---------+-------+\n",
      "\n"
     ]
    },
    {
     "data": {
      "text/plain": [
       "bucketizer = bucketizer_35fb4623cc5e\n"
      ]
     },
     "metadata": {},
     "output_type": "display_data",
     "source": "user"
    },
    {
     "data": {
      "text/plain": [
       "bucketizer_35fb4623cc5e"
      ]
     },
     "execution_count": 187,
     "metadata": {},
     "output_type": "execute_result"
    }
   ],
   "source": [
    "import org.apache.spark.ml.feature.Bucketizer\n",
    "val bucketizer = new Bucketizer()\n",
    "    .setInputCol(\"score_raw\")\n",
    "    .setOutputCol(\"score_bin\")\n",
    "    .setSplits(Array(0.0, 0.1, 0.5, 0.8, 1.0, 1.5, 2.0, 1000.0))\n",
    "bucketizer.transform(dfses).groupBy(\"score_bin\").count().show()"
   ]
  },
  {
   "cell_type": "code",
   "execution_count": 188,
   "metadata": {},
   "outputs": [
    {
     "name": "stdout",
     "output_type": "stream",
     "text": [
      "+-------+--------------------+\n",
      "|summary|           score_raw|\n",
      "+-------+--------------------+\n",
      "|  count|             2291646|\n",
      "|   mean|  0.3497490074440019|\n",
      "| stddev|  0.3227700291513107|\n",
      "|    min|2.124299626275006...|\n",
      "|    max|   1.644636205517087|\n",
      "+-------+--------------------+\n",
      "\n"
     ]
    }
   ],
   "source": [
    "dfses.describe(\"score_raw\").show()"
   ]
  },
  {
   "cell_type": "code",
   "execution_count": 189,
   "metadata": {},
   "outputs": [
    {
     "name": "stdout",
     "output_type": "stream",
     "text": [
      "+---------------+--------------+-------------------+---------+-----------+\n",
      "|      target_id|    disease_id|              score|is_direct| source_ids|\n",
      "+---------------+--------------+-------------------+---------+-----------+\n",
      "|ENSG00000000938|Orphanet_44890|                0.2|     true|   [chembl]|\n",
      "|ENSG00000000971| Orphanet_1505|0.23495000000000002|    false|[phenodigm]|\n",
      "|ENSG00000000971|Orphanet_98687|                0.2|    false|[phenodigm]|\n",
      "|ENSG00000001497|   EFO_0000178|           0.405682|     true|   [crispr]|\n",
      "|ENSG00000001626| Orphanet_2924|            0.22535|     true|[phenodigm]|\n",
      "+---------------+--------------+-------------------+---------+-----------+\n",
      "only showing top 5 rows\n",
      "\n"
     ]
    },
    {
     "data": {
      "text/plain": [
       "w = org.apache.spark.sql.expressions.WindowSpec@3e8739d6\n",
       "dfsea = [target_id: string, disease_id: string ... 3 more fields]\n"
      ]
     },
     "metadata": {},
     "output_type": "display_data",
     "source": "user"
    },
    {
     "data": {
      "text/plain": [
       "[target_id: string, disease_id: string ... 3 more fields]"
      ]
     },
     "execution_count": 189,
     "metadata": {},
     "output_type": "execute_result"
    }
   ],
   "source": [
    "// Aggregate to association level\n",
    "var w = Window.partitionBy(\"target_id\", \"disease_id\").orderBy($\"score\".desc)\n",
    "val dfsea = dfses\n",
    "    .withColumn(\"rid\", row_number().over(w))\n",
    "    .withColumn(\"score\", $\"score\" / pow($\"rid\", 2.0))\n",
    "    .groupBy(\"target_id\", \"disease_id\")\n",
    "    .agg(    \n",
    "        sum(\"score\").as(\"score\"), \n",
    "        max(\"is_direct\").as(\"is_direct\"),\n",
    "        collect_set(\"source_id\").as(\"source_ids\")\n",
    "    )\n",
    "dfsea.show(5)"
   ]
  },
  {
   "cell_type": "code",
   "execution_count": 196,
   "metadata": {},
   "outputs": [
    {
     "data": {
      "text/plain": [
       "path = /home/eczech/data/ot/results/score_source.parquet\n"
      ]
     },
     "metadata": {},
     "output_type": "display_data",
     "source": "user"
    },
    {
     "data": {
      "text/plain": [
       "/home/eczech/data/ot/results/score_source.parquet"
      ]
     },
     "execution_count": 196,
     "metadata": {},
     "output_type": "execute_result"
    }
   ],
   "source": [
    "var path = output_dir.resolve(\"score_source.parquet\")\n",
    "dfses.write.format(\"parquet\").mode(\"overwrite\").save(path.toString())\n",
    "path"
   ]
  },
  {
   "cell_type": "code",
   "execution_count": 197,
   "metadata": {},
   "outputs": [
    {
     "data": {
      "text/plain": [
       "path = /home/eczech/data/ot/results/score_association.parquet\n"
      ]
     },
     "metadata": {},
     "output_type": "display_data",
     "source": "user"
    },
    {
     "data": {
      "text/plain": [
       "/home/eczech/data/ot/results/score_association.parquet"
      ]
     },
     "execution_count": 197,
     "metadata": {},
     "output_type": "execute_result"
    }
   ],
   "source": [
    "var path = output_dir.resolve(\"score_association.parquet\")\n",
    "dfsea.write.format(\"parquet\").mode(\"overwrite\").save(path.toString())\n",
    "path"
   ]
  },
  {
   "cell_type": "code",
   "execution_count": 201,
   "metadata": {},
   "outputs": [
    {
     "data": {
      "text/plain": [
       "testtr: (df: org.apache.spark.sql.DataFrame)org.apache.spark.sql.DataFrame\n"
      ]
     },
     "metadata": {},
     "output_type": "display_data",
     "source": "user"
    },
    {
     "name": "stdout",
     "output_type": "stream",
     "text": [
      "+---------------+--------------+-----+---------+----------+\n",
      "|      target_id|    disease_id|score|is_direct|source_ids|\n",
      "+---------------+--------------+-----+---------+----------+\n",
      "|ENSG00000000938|Orphanet_44890|  0.2|     true|  [chembl]|\n",
      "+---------------+--------------+-----+---------+----------+\n",
      "only showing top 1 row\n",
      "\n"
     ]
    }
   ],
   "source": [
    "def testtr(df: DataFrame): DataFrame = {\n",
    "    df\n",
    "}\n",
    "dfsea.transform(testtr).show(1)"
   ]
  }
 ],
 "metadata": {
  "kernelspec": {
   "display_name": "Apache Toree - Scala",
   "language": "scala",
   "name": "apache_toree_scala"
  },
  "language_info": {
   "codemirror_mode": "text/x-scala",
   "file_extension": ".scala",
   "mimetype": "text/x-scala",
   "name": "scala",
   "pygments_lexer": "scala",
   "version": "2.11.12"
  }
 },
 "nbformat": 4,
 "nbformat_minor": 4
}
