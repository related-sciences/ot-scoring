{
 "cells": [
  {
   "cell_type": "code",
   "execution_count": 1,
   "metadata": {},
   "outputs": [
    {
     "data": {
      "text/plain": [
       "dir_rs = /home/eczech/data/ot/results\n",
       "dir_ot = /home/eczech/data/ot/extract\n"
      ]
     },
     "metadata": {},
     "output_type": "display_data",
     "source": "user"
    },
    {
     "data": {
      "text/plain": [
       "/home/eczech/data/ot/extract"
      ]
     },
     "execution_count": 1,
     "metadata": {},
     "output_type": "execute_result"
    }
   ],
   "source": [
    "import java.nio.file.Paths\n",
    "import org.apache.spark.sql.functions._\n",
    "val dir_rs = Paths.get(System.getProperty(\"user.home\"), \"data\", \"ot\", \"results\")\n",
    "val dir_ot = Paths.get(System.getProperty(\"user.home\"), \"data\", \"ot\", \"extract\")"
   ]
  },
  {
   "cell_type": "markdown",
   "metadata": {},
   "source": [
    "## Load RS Data"
   ]
  },
  {
   "cell_type": "code",
   "execution_count": 2,
   "metadata": {},
   "outputs": [
    {
     "data": {
      "text/plain": [
       "df = [target_id: string, disease_id: string ... 3 more fields]\n"
      ]
     },
     "metadata": {},
     "output_type": "display_data",
     "source": "user"
    },
    {
     "data": {
      "text/plain": [
       "[target_id: string, disease_id: string ... 3 more fields]"
      ]
     },
     "execution_count": 2,
     "metadata": {},
     "output_type": "execute_result"
    }
   ],
   "source": [
    "var df = spark.read.parquet(dir_rs.resolve(\"score_association.parquet\").toString)"
   ]
  },
  {
   "cell_type": "code",
   "execution_count": 3,
   "metadata": {},
   "outputs": [
    {
     "name": "stdout",
     "output_type": "stream",
     "text": [
      "+---------------+--------------+-------------------+---------+-----------+\n",
      "|      target_id|    disease_id|              score|is_direct| source_ids|\n",
      "+---------------+--------------+-------------------+---------+-----------+\n",
      "|ENSG00000000460|Orphanet_93420|             0.1817|    false|[phenodigm]|\n",
      "|ENSG00000000938|   EFO_0004244|                0.1|    false|   [chembl]|\n",
      "|ENSG00000000938|Orphanet_98710|0.23667500000000002|    false|[phenodigm]|\n",
      "+---------------+--------------+-------------------+---------+-----------+\n",
      "only showing top 3 rows\n",
      "\n"
     ]
    }
   ],
   "source": [
    "df.show(3)"
   ]
  },
  {
   "cell_type": "code",
   "execution_count": 4,
   "metadata": {},
   "outputs": [
    {
     "data": {
      "text/plain": [
       "1973467"
      ]
     },
     "execution_count": 4,
     "metadata": {},
     "output_type": "execute_result"
    }
   ],
   "source": [
    "df.count()"
   ]
  },
  {
   "cell_type": "code",
   "execution_count": 5,
   "metadata": {},
   "outputs": [
    {
     "name": "stdout",
     "output_type": "stream",
     "text": [
      "+---------------+--------------+-------------------+\n",
      "|      target_id|    disease_id|           score_rs|\n",
      "+---------------+--------------+-------------------+\n",
      "|ENSG00000000460|Orphanet_93420|             0.1817|\n",
      "|ENSG00000000938|   EFO_0004244|                0.1|\n",
      "|ENSG00000000938|Orphanet_98710|0.23667500000000002|\n",
      "+---------------+--------------+-------------------+\n",
      "only showing top 3 rows\n",
      "\n"
     ]
    },
    {
     "data": {
      "text/plain": [
       "df_rs_as = [target_id: string, disease_id: string ... 1 more field]\n"
      ]
     },
     "metadata": {},
     "output_type": "display_data",
     "source": "user"
    },
    {
     "data": {
      "text/plain": [
       "[target_id: string, disease_id: string ... 1 more field]"
      ]
     },
     "execution_count": 5,
     "metadata": {},
     "output_type": "execute_result"
    }
   ],
   "source": [
    "val df_rs_as = df.select($\"target_id\", $\"disease_id\", $\"score\".as(\"score_rs\"))\n",
    "df_rs_as.show(3)"
   ]
  },
  {
   "cell_type": "code",
   "execution_count": 6,
   "metadata": {},
   "outputs": [
    {
     "data": {
      "text/plain": [
       "df = [target_id: string, disease_id: string ... 4 more fields]\n"
      ]
     },
     "metadata": {},
     "output_type": "display_data",
     "source": "user"
    },
    {
     "data": {
      "text/plain": [
       "[target_id: string, disease_id: string ... 4 more fields]"
      ]
     },
     "execution_count": 6,
     "metadata": {},
     "output_type": "execute_result"
    }
   ],
   "source": [
    "var df = spark.read.parquet(dir_rs.resolve(\"score_source.parquet\").toString)"
   ]
  },
  {
   "cell_type": "code",
   "execution_count": 7,
   "metadata": {},
   "outputs": [
    {
     "name": "stdout",
     "output_type": "stream",
     "text": [
      "+---------------+---------------+------------------+-------------------+---------+-------------------+\n",
      "|      target_id|     disease_id|         source_id|          score_raw|is_direct|              score|\n",
      "+---------------+---------------+------------------+-------------------+---------+-------------------+\n",
      "|ENSG00000000419|Orphanet_371047|uniprot_literature|                1.0|    false|                1.0|\n",
      "|ENSG00000000457|Orphanet_206644|         phenodigm|            0.18492|    false|            0.18492|\n",
      "|ENSG00000000460|Orphanet_139009|         phenodigm|0.28020652777777777|    false|0.28020652777777777|\n",
      "+---------------+---------------+------------------+-------------------+---------+-------------------+\n",
      "only showing top 3 rows\n",
      "\n"
     ]
    }
   ],
   "source": [
    "df.show(3)"
   ]
  },
  {
   "cell_type": "code",
   "execution_count": 8,
   "metadata": {},
   "outputs": [
    {
     "name": "stdout",
     "output_type": "stream",
     "text": [
      "+---------------+---------------+------------------+-------------------+\n",
      "|      target_id|     disease_id|         source_id|           score_rs|\n",
      "+---------------+---------------+------------------+-------------------+\n",
      "|ENSG00000000419|Orphanet_371047|uniprot_literature|                1.0|\n",
      "|ENSG00000000457|Orphanet_206644|         phenodigm|            0.18492|\n",
      "|ENSG00000000460|Orphanet_139009|         phenodigm|0.28020652777777777|\n",
      "+---------------+---------------+------------------+-------------------+\n",
      "only showing top 3 rows\n",
      "\n"
     ]
    },
    {
     "data": {
      "text/plain": [
       "df_rs_sc = [target_id: string, disease_id: string ... 2 more fields]\n"
      ]
     },
     "metadata": {},
     "output_type": "display_data",
     "source": "user"
    },
    {
     "data": {
      "text/plain": [
       "[target_id: string, disease_id: string ... 2 more fields]"
      ]
     },
     "execution_count": 8,
     "metadata": {},
     "output_type": "execute_result"
    }
   ],
   "source": [
    "val df_rs_sc = df.select($\"target_id\", $\"disease_id\", $\"source_id\", $\"score\".as(\"score_rs\"))\n",
    "df_rs_sc.show(3)"
   ]
  },
  {
   "cell_type": "code",
   "execution_count": 9,
   "metadata": {},
   "outputs": [
    {
     "data": {
      "text/plain": [
       "0"
      ]
     },
     "execution_count": 9,
     "metadata": {},
     "output_type": "execute_result"
    }
   ],
   "source": [
    "df_rs_sc.filter($\"score_rs\" <= 0).count()"
   ]
  },
  {
   "cell_type": "code",
   "execution_count": 10,
   "metadata": {},
   "outputs": [
    {
     "data": {
      "text/plain": [
       "2291653"
      ]
     },
     "execution_count": 10,
     "metadata": {},
     "output_type": "execute_result"
    }
   ],
   "source": [
    "df_rs_sc.count()"
   ]
  },
  {
   "cell_type": "markdown",
   "metadata": {},
   "source": [
    "### Load OT Data"
   ]
  },
  {
   "cell_type": "code",
   "execution_count": 11,
   "metadata": {},
   "outputs": [
    {
     "data": {
      "text/plain": [
       "df_ot_ev = [disease: struct<efo_info: struct<efo_id: string, label: string ... 2 more fields>, id: string>, evidence_count: struct<datasources: struct<cancer_gene_census: double, chembl: double ... 19 more fields>, datatypes: struct<affected_pathway: double, animal_model: double ... 5 more fields> ... 1 more field> ... 7 more fields]\n"
      ]
     },
     "metadata": {},
     "output_type": "display_data",
     "source": "user"
    },
    {
     "data": {
      "text/plain": [
       "[disease: struct<efo_info: struct<efo_id: string, label: string ... 2 more fields>, id: string>, evidence_count: struct<datasources: struct<cancer_gene_census: double, chembl: double ... 19 more fields>, datatypes: struct<affected_pathway: double, animal_model: double ... 5 more fields> ... 1 more field> ... 7 more fields]"
      ]
     },
     "execution_count": 11,
     "metadata": {},
     "output_type": "execute_result"
    }
   ],
   "source": [
    "var df_ot_ev = spark.read.json(dir_ot.resolve(\"association.json\").toString)"
   ]
  },
  {
   "cell_type": "code",
   "execution_count": 12,
   "metadata": {},
   "outputs": [
    {
     "name": "stdout",
     "output_type": "stream",
     "text": [
      "+--------------------+--------------------+--------------------+--------------------+---------+--------------------+--------------------+--------------------+--------------------+\n",
      "|             disease|      evidence_count|        harmonic-sum|                  id|is_direct|                 max|             private|                 sum|              target|\n",
      "+--------------------+--------------------+--------------------+--------------------+---------+--------------------+--------------------+--------------------+--------------------+\n",
      "|[[http://www.orph...|[[0.0, 0.0, 0.0, ...|[[0.0, 0.0, 0.0, ...|ENSG00000132383-O...|    false|[[0.0, 0.0, 0.0, ...|[[[phenodigm], [a...|[[0.0, 0.0, 0.0, ...|[[ENSG00000132383...|\n",
      "|[[http://www.orph...|[[0.0, 0.0, 0.0, ...|[[0.0, 0.0, 0.0, ...|ENSG00000125551-O...|     true|[[0.0, 0.0, 0.0, ...|[[[phenodigm], [a...|[[0.0, 0.0, 0.0, ...|[[ENSG00000125551...|\n",
      "|[[http://www.orph...|[[0.0, 0.0, 0.0, ...|[[0.0, 0.0, 0.0, ...|ENSG00000141756-O...|     true|[[0.0, 0.0, 0.0, ...|[[[eva], [genetic...|[[0.0, 0.0, 0.0, ...|[[ENSG00000141756...|\n",
      "+--------------------+--------------------+--------------------+--------------------+---------+--------------------+--------------------+--------------------+--------------------+\n",
      "only showing top 3 rows\n",
      "\n"
     ]
    }
   ],
   "source": [
    "df_ot_ev.show(3)"
   ]
  },
  {
   "cell_type": "code",
   "execution_count": 56,
   "metadata": {},
   "outputs": [
    {
     "data": {
      "text/plain": [
       "1973467"
      ]
     },
     "execution_count": 56,
     "metadata": {},
     "output_type": "execute_result"
    }
   ],
   "source": [
    "df_ot_ev.count()"
   ]
  },
  {
   "cell_type": "code",
   "execution_count": 13,
   "metadata": {},
   "outputs": [
    {
     "name": "stdout",
     "output_type": "stream",
     "text": [
      "+-----------------------------------------------------------------------------------------------------------------------------------------------------+\n",
      "|                                                                                                                                         harmonic-sum|\n",
      "+-----------------------------------------------------------------------------------------------------------------------------------------------------+\n",
      "|[[0.0, 0.0, 0.0, 0.0, 0.0, 0.0, 0.0, 0.0, 0.0, 0.0, 0.0, 0.0, 0.0, 0.0, 0.0, 0.0, 0.0, 0.5, 0.0, 0.0, 0.0], [0.5, 0.0, 0.0, 0.0, 0.0, 0.0, 0.0], 0.5]|\n",
      "+-----------------------------------------------------------------------------------------------------------------------------------------------------+\n",
      "\n"
     ]
    }
   ],
   "source": [
    "df_ot_ev.filter($\"disease.id\" === \"EFO_0003777\" && $\"target.id\" === \"ENSG00000226777\")\n",
    "    .select(\"harmonic-sum\").show(3, 1000)"
   ]
  },
  {
   "cell_type": "code",
   "execution_count": 14,
   "metadata": {},
   "outputs": [
    {
     "name": "stdout",
     "output_type": "stream",
     "text": [
      "+---------------+---------------+-------------------+\n",
      "|      target_id|     disease_id|           score_ot|\n",
      "+---------------+---------------+-------------------+\n",
      "|ENSG00000132383|Orphanet_240371|0.24183500000000002|\n",
      "|ENSG00000125551|   Orphanet_974|0.24638833333333335|\n",
      "|ENSG00000141756|Orphanet_314811| 0.6649999999999999|\n",
      "+---------------+---------------+-------------------+\n",
      "only showing top 3 rows\n",
      "\n"
     ]
    },
    {
     "data": {
      "text/plain": [
       "df_ot_as = [target_id: string, disease_id: string ... 1 more field]\n"
      ]
     },
     "metadata": {},
     "output_type": "display_data",
     "source": "user"
    },
    {
     "data": {
      "text/plain": [
       "[target_id: string, disease_id: string ... 1 more field]"
      ]
     },
     "execution_count": 14,
     "metadata": {},
     "output_type": "execute_result"
    }
   ],
   "source": [
    "val df_ot_as = df_ot_ev.select(\n",
    "    $\"target.id\".as(\"target_id\"),\n",
    "    $\"disease.id\".as(\"disease_id\"),\n",
    "    $\"harmonic-sum.overall\".as(\"score_ot\")\n",
    ")\n",
    "df_ot_as.show(3)"
   ]
  },
  {
   "cell_type": "code",
   "execution_count": 15,
   "metadata": {},
   "outputs": [
    {
     "data": {
      "text/plain": [
       "1973467"
      ]
     },
     "execution_count": 15,
     "metadata": {},
     "output_type": "execute_result"
    }
   ],
   "source": [
    "df_ot_as.count()"
   ]
  },
  {
   "cell_type": "code",
   "execution_count": 16,
   "metadata": {},
   "outputs": [
    {
     "name": "stdout",
     "output_type": "stream",
     "text": [
      "+---------------+---------------+---------+-------------------+\n",
      "|      target_id|     disease_id|source_id|           score_ot|\n",
      "+---------------+---------------+---------+-------------------+\n",
      "|ENSG00000132383|Orphanet_240371|phenodigm|0.24183500000000002|\n",
      "|ENSG00000125551|   Orphanet_974|phenodigm|0.24638833333333335|\n",
      "|ENSG00000141756|Orphanet_314811|      eva| 0.6649999999999999|\n",
      "+---------------+---------------+---------+-------------------+\n",
      "only showing top 3 rows\n",
      "\n"
     ]
    },
    {
     "data": {
      "text/plain": [
       "to_map = UserDefinedFunction(<function1>,MapType(StringType,DoubleType,false),None)\n",
       "df_ot_sc = [target_id: string, disease_id: string ... 2 more fields]\n"
      ]
     },
     "metadata": {},
     "output_type": "display_data",
     "source": "user"
    },
    {
     "data": {
      "text/plain": [
       "[target_id: string, disease_id: string ... 2 more fields]"
      ]
     },
     "execution_count": 16,
     "metadata": {},
     "output_type": "execute_result"
    }
   ],
   "source": [
    "import org.apache.spark.sql.Row\n",
    "val to_map = udf((r: Row) => {\n",
    "    r.getValuesMap[Double](r.schema.fieldNames)\n",
    "})\n",
    "val df_ot_sc = df_ot_ev\n",
    "    .select(\n",
    "        $\"target.id\".as(\"target_id\"),\n",
    "        $\"disease.id\".as(\"disease_id\"),\n",
    "        explode(to_map($\"harmonic-sum.datasources\"))\n",
    "    )\n",
    "    .withColumnRenamed(\"key\", \"source_id\")\n",
    "    .withColumnRenamed(\"value\", \"score_ot\")\n",
    "    // Exploding the struct of non-nullable doubles\n",
    "    // results in a bunch of zeros that can be ignored\n",
    "    .filter($\"score_ot\" > 0)\n",
    "df_ot_sc.show(3)"
   ]
  },
  {
   "cell_type": "code",
   "execution_count": 17,
   "metadata": {},
   "outputs": [
    {
     "data": {
      "text/plain": [
       "2291653"
      ]
     },
     "execution_count": 17,
     "metadata": {},
     "output_type": "execute_result"
    }
   ],
   "source": [
    "df_ot_sc.count()"
   ]
  },
  {
   "cell_type": "markdown",
   "metadata": {},
   "source": [
    "## Check Source Scores"
   ]
  },
  {
   "cell_type": "code",
   "execution_count": 18,
   "metadata": {},
   "outputs": [
    {
     "name": "stdout",
     "output_type": "stream",
     "text": [
      "+---------------+--------------+----------------+--------+--------+\n",
      "|      target_id|    disease_id|       source_id|score_ot|score_rs|\n",
      "+---------------+--------------+----------------+--------+--------+\n",
      "|ENSG00000000460|   EFO_0009566|       phenodigm| 0.18634| 0.18634|\n",
      "|ENSG00000000460| Orphanet_3337|       phenodigm| 0.18634| 0.18634|\n",
      "|ENSG00000001084|Orphanet_68367|genomics_england|     1.0|     1.0|\n",
      "+---------------+--------------+----------------+--------+--------+\n",
      "only showing top 3 rows\n",
      "\n"
     ]
    },
    {
     "data": {
      "text/plain": [
       "df = [target_id: string, disease_id: string ... 3 more fields]\n"
      ]
     },
     "metadata": {},
     "output_type": "display_data",
     "source": "user"
    },
    {
     "data": {
      "text/plain": [
       "[target_id: string, disease_id: string ... 3 more fields]"
      ]
     },
     "execution_count": 18,
     "metadata": {},
     "output_type": "execute_result"
    }
   ],
   "source": [
    "var df = df_ot_sc.join(df_rs_sc, Seq(\"target_id\", \"disease_id\", \"source_id\"), \"outer\")\n",
    "df.show(3)"
   ]
  },
  {
   "cell_type": "code",
   "execution_count": 19,
   "metadata": {},
   "outputs": [
    {
     "name": "stdout",
     "output_type": "stream",
     "text": [
      "root\n",
      " |-- target_id: string (nullable = true)\n",
      " |-- disease_id: string (nullable = true)\n",
      " |-- source_id: string (nullable = true)\n",
      " |-- score_ot: double (nullable = true)\n",
      " |-- score_rs: double (nullable = true)\n",
      "\n"
     ]
    }
   ],
   "source": [
    "df.printSchema()"
   ]
  },
  {
   "cell_type": "code",
   "execution_count": 20,
   "metadata": {},
   "outputs": [
    {
     "data": {
      "text/plain": [
       "2291653"
      ]
     },
     "execution_count": 20,
     "metadata": {},
     "output_type": "execute_result"
    }
   ],
   "source": [
    "df.count()"
   ]
  },
  {
   "cell_type": "code",
   "execution_count": 21,
   "metadata": {},
   "outputs": [
    {
     "data": {
      "text/plain": [
       "df_na = [target_id: string, disease_id: string ... 5 more fields]\n"
      ]
     },
     "metadata": {},
     "output_type": "display_data",
     "source": "user"
    },
    {
     "data": {
      "text/plain": [
       "[target_id: string, disease_id: string ... 5 more fields]"
      ]
     },
     "execution_count": 21,
     "metadata": {},
     "output_type": "execute_result"
    }
   ],
   "source": [
    "var df_na = df\n",
    "    .withColumn(\"rs_null\", $\"score_rs\".isNull)\n",
    "    .withColumn(\"ot_null\", $\"score_ot\".isNull)"
   ]
  },
  {
   "cell_type": "code",
   "execution_count": 22,
   "metadata": {},
   "outputs": [
    {
     "name": "stdout",
     "output_type": "stream",
     "text": [
      "+-------+-------+-------+\n",
      "|rs_null|ot_null|  count|\n",
      "+-------+-------+-------+\n",
      "|  false|  false|2291653|\n",
      "+-------+-------+-------+\n",
      "\n"
     ]
    }
   ],
   "source": [
    "df_na.groupBy(\"rs_null\", \"ot_null\").count().show()"
   ]
  },
  {
   "cell_type": "code",
   "execution_count": 23,
   "metadata": {},
   "outputs": [
    {
     "name": "stdout",
     "output_type": "stream",
     "text": [
      "+---------+-----+\n",
      "|source_id|count|\n",
      "+---------+-----+\n",
      "+---------+-----+\n",
      "\n"
     ]
    }
   ],
   "source": [
    "df_na.filter($\"rs_null\" && !$\"ot_null\").groupBy(\"source_id\").count().show()"
   ]
  },
  {
   "cell_type": "code",
   "execution_count": 24,
   "metadata": {},
   "outputs": [
    {
     "name": "stdout",
     "output_type": "stream",
     "text": [
      "+---------+-----+\n",
      "|source_id|count|\n",
      "+---------+-----+\n",
      "+---------+-----+\n",
      "\n"
     ]
    }
   ],
   "source": [
    "df_na.filter(!$\"rs_null\" && $\"ot_null\").groupBy(\"source_id\").count().show()"
   ]
  },
  {
   "cell_type": "code",
   "execution_count": 25,
   "metadata": {},
   "outputs": [
    {
     "data": {
      "text/plain": [
       "df_diff = [target_id: string, disease_id: string ... 7 more fields]\n"
      ]
     },
     "metadata": {},
     "output_type": "display_data",
     "source": "user"
    },
    {
     "data": {
      "text/plain": [
       "[target_id: string, disease_id: string ... 7 more fields]"
      ]
     },
     "execution_count": 25,
     "metadata": {},
     "output_type": "execute_result"
    }
   ],
   "source": [
    "var df_diff = df\n",
    "    .withColumn(\"rs_null\", $\"score_rs\".isNull)\n",
    "    .withColumn(\"ot_null\", $\"score_ot\".isNull)\n",
    "    .filter(!$\"rs_null\" && !$\"ot_null\")\n",
    "    .withColumn(\"diff\", abs($\"score_rs\" - $\"score_ot\"))\n",
    "    .withColumn(\"isequal\", $\"diff\" < .0001)"
   ]
  },
  {
   "cell_type": "code",
   "execution_count": 26,
   "metadata": {},
   "outputs": [
    {
     "name": "stdout",
     "output_type": "stream",
     "text": [
      "+-------+-------+\n",
      "|isequal|  count|\n",
      "+-------+-------+\n",
      "|   true|2291653|\n",
      "+-------+-------+\n",
      "\n"
     ]
    }
   ],
   "source": [
    "df_diff.groupBy($\"isequal\").count().show()"
   ]
  },
  {
   "cell_type": "code",
   "execution_count": 27,
   "metadata": {},
   "outputs": [
    {
     "name": "stdout",
     "output_type": "stream",
     "text": [
      "+------------------+-------+-------+\n",
      "|         source_id|isequal|  count|\n",
      "+------------------+-------+-------+\n",
      "|uniprot_literature|   true|  40962|\n",
      "|            crispr|   true|   9766|\n",
      "|           intogen|   true|  12113|\n",
      "|cancer_gene_census|   true|  87268|\n",
      "|        slapenrich|   true| 134820|\n",
      "|            chembl|   true| 114977|\n",
      "|  expression_atlas|   true| 142158|\n",
      "|   uniprot_somatic|   true|    319|\n",
      "|  genomics_england|   true|  47859|\n",
      "|         phenodigm|   true|1118373|\n",
      "|           progeny|   true|   1316|\n",
      "|          reactome|   true|   8369|\n",
      "|      gwas_catalog|   true| 294959|\n",
      "|               eva|   true|  70975|\n",
      "|    phewas_catalog|   true| 136457|\n",
      "|           uniprot|   true|  42549|\n",
      "|            sysbio|   true|   1853|\n",
      "|       eva_somatic|   true|   4810|\n",
      "|    gene2phenotype|   true|  21750|\n",
      "+------------------+-------+-------+\n",
      "\n"
     ]
    }
   ],
   "source": [
    "df_diff.groupBy($\"source_id\", $\"isequal\").count().show()"
   ]
  },
  {
   "cell_type": "markdown",
   "metadata": {},
   "source": [
    "## Check Association Scores"
   ]
  },
  {
   "cell_type": "code",
   "execution_count": 28,
   "metadata": {},
   "outputs": [
    {
     "name": "stdout",
     "output_type": "stream",
     "text": [
      "+---------------+--------------+-------------------+-------------------+\n",
      "|      target_id|    disease_id|           score_ot|           score_rs|\n",
      "+---------------+--------------+-------------------+-------------------+\n",
      "|ENSG00000000938|Orphanet_44890|                0.2|                0.2|\n",
      "|ENSG00000000971| Orphanet_1505|0.23495000000000002|0.23495000000000002|\n",
      "|ENSG00000000971|Orphanet_98687|                0.2|                0.2|\n",
      "+---------------+--------------+-------------------+-------------------+\n",
      "only showing top 3 rows\n",
      "\n"
     ]
    },
    {
     "data": {
      "text/plain": [
       "df = [target_id: string, disease_id: string ... 2 more fields]\n"
      ]
     },
     "metadata": {},
     "output_type": "display_data",
     "source": "user"
    },
    {
     "data": {
      "text/plain": [
       "[target_id: string, disease_id: string ... 2 more fields]"
      ]
     },
     "execution_count": 28,
     "metadata": {},
     "output_type": "execute_result"
    }
   ],
   "source": [
    "var df = df_ot_as.join(df_rs_as, Seq(\"target_id\", \"disease_id\"), \"inner\")\n",
    "df.show(3)"
   ]
  },
  {
   "cell_type": "code",
   "execution_count": 29,
   "metadata": {},
   "outputs": [
    {
     "name": "stdout",
     "output_type": "stream",
     "text": [
      "+-------+-------+\n",
      "|isequal|  count|\n",
      "+-------+-------+\n",
      "|   true|1973467|\n",
      "+-------+-------+\n",
      "\n"
     ]
    }
   ],
   "source": [
    "df.withColumn(\"isequal\", abs($\"score_rs\" - $\"score_ot\") < .0001).groupBy(\"isequal\").count().show()"
   ]
  }
 ],
 "metadata": {
  "kernelspec": {
   "display_name": "Apache Toree - Scala",
   "language": "scala",
   "name": "apache_toree_scala"
  },
  "language_info": {
   "codemirror_mode": "text/x-scala",
   "file_extension": ".scala",
   "mimetype": "text/x-scala",
   "name": "scala",
   "pygments_lexer": "scala",
   "version": "2.11.12"
  }
 },
 "nbformat": 4,
 "nbformat_minor": 4
}
