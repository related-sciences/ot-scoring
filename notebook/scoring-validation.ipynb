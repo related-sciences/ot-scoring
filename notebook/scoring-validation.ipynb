{
 "cells": [
  {
   "cell_type": "code",
   "execution_count": 1,
   "metadata": {},
   "outputs": [
    {
     "data": {
      "text/plain": [
       "dir1 = /home/eczech/data/ot/results\n",
       "dir2 = /home/eczech/data/ot/extract\n"
      ]
     },
     "metadata": {},
     "output_type": "display_data",
     "source": "user"
    },
    {
     "data": {
      "text/plain": [
       "/home/eczech/data/ot/extract"
      ]
     },
     "execution_count": 1,
     "metadata": {},
     "output_type": "execute_result"
    }
   ],
   "source": [
    "import java.nio.file.Paths\n",
    "import org.apache.spark.sql.functions._\n",
    "val dir1 = Paths.get(System.getProperty(\"user.home\"), \"data\", \"ot\", \"results\")\n",
    "val dir2 = Paths.get(System.getProperty(\"user.home\"), \"data\", \"ot\", \"extract\")"
   ]
  },
  {
   "cell_type": "markdown",
   "metadata": {},
   "source": [
    "## Load RS Data"
   ]
  },
  {
   "cell_type": "code",
   "execution_count": 19,
   "metadata": {},
   "outputs": [
    {
     "data": {
      "text/plain": [
       "df1 = [target_id: string, disease_id: string ... 3 more fields]\n"
      ]
     },
     "metadata": {},
     "output_type": "display_data",
     "source": "user"
    },
    {
     "data": {
      "text/plain": [
       "[target_id: string, disease_id: string ... 3 more fields]"
      ]
     },
     "execution_count": 19,
     "metadata": {},
     "output_type": "execute_result"
    }
   ],
   "source": [
    "val df1 = spark.read.parquet(dir1.resolve(\"score_association.parquet\").toString)"
   ]
  },
  {
   "cell_type": "code",
   "execution_count": 20,
   "metadata": {},
   "outputs": [
    {
     "name": "stdout",
     "output_type": "stream",
     "text": [
      "+---------------+--------------+-------------------+---------+-----------+\n",
      "|      target_id|    disease_id|              score|is_direct| source_ids|\n",
      "+---------------+--------------+-------------------+---------+-----------+\n",
      "|ENSG00000000460|Orphanet_93420|             0.1817|    false|[phenodigm]|\n",
      "|ENSG00000000938|   EFO_0004244|                0.1|    false|   [chembl]|\n",
      "|ENSG00000000938|Orphanet_98710|0.23667500000000002|    false|[phenodigm]|\n",
      "+---------------+--------------+-------------------+---------+-----------+\n",
      "only showing top 3 rows\n",
      "\n"
     ]
    }
   ],
   "source": [
    "df1.show(3)"
   ]
  },
  {
   "cell_type": "code",
   "execution_count": 21,
   "metadata": {},
   "outputs": [
    {
     "data": {
      "text/plain": [
       "1973478"
      ]
     },
     "execution_count": 21,
     "metadata": {},
     "output_type": "execute_result"
    }
   ],
   "source": [
    "df1.count()"
   ]
  },
  {
   "cell_type": "code",
   "execution_count": 22,
   "metadata": {},
   "outputs": [
    {
     "name": "stdout",
     "output_type": "stream",
     "text": [
      "+---------------+--------------+-------------------+\n",
      "|      target_id|    disease_id|           score_rs|\n",
      "+---------------+--------------+-------------------+\n",
      "|ENSG00000000460|Orphanet_93420|             0.1817|\n",
      "|ENSG00000000938|   EFO_0004244|                0.1|\n",
      "|ENSG00000000938|Orphanet_98710|0.23667500000000002|\n",
      "+---------------+--------------+-------------------+\n",
      "only showing top 3 rows\n",
      "\n"
     ]
    },
    {
     "data": {
      "text/plain": [
       "df12 = [target_id: string, disease_id: string ... 1 more field]\n"
      ]
     },
     "metadata": {},
     "output_type": "display_data",
     "source": "user"
    },
    {
     "data": {
      "text/plain": [
       "[target_id: string, disease_id: string ... 1 more field]"
      ]
     },
     "execution_count": 22,
     "metadata": {},
     "output_type": "execute_result"
    }
   ],
   "source": [
    "val df12 = df1.select($\"target_id\", $\"disease_id\", $\"score\".as(\"score_rs\"))\n",
    "df12.show(3)"
   ]
  },
  {
   "cell_type": "markdown",
   "metadata": {},
   "source": [
    "### Load OT Data"
   ]
  },
  {
   "cell_type": "code",
   "execution_count": 6,
   "metadata": {},
   "outputs": [
    {
     "data": {
      "text/plain": [
       "df2 = [disease: struct<efo_info: struct<efo_id: string, label: string ... 2 more fields>, id: string>, evidence_count: struct<datasources: struct<cancer_gene_census: double, chembl: double ... 19 more fields>, datatypes: struct<affected_pathway: double, animal_model: double ... 5 more fields> ... 1 more field> ... 7 more fields]\n"
      ]
     },
     "metadata": {},
     "output_type": "display_data",
     "source": "user"
    },
    {
     "data": {
      "text/plain": [
       "[disease: struct<efo_info: struct<efo_id: string, label: string ... 2 more fields>, id: string>, evidence_count: struct<datasources: struct<cancer_gene_census: double, chembl: double ... 19 more fields>, datatypes: struct<affected_pathway: double, animal_model: double ... 5 more fields> ... 1 more field> ... 7 more fields]"
      ]
     },
     "execution_count": 6,
     "metadata": {},
     "output_type": "execute_result"
    }
   ],
   "source": [
    "val df2 = spark.read.json(dir2.resolve(\"association.json\").toString)"
   ]
  },
  {
   "cell_type": "code",
   "execution_count": 7,
   "metadata": {},
   "outputs": [
    {
     "name": "stdout",
     "output_type": "stream",
     "text": [
      "+--------------------+--------------------+--------------------+--------------------+---------+--------------------+--------------------+--------------------+--------------------+\n",
      "|             disease|      evidence_count|        harmonic-sum|                  id|is_direct|                 max|             private|                 sum|              target|\n",
      "+--------------------+--------------------+--------------------+--------------------+---------+--------------------+--------------------+--------------------+--------------------+\n",
      "|[[http://www.orph...|[[0.0, 0.0, 0.0, ...|[[0.0, 0.0, 0.0, ...|ENSG00000132383-O...|    false|[[0.0, 0.0, 0.0, ...|[[[phenodigm], [a...|[[0.0, 0.0, 0.0, ...|[[ENSG00000132383...|\n",
      "|[[http://www.orph...|[[0.0, 0.0, 0.0, ...|[[0.0, 0.0, 0.0, ...|ENSG00000125551-O...|     true|[[0.0, 0.0, 0.0, ...|[[[phenodigm], [a...|[[0.0, 0.0, 0.0, ...|[[ENSG00000125551...|\n",
      "|[[http://www.orph...|[[0.0, 0.0, 0.0, ...|[[0.0, 0.0, 0.0, ...|ENSG00000141756-O...|     true|[[0.0, 0.0, 0.0, ...|[[[eva], [genetic...|[[0.0, 0.0, 0.0, ...|[[ENSG00000141756...|\n",
      "+--------------------+--------------------+--------------------+--------------------+---------+--------------------+--------------------+--------------------+--------------------+\n",
      "only showing top 3 rows\n",
      "\n"
     ]
    }
   ],
   "source": [
    "df2.show(3)"
   ]
  },
  {
   "cell_type": "code",
   "execution_count": 8,
   "metadata": {},
   "outputs": [
    {
     "name": "stdout",
     "output_type": "stream",
     "text": [
      "root\n",
      " |-- disease: struct (nullable = true)\n",
      " |    |-- efo_info: struct (nullable = true)\n",
      " |    |    |-- efo_id: string (nullable = true)\n",
      " |    |    |-- label: string (nullable = true)\n",
      " |    |    |-- path: array (nullable = true)\n",
      " |    |    |    |-- element: array (containsNull = true)\n",
      " |    |    |    |    |-- element: string (containsNull = true)\n",
      " |    |    |-- therapeutic_area: struct (nullable = true)\n",
      " |    |    |    |-- codes: array (nullable = true)\n",
      " |    |    |    |    |-- element: string (containsNull = true)\n",
      " |    |    |    |-- labels: array (nullable = true)\n",
      " |    |    |    |    |-- element: string (containsNull = true)\n",
      " |    |-- id: string (nullable = true)\n",
      " |-- evidence_count: struct (nullable = true)\n",
      " |    |-- datasources: struct (nullable = true)\n",
      " |    |    |-- cancer_gene_census: double (nullable = true)\n",
      " |    |    |-- chembl: double (nullable = true)\n",
      " |    |    |-- crispr: double (nullable = true)\n",
      " |    |    |-- europepmc: double (nullable = true)\n",
      " |    |    |-- eva: double (nullable = true)\n",
      " |    |    |-- eva_somatic: double (nullable = true)\n",
      " |    |    |-- expression_atlas: double (nullable = true)\n",
      " |    |    |-- gene2phenotype: double (nullable = true)\n",
      " |    |    |-- genomics_england: double (nullable = true)\n",
      " |    |    |-- gwas_catalog: double (nullable = true)\n",
      " |    |    |-- intogen: double (nullable = true)\n",
      " |    |    |-- phenodigm: double (nullable = true)\n",
      " |    |    |-- phewas_catalog: double (nullable = true)\n",
      " |    |    |-- postgap: double (nullable = true)\n",
      " |    |    |-- progeny: double (nullable = true)\n",
      " |    |    |-- reactome: double (nullable = true)\n",
      " |    |    |-- slapenrich: double (nullable = true)\n",
      " |    |    |-- sysbio: double (nullable = true)\n",
      " |    |    |-- uniprot: double (nullable = true)\n",
      " |    |    |-- uniprot_literature: double (nullable = true)\n",
      " |    |    |-- uniprot_somatic: double (nullable = true)\n",
      " |    |-- datatypes: struct (nullable = true)\n",
      " |    |    |-- affected_pathway: double (nullable = true)\n",
      " |    |    |-- animal_model: double (nullable = true)\n",
      " |    |    |-- genetic_association: double (nullable = true)\n",
      " |    |    |-- known_drug: double (nullable = true)\n",
      " |    |    |-- literature: double (nullable = true)\n",
      " |    |    |-- rna_expression: double (nullable = true)\n",
      " |    |    |-- somatic_mutation: double (nullable = true)\n",
      " |    |-- total: double (nullable = true)\n",
      " |-- harmonic-sum: struct (nullable = true)\n",
      " |    |-- datasources: struct (nullable = true)\n",
      " |    |    |-- cancer_gene_census: double (nullable = true)\n",
      " |    |    |-- chembl: double (nullable = true)\n",
      " |    |    |-- crispr: double (nullable = true)\n",
      " |    |    |-- europepmc: double (nullable = true)\n",
      " |    |    |-- eva: double (nullable = true)\n",
      " |    |    |-- eva_somatic: double (nullable = true)\n",
      " |    |    |-- expression_atlas: double (nullable = true)\n",
      " |    |    |-- gene2phenotype: double (nullable = true)\n",
      " |    |    |-- genomics_england: double (nullable = true)\n",
      " |    |    |-- gwas_catalog: double (nullable = true)\n",
      " |    |    |-- intogen: double (nullable = true)\n",
      " |    |    |-- phenodigm: double (nullable = true)\n",
      " |    |    |-- phewas_catalog: double (nullable = true)\n",
      " |    |    |-- postgap: double (nullable = true)\n",
      " |    |    |-- progeny: double (nullable = true)\n",
      " |    |    |-- reactome: double (nullable = true)\n",
      " |    |    |-- slapenrich: double (nullable = true)\n",
      " |    |    |-- sysbio: double (nullable = true)\n",
      " |    |    |-- uniprot: double (nullable = true)\n",
      " |    |    |-- uniprot_literature: double (nullable = true)\n",
      " |    |    |-- uniprot_somatic: double (nullable = true)\n",
      " |    |-- datatypes: struct (nullable = true)\n",
      " |    |    |-- affected_pathway: double (nullable = true)\n",
      " |    |    |-- animal_model: double (nullable = true)\n",
      " |    |    |-- genetic_association: double (nullable = true)\n",
      " |    |    |-- known_drug: double (nullable = true)\n",
      " |    |    |-- literature: double (nullable = true)\n",
      " |    |    |-- rna_expression: double (nullable = true)\n",
      " |    |    |-- somatic_mutation: double (nullable = true)\n",
      " |    |-- overall: double (nullable = true)\n",
      " |-- id: string (nullable = true)\n",
      " |-- is_direct: boolean (nullable = true)\n",
      " |-- max: struct (nullable = true)\n",
      " |    |-- datasources: struct (nullable = true)\n",
      " |    |    |-- cancer_gene_census: double (nullable = true)\n",
      " |    |    |-- chembl: double (nullable = true)\n",
      " |    |    |-- crispr: double (nullable = true)\n",
      " |    |    |-- europepmc: double (nullable = true)\n",
      " |    |    |-- eva: double (nullable = true)\n",
      " |    |    |-- eva_somatic: double (nullable = true)\n",
      " |    |    |-- expression_atlas: double (nullable = true)\n",
      " |    |    |-- gene2phenotype: double (nullable = true)\n",
      " |    |    |-- genomics_england: double (nullable = true)\n",
      " |    |    |-- gwas_catalog: double (nullable = true)\n",
      " |    |    |-- intogen: double (nullable = true)\n",
      " |    |    |-- phenodigm: double (nullable = true)\n",
      " |    |    |-- phewas_catalog: double (nullable = true)\n",
      " |    |    |-- postgap: double (nullable = true)\n",
      " |    |    |-- progeny: double (nullable = true)\n",
      " |    |    |-- reactome: double (nullable = true)\n",
      " |    |    |-- slapenrich: double (nullable = true)\n",
      " |    |    |-- sysbio: double (nullable = true)\n",
      " |    |    |-- uniprot: double (nullable = true)\n",
      " |    |    |-- uniprot_literature: double (nullable = true)\n",
      " |    |    |-- uniprot_somatic: double (nullable = true)\n",
      " |    |-- datatypes: struct (nullable = true)\n",
      " |    |    |-- affected_pathway: double (nullable = true)\n",
      " |    |    |-- animal_model: double (nullable = true)\n",
      " |    |    |-- genetic_association: double (nullable = true)\n",
      " |    |    |-- known_drug: double (nullable = true)\n",
      " |    |    |-- literature: double (nullable = true)\n",
      " |    |    |-- rna_expression: double (nullable = true)\n",
      " |    |    |-- somatic_mutation: double (nullable = true)\n",
      " |-- private: struct (nullable = true)\n",
      " |    |-- facets: struct (nullable = true)\n",
      " |    |    |-- datasource: array (nullable = true)\n",
      " |    |    |    |-- element: string (containsNull = true)\n",
      " |    |    |-- datatype: array (nullable = true)\n",
      " |    |    |    |-- element: string (containsNull = true)\n",
      " |    |    |-- expression_tissues: struct (nullable = true)\n",
      " |    |    |    |-- protein: array (nullable = true)\n",
      " |    |    |    |    |-- element: struct (containsNull = true)\n",
      " |    |    |    |    |    |-- id: string (nullable = true)\n",
      " |    |    |    |    |    |-- level: long (nullable = true)\n",
      " |    |    |    |-- rna: array (nullable = true)\n",
      " |    |    |    |    |-- element: struct (containsNull = true)\n",
      " |    |    |    |    |    |-- id: string (nullable = true)\n",
      " |    |    |    |    |    |-- level: long (nullable = true)\n",
      " |    |    |    |-- zscore: array (nullable = true)\n",
      " |    |    |    |    |-- element: struct (containsNull = true)\n",
      " |    |    |    |    |    |-- id: string (nullable = true)\n",
      " |    |    |    |    |    |-- level: long (nullable = true)\n",
      " |    |    |-- free_text_search: array (nullable = true)\n",
      " |    |    |    |-- element: string (containsNull = true)\n",
      " |    |    |-- go: struct (nullable = true)\n",
      " |    |    |    |-- biological_process: array (nullable = true)\n",
      " |    |    |    |    |-- element: struct (containsNull = true)\n",
      " |    |    |    |    |    |-- code: string (nullable = true)\n",
      " |    |    |    |    |    |-- term: string (nullable = true)\n",
      " |    |    |    |-- cellular_component: array (nullable = true)\n",
      " |    |    |    |    |-- element: struct (containsNull = true)\n",
      " |    |    |    |    |    |-- code: string (nullable = true)\n",
      " |    |    |    |    |    |-- term: string (nullable = true)\n",
      " |    |    |    |-- molecular_function: array (nullable = true)\n",
      " |    |    |    |    |-- element: struct (containsNull = true)\n",
      " |    |    |    |    |    |-- code: string (nullable = true)\n",
      " |    |    |    |    |    |-- term: string (nullable = true)\n",
      " |    |    |-- reactome: struct (nullable = true)\n",
      " |    |    |    |-- pathway_code: array (nullable = true)\n",
      " |    |    |    |    |-- element: string (containsNull = true)\n",
      " |    |    |    |-- pathway_type_code: array (nullable = true)\n",
      " |    |    |    |    |-- element: string (containsNull = true)\n",
      " |    |    |-- target_class: struct (nullable = true)\n",
      " |    |    |    |-- level1: array (nullable = true)\n",
      " |    |    |    |    |-- element: array (containsNull = true)\n",
      " |    |    |    |    |    |-- element: struct (containsNull = true)\n",
      " |    |    |    |    |    |    |-- id: long (nullable = true)\n",
      " |    |    |    |    |    |    |-- label: string (nullable = true)\n",
      " |    |    |    |-- level2: array (nullable = true)\n",
      " |    |    |    |    |-- element: array (containsNull = true)\n",
      " |    |    |    |    |    |-- element: struct (containsNull = true)\n",
      " |    |    |    |    |    |    |-- id: long (nullable = true)\n",
      " |    |    |    |    |    |    |-- label: string (nullable = true)\n",
      " |    |    |-- tractability: struct (nullable = true)\n",
      " |    |    |    |-- antibody: array (nullable = true)\n",
      " |    |    |    |    |-- element: string (containsNull = true)\n",
      " |    |    |    |-- combined: array (nullable = true)\n",
      " |    |    |    |    |-- element: string (containsNull = true)\n",
      " |    |    |    |-- smallmolecule: array (nullable = true)\n",
      " |    |    |    |    |-- element: string (containsNull = true)\n",
      " |    |    |-- uniprot_keywords: array (nullable = true)\n",
      " |    |    |    |-- element: string (containsNull = true)\n",
      " |-- sum: struct (nullable = true)\n",
      " |    |-- datasources: struct (nullable = true)\n",
      " |    |    |-- cancer_gene_census: double (nullable = true)\n",
      " |    |    |-- chembl: double (nullable = true)\n",
      " |    |    |-- crispr: double (nullable = true)\n",
      " |    |    |-- europepmc: double (nullable = true)\n",
      " |    |    |-- eva: double (nullable = true)\n",
      " |    |    |-- eva_somatic: double (nullable = true)\n",
      " |    |    |-- expression_atlas: double (nullable = true)\n",
      " |    |    |-- gene2phenotype: double (nullable = true)\n",
      " |    |    |-- genomics_england: double (nullable = true)\n",
      " |    |    |-- gwas_catalog: double (nullable = true)\n",
      " |    |    |-- intogen: double (nullable = true)\n",
      " |    |    |-- phenodigm: double (nullable = true)\n",
      " |    |    |-- phewas_catalog: double (nullable = true)\n",
      " |    |    |-- postgap: double (nullable = true)\n",
      " |    |    |-- progeny: double (nullable = true)\n",
      " |    |    |-- reactome: double (nullable = true)\n",
      " |    |    |-- slapenrich: double (nullable = true)\n",
      " |    |    |-- sysbio: double (nullable = true)\n",
      " |    |    |-- uniprot: double (nullable = true)\n",
      " |    |    |-- uniprot_literature: double (nullable = true)\n",
      " |    |    |-- uniprot_somatic: double (nullable = true)\n",
      " |    |-- datatypes: struct (nullable = true)\n",
      " |    |    |-- affected_pathway: double (nullable = true)\n",
      " |    |    |-- animal_model: double (nullable = true)\n",
      " |    |    |-- genetic_association: double (nullable = true)\n",
      " |    |    |-- known_drug: double (nullable = true)\n",
      " |    |    |-- literature: double (nullable = true)\n",
      " |    |    |-- rna_expression: double (nullable = true)\n",
      " |    |    |-- somatic_mutation: double (nullable = true)\n",
      " |-- target: struct (nullable = true)\n",
      " |    |-- gene_info: struct (nullable = true)\n",
      " |    |    |-- geneid: string (nullable = true)\n",
      " |    |    |-- name: string (nullable = true)\n",
      " |    |    |-- symbol: string (nullable = true)\n",
      " |    |-- id: string (nullable = true)\n",
      " |    |-- tractability: struct (nullable = true)\n",
      " |    |    |-- antibody: struct (nullable = true)\n",
      " |    |    |    |-- buckets: array (nullable = true)\n",
      " |    |    |    |    |-- element: long (containsNull = true)\n",
      " |    |    |    |-- categories: struct (nullable = true)\n",
      " |    |    |    |    |-- clinical_precedence: double (nullable = true)\n",
      " |    |    |    |    |-- predicted_tractable_high_confidence: double (nullable = true)\n",
      " |    |    |    |    |-- predicted_tractable_med_low_confidence: double (nullable = true)\n",
      " |    |    |    |-- top_category: string (nullable = true)\n",
      " |    |    |-- smallmolecule: struct (nullable = true)\n",
      " |    |    |    |-- buckets: array (nullable = true)\n",
      " |    |    |    |    |-- element: long (containsNull = true)\n",
      " |    |    |    |-- categories: struct (nullable = true)\n",
      " |    |    |    |    |-- clinical_precedence: double (nullable = true)\n",
      " |    |    |    |    |-- discovery_precedence: double (nullable = true)\n",
      " |    |    |    |    |-- predicted_tractable: double (nullable = true)\n",
      " |    |    |    |-- ensemble: double (nullable = true)\n",
      " |    |    |    |-- high_quality_compounds: long (nullable = true)\n",
      " |    |    |    |-- small_molecule_genome_member: boolean (nullable = true)\n",
      " |    |    |    |-- top_category: string (nullable = true)\n",
      "\n"
     ]
    }
   ],
   "source": [
    "df2.printSchema()"
   ]
  },
  {
   "cell_type": "code",
   "execution_count": 9,
   "metadata": {},
   "outputs": [
    {
     "name": "stdout",
     "output_type": "stream",
     "text": [
      "+---------------+---------------+-------------------+\n",
      "|      target_id|     disease_id|           score_ot|\n",
      "+---------------+---------------+-------------------+\n",
      "|ENSG00000132383|Orphanet_240371|0.24183500000000002|\n",
      "|ENSG00000125551|   Orphanet_974|0.24638833333333335|\n",
      "|ENSG00000141756|Orphanet_314811| 0.6649999999999999|\n",
      "+---------------+---------------+-------------------+\n",
      "only showing top 3 rows\n",
      "\n"
     ]
    },
    {
     "data": {
      "text/plain": [
       "df22 = [target_id: string, disease_id: string ... 1 more field]\n"
      ]
     },
     "metadata": {},
     "output_type": "display_data",
     "source": "user"
    },
    {
     "data": {
      "text/plain": [
       "[target_id: string, disease_id: string ... 1 more field]"
      ]
     },
     "execution_count": 9,
     "metadata": {},
     "output_type": "execute_result"
    }
   ],
   "source": [
    "val df22 = df2.select(\n",
    "    $\"target.id\".as(\"target_id\"),\n",
    "    $\"disease.id\".as(\"disease_id\"),\n",
    "    $\"harmonic-sum.overall\".as(\"score_ot\")\n",
    ")\n",
    "df22.show(3)"
   ]
  },
  {
   "cell_type": "code",
   "execution_count": 17,
   "metadata": {},
   "outputs": [
    {
     "data": {
      "text/plain": [
       "980001"
      ]
     },
     "execution_count": 17,
     "metadata": {},
     "output_type": "execute_result"
    }
   ],
   "source": [
    "df22.count()"
   ]
  },
  {
   "cell_type": "markdown",
   "metadata": {},
   "source": [
    "## Merge"
   ]
  },
  {
   "cell_type": "code",
   "execution_count": 23,
   "metadata": {},
   "outputs": [
    {
     "name": "stdout",
     "output_type": "stream",
     "text": [
      "+---------------+--------------+-------------------+-------------------+\n",
      "|      target_id|    disease_id|           score_rs|           score_ot|\n",
      "+---------------+--------------+-------------------+-------------------+\n",
      "|ENSG00000000938|Orphanet_44890|                0.2|                0.2|\n",
      "|ENSG00000000971| Orphanet_1505|0.23495000000000002|0.23495000000000002|\n",
      "|ENSG00000000971|Orphanet_98687|                0.2|                0.2|\n",
      "+---------------+--------------+-------------------+-------------------+\n",
      "only showing top 3 rows\n",
      "\n"
     ]
    },
    {
     "data": {
      "text/plain": [
       "df = [target_id: string, disease_id: string ... 2 more fields]\n"
      ]
     },
     "metadata": {},
     "output_type": "display_data",
     "source": "user"
    },
    {
     "data": {
      "text/plain": [
       "[target_id: string, disease_id: string ... 2 more fields]"
      ]
     },
     "execution_count": 23,
     "metadata": {},
     "output_type": "execute_result"
    }
   ],
   "source": [
    "val df = df12.join(df22, Seq(\"target_id\", \"disease_id\"), \"inner\")\n",
    "df.show(3)"
   ]
  },
  {
   "cell_type": "code",
   "execution_count": 24,
   "metadata": {},
   "outputs": [
    {
     "name": "stdout",
     "output_type": "stream",
     "text": [
      "+---------------+---------------+-------------------+-------------------+-----+\n",
      "|      target_id|     disease_id|           score_rs|           score_ot|ratio|\n",
      "+---------------+---------------+-------------------+-------------------+-----+\n",
      "|ENSG00000000938| Orphanet_44890|                0.2|                0.2|  1.0|\n",
      "|ENSG00000000971|  Orphanet_1505|0.23495000000000002|0.23495000000000002|  1.0|\n",
      "|ENSG00000000971| Orphanet_98687|                0.2|                0.2|  1.0|\n",
      "|ENSG00000001497|    EFO_0000178|           0.405682|           0.405682|  1.0|\n",
      "|ENSG00000001630|Orphanet_294060|0.22661500000000004|0.22661500000000004|  1.0|\n",
      "|ENSG00000002330|   Orphanet_282|            0.18206|            0.18206|  1.0|\n",
      "|ENSG00000002549|    EFO_0003853|                0.1|                0.1|  1.0|\n",
      "|ENSG00000002746| Orphanet_85292|0.18510000000000001|0.18510000000000001|  1.0|\n",
      "|ENSG00000003137|    EFO_0000186|0.00992751340866456|0.00992751340866456|  1.0|\n",
      "|ENSG00000003137|    EFO_1002008|0.04610721649400039|0.04610721649400039|  1.0|\n",
      "+---------------+---------------+-------------------+-------------------+-----+\n",
      "only showing top 10 rows\n",
      "\n"
     ]
    }
   ],
   "source": [
    "df.withColumn(\"ratio\", $\"score_rs\" / $\"score_ot\").show(10)"
   ]
  },
  {
   "cell_type": "code",
   "execution_count": 26,
   "metadata": {},
   "outputs": [
    {
     "name": "stdout",
     "output_type": "stream",
     "text": [
      "+-------+------+\n",
      "|isequal| count|\n",
      "+-------+------+\n",
      "|   true|979752|\n",
      "|  false|    13|\n",
      "+-------+------+\n",
      "\n"
     ]
    }
   ],
   "source": [
    "df.withColumn(\"isequal\", abs($\"score_rs\" - $\"score_ot\") < .01).groupBy(\"isequal\").count().show()"
   ]
  },
  {
   "cell_type": "code",
   "execution_count": 25,
   "metadata": {},
   "outputs": [
    {
     "name": "stdout",
     "output_type": "stream",
     "text": [
      "+-------+--------------------+\n",
      "|summary|               ratio|\n",
      "+-------+--------------------+\n",
      "|  count|              979765|\n",
      "|   mean|  1.0010292118461759|\n",
      "| stddev|  0.4112070254835414|\n",
      "|    min|0.008044634791842217|\n",
      "|    max|  227.22505429882958|\n",
      "+-------+--------------------+\n",
      "\n"
     ]
    }
   ],
   "source": [
    "df.withColumn(\"ratio\", $\"score_rs\" / $\"score_ot\").select(\"ratio\").describe().show()"
   ]
  }
 ],
 "metadata": {
  "kernelspec": {
   "display_name": "Apache Toree - Scala",
   "language": "scala",
   "name": "apache_toree_scala"
  },
  "language_info": {
   "codemirror_mode": "text/x-scala",
   "file_extension": ".scala",
   "mimetype": "text/x-scala",
   "name": "scala",
   "pygments_lexer": "scala",
   "version": "2.11.12"
  }
 },
 "nbformat": 4,
 "nbformat_minor": 4
}
