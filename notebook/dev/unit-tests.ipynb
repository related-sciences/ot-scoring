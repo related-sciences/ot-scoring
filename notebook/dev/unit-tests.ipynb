{
 "cells": [
  {
   "cell_type": "code",
   "execution_count": 12,
   "metadata": {},
   "outputs": [
    {
     "name": "stdout",
     "output_type": "stream",
     "text": [
      "+--------------------+---------------+-------------------+---------------+------------------+--------------+------------+-------------------+---+-------------------+\n",
      "|                  id|      source_id|terminal_disease_id|      target_id|    score_resource|    disease_id|is_direct_id|       score_source|rid|              score|\n",
      "+--------------------+---------------+-------------------+---------------+------------------+--------------+------------+-------------------+---+-------------------+\n",
      "|ae12a8d819d094399...|uniprot_somatic|        EFO_0000640|ENSG00000105976|               1.0|   EFO_0003086|       false|                1.0|  1|                1.0|\n",
      "|fa5ac4412ee2b1d03...|      phenodigm|        Orphanet_28|ENSG00000146085|0.9945999999999999|Orphanet_79062|       false|0.19891999999999999|  1|0.19891999999999999|\n",
      "|5a74c8828948c1c41...|        uniprot|       Orphanet_510|ENSG00000165704|               0.0|Orphanet_71859|       false|                0.0|  1|                0.0|\n",
      "+--------------------+---------------+-------------------+---------------+------------------+--------------+------------+-------------------+---+-------------------+\n",
      "only showing top 3 rows\n",
      "\n"
     ]
    },
    {
     "data": {
      "text/plain": [
       "path = /home/eczech/repos/ot-scoring/target/scala-2.11/test-classes/pipeline_test/output\n",
       "df = [id: string, source_id: string ... 8 more fields]\n"
      ]
     },
     "metadata": {},
     "output_type": "display_data",
     "source": "user"
    },
    {
     "data": {
      "text/plain": [
       "[id: string, source_id: string ... 8 more fields]"
      ]
     },
     "execution_count": 12,
     "metadata": {},
     "output_type": "execute_result"
    }
   ],
   "source": [
    "var path = \"/home/eczech/repos/ot-scoring/target/scala-2.11/test-classes/pipeline_test/output\"\n",
    "//var df = spark.read.parquet(path + \"/score_source.parquet\")\n",
    "var df = spark.read.parquet(path + \"/score_evidence.parquet\")\n",
    "df.show(3)"
   ]
  },
  {
   "cell_type": "code",
   "execution_count": 13,
   "metadata": {},
   "outputs": [
    {
     "name": "stdout",
     "output_type": "stream",
     "text": [
      "root\n",
      " |-- id: string (nullable = true)\n",
      " |-- source_id: string (nullable = true)\n",
      " |-- terminal_disease_id: string (nullable = true)\n",
      " |-- target_id: string (nullable = true)\n",
      " |-- score_resource: double (nullable = true)\n",
      " |-- disease_id: string (nullable = true)\n",
      " |-- is_direct_id: boolean (nullable = true)\n",
      " |-- score_source: double (nullable = true)\n",
      " |-- rid: integer (nullable = true)\n",
      " |-- score: double (nullable = true)\n",
      "\n"
     ]
    }
   ],
   "source": [
    "df.printSchema"
   ]
  },
  {
   "cell_type": "code",
   "execution_count": 14,
   "metadata": {},
   "outputs": [
    {
     "name": "stdout",
     "output_type": "stream",
     "text": [
      "+--------------------+---------+-------------------+---------------+------------------+---------------+------------+-------------------+---+--------------------+\n",
      "|                  id|source_id|terminal_disease_id|      target_id|    score_resource|     disease_id|is_direct_id|       score_source|rid|               score|\n",
      "+--------------------+---------+-------------------+---------------+------------------+---------------+------------+-------------------+---+--------------------+\n",
      "|fa5ac4412ee2b1d03...|phenodigm|        Orphanet_28|ENSG00000146085|0.9945999999999999| Orphanet_79062|       false|0.19891999999999999|  1| 0.19891999999999999|\n",
      "|a16783320c882028a...|phenodigm|    Orphanet_229717|ENSG00000245848|               1.0|    EFO_0000408|       false|                0.2|  1|                 0.2|\n",
      "|58b7f4135c11ad15b...|phenodigm|        Orphanet_84|ENSG00000245848|            0.9931|    EFO_0000408|       false|0.19862000000000002|  2|0.049655000000000005|\n",
      "|22320946e92c7793f...|phenodigm|       Orphanet_361|ENSG00000245848|0.9581999999999999|    EFO_0000408|       false|            0.19164|  3|0.021293333333333334|\n",
      "|54aa74ef30331889c...|phenodigm|     Orphanet_90635|ENSG00000121742|               1.0|Orphanet_216445|       false|                0.2|  1|                 0.2|\n",
      "|aec317e386674df4e...|phenodigm|       Orphanet_859|ENSG00000146085|               1.0|    EFO_0000408|       false|                0.2|  1|                 0.2|\n",
      "|f34e9abc6181dcfbc...|phenodigm|       Orphanet_941|ENSG00000146085|               1.0|    EFO_0000408|       false|                0.2|  2|                0.05|\n",
      "|fa5ac4412ee2b1d03...|phenodigm|        Orphanet_28|ENSG00000146085|0.9945999999999999|    EFO_0000408|       false|0.19891999999999999|  3| 0.02210222222222222|\n",
      "|a16783320c882028a...|phenodigm|    Orphanet_229717|ENSG00000245848|               1.0|Orphanet_101997|       false|                0.2|  1|                 0.2|\n",
      "|58b7f4135c11ad15b...|phenodigm|        Orphanet_84|ENSG00000245848|            0.9931|Orphanet_182040|       false|0.19862000000000002|  1| 0.19862000000000002|\n",
      "|a16783320c882028a...|phenodigm|    Orphanet_229717|ENSG00000245848|               1.0|Orphanet_183669|       false|                0.2|  1|                 0.2|\n",
      "|58b7f4135c11ad15b...|phenodigm|        Orphanet_84|ENSG00000245848|            0.9931|Orphanet_183530|       false|0.19862000000000002|  1| 0.19862000000000002|\n",
      "|c9c804b5c6fb2b59e...|phenodigm|    Orphanet_276183|ENSG00000170315|               1.0|    EFO_0000618|       false|                0.2|  1|                 0.2|\n",
      "|3fd3a8ce106428b11...|phenodigm|      Orphanet_2824|ENSG00000136279|             0.975|    EFO_0000508|       false|              0.195|  1|               0.195|\n",
      "|ec562ac3af274d089...|phenodigm|    Orphanet_101997|ENSG00000136279|            0.9052|    EFO_0000508|       false|            0.18104|  2|             0.04526|\n",
      "|a16783320c882028a...|phenodigm|    Orphanet_229717|ENSG00000245848|               1.0|    EFO_0000508|       false|                0.2|  1|                 0.2|\n",
      "|58b7f4135c11ad15b...|phenodigm|        Orphanet_84|ENSG00000245848|            0.9931|    EFO_0000508|       false|0.19862000000000002|  2|0.049655000000000005|\n",
      "|22320946e92c7793f...|phenodigm|       Orphanet_361|ENSG00000245848|0.9581999999999999|    EFO_0000508|       false|            0.19164|  3|0.021293333333333334|\n",
      "|58b7f4135c11ad15b...|phenodigm|        Orphanet_84|ENSG00000245848|            0.9931|Orphanet_330206|       false|0.19862000000000002|  1| 0.19862000000000002|\n",
      "|aec317e386674df4e...|phenodigm|       Orphanet_859|ENSG00000146085|               1.0|    EFO_0005596|       false|                0.2|  1|                 0.2|\n",
      "+--------------------+---------+-------------------+---------------+------------------+---------------+------------+-------------------+---+--------------------+\n",
      "only showing top 20 rows\n",
      "\n"
     ]
    }
   ],
   "source": [
    "df.filter($\"source_id\" === \"phenodigm\").show()"
   ]
  },
  {
   "cell_type": "code",
   "execution_count": null,
   "metadata": {},
   "outputs": [],
   "source": []
  }
 ],
 "metadata": {
  "kernelspec": {
   "display_name": "Apache Toree - Scala",
   "language": "scala",
   "name": "apache_toree_scala"
  },
  "language_info": {
   "codemirror_mode": "text/x-scala",
   "file_extension": ".scala",
   "mimetype": "text/x-scala",
   "name": "scala",
   "pygments_lexer": "scala",
   "version": "2.11.12"
  }
 },
 "nbformat": 4,
 "nbformat_minor": 4
}
