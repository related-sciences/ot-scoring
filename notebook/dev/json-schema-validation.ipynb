{
 "cells": [
  {
   "cell_type": "code",
   "execution_count": null,
   "metadata": {},
   "outputs": [],
   "source": [
    "// Found at https://gitter.im/almond-sh/almond?at=5d531bf1a4efe3718df8a947\n",
    "// * Moved to almond install\n",
    "// interp.repositories() ++= Seq(coursierapi.MavenRepository.of(\"https://jitpack.io\"))"
   ]
  },
  {
   "cell_type": "code",
   "execution_count": 5,
   "metadata": {},
   "outputs": [
    {
     "data": {
      "text/plain": [
       "\u001b[36mres4\u001b[39m: \u001b[32mString\u001b[39m = \u001b[32m\"basl/bas\"\u001b[39m"
      ]
     },
     "execution_count": 5,
     "metadata": {},
     "output_type": "execute_result"
    }
   ],
   "source": [
    "\"/basl/bas\".replaceFirst(\"^/\", \"\")"
   ]
  },
  {
   "cell_type": "code",
   "execution_count": 1,
   "metadata": {},
   "outputs": [
    {
     "data": {
      "text/plain": [
       "\u001b[32mimport \u001b[39m\u001b[36m$ivy.$                                                                \u001b[39m"
      ]
     },
     "execution_count": 1,
     "metadata": {},
     "output_type": "execute_result"
    }
   ],
   "source": [
    "import $ivy.`com.github.everit-org.json-schema:org.everit.json.schema:1.12.0`"
   ]
  },
  {
   "cell_type": "code",
   "execution_count": 31,
   "metadata": {},
   "outputs": [
    {
     "data": {
      "text/plain": [
       "\u001b[32mimport \u001b[39m\u001b[36morg.everit.json.schema.Schema\n",
       "\u001b[39m\n",
       "\u001b[32mimport \u001b[39m\u001b[36morg.everit.json.schema.loader.SchemaLoader\n",
       "\u001b[39m\n",
       "\u001b[32mimport \u001b[39m\u001b[36morg.json.JSONObject\n",
       "\u001b[39m\n",
       "\u001b[32mimport \u001b[39m\u001b[36morg.json.JSONTokener\n",
       "\u001b[39m\n",
       "\u001b[32mimport \u001b[39m\u001b[36morg.json.JSONException\n",
       "\u001b[39m\n",
       "\u001b[32mimport \u001b[39m\u001b[36morg.everit.json.schema.ValidationException\n",
       "\u001b[39m\n",
       "\u001b[32mimport \u001b[39m\u001b[36morg.everit.json.schema.FormatValidator\n",
       "\u001b[39m\n",
       "\u001b[32mimport \u001b[39m\u001b[36morg.everit.json.schema.Validator\n",
       "\u001b[39m\n",
       "\u001b[32mimport \u001b[39m\u001b[36mjava.util.Optional\n",
       "\u001b[39m\n",
       "\u001b[32mimport \u001b[39m\u001b[36mjava.net.URL\n",
       "\u001b[39m\n",
       "\u001b[32mimport \u001b[39m\u001b[36mjava.io.File\n",
       "\u001b[39m\n",
       "\u001b[32mimport \u001b[39m\u001b[36mjava.time.format.DateTimeFormatter\n",
       "\u001b[39m\n",
       "\u001b[32mimport \u001b[39m\u001b[36mjava.time.format.DateTimeFormatterBuilder\n",
       "\u001b[39m\n",
       "\u001b[32mimport \u001b[39m\u001b[36mjava.time.format.DateTimeParseException\n",
       "\u001b[39m\n",
       "\u001b[32mimport \u001b[39m\u001b[36mjava.time.temporal.ChronoField\u001b[39m"
      ]
     },
     "execution_count": 31,
     "metadata": {},
     "output_type": "execute_result"
    }
   ],
   "source": [
    "import org.everit.json.schema.Schema\n",
    "import org.everit.json.schema.loader.SchemaLoader\n",
    "import org.json.JSONObject\n",
    "import org.json.JSONTokener\n",
    "import org.json.JSONException\n",
    "import org.everit.json.schema.ValidationException\n",
    "import org.everit.json.schema.FormatValidator\n",
    "import org.everit.json.schema.Validator\n",
    "import java.util.Optional\n",
    "import java.net.URL\n",
    "import java.io.File\n",
    "import java.time.format.DateTimeFormatter\n",
    "import java.time.format.DateTimeFormatterBuilder\n",
    "import java.time.format.DateTimeParseException\n",
    "import java.time.temporal.ChronoField"
   ]
  },
  {
   "cell_type": "code",
   "execution_count": 3,
   "metadata": {},
   "outputs": [
    {
     "data": {
      "text/plain": [
       "defined \u001b[32mclass\u001b[39m \u001b[36mDateValidator\u001b[39m"
      ]
     },
     "execution_count": 3,
     "metadata": {},
     "output_type": "execute_result"
    }
   ],
   "source": [
    "class DateValidator extends FormatValidator {\n",
    "\n",
    "    val FORMAT = \"yyyy-MM-dd'T'HH:mm:ss\"\n",
    "    val FORMATTER = new DateTimeFormatterBuilder()\n",
    "        .appendPattern(FORMAT)\n",
    "        .toFormatter();\n",
    "    \n",
    "    override def validate(subject: String): Optional[String] = {\n",
    "        try {\n",
    "            FORMATTER.parse(subject)\n",
    "            Optional.empty()\n",
    "        } catch {\n",
    "            case e: DateTimeParseException => \n",
    "                Optional.of(s\"[$subject] is not a valid ${formatName()}. Expected $FORMAT\")\n",
    "        }\n",
    "    }\n",
    "    \n",
    "    override def formatName(): String = \"date-time\"\n",
    "}\n"
   ]
  },
  {
   "cell_type": "code",
   "execution_count": 4,
   "metadata": {},
   "outputs": [
    {
     "data": {
      "text/plain": [
       "\u001b[36murl\u001b[39m: \u001b[32mURL\u001b[39m = https://raw.githubusercontent.com/opentargets/json_schema/master/opentargets.json\n",
       "\u001b[36mstream\u001b[39m: \u001b[32mjava\u001b[39m.\u001b[32mio\u001b[39m.\u001b[32mInputStream\u001b[39m = sun.net.www.protocol.http.HttpURLConnection$HttpInputStream@7688b166\n",
       "\u001b[36mrawSchema\u001b[39m: \u001b[32mJSONObject\u001b[39m = {\"oneOf\":[{\"properties\":{\"evidence\":{\"allOf\":[{\"$ref\":\"#/definitions/evidence_base\"}],\"properties\":{\"reference_sample\":{\"description\":\"Free text - reference sample\",\"type\":\"string\"},\"test_replicates_n\":{\"description\":\"Count of test replicates\",\"type\":\"number\",\"minimum\":1},\"organism_part\":{\"type\":\"string\"},\"log2_fold_change\":{\"type\":\"object\",\"properties\":{\"percentile_rank\":{\"maximum\":100,\"type\":\"number\",\"minimum\":0},\"value\":{\"type\":\"number\"}},\"required\":[\"value\",\"percentile_rank\"]},\"reference_replicates_n\":{\"description\":\"Count of reference replicates\",\"type\":\"number\",\"minimum\":1},\"urls\":{\"uniqueItems\":true,\"type\":\"array\",\"items\":{\"type\":\"object\",\"$ref\":\"#/definitions/linkout\"}},\"comparison_name\":{\"type\":\"string\"},\"experiment_overview\":{\"type\":\"string\"},\"confidence_level\":{\"description\":\"high = if the disease state is the only variable (i.e. case vs control); medium = if the disease is a variable but there is one or more other variables; low = where all samples have the disease but the variable is something else e.g. a treatment\",\"type\":\"string\",\"enum\":[\"high\",\"medium\",\"low\"]},\"evidence_codes\":{\"minItems\":1,\"uniqueItems\":true,\"description\":\"An array of evidence codes\",\"type\":\"array\",\"items\":{\"type\":\"string\"}},\"test_sample\":{\"description\":\"Free text - test sample\",\"type\":\"string\"}},\"required\":[\"evidence_codes\",\"comparison_name\",\"log2_fold_change\",\"test_sample\",\"reference_sample\",\"experiment_overview\",\"test_replicates_n\",\"reference_replicates_n\",\"confidence_level\",\"resource_score\"]},\"type\":{\"const\":\"rna_expression\"}},\"required\":[\"type\",\"evidence\"]},{\"properties\":{\"evidence\":{\"properties\":{\"drug2clinic\":{\"allOf\":[{\"$ref\":\"#/definitions/evidence_base\"}],\"type\":\"object\",\"properties\":{\"clinical_trial_phase\":{\"type\":\"object\",\"$ref\":\"#/definitions/diseasephase\"},\"urls\":{\"uniqueItems\":true,\"type\":\"array\",\"items\":{\"type\":\"object\",\"$ref\":\"#/definitions/linkout\"}},\"evidence_codes\":{\"minItems\":1,\"uniqueItems\":true,\"description\":\"An array of evidence codes\",\"type\":\"array\",\"items\":{\"type\":\"string\"}},\"status\":{\"type\":\"string\"}},\"required\":[\"resource_score\",\"provenance_type\",\"is_associated\",\"date_asserted\",\"evidence_codes\",\"clinical_trial_phase\"]},\"target2drug\":{\"allOf\":[{\"$ref\":\"#/definitions/evidence_base\"}],\"type\":\"object\",\"properties\":{\"urls\":{\"uniqueItems\":true,\"type\":\"array\",\"items\":{\"type\":\"object\",\"$ref\":\"#/definitions/linkout\"}},\"mechanism_of_action\":{\"type\":\"string\"},\"action_type\":{\"type\":\"string\"},\"evidence_codes\":{\"minItems\":1,\"uniqueItems\":true,\"description\":\"An array of evidence codes\",\"type\":\"array\",\"items\":{\"type\":\"string\"}}},\"required\":[\"resource_score\",\"provenance_type\",\"is_associated\",\"date_asserted\",\"evidence_codes\",\"mechanism_of_action\",\"action_type\"]}},\"required\":[\"target2drug\",\"drug2clinic\"]},\"type\":{\"const\":\"known_drug\"},\"drug\":{\"type\":\"object\",\"properties\":{\"molecule_type\":{\"type\":\"string\"},\"molecule_name\":{\"type\":\"string\"},\"id\":{\"pattern\":\"^http://identifiers.org/chembl.compound/CHEMBL[0-9]+$|^http://private/.+$\",\"description\":\"A ChEMBL or internal drug identifier\",\"type\":\"string\"}},\"required\":[\"id\",\"molecule_name\",\"molecule_type\"]},\"target\":{\"properties\":...\n",
       "\u001b[36mschema\u001b[39m: \u001b[32mSchema\u001b[39m = {\"title\":\"OpenTargets\",\"description\":\"OpenTargets evidence objects\",\"$schema\":\"http://json-schema.org/draft-07/schema#\",\"definitions\":{\"phenotype\":{\"type\":\"object\",\"properties\":{\"species\":{\"type\":\"string\",\"enum\":[\"mouse\",\"human\",\"rat\",\"zebrafish\",\"dog\"]},\"term_id\":{\"pattern\":\"^http://purl.obolibrary.org/obo/HP_[0-9]{4,}||http://purl.obolibrary.org/obo/MP_[0-9]{4,}$\",\"type\":\"string\",\"description\":\"Phenotype term Identifier from HPO/MP\"},\"label\":{\"type\":\"string\",\"description\":\"Phenotype term label\"}},\"required\":[\"id\",\"term_id\",\"label\",\"species\"]},\"score_summed_total\":{\"type\":\"object\",\"properties\":{\"method\":{\"type\":\"object\",\"$ref\":\"#/definitions/score_method\"},\"type\":{\"type\":\"string\",\"enum\":[\"summed_total\"]},\"value\":{\"type\":\"number\",\"exclusiveMinimum\":0}},\"required\":[\"value\",\"type\"]},\"score_method\":{\"type\":\"object\",\"properties\":{\"reference\":{\"pattern\":\"http://europepmc.org/abstract/MED/[0-9]+|http://europepmc.org/articles/PMC[0-9]{4,}$\",\"type\":\"string\",\"description\":\"Note for pubmed identifiers, use the URI http://europepmc.org/abstract/MED/[0-9]+\"},\"description\":{\"type\":\"string\"},\"url\":{\"format\":\"uri\",\"type\":\"string\"}}},\"evidence_base\":{\"type\":\"object\",\"properties\":{\"is_associated\":{\"type\":\"boolean\"},\"date_asserted\":{\"format\":\"date-time\",\"type\":\"string\",\"description\":\"date the evidence was made public\"},\"provenance_type\":{\"type\":\"object\",\"properties\":{\"literature\":{\"type\":\"object\",\"properties\":{\"references\":{\"minItems\":1,\"type\":\"array\",\"items\":{\"type\":\"object\",\"$ref\":\"#/definitions/single_lit_reference\"},\"uniqueItems\":true}},\"required\":[\"references\"]},\"expert\":{\"type\":\"object\",\"properties\":{\"statement\":{\"type\":\"string\"},\"author\":{\"type\":\"object\",\"properties\":{\"name\":{\"type\":\"string\"},\"email\":{\"format\":\"email\",\"type\":\"string\"},\"organization\":{\"type\":\"string\"}}},\"status\":{\"type\":\"boolean\"}},\"required\":[\"status\"]},\"database\":{\"type\":\"object\",\"properties\":{\"dbxref\":{\"type\":\"object\",\"properties\":{\"version\":{\"type\":\"string\"},\"url\":{\"format\":\"uri\",\"type\":\"string\",\"description\":\"Please provide a pointer to the original resource: e.g. http://identifiers.org/orphanet/93298\"},\"id\":{\"type\":\"string\",\"description\":\"Please provide the original DB name\"}},\"required\":[\"id\",\"version\"]},\"version\":{\"type\":\"string\"},\"id\":{\"type\":\"string\"}},\"required\":[\"id\",\"version\"]}}},\"unique_experiment_reference\":{\"pattern\":\"http://europepmc.org/abstract/MED/[0-9]+|http://europepmc.org/articles/PMC[0-9]{4,}|[doi|DOI|https://dx.doi.org/]*[\\\\s\\\\.\\\\:]{0,2}(10[.][0-9]{4,}(?:[.][0-9]+)*/(?:(?![\\\\\\\"&\\\\'])\\\\S)+)|STUDYID_.+$\",\"type\":\"string\",\"description\":\"A unique experiment identifier or literature reference that uniquely identifies the study in your database\"},\"resource_score\":{\"type\":\"object\",\"oneOf\":[{\"$ref\":\"#/definitions/score_pvalue\"},{\"$ref\":\"#/definitions/score_probability\"},{\"$ref\":\"#/definitions/score_rank\"},{\"$ref\":\"#/definitions/score_summed_total\"}]}},\"required\":[\"provenance_type\",\"is_associated\",\"date_asserted\"]},\"score_probability\":{\"type\":\"object\",\"properties\":{\"method\":{\"type\":\"object\",\"$ref\":\"#/definitions/score_method\"},\"type\":{\"type\":\"string\",\"enum\":[\"probability\"]},\"value\":{\"type\":\"num..."
      ]
     },
     "execution_count": 4,
     "metadata": {},
     "output_type": "execute_result"
    }
   ],
   "source": [
    "val url = new URL(\"https://raw.githubusercontent.com/opentargets/json_schema/master/opentargets.json\")\n",
    "//val url = new File(\"/home/eczech/repos/ot-scoring/opentargets-test.json\").toURI.toURL\n",
    "val stream = url.openStream()\n",
    "val rawSchema = new JSONObject(new JSONTokener(stream))\n",
    "val schema = SchemaLoader.builder()\n",
    "    .schemaJson(rawSchema)\n",
    "    .enableOverrideOfBuiltInFormatValidators()\n",
    "    .addFormatValidator(new DateValidator())\n",
    "    .build()\n",
    "    .load().build()"
   ]
  },
  {
   "cell_type": "code",
   "execution_count": 5,
   "metadata": {},
   "outputs": [
    {
     "name": "stdout",
     "output_type": "stream",
     "text": [
      "Loading spark-stubs\n",
      "Creating SparkSession\n"
     ]
    },
    {
     "name": "stderr",
     "output_type": "stream",
     "text": [
      "Using Spark's default log4j profile: org/apache/spark/log4j-defaults.properties\n",
      "19/12/05 14:53:06 WARN NativeCodeLoader: Unable to load native-hadoop library for your platform... using builtin-java classes where applicable\n"
     ]
    },
    {
     "data": {
      "text/html": [
       "<a target=\"_blank\" href=\"http://d7d1083d871c:4040\">Spark UI</a>"
      ]
     },
     "metadata": {},
     "output_type": "display_data"
    },
    {
     "data": {
      "text/plain": [
       "\u001b[32mimport \u001b[39m\u001b[36m$file.$          , SparkInit._\n",
       "\u001b[39m\n",
       "\u001b[32mimport \u001b[39m\u001b[36mjava.nio.file.Paths\n",
       "\u001b[39m\n",
       "\u001b[36minput_dir\u001b[39m: \u001b[32mjava\u001b[39m.\u001b[32mnio\u001b[39m.\u001b[32mfile\u001b[39m.\u001b[32mPath\u001b[39m = /home/eczech/data/ot/import/evidence-files\n",
       "\u001b[36mdf\u001b[39m: \u001b[32morg\u001b[39m.\u001b[32mapache\u001b[39m.\u001b[32mspark\u001b[39m.\u001b[32msql\u001b[39m.\u001b[32mDataset\u001b[39m[\u001b[32mString\u001b[39m] = [value: string]"
      ]
     },
     "execution_count": 5,
     "metadata": {},
     "output_type": "execute_result"
    }
   ],
   "source": [
    "import $file.^.SparkInit, SparkInit._\n",
    "import java.nio.file.Paths\n",
    "val input_dir = Paths.get(System.getProperty(\"user.home\"), \"data\", \"ot\", \"import\", \"evidence-files\")\n",
    "val df = ss.read.textFile(input_dir.toString())"
   ]
  },
  {
   "cell_type": "code",
   "execution_count": 6,
   "metadata": {},
   "outputs": [
    {
     "data": {
      "text/html": [
       "<script>\n",
       "var comm = Jupyter.notebook.kernel.comm_manager.new_comm('cancel-stage-8a766440-bc32-4158-ae3d-d059db8ed1cf', {});\n",
       "\n",
       "function cancelStage(stageId) {\n",
       "  console.log('Cancelling stage ' + stageId);\n",
       "  comm.send({ 'stageId': stageId });\n",
       "}\n",
       "</script>\n",
       "          "
      ]
     },
     "metadata": {},
     "output_type": "display_data"
    },
    {
     "data": {
      "text/html": [
       "<div>\n",
       "  <span style=\"float: left;\">head at cmd5.sc:1</span>\n",
       "</div>\n"
      ]
     },
     "metadata": {},
     "output_type": "display_data"
    },
    {
     "data": {
      "text/html": [
       "<div class=\"progress\">\n",
       "  <div class=\"progress-bar\" role=\"progressbar\" style=\"background-color: blue; width: 100%; word-wrap: normal; white-space: nowrap; text-align: center; color: white\" aria-valuenow=\"100\" aria-valuemin=\"0\" aria-valuemax=\"100\">\n",
       "    1 / 1\n",
       "  </div>\n",
       "  <div class=\"progress-bar\" role=\"progressbar\" style=\"background-color: red; width: 0%\" aria-valuenow=\"0\" aria-valuemin=\"0\" aria-valuemax=\"100\"></div>\n",
       "</div>\n"
      ]
     },
     "metadata": {},
     "output_type": "display_data"
    },
    {
     "name": "stdout",
     "output_type": "stream",
     "text": [
      "{\"unique_association_fields\": {\"variant_id\": \"rs370088722\", \"phenotype\": \"http://www.ebi.ac.uk/efo/EFO_0001063\", \"gene\": \"ENSG00000165091\", \"clinvarAccession\": \"RCV000225031\", \"alleleOrigin\": \"germline\"}, \"literature\": {\"references\": [{\"lit_id\": \"http://europepmc.org/abstract/MED/20301607\"}]}, \"access_level\": \"public\", \"variant\": {\"id\": \"http://identifiers.org/dbsnp/rs370088722\", \"type\": \"snp single\"}, \"disease\": {\"id\": \"http://www.ebi.ac.uk/efo/EFO_0001063\", \"name\": \"deafness\", \"source_name\": \"deafness, autosomal recessive 7\"}, \"sourceID\": \"eva\", \"evidence\": {\"variant2disease\": {\"resource_score\": {\"value\": 1e-07, \"type\": \"pvalue\", \"method\": {\"description\": \"Not provided by data supplier\"}}, \"evidence_codes\": [\"http://purl.obolibrary.org/obo/ECO_0000205\"], \"urls\": [{\"url\": \"http://www.ncbi.nlm.nih.gov/clinvar/RCV000225031\", \"nice_name\": \"Further details in ClinVar database\"}], \"is_associated\": true, \"unique_experiment_reference\": \"http://europepmc.org/abstract/MED/20301607\", \"provenance_type\": {\"database\": {\"id\": \"EVA\", \"dbxref\": {\"url\": \"http://identifiers.org/clinvar.record/RCV000225031\", \"id\": \"http://identifiers.org/clinvar\", \"version\": \"2017-08\"}, \"version\": \"1.0\"}, \"literature\": {\"references\": [{\"lit_id\": \"http://europepmc.org/abstract/MED/20301607\"}]}, \"expert\": {\"status\": true, \"statement\": \"Primary submitter of data\"}}, \"clinical_significance\": \"Pathogenic\", \"date_asserted\": \"2018-12-23T00:00:00\"}, \"gene2variant\": {\"resource_score\": {\"value\": 1e-07, \"type\": \"pvalue\", \"method\": {\"description\": \"Not provided by data supplier\"}}, \"evidence_codes\": [\"http://identifiers.org/eco/cttv_mapping_pipeline\"], \"functional_consequence\": \"http://purl.obolibrary.org/obo/SO_0001583\", \"urls\": [{\"url\": \"http://www.ncbi.nlm.nih.gov/clinvar/RCV000225031\", \"nice_name\": \"Further details in ClinVar database\"}], \"is_associated\": true, \"provenance_type\": {\"database\": {\"id\": \"EVA\", \"dbxref\": {\"url\": \"http://identifiers.org/clinvar.record/RCV000225031\", \"id\": \"http://identifiers.org/clinvar\", \"version\": \"2017-08\"}, \"version\": \"1.0\"}, \"expert\": {\"status\": true, \"statement\": \"Primary submitter of data\"}}, \"date_asserted\": \"2018-12-23T00:00:00\"}}, \"target\": {\"id\": \"http://identifiers.org/ensembl/ENSG00000165091\", \"target_type\": \"http://identifiers.org/cttv.target/gene_variant\", \"activity\": \"http://identifiers.org/cttv.activity/unknown\"}, \"validated_against_schema_version\": \"1.6.2\", \"type\": \"genetic_association\"}\n"
     ]
    },
    {
     "data": {
      "text/plain": [
       "\u001b[36mrec\u001b[39m: \u001b[32mString\u001b[39m = \u001b[32m\"{\\\"unique_association_fields\\\": {\\\"variant_id\\\": \\\"rs370088722\\\", \\\"phenotype\\\": \\\"http://www.ebi.ac.uk/efo/EFO_0001063\\\", \\\"gene\\\": \\\"ENSG00000165091\\\", \\\"clinvarAccession\\\": \\\"RCV000225031\\\", \\\"alleleOrigin\\\": \\\"germline\\\"}, \\\"literature\\\": {\\\"references\\\": [{\\\"lit_id\\\": \\\"http://europepmc.org/abstract/MED/20301607\\\"}]}, \\\"access_level\\\": \\\"public\\\", \\\"variant\\\": {\\\"id\\\": \\\"http://identifiers.org/dbsnp/rs370088722\\\", \\\"type\\\": \\\"snp single\\\"}, \\\"disease\\\": {\\\"id\\\": \\\"http://www.ebi.ac.uk/efo/EFO_0001063\\\", \\\"name\\\": \\\"deafness\\\", \\\"source_name\\\": \\\"deafness, autosomal recessive 7\\\"}, \\\"sourceID\\\": \\\"eva\\\", \\\"evidence\\\": {\\\"variant2disease\\\": {\\\"resource_score\\\": {\\\"value\\\": 1e-07, \\\"type\\\": \\\"pvalue\\\", \\\"method\\\": {\\\"description\\\": \\\"Not provided by data supplier\\\"}}, \\\"evidence_codes\\\": [\\\"http://purl.obolibrary.org/obo/ECO_0000205\\\"], \\\"urls\\\": [{\\\"url\\\": \\\"http://www.ncbi.nlm.nih.gov/clinvar/RCV000225031\\\", \\\"nice_name\\\": \\\"Further details in ClinVar database\\\"}], \\\"is_associated\\\": true, \\\"unique_experiment_reference\\\": \\\"http://europepmc.org/abstract/MED/20301607\\\", \\\"provenance_type\\\": {\\\"database\\\": {\\\"id\\\": \\\"EVA\\\", \\\"dbxref\\\": {\\\"url\\\": \\\"http://identifiers.org/clinvar.record/RCV000225031\\\", \\\"id\\\": \\\"http://identifiers.org/clinvar\\\", \\\"version\\\": \\\"2017-08\\\"}, \\\"version\\\": \\\"1.0\\\"}, \\\"literature\\\": {\\\"references\\\": [{\\\"lit_id\\\": \\\"http://europepmc.org/abstract/MED/20301607\\\"}]}, \\\"expert\\\": {\\\"status\\\": true, \\\"statement\\\": \\\"Primary submitter of data\\\"}}, \\\"clinical_significance\\\": \\\"Pathogenic\\\", \\\"date_asserted\\\": \\\"2018-12-23T00:00:00\\\"}, \\\"gene2variant\\\": {\\\"resource_score\\\": {\\\"value\\\": 1e-07, \\\"type\\\": \\\"pvalue\\\", \\\"method\\\": {\\\"description\\\": \\\"Not provided by data supplier\\\"}}, \\\"evidence_codes\\\": [\\\"http://identifiers.org/eco/cttv_mapping_pipeline\\\"], \\\"functional_consequence\\\": \\\"http://purl.obolibrary.org/obo/SO_0001583\\\", \\\"urls\\\": [{\\\"url\\\": \\\"http://www.ncbi.nlm.nih.gov/clinvar/RCV000225031\\\", \\\"nice_name\\\": \\\"Further details in ClinVar database\\\"}], \\\"is_associated\\\": true, \\\"provenance_type\\\": {\\\"database\\\": {\\\"id\\\": \\\"EVA\\\", \\\"dbxref\\\": {\\\"url\\\": \\\"http://identifiers.org/clinvar.record/RCV000225031\\\", \\\"id\\\": \\\"http://identifiers.org/clinvar\\\", \\\"version\\\": \\\"2017-08\\\"}, \\\"version\\\": \\\"1.0\\\"}, \\\"expert\\\": {\\\"status\\\": true, \\\"statement\\\": \\\"Primary submitter of data\\\"}}, \\\"date_asserted\\\": \\\"2018-12-23T00:00:00\\\"}}, \\\"target\\\": {\\\"id\\\": \\\"http://identifiers.org/ensembl/ENSG00000165091\\\", \\\"target_type\\\": \\\"http://identifiers.org/cttv.target/gene_variant\\\", \\\"activity\\\": \\\"http://identifiers.org/cttv.activity/unknown\\\"}, \\\"validated_against_schema_version\\\": \\\"1.6.2\\\", \\\"type\\\": \\\"genetic_association\\\"}\"\u001b[39m"
      ]
     },
     "execution_count": 6,
     "metadata": {},
     "output_type": "execute_result"
    }
   ],
   "source": [
    "val rec = df.head(10)(2)\n",
    "println(rec)"
   ]
  },
  {
   "cell_type": "code",
   "execution_count": 7,
   "metadata": {},
   "outputs": [
    {
     "data": {
      "text/plain": [
       "\u001b[36mvalidator\u001b[39m: \u001b[32mValidator\u001b[39m = org.everit.json.schema.DefaultValidator@3bf7224c"
      ]
     },
     "execution_count": 7,
     "metadata": {},
     "output_type": "execute_result"
    }
   ],
   "source": [
    "val validator = Validator.builder()\n",
    "    .failEarly()\n",
    "    .build()\n",
    "\n",
    "try {\n",
    "    validator.performValidation(schema, new JSONObject(rec))\n",
    "} catch {\n",
    "    case e: ValidationException => println(e.toJSON())\n",
    "}"
   ]
  },
  {
   "cell_type": "code",
   "execution_count": 32,
   "metadata": {},
   "outputs": [
    {
     "data": {
      "text/plain": [
       "\u001b[32mimport \u001b[39m\u001b[36morg.apache.spark.sql.types.StructType\n",
       "\u001b[39m\n",
       "\u001b[32mimport \u001b[39m\u001b[36morg.apache.spark.sql.catalyst.ScalaReflection\n",
       "\u001b[39m\n",
       "defined \u001b[32mclass\u001b[39m \u001b[36mValidationResult\u001b[39m\n",
       "\u001b[36mvalidationResultSchema\u001b[39m: \u001b[32mStructType\u001b[39m = \u001b[33mStructType\u001b[39m(\n",
       "  \u001b[33mStructField\u001b[39m(\u001b[32m\"isValid\"\u001b[39m, BooleanType, false, {}),\n",
       "  \u001b[33mStructField\u001b[39m(\u001b[32m\"reason\"\u001b[39m, StringType, true, {}),\n",
       "  \u001b[33mStructField\u001b[39m(\u001b[32m\"error\"\u001b[39m, StringType, true, {})\n",
       ")"
      ]
     },
     "execution_count": 32,
     "metadata": {},
     "output_type": "execute_result"
    }
   ],
   "source": [
    "import org.apache.spark.sql.types.StructType\n",
    "import org.apache.spark.sql.catalyst.ScalaReflection\n",
    "case class ValidationResult(isValid: Boolean, reason: Option[String], error: Option[String])\n",
    "val validationResultSchema = ScalaReflection.schemaFor[ValidationResult].dataType.asInstanceOf[StructType]"
   ]
  },
  {
   "cell_type": "code",
   "execution_count": 33,
   "metadata": {},
   "outputs": [
    {
     "data": {
      "text/plain": [
       "defined \u001b[32mobject\u001b[39m \u001b[36mRecordValidator\u001b[39m"
      ]
     },
     "execution_count": 33,
     "metadata": {},
     "output_type": "execute_result"
    }
   ],
   "source": [
    "object RecordValidator {\n",
    "    \n",
    "    @transient lazy val schema = {\n",
    "        val url = new URL(\"https://raw.githubusercontent.com/opentargets/json_schema/master/opentargets.json\")\n",
    "        SchemaLoader.builder()\n",
    "            .schemaJson(new JSONObject(new JSONTokener(url.openStream())))\n",
    "            .enableOverrideOfBuiltInFormatValidators()\n",
    "            .addFormatValidator(new DateValidator())\n",
    "            .build()\n",
    "            .load().build()\n",
    "    }\n",
    "    @transient lazy val validator = Validator.builder()\n",
    "        .failEarly()\n",
    "        .build()\n",
    "    \n",
    "    def validate(rec: String): ValidationResult = {\n",
    "        try {\n",
    "            this.validator.performValidation(this.schema, new JSONObject(rec))\n",
    "            ValidationResult(true, None, None)\n",
    "        } catch {\n",
    "            case e: JSONException => ValidationResult(false, Some(\"corrupt\"), Some(e.getMessage))\n",
    "            case e: ValidationException => ValidationResult(false, Some(\"invalid\"), Some(e.toJSON().toString))\n",
    "        }\n",
    "    }\n",
    "}"
   ]
  },
  {
   "cell_type": "code",
   "execution_count": 34,
   "metadata": {},
   "outputs": [
    {
     "data": {
      "text/html": [
       "<div>\n",
       "  <span style=\"float: left;\">head at cmd33.sc:1</span>\n",
       "</div>\n"
      ]
     },
     "metadata": {},
     "output_type": "display_data"
    },
    {
     "data": {
      "text/html": [
       "<div class=\"progress\">\n",
       "  <div class=\"progress-bar\" role=\"progressbar\" style=\"background-color: blue; width: 100%; word-wrap: normal; white-space: nowrap; text-align: center; color: white\" aria-valuenow=\"100\" aria-valuemin=\"0\" aria-valuemax=\"100\">\n",
       "    1 / 1\n",
       "  </div>\n",
       "  <div class=\"progress-bar\" role=\"progressbar\" style=\"background-color: red; width: 0%\" aria-valuenow=\"0\" aria-valuemin=\"0\" aria-valuemax=\"100\"></div>\n",
       "</div>\n"
      ]
     },
     "metadata": {},
     "output_type": "display_data"
    },
    {
     "name": "stdout",
     "output_type": "stream",
     "text": [
      "ValidationResult(true,None,None)\n",
      "ValidationResult(true,None,None)\n",
      "ValidationResult(true,None,None)\n",
      "ValidationResult(true,None,None)\n",
      "ValidationResult(true,None,None)\n",
      "ValidationResult(true,None,None)\n",
      "ValidationResult(true,None,None)\n",
      "ValidationResult(true,None,None)\n",
      "ValidationResult(true,None,None)\n",
      "ValidationResult(true,None,None)\n"
     ]
    },
    {
     "data": {
      "text/plain": [
       "\u001b[36mrecs\u001b[39m: \u001b[32mArray\u001b[39m[\u001b[32mString\u001b[39m] = \u001b[33mArray\u001b[39m(\n",
       "  \u001b[32m\"{\\\"unique_association_fields\\\": {\\\"variant_id\\\": \\\"rs886039754\\\", \\\"phenotype\\\": \\\"http://www.orpha.net/ORDO/Orphanet_358\\\", \\\"gene\\\": \\\"ENSG00000070915\\\", \\\"clinvarAccession\\\": \\\"RCV000256196\\\", \\\"alleleOrigin\\\": \\\"germline\\\"}, \\\"literature\\\": {\\\"references\\\": [{\\\"lit_id\\\": \\\"http://europepmc.org/abstract/MED/21343949\\\"}]}, \\\"access_level\\\": \\\"public\\\", \\\"variant\\\": {\\\"id\\\": \\\"http://identifiers.org/dbsnp/rs886039754\\\", \\\"type\\\": \\\"snp single\\\"}, \\\"disease\\\": {\\\"id\\\": \\\"http://www.orpha.net/ORDO/Orphanet_358\\\", \\\"name\\\": \\\"Gitelman syndrome\\\", \\\"source_name\\\": \\\"familial hypokalemia-hypomagnesemia\\\"}, \\\"sourceID\\\": \\\"eva\\\", \\\"evidence\\\": {\\\"variant2disease\\\": {\\\"resource_score\\\": {\\\"value\\\": 1e-07, \\\"type\\\": \\\"pvalue\\\", \\\"method\\\": {\\\"description\\\": \\\"Not provided by data supplier\\\"}}, \\\"evidence_codes\\\": [\\\"http://purl.obolibrary.org/obo/ECO_0000205\\\"], \\\"urls\\\": [{\\\"url\\\": \\\"http://www.ncbi.nlm.nih.gov/clinvar/RCV000256196\\\", \\\"nice_name\\\": \\\"Further details in ClinVar database\\\"}], \\\"is_associated\\\": true, \\\"unique_experiment_reference\\\": \\\"http://europepmc.org/abstract/MED/21343949\\\", \\\"provenance_type\\\": {\\\"database\\\": {\\\"id\\\": \\\"EVA\\\", \\\"dbxref\\\": {\\\"url\\\": \\\"http://identifiers.org/clinvar.record/RCV000256196\\\", \\\"id\\\": \\\"http://identifiers.org/clinvar\\\", \\\"version\\\": \\\"2017-08\\\"}, \\\"version\\\": \\\"1.0\\\"}, \\\"literature\\\": {\\\"references\\\": [{\\\"lit_id\\\": \\\"http://europepmc.org/abstract/MED/21343949\\\"}]}, \\\"expert\\\": {\\\"status\\\": true, \\\"statement\\\": \\\"Primary submitter of data\\\"}}, \\\"clinical_significance\\\": \\\"Pathogenic\\\", \\\"date_asserted\\\": \\\"2018-01-06T00:00:00\\\"}, \\\"gene2variant\\\": {\\\"resource_score\\\": {\\\"value\\\": 1e-07, \\\"type\\\": \\\"pvalue\\\", \\\"method\\\": {\\\"description\\\": \\\"Not provided by data supplier\\\"}}, \\\"evidence_codes\\\": [\\\"http://identifiers.org/eco/cttv_mapping_pipeline\\\"], \\\"functional_consequence\\\": \\\"http://purl.obolibrary.org/obo/SO_0001583\\\", \\\"urls\\\": [{\\\"url\\\": \\\"http://www.ncbi.nlm.nih.gov/clinvar/RCV000256196\\\", \\\"nice_name\\\": \\\"Further details in ClinVar database\\\"}], \\\"is_associated\\\": true, \\\"provenance_type\\\": {\\\"database\\\": {\\\"id\\\": \\\"EVA\\\", \\\"dbxref\\\": {\\\"url\\\": \\\"http://identifiers.org/clinvar.record/RCV000256196\\\", \\\"id\\\": \\\"http://identifiers.org/clinvar\\\", \\\"version\\\": \\\"2017-08\\\"}, \\\"version\\\": \\\"1.0\\\"}, \\\"expert\\\": {\\\"status\\\": true, \\\"statement\\\": \\\"Primary submitter of data\\\"}}, \\\"date_asserted\\\": \\\"2018-01-06T00:00:00\\\"}}, \\\"target\\\": {\\\"id\\\": \\\"http://identifiers.org/ensembl/ENSG00000070915\\\", \\\"target_type\\\": \\\"http://identifiers.org/cttv.target/gene_variant\\\", \\\"activity\\\": \\\"http://identifiers.org/cttv.activity/unknown\\\"}, \\\"validated_against_schema_version\\\": \\\"1.6.2\\\", \\\"type\\\": \\\"genetic_association\\\"}\"\u001b[39m,\n",
       "  \u001b[32m\"{\\\"unique_association_fields\\\": {\\\"variant_id\\\": \\\"rs121909485\\\", \\\"phenotype\\\": \\\"http://www.orpha.net/ORDO/Orphanet_168566\\\", \\\"gene\\\": \\\"ENSG00000123297\\\", \\\"clinvarAccession\\\": \\\"RCV000199000\\\", \\\"alleleOrigin\\\": \\\"germline\\\"}, \\\"access_level\\\": \\\"public\\\", \\\"variant\\\": {\\\"id\\\": \\\"http://identifiers.org/dbsnp/rs\u001b[39m..."
      ]
     },
     "execution_count": 34,
     "metadata": {},
     "output_type": "execute_result"
    }
   ],
   "source": [
    "val recs = df.head(10)\n",
    "recs.foreach { \n",
    "    r => println(RecordValidator.validate(r))\n",
    "}"
   ]
  },
  {
   "cell_type": "code",
   "execution_count": 35,
   "metadata": {},
   "outputs": [
    {
     "data": {
      "text/plain": [
       "\u001b[32mimport \u001b[39m\u001b[36morg.apache.spark.sql.functions.{udf, col}\n",
       "\u001b[39m\n",
       "\u001b[36mvalidatorUdf\u001b[39m: \u001b[32morg\u001b[39m.\u001b[32mapache\u001b[39m.\u001b[32mspark\u001b[39m.\u001b[32msql\u001b[39m.\u001b[32mexpressions\u001b[39m.\u001b[32mUserDefinedFunction\u001b[39m = \u001b[33mUserDefinedFunction\u001b[39m(\n",
       "  ammonite.$sess.cmd34$Helper$$Lambda$5951/242694224@52e067f5,\n",
       "  \u001b[33mStructType\u001b[39m(\n",
       "    \u001b[33mStructField\u001b[39m(\u001b[32m\"isValid\"\u001b[39m, BooleanType, false, {}),\n",
       "    \u001b[33mStructField\u001b[39m(\u001b[32m\"reason\"\u001b[39m, StringType, true, {}),\n",
       "    \u001b[33mStructField\u001b[39m(\u001b[32m\"error\"\u001b[39m, StringType, true, {})\n",
       "  ),\n",
       "  \u001b[32mNone\u001b[39m\n",
       ")"
      ]
     },
     "execution_count": 35,
     "metadata": {},
     "output_type": "execute_result"
    }
   ],
   "source": [
    "import org.apache.spark.sql.functions.{udf, col}\n",
    "val validatorUdf = udf((record: String) => RecordValidator.validate(record), validationResultSchema)"
   ]
  },
  {
   "cell_type": "code",
   "execution_count": 36,
   "metadata": {},
   "outputs": [
    {
     "name": "stderr",
     "output_type": "stream",
     "text": [
      "19/12/05 15:13:40 WARN ScalaReflection: Scala version 2.12.10 cannot get type nullability correctly via reflection, thus Spark cannot add proper input null check for UDF. To avoid this problem, use the typed UDF interfaces instead.\n"
     ]
    },
    {
     "data": {
      "text/html": [
       "<div>\n",
       "  <span style=\"float: left;\">show at cmd35.sc:2</span>\n",
       "</div>\n"
      ]
     },
     "metadata": {},
     "output_type": "display_data"
    },
    {
     "data": {
      "text/html": [
       "<div class=\"progress\">\n",
       "  <div class=\"progress-bar\" role=\"progressbar\" style=\"background-color: blue; width: 100%; word-wrap: normal; white-space: nowrap; text-align: center; color: white\" aria-valuenow=\"100\" aria-valuemin=\"0\" aria-valuemax=\"100\">\n",
       "    1 / 1\n",
       "  </div>\n",
       "  <div class=\"progress-bar\" role=\"progressbar\" style=\"background-color: red; width: 0%\" aria-valuenow=\"0\" aria-valuemin=\"0\" aria-valuemax=\"100\"></div>\n",
       "</div>\n"
      ]
     },
     "metadata": {},
     "output_type": "display_data"
    },
    {
     "name": "stdout",
     "output_type": "stream",
     "text": [
      "+--------------------+-------+------+-----+\n",
      "|               value|isValid|reason|error|\n",
      "+--------------------+-------+------+-----+\n",
      "|{\"unique_associat...|   true|  null| null|\n",
      "|{\"unique_associat...|   true|  null| null|\n",
      "|{\"unique_associat...|   true|  null| null|\n",
      "|{\"unique_associat...|   true|  null| null|\n",
      "|{\"unique_associat...|   true|  null| null|\n",
      "+--------------------+-------+------+-----+\n",
      "only showing top 5 rows\n",
      "\n"
     ]
    },
    {
     "data": {
      "text/plain": [
       "\u001b[36mdf2\u001b[39m: \u001b[32morg\u001b[39m.\u001b[32mapache\u001b[39m.\u001b[32mspark\u001b[39m.\u001b[32msql\u001b[39m.\u001b[32mpackage\u001b[39m.\u001b[32mDataFrame\u001b[39m = [value: string, isValid: boolean ... 2 more fields]"
      ]
     },
     "execution_count": 36,
     "metadata": {},
     "output_type": "execute_result"
    }
   ],
   "source": [
    "val df2 = df.withColumn(\"validation\", validatorUdf(col(\"value\"))).select(col(\"value\"), col(\"validation.*\"))\n",
    "df2.show(5)"
   ]
  },
  {
   "cell_type": "code",
   "execution_count": 37,
   "metadata": {},
   "outputs": [
    {
     "name": "stdout",
     "output_type": "stream",
     "text": [
      "root\n",
      " |-- value: string (nullable = true)\n",
      " |-- isValid: boolean (nullable = true)\n",
      " |-- reason: string (nullable = true)\n",
      " |-- error: string (nullable = true)\n",
      "\n"
     ]
    }
   ],
   "source": [
    "df2.printSchema"
   ]
  },
  {
   "cell_type": "code",
   "execution_count": 38,
   "metadata": {},
   "outputs": [
    {
     "data": {
      "text/html": [
       "<div>\n",
       "  <span style=\"float: left;\">json at cmd37.sc:1</span>\n",
       "</div>\n"
      ]
     },
     "metadata": {},
     "output_type": "display_data"
    },
    {
     "data": {
      "text/html": [
       "<div class=\"progress\">\n",
       "  <div class=\"progress-bar\" role=\"progressbar\" style=\"background-color: blue; width: 100%; word-wrap: normal; white-space: nowrap; text-align: center; color: white\" aria-valuenow=\"100\" aria-valuemin=\"0\" aria-valuemax=\"100\">\n",
       "    1 / 1\n",
       "  </div>\n",
       "  <div class=\"progress-bar\" role=\"progressbar\" style=\"background-color: red; width: 0%\" aria-valuenow=\"0\" aria-valuemin=\"0\" aria-valuemax=\"100\"></div>\n",
       "</div>\n"
      ]
     },
     "metadata": {},
     "output_type": "display_data"
    },
    {
     "data": {
      "text/plain": [
       "\u001b[36mdf3\u001b[39m: \u001b[32morg\u001b[39m.\u001b[32mapache\u001b[39m.\u001b[32mspark\u001b[39m.\u001b[32msql\u001b[39m.\u001b[32mpackage\u001b[39m.\u001b[32mDataFrame\u001b[39m = [access_level: string, disease: struct<id: string, name: string ... 1 more field> ... 8 more fields]"
      ]
     },
     "execution_count": 38,
     "metadata": {},
     "output_type": "execute_result"
    }
   ],
   "source": [
    "val df3 = ss.read.json(df2.select(\"value\").rdd.map(r => r.getAs[String](0)))"
   ]
  },
  {
   "cell_type": "code",
   "execution_count": 40,
   "metadata": {},
   "outputs": [
    {
     "data": {
      "text/html": [
       "<div>\n",
       "  <span style=\"float: left;\">count at cmd39.sc:1</span>\n",
       "</div>\n"
      ]
     },
     "metadata": {},
     "output_type": "display_data"
    },
    {
     "data": {
      "text/html": [
       "<div class=\"progress\">\n",
       "  <div class=\"progress-bar\" role=\"progressbar\" style=\"background-color: blue; width: 100%; word-wrap: normal; white-space: nowrap; text-align: center; color: white\" aria-valuenow=\"100\" aria-valuemin=\"0\" aria-valuemax=\"100\">\n",
       "    1 / 1\n",
       "  </div>\n",
       "  <div class=\"progress-bar\" role=\"progressbar\" style=\"background-color: red; width: 0%\" aria-valuenow=\"0\" aria-valuemin=\"0\" aria-valuemax=\"100\"></div>\n",
       "</div>\n"
      ]
     },
     "metadata": {},
     "output_type": "display_data"
    },
    {
     "data": {
      "text/html": [
       "<div>\n",
       "  <span style=\"float: left;\">count at cmd39.sc:1</span>\n",
       "</div>\n"
      ]
     },
     "metadata": {},
     "output_type": "display_data"
    },
    {
     "data": {
      "text/html": [
       "<div class=\"progress\">\n",
       "  <div class=\"progress-bar\" role=\"progressbar\" style=\"background-color: blue; width: 100%; word-wrap: normal; white-space: nowrap; text-align: center; color: white\" aria-valuenow=\"100\" aria-valuemin=\"0\" aria-valuemax=\"100\">\n",
       "    1 / 1\n",
       "  </div>\n",
       "  <div class=\"progress-bar\" role=\"progressbar\" style=\"background-color: red; width: 0%\" aria-valuenow=\"0\" aria-valuemin=\"0\" aria-valuemax=\"100\"></div>\n",
       "</div>\n"
      ]
     },
     "metadata": {},
     "output_type": "display_data"
    },
    {
     "data": {
      "text/plain": [
       "\u001b[36mres39\u001b[39m: \u001b[32mLong\u001b[39m = \u001b[32m111247L\u001b[39m"
      ]
     },
     "execution_count": 40,
     "metadata": {},
     "output_type": "execute_result"
    }
   ],
   "source": [
    "df3.count()"
   ]
  },
  {
   "cell_type": "code",
   "execution_count": 39,
   "metadata": {},
   "outputs": [
    {
     "name": "stdout",
     "output_type": "stream",
     "text": [
      "root\n",
      " |-- access_level: string (nullable = true)\n",
      " |-- disease: struct (nullable = true)\n",
      " |    |-- id: string (nullable = true)\n",
      " |    |-- name: string (nullable = true)\n",
      " |    |-- source_name: string (nullable = true)\n",
      " |-- evidence: struct (nullable = true)\n",
      " |    |-- clinical_significance: string (nullable = true)\n",
      " |    |-- date_asserted: string (nullable = true)\n",
      " |    |-- evidence_codes: array (nullable = true)\n",
      " |    |    |-- element: string (containsNull = true)\n",
      " |    |-- gene2variant: struct (nullable = true)\n",
      " |    |    |-- date_asserted: string (nullable = true)\n",
      " |    |    |-- evidence_codes: array (nullable = true)\n",
      " |    |    |    |-- element: string (containsNull = true)\n",
      " |    |    |-- functional_consequence: string (nullable = true)\n",
      " |    |    |-- is_associated: boolean (nullable = true)\n",
      " |    |    |-- provenance_type: struct (nullable = true)\n",
      " |    |    |    |-- database: struct (nullable = true)\n",
      " |    |    |    |    |-- dbxref: struct (nullable = true)\n",
      " |    |    |    |    |    |-- id: string (nullable = true)\n",
      " |    |    |    |    |    |-- url: string (nullable = true)\n",
      " |    |    |    |    |    |-- version: string (nullable = true)\n",
      " |    |    |    |    |-- id: string (nullable = true)\n",
      " |    |    |    |    |-- version: string (nullable = true)\n",
      " |    |    |    |-- expert: struct (nullable = true)\n",
      " |    |    |    |    |-- statement: string (nullable = true)\n",
      " |    |    |    |    |-- status: boolean (nullable = true)\n",
      " |    |    |-- resource_score: struct (nullable = true)\n",
      " |    |    |    |-- method: struct (nullable = true)\n",
      " |    |    |    |    |-- description: string (nullable = true)\n",
      " |    |    |    |-- type: string (nullable = true)\n",
      " |    |    |    |-- value: double (nullable = true)\n",
      " |    |    |-- urls: array (nullable = true)\n",
      " |    |    |    |-- element: struct (containsNull = true)\n",
      " |    |    |    |    |-- nice_name: string (nullable = true)\n",
      " |    |    |    |    |-- url: string (nullable = true)\n",
      " |    |-- is_associated: boolean (nullable = true)\n",
      " |    |-- known_mutations: array (nullable = true)\n",
      " |    |    |-- element: struct (containsNull = true)\n",
      " |    |    |    |-- functional_consequence: string (nullable = true)\n",
      " |    |    |    |-- preferred_name: string (nullable = true)\n",
      " |    |-- provenance_type: struct (nullable = true)\n",
      " |    |    |-- database: struct (nullable = true)\n",
      " |    |    |    |-- dbxref: struct (nullable = true)\n",
      " |    |    |    |    |-- id: string (nullable = true)\n",
      " |    |    |    |    |-- url: string (nullable = true)\n",
      " |    |    |    |    |-- version: string (nullable = true)\n",
      " |    |    |    |-- id: string (nullable = true)\n",
      " |    |    |    |-- version: string (nullable = true)\n",
      " |    |    |-- expert: struct (nullable = true)\n",
      " |    |    |    |-- statement: string (nullable = true)\n",
      " |    |    |    |-- status: boolean (nullable = true)\n",
      " |    |    |-- literature: struct (nullable = true)\n",
      " |    |    |    |-- references: array (nullable = true)\n",
      " |    |    |    |    |-- element: struct (containsNull = true)\n",
      " |    |    |    |    |    |-- lit_id: string (nullable = true)\n",
      " |    |-- resource_score: struct (nullable = true)\n",
      " |    |    |-- type: string (nullable = true)\n",
      " |    |    |-- value: long (nullable = true)\n",
      " |    |-- urls: array (nullable = true)\n",
      " |    |    |-- element: struct (containsNull = true)\n",
      " |    |    |    |-- nice_name: string (nullable = true)\n",
      " |    |    |    |-- url: string (nullable = true)\n",
      " |    |-- variant2disease: struct (nullable = true)\n",
      " |    |    |-- clinical_significance: string (nullable = true)\n",
      " |    |    |-- date_asserted: string (nullable = true)\n",
      " |    |    |-- evidence_codes: array (nullable = true)\n",
      " |    |    |    |-- element: string (containsNull = true)\n",
      " |    |    |-- is_associated: boolean (nullable = true)\n",
      " |    |    |-- provenance_type: struct (nullable = true)\n",
      " |    |    |    |-- database: struct (nullable = true)\n",
      " |    |    |    |    |-- dbxref: struct (nullable = true)\n",
      " |    |    |    |    |    |-- id: string (nullable = true)\n",
      " |    |    |    |    |    |-- url: string (nullable = true)\n",
      " |    |    |    |    |    |-- version: string (nullable = true)\n",
      " |    |    |    |    |-- id: string (nullable = true)\n",
      " |    |    |    |    |-- version: string (nullable = true)\n",
      " |    |    |    |-- expert: struct (nullable = true)\n",
      " |    |    |    |    |-- statement: string (nullable = true)\n",
      " |    |    |    |    |-- status: boolean (nullable = true)\n",
      " |    |    |    |-- literature: struct (nullable = true)\n",
      " |    |    |    |    |-- references: array (nullable = true)\n",
      " |    |    |    |    |    |-- element: struct (containsNull = true)\n",
      " |    |    |    |    |    |    |-- lit_id: string (nullable = true)\n",
      " |    |    |-- resource_score: struct (nullable = true)\n",
      " |    |    |    |-- method: struct (nullable = true)\n",
      " |    |    |    |    |-- description: string (nullable = true)\n",
      " |    |    |    |-- type: string (nullable = true)\n",
      " |    |    |    |-- value: double (nullable = true)\n",
      " |    |    |-- unique_experiment_reference: string (nullable = true)\n",
      " |    |    |-- urls: array (nullable = true)\n",
      " |    |    |    |-- element: struct (containsNull = true)\n",
      " |    |    |    |    |-- nice_name: string (nullable = true)\n",
      " |    |    |    |    |-- url: string (nullable = true)\n",
      " |-- literature: struct (nullable = true)\n",
      " |    |-- references: array (nullable = true)\n",
      " |    |    |-- element: struct (containsNull = true)\n",
      " |    |    |    |-- lit_id: string (nullable = true)\n",
      " |-- sourceID: string (nullable = true)\n",
      " |-- target: struct (nullable = true)\n",
      " |    |-- activity: string (nullable = true)\n",
      " |    |-- id: string (nullable = true)\n",
      " |    |-- target_type: string (nullable = true)\n",
      " |-- type: string (nullable = true)\n",
      " |-- unique_association_fields: struct (nullable = true)\n",
      " |    |-- alleleOrigin: string (nullable = true)\n",
      " |    |-- clinvarAccession: string (nullable = true)\n",
      " |    |-- gene: string (nullable = true)\n",
      " |    |-- phenotype: string (nullable = true)\n",
      " |    |-- variant_id: string (nullable = true)\n",
      " |-- validated_against_schema_version: string (nullable = true)\n",
      " |-- variant: struct (nullable = true)\n",
      " |    |-- id: string (nullable = true)\n",
      " |    |-- type: string (nullable = true)\n",
      "\n"
     ]
    }
   ],
   "source": [
    "df3.printSchema"
   ]
  }
 ],
 "metadata": {
  "kernelspec": {
   "display_name": "Scala",
   "language": "scala",
   "name": "scala"
  },
  "language_info": {
   "codemirror_mode": "text/x-scala",
   "file_extension": ".scala",
   "mimetype": "text/x-scala",
   "name": "scala",
   "nbconvert_exporter": "script",
   "version": "2.12.10"
  }
 },
 "nbformat": 4,
 "nbformat_minor": 4
}
