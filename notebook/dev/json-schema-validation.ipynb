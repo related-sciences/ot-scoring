{
 "cells": [
  {
   "cell_type": "code",
   "execution_count": 1,
   "metadata": {},
   "outputs": [],
   "source": [
    "// Found at https://gitter.im/almond-sh/almond?at=5d531bf1a4efe3718df8a947\n",
    "interp.repositories() ++= Seq(coursierapi.MavenRepository.of(\"https://jitpack.io\"))\n",
    "import $ivy.`com.github.everit-org.json-schema:org.everit.json.schema:1.12.0`"
   ]
  },
  {
   "cell_type": "code",
   "execution_count": 13,
   "metadata": {},
   "outputs": [
    {
     "data": {
      "text/plain": [
       "\u001b[32mimport \u001b[39m\u001b[36morg.everit.json.schema.Schema\n",
       "\u001b[39m\n",
       "\u001b[32mimport \u001b[39m\u001b[36morg.everit.json.schema.loader.SchemaLoader\n",
       "\u001b[39m\n",
       "\u001b[32mimport \u001b[39m\u001b[36morg.json.JSONObject\n",
       "\u001b[39m\n",
       "\u001b[32mimport \u001b[39m\u001b[36morg.json.JSONTokener\n",
       "\u001b[39m\n",
       "\u001b[32mimport \u001b[39m\u001b[36morg.everit.json.schema.ValidationException\u001b[39m"
      ]
     },
     "execution_count": 13,
     "metadata": {},
     "output_type": "execute_result"
    }
   ],
   "source": [
    "import org.everit.json.schema.Schema\n",
    "import org.everit.json.schema.loader.SchemaLoader\n",
    "import org.json.JSONObject\n",
    "import org.json.JSONTokener\n",
    "import org.everit.json.schema.ValidationException"
   ]
  },
  {
   "cell_type": "code",
   "execution_count": 31,
   "metadata": {},
   "outputs": [
    {
     "data": {
      "text/plain": [
       "\u001b[32mimport \u001b[39m\u001b[36mjava.net.URL\n",
       "\u001b[39m\n",
       "\u001b[32mimport \u001b[39m\u001b[36mjava.io.File\n",
       "//val url = new URL(\"https://raw.githubusercontent.com/opentargets/json_schema/master/opentargets.json\")\n",
       "\u001b[39m\n",
       "\u001b[36murl\u001b[39m: \u001b[32mURL\u001b[39m = file:/home/eczech/repos/ot-scoring/opentargets-test.json"
      ]
     },
     "execution_count": 31,
     "metadata": {},
     "output_type": "execute_result"
    }
   ],
   "source": [
    "import java.net.URL\n",
    "import java.io.File\n",
    "//val url = new URL(\"https://raw.githubusercontent.com/opentargets/json_schema/master/opentargets.json\")\n",
    "val url = new File(\"/home/eczech/repos/ot-scoring/opentargets-test.json\").toURI.toURL"
   ]
  },
  {
   "cell_type": "code",
   "execution_count": 32,
   "metadata": {},
   "outputs": [
    {
     "data": {
      "text/plain": [
       "\u001b[36mstream\u001b[39m: \u001b[32mjava\u001b[39m.\u001b[32mio\u001b[39m.\u001b[32mInputStream\u001b[39m = java.io.BufferedInputStream@77051174"
      ]
     },
     "execution_count": 32,
     "metadata": {},
     "output_type": "execute_result"
    }
   ],
   "source": [
    "val stream = url.openStream()"
   ]
  },
  {
   "cell_type": "code",
   "execution_count": 33,
   "metadata": {},
   "outputs": [
    {
     "data": {
      "text/plain": [
       "\u001b[36mrawSchema\u001b[39m: \u001b[32mJSONObject\u001b[39m = {\"oneOf\":[{\"properties\":{\"evidence\":{\"allOf\":[{\"$ref\":\"#/definitions/evidence_base\"}],\"properties\":{\"reference_sample\":{\"description\":\"Free text - reference sample\",\"type\":\"string\"},\"test_replicates_n\":{\"description\":\"Count of test replicates\",\"type\":\"number\",\"minimum\":1},\"organism_part\":{\"type\":\"string\"},\"log2_fold_change\":{\"type\":\"object\",\"properties\":{\"percentile_rank\":{\"maximum\":100,\"type\":\"number\",\"minimum\":0},\"value\":{\"type\":\"number\"}},\"required\":[\"value\",\"percentile_rank\"]},\"reference_replicates_n\":{\"description\":\"Count of reference replicates\",\"type\":\"number\",\"minimum\":1},\"urls\":{\"uniqueItems\":true,\"type\":\"array\",\"items\":{\"type\":\"object\",\"$ref\":\"#/definitions/linkout\"}},\"comparison_name\":{\"type\":\"string\"},\"experiment_overview\":{\"type\":\"string\"},\"confidence_level\":{\"description\":\"high = if the disease state is the only variable (i.e. case vs control); medium = if the disease is a variable but there is one or more other variables; low = where all samples have the disease but the variable is something else e.g. a treatment\",\"type\":\"string\",\"enum\":[\"high\",\"medium\",\"low\"]},\"evidence_codes\":{\"minItems\":1,\"uniqueItems\":true,\"description\":\"An array of evidence codes\",\"type\":\"array\",\"items\":{\"type\":\"string\"}},\"test_sample\":{\"description\":\"Free text - test sample\",\"type\":\"string\"}},\"required\":[\"evidence_codes\",\"comparison_name\",\"log2_fold_change\",\"test_sample\",\"reference_sample\",\"experiment_overview\",\"test_replicates_n\",\"reference_replicates_n\",\"confidence_level\",\"resource_score\"]},\"type\":{\"const\":\"rna_expression\"}},\"required\":[\"type\",\"evidence\"]},{\"properties\":{\"evidence\":{\"properties\":{\"drug2clinic\":{\"allOf\":[{\"$ref\":\"#/definitions/evidence_base\"}],\"type\":\"object\",\"properties\":{\"clinical_trial_phase\":{\"type\":\"object\",\"$ref\":\"#/definitions/diseasephase\"},\"urls\":{\"uniqueItems\":true,\"type\":\"array\",\"items\":{\"type\":\"object\",\"$ref\":\"#/definitions/linkout\"}},\"evidence_codes\":{\"minItems\":1,\"uniqueItems\":true,\"description\":\"An array of evidence codes\",\"type\":\"array\",\"items\":{\"type\":\"string\"}},\"status\":{\"type\":\"string\"}},\"required\":[\"resource_score\",\"provenance_type\",\"is_associated\",\"date_asserted\",\"evidence_codes\",\"clinical_trial_phase\"]},\"target2drug\":{\"allOf\":[{\"$ref\":\"#/definitions/evidence_base\"}],\"type\":\"object\",\"properties\":{\"urls\":{\"uniqueItems\":true,\"type\":\"array\",\"items\":{\"type\":\"object\",\"$ref\":\"#/definitions/linkout\"}},\"mechanism_of_action\":{\"type\":\"string\"},\"action_type\":{\"type\":\"string\"},\"evidence_codes\":{\"minItems\":1,\"uniqueItems\":true,\"description\":\"An array of evidence codes\",\"type\":\"array\",\"items\":{\"type\":\"string\"}}},\"required\":[\"resource_score\",\"provenance_type\",\"is_associated\",\"date_asserted\",\"evidence_codes\",\"mechanism_of_action\",\"action_type\"]}},\"required\":[\"target2drug\",\"drug2clinic\"]},\"type\":{\"const\":\"known_drug\"},\"drug\":{\"type\":\"object\",\"properties\":{\"molecule_type\":{\"type\":\"string\"},\"molecule_name\":{\"type\":\"string\"},\"id\":{\"pattern\":\"^http://identifiers.org/chembl.compound/CHEMBL[0-9]+$|^http://private/.+$\",\"description\":\"A ChEMBL or internal drug identifier\",\"type\":\"string\"}},\"required\":[\"id\",\"molecule_name\",\"molecule_type\"]},\"target\":{\"properties\":...\n",
       "\u001b[36mschema\u001b[39m: \u001b[32mSchema\u001b[39m = {\"title\":\"OpenTargets\",\"description\":\"OpenTargets evidence objects\",\"nullable\":false,\"$schema\":\"http://json-schema.org/draft-07/schema#\",\"definitions\":{\"phenotype\":{\"type\":\"object\",\"properties\":{\"species\":{\"type\":\"string\",\"enum\":[\"mouse\",\"human\",\"rat\",\"zebrafish\",\"dog\"]},\"term_id\":{\"pattern\":\"^http://purl.obolibrary.org/obo/HP_[0-9]{4,}||http://purl.obolibrary.org/obo/MP_[0-9]{4,}$\",\"type\":\"string\",\"description\":\"Phenotype term Identifier from HPO/MP\"},\"label\":{\"type\":\"string\",\"description\":\"Phenotype term label\"}},\"required\":[\"id\",\"term_id\",\"label\",\"species\"]},\"score_summed_total\":{\"type\":\"object\",\"properties\":{\"method\":{\"type\":\"object\",\"$ref\":\"#/definitions/score_method\"},\"type\":{\"type\":\"string\",\"enum\":[\"summed_total\"]},\"value\":{\"type\":\"number\",\"exclusiveMinimum\":0}},\"required\":[\"value\",\"type\"]},\"score_method\":{\"type\":\"object\",\"properties\":{\"reference\":{\"pattern\":\"http://europepmc.org/abstract/MED/[0-9]+|http://europepmc.org/articles/PMC[0-9]{4,}$\",\"type\":\"string\",\"description\":\"Note for pubmed identifiers, use the URI http://europepmc.org/abstract/MED/[0-9]+\"},\"description\":{\"type\":\"string\"},\"url\":{\"format\":\"uri\",\"type\":\"string\"}}},\"evidence_base\":{\"type\":\"object\",\"properties\":{\"is_associated\":{\"type\":\"boolean\"},\"date_asserted\":{\"type\":\"string\",\"description\":\"date the evidence was made public\"},\"provenance_type\":{\"type\":\"object\",\"properties\":{\"literature\":{\"type\":\"object\",\"properties\":{\"references\":{\"minItems\":1,\"type\":\"array\",\"items\":{\"type\":\"object\",\"$ref\":\"#/definitions/single_lit_reference\"},\"uniqueItems\":true}},\"required\":[\"references\"]},\"expert\":{\"type\":\"object\",\"properties\":{\"statement\":{\"type\":\"string\"},\"author\":{\"type\":\"object\",\"properties\":{\"name\":{\"type\":\"string\"},\"email\":{\"format\":\"email\",\"type\":\"string\"},\"organization\":{\"type\":\"string\"}}},\"status\":{\"type\":\"boolean\"}},\"required\":[\"status\"]},\"database\":{\"type\":\"object\",\"properties\":{\"dbxref\":{\"type\":\"object\",\"properties\":{\"version\":{\"type\":\"string\"},\"url\":{\"format\":\"uri\",\"type\":\"string\",\"description\":\"Please provide a pointer to the original resource: e.g. http://identifiers.org/orphanet/93298\"},\"id\":{\"type\":\"string\",\"description\":\"Please provide the original DB name\"}},\"required\":[\"id\",\"version\"]},\"version\":{\"type\":\"string\"},\"id\":{\"type\":\"string\"}},\"required\":[\"id\",\"version\"]}}},\"unique_experiment_reference\":{\"pattern\":\"http://europepmc.org/abstract/MED/[0-9]+|http://europepmc.org/articles/PMC[0-9]{4,}|[doi|DOI|https://dx.doi.org/]*[\\\\s\\\\.\\\\:]{0,2}(10[.][0-9]{4,}(?:[.][0-9]+)*/(?:(?![\\\\\\\"&\\\\'])\\\\S)+)|STUDYID_.+$\",\"type\":\"string\",\"description\":\"A unique experiment identifier or literature reference that uniquely identifies the study in your database\"},\"resource_score\":{\"type\":\"object\",\"oneOf\":[{\"$ref\":\"#/definitions/score_pvalue\"},{\"$ref\":\"#/definitions/score_probability\"},{\"$ref\":\"#/definitions/score_rank\"},{\"$ref\":\"#/definitions/score_summed_total\"}]}},\"required\":[\"provenance_type\",\"is_associated\",\"date_asserted\"]},\"score_probability\":{\"type\":\"object\",\"properties\":{\"method\":{\"type\":\"object\",\"$ref\":\"#/definitions/score_method\"},\"type\":{\"type\":\"string\",\"enum\":[\"probability\"]},\"value\":{\"type\":\"number\"..."
      ]
     },
     "execution_count": 33,
     "metadata": {},
     "output_type": "execute_result"
    }
   ],
   "source": [
    "val rawSchema = new JSONObject(new JSONTokener(stream))\n",
    "val schema = SchemaLoader.builder()\n",
    "    .nullableSupport(true).schemaJson(rawSchema).build().load().build()"
   ]
  },
  {
   "cell_type": "code",
   "execution_count": 8,
   "metadata": {},
   "outputs": [
    {
     "name": "stdout",
     "output_type": "stream",
     "text": [
      "Compiling /home/eczech/repos/ot-scoring/notebook/SparkInit.scLoading spark-stubs\n",
      "Creating SparkSession\n"
     ]
    },
    {
     "name": "stderr",
     "output_type": "stream",
     "text": [
      "Using Spark's default log4j profile: org/apache/spark/log4j-defaults.properties\n",
      "19/12/04 22:52:20 WARN NativeCodeLoader: Unable to load native-hadoop library for your platform... using builtin-java classes where applicable\n"
     ]
    },
    {
     "data": {
      "text/html": [
       "<a target=\"_blank\" href=\"http://edbefad6dc42:4042\">Spark UI</a>"
      ]
     },
     "metadata": {},
     "output_type": "display_data"
    },
    {
     "data": {
      "text/plain": [
       "\u001b[32mimport \u001b[39m\u001b[36m$file.$          , SparkInit._\n",
       "\u001b[39m\n",
       "\u001b[32mimport \u001b[39m\u001b[36mjava.nio.file.Paths\n",
       "\u001b[39m\n",
       "\u001b[36minput_dir\u001b[39m: \u001b[32mjava\u001b[39m.\u001b[32mnio\u001b[39m.\u001b[32mfile\u001b[39m.\u001b[32mPath\u001b[39m = /home/eczech/data/ot/import/evidence-files\n",
       "\u001b[36mdf\u001b[39m: \u001b[32morg\u001b[39m.\u001b[32mapache\u001b[39m.\u001b[32mspark\u001b[39m.\u001b[32msql\u001b[39m.\u001b[32mDataset\u001b[39m[\u001b[32mString\u001b[39m] = [value: string]"
      ]
     },
     "execution_count": 8,
     "metadata": {},
     "output_type": "execute_result"
    }
   ],
   "source": [
    "import $file.^.SparkInit, SparkInit._\n",
    "import java.nio.file.Paths\n",
    "val input_dir = Paths.get(System.getProperty(\"user.home\"), \"data\", \"ot\", \"import\", \"evidence-files\")\n",
    "val df = ss.read.textFile(input_dir.toString())"
   ]
  },
  {
   "cell_type": "code",
   "execution_count": 25,
   "metadata": {},
   "outputs": [
    {
     "data": {
      "text/html": [
       "<div>\n",
       "  <span style=\"float: left;\">head at cmd24.sc:1</span>\n",
       "</div>\n"
      ]
     },
     "metadata": {},
     "output_type": "display_data"
    },
    {
     "data": {
      "text/html": [
       "<div class=\"progress\">\n",
       "  <div class=\"progress-bar\" role=\"progressbar\" style=\"background-color: blue; width: 100%; word-wrap: normal; white-space: nowrap; text-align: center; color: white\" aria-valuenow=\"100\" aria-valuemin=\"0\" aria-valuemax=\"100\">\n",
       "    1 / 1\n",
       "  </div>\n",
       "  <div class=\"progress-bar\" role=\"progressbar\" style=\"background-color: red; width: 0%\" aria-valuenow=\"0\" aria-valuemin=\"0\" aria-valuemax=\"100\"></div>\n",
       "</div>\n"
      ]
     },
     "metadata": {},
     "output_type": "display_data"
    },
    {
     "name": "stdout",
     "output_type": "stream",
     "text": [
      "{\"unique_association_fields\": {\"variant_id\": \"rs370088722\", \"phenotype\": \"http://www.ebi.ac.uk/efo/EFO_0001063\", \"gene\": \"ENSG00000165091\", \"clinvarAccession\": \"RCV000225031\", \"alleleOrigin\": \"germline\"}, \"literature\": {\"references\": [{\"lit_id\": \"http://europepmc.org/abstract/MED/20301607\"}]}, \"access_level\": \"public\", \"variant\": {\"id\": \"http://identifiers.org/dbsnp/rs370088722\", \"type\": \"snp single\"}, \"disease\": {\"id\": \"http://www.ebi.ac.uk/efo/EFO_0001063\", \"name\": \"deafness\", \"source_name\": \"deafness, autosomal recessive 7\"}, \"sourceID\": \"eva\", \"evidence\": {\"variant2disease\": {\"resource_score\": {\"value\": 1e-07, \"type\": \"pvalue\", \"method\": {\"description\": \"Not provided by data supplier\"}}, \"evidence_codes\": [\"http://purl.obolibrary.org/obo/ECO_0000205\"], \"urls\": [{\"url\": \"http://www.ncbi.nlm.nih.gov/clinvar/RCV000225031\", \"nice_name\": \"Further details in ClinVar database\"}], \"is_associated\": true, \"unique_experiment_reference\": \"http://europepmc.org/abstract/MED/20301607\", \"provenance_type\": {\"database\": {\"id\": \"EVA\", \"dbxref\": {\"url\": \"http://identifiers.org/clinvar.record/RCV000225031\", \"id\": \"http://identifiers.org/clinvar\", \"version\": \"2017-08\"}, \"version\": \"1.0\"}, \"literature\": {\"references\": [{\"lit_id\": \"http://europepmc.org/abstract/MED/20301607\"}]}, \"expert\": {\"status\": true, \"statement\": \"Primary submitter of data\"}}, \"clinical_significance\": \"Pathogenic\", \"date_asserted\": \"2018-12-23T00:00:00\"}, \"gene2variant\": {\"resource_score\": {\"value\": 1e-07, \"type\": \"pvalue\", \"method\": {\"description\": \"Not provided by data supplier\"}}, \"evidence_codes\": [\"http://identifiers.org/eco/cttv_mapping_pipeline\"], \"functional_consequence\": \"http://purl.obolibrary.org/obo/SO_0001583\", \"urls\": [{\"url\": \"http://www.ncbi.nlm.nih.gov/clinvar/RCV000225031\", \"nice_name\": \"Further details in ClinVar database\"}], \"is_associated\": true, \"provenance_type\": {\"database\": {\"id\": \"EVA\", \"dbxref\": {\"url\": \"http://identifiers.org/clinvar.record/RCV000225031\", \"id\": \"http://identifiers.org/clinvar\", \"version\": \"2017-08\"}, \"version\": \"1.0\"}, \"expert\": {\"status\": true, \"statement\": \"Primary submitter of data\"}}, \"date_asserted\": \"2018-12-23T00:00:00\"}}, \"target\": {\"id\": \"http://identifiers.org/ensembl/ENSG00000165091\", \"target_type\": \"http://identifiers.org/cttv.target/gene_variant\", \"activity\": \"http://identifiers.org/cttv.activity/unknown\"}, \"validated_against_schema_version\": \"1.6.2\", \"type\": \"genetic_association\"}\n"
     ]
    },
    {
     "data": {
      "text/plain": [
       "\u001b[36mrec\u001b[39m: \u001b[32mString\u001b[39m = \u001b[32m\"{\\\"unique_association_fields\\\": {\\\"variant_id\\\": \\\"rs370088722\\\", \\\"phenotype\\\": \\\"http://www.ebi.ac.uk/efo/EFO_0001063\\\", \\\"gene\\\": \\\"ENSG00000165091\\\", \\\"clinvarAccession\\\": \\\"RCV000225031\\\", \\\"alleleOrigin\\\": \\\"germline\\\"}, \\\"literature\\\": {\\\"references\\\": [{\\\"lit_id\\\": \\\"http://europepmc.org/abstract/MED/20301607\\\"}]}, \\\"access_level\\\": \\\"public\\\", \\\"variant\\\": {\\\"id\\\": \\\"http://identifiers.org/dbsnp/rs370088722\\\", \\\"type\\\": \\\"snp single\\\"}, \\\"disease\\\": {\\\"id\\\": \\\"http://www.ebi.ac.uk/efo/EFO_0001063\\\", \\\"name\\\": \\\"deafness\\\", \\\"source_name\\\": \\\"deafness, autosomal recessive 7\\\"}, \\\"sourceID\\\": \\\"eva\\\", \\\"evidence\\\": {\\\"variant2disease\\\": {\\\"resource_score\\\": {\\\"value\\\": 1e-07, \\\"type\\\": \\\"pvalue\\\", \\\"method\\\": {\\\"description\\\": \\\"Not provided by data supplier\\\"}}, \\\"evidence_codes\\\": [\\\"http://purl.obolibrary.org/obo/ECO_0000205\\\"], \\\"urls\\\": [{\\\"url\\\": \\\"http://www.ncbi.nlm.nih.gov/clinvar/RCV000225031\\\", \\\"nice_name\\\": \\\"Further details in ClinVar database\\\"}], \\\"is_associated\\\": true, \\\"unique_experiment_reference\\\": \\\"http://europepmc.org/abstract/MED/20301607\\\", \\\"provenance_type\\\": {\\\"database\\\": {\\\"id\\\": \\\"EVA\\\", \\\"dbxref\\\": {\\\"url\\\": \\\"http://identifiers.org/clinvar.record/RCV000225031\\\", \\\"id\\\": \\\"http://identifiers.org/clinvar\\\", \\\"version\\\": \\\"2017-08\\\"}, \\\"version\\\": \\\"1.0\\\"}, \\\"literature\\\": {\\\"references\\\": [{\\\"lit_id\\\": \\\"http://europepmc.org/abstract/MED/20301607\\\"}]}, \\\"expert\\\": {\\\"status\\\": true, \\\"statement\\\": \\\"Primary submitter of data\\\"}}, \\\"clinical_significance\\\": \\\"Pathogenic\\\", \\\"date_asserted\\\": \\\"2018-12-23T00:00:00\\\"}, \\\"gene2variant\\\": {\\\"resource_score\\\": {\\\"value\\\": 1e-07, \\\"type\\\": \\\"pvalue\\\", \\\"method\\\": {\\\"description\\\": \\\"Not provided by data supplier\\\"}}, \\\"evidence_codes\\\": [\\\"http://identifiers.org/eco/cttv_mapping_pipeline\\\"], \\\"functional_consequence\\\": \\\"http://purl.obolibrary.org/obo/SO_0001583\\\", \\\"urls\\\": [{\\\"url\\\": \\\"http://www.ncbi.nlm.nih.gov/clinvar/RCV000225031\\\", \\\"nice_name\\\": \\\"Further details in ClinVar database\\\"}], \\\"is_associated\\\": true, \\\"provenance_type\\\": {\\\"database\\\": {\\\"id\\\": \\\"EVA\\\", \\\"dbxref\\\": {\\\"url\\\": \\\"http://identifiers.org/clinvar.record/RCV000225031\\\", \\\"id\\\": \\\"http://identifiers.org/clinvar\\\", \\\"version\\\": \\\"2017-08\\\"}, \\\"version\\\": \\\"1.0\\\"}, \\\"expert\\\": {\\\"status\\\": true, \\\"statement\\\": \\\"Primary submitter of data\\\"}}, \\\"date_asserted\\\": \\\"2018-12-23T00:00:00\\\"}}, \\\"target\\\": {\\\"id\\\": \\\"http://identifiers.org/ensembl/ENSG00000165091\\\", \\\"target_type\\\": \\\"http://identifiers.org/cttv.target/gene_variant\\\", \\\"activity\\\": \\\"http://identifiers.org/cttv.activity/unknown\\\"}, \\\"validated_against_schema_version\\\": \\\"1.6.2\\\", \\\"type\\\": \\\"genetic_association\\\"}\"\u001b[39m"
      ]
     },
     "execution_count": 25,
     "metadata": {},
     "output_type": "execute_result"
    }
   ],
   "source": [
    "val rec = df.head(10)(2)\n",
    "println(rec)"
   ]
  },
  {
   "cell_type": "code",
   "execution_count": 34,
   "metadata": {},
   "outputs": [
    {
     "data": {
      "text/plain": [
       "\u001b[32mimport \u001b[39m\u001b[36morg.everit.json.schema.Validator\n",
       "\u001b[39m\n",
       "\u001b[36mvalidator\u001b[39m: \u001b[32mValidator\u001b[39m = org.everit.json.schema.DefaultValidator@2c42b60d"
      ]
     },
     "execution_count": 34,
     "metadata": {},
     "output_type": "execute_result"
    }
   ],
   "source": [
    "import org.everit.json.schema.Validator\n",
    "val validator = Validator.builder()\n",
    ".failEarly()\n",
    ".build()"
   ]
  },
  {
   "cell_type": "code",
   "execution_count": 35,
   "metadata": {},
   "outputs": [],
   "source": [
    "try {\n",
    "    validator.performValidation(schema, new JSONObject(rec))\n",
    "} catch {\n",
    "    case e: ValidationException => println(e.toJSON())\n",
    "}"
   ]
  },
  {
   "cell_type": "code",
   "execution_count": 21,
   "metadata": {},
   "outputs": [
    {
     "ename": "",
     "evalue": "",
     "output_type": "error",
     "traceback": [
      "\u001b[31morg.everit.json.schema.ValidationException: #: #: only 1 subschema matches out of 2\u001b[39m\n  org.everit.json.schema.ValidationException.copy(\u001b[32mValidationException.java\u001b[39m:\u001b[32m486\u001b[39m)\n  org.everit.json.schema.DefaultValidator.performValidation(\u001b[32mValidator.java\u001b[39m:\u001b[32m73\u001b[39m)\n  org.everit.json.schema.Schema.validate(\u001b[32mSchema.java\u001b[39m:\u001b[32m152\u001b[39m)\n  ammonite.$sess.cmd20$Helper.<init>(\u001b[32mcmd20.sc\u001b[39m:\u001b[32m1\u001b[39m)\n  ammonite.$sess.cmd20$.<init>(\u001b[32mcmd20.sc\u001b[39m:\u001b[32m7\u001b[39m)\n  ammonite.$sess.cmd20$.<clinit>(\u001b[32mcmd20.sc\u001b[39m:\u001b[32m-1\u001b[39m)"
     ]
    }
   ],
   "source": [
    "schema.validate(new JSONObject(rec))"
   ]
  },
  {
   "cell_type": "code",
   "execution_count": 24,
   "metadata": {},
   "outputs": [
    {
     "name": "stdout",
     "output_type": "stream",
     "text": [
      "{\"schemaLocation\":\"#\",\"pointerToViolation\":\"#\",\"causingExceptions\":[{\"pointerToViolation\":\"#\",\"causingExceptions\":[{\"schemaLocation\":\"#/oneOf/0\",\"pointerToViolation\":\"#\",\"causingExceptions\":[{\"schemaLocation\":\"#/oneOf/0/properties/evidence\",\"pointerToViolation\":\"#/evidence\",\"causingExceptions\":[{\"pointerToViolation\":\"#/evidence\",\"causingExceptions\":[{\"schemaLocation\":\"#/definitions/evidence_base\",\"pointerToViolation\":\"#/evidence\",\"causingExceptions\":[{\"schemaLocation\":\"#/definitions/evidence_base\",\"pointerToViolation\":\"#/evidence\",\"causingExceptions\":[],\"keyword\":\"required\",\"message\":\"required key [provenance_type] not found\"},{\"schemaLocation\":\"#/definitions/evidence_base\",\"pointerToViolation\":\"#/evidence\",\"causingExceptions\":[],\"keyword\":\"required\",\"message\":\"required key [is_associated] not found\"},{\"schemaLocation\":\"#/definitions/evidence_base\",\"pointerToViolation\":\"#/evidence\",\"causingExceptions\":[],\"keyword\":\"required\",\"message\":\"required key [date_asserted] not found\"}],\"message\":\"3 schema violations found\"}],\"keyword\":\"allOf\",\"message\":\"#: only 0 subschema matches out of 1\"},{\"pointerToViolation\":\"#/evidence\",\"causingExceptions\":[{\"pointerToViolation\":\"#/evidence\",\"causingExceptions\":[],\"keyword\":\"required\",\"message\":\"required key [evidence_codes] not found\"},{\"pointerToViolation\":\"#/evidence\",\"causingExceptions\":[],\"keyword\":\"required\",\"message\":\"required key [comparison_name] not found\"},{\"pointerToViolation\":\"#/evidence\",\"causingExceptions\":[],\"keyword\":\"required\",\"message\":\"required key [log2_fold_change] not found\"},{\"pointerToViolation\":\"#/evidence\",\"causingExceptions\":[],\"keyword\":\"required\",\"message\":\"required key [test_sample] not found\"},{\"pointerToViolation\":\"#/evidence\",\"causingExceptions\":[],\"keyword\":\"required\",\"message\":\"required key [reference_sample] not found\"},{\"pointerToViolation\":\"#/evidence\",\"causingExceptions\":[],\"keyword\":\"required\",\"message\":\"required key [experiment_overview] not found\"},{\"pointerToViolation\":\"#/evidence\",\"causingExceptions\":[],\"keyword\":\"required\",\"message\":\"required key [test_replicates_n] not found\"},{\"pointerToViolation\":\"#/evidence\",\"causingExceptions\":[],\"keyword\":\"required\",\"message\":\"required key [reference_replicates_n] not found\"},{\"pointerToViolation\":\"#/evidence\",\"causingExceptions\":[],\"keyword\":\"required\",\"message\":\"required key [confidence_level] not found\"},{\"pointerToViolation\":\"#/evidence\",\"causingExceptions\":[],\"keyword\":\"required\",\"message\":\"required key [resource_score] not found\"}],\"message\":\"10 schema violations found\"}],\"keyword\":\"allOf\",\"message\":\"#: only 0 subschema matches out of 2\"},{\"schemaLocation\":\"#/oneOf/0/properties/type\",\"pointerToViolation\":\"#/type\",\"causingExceptions\":[],\"keyword\":\"const\",\"message\":\"\"}],\"message\":\"14 schema violations found\"},{\"schemaLocation\":\"#/oneOf/1\",\"pointerToViolation\":\"#\",\"causingExceptions\":[{\"schemaLocation\":\"#/oneOf/1\",\"pointerToViolation\":\"#\",\"causingExceptions\":[],\"keyword\":\"required\",\"message\":\"required key [drug] not found\"},{\"schemaLocation\":\"#/oneOf/1/properties/evidence\",\"pointerToViolation\":\"#/evidence\",\"causingExceptions\":[{\"schemaLocation\":\"#/oneOf/1/properties/evidence\",\"pointerToViolation\":\"#/evidence\",\"causingExceptions\":[],\"keyword\":\"required\",\"message\":\"required key [target2drug] not found\"},{\"schemaLocation\":\"#/oneOf/1/properties/evidence\",\"pointerToViolation\":\"#/evidence\",\"causingExceptions\":[],\"keyword\":\"required\",\"message\":\"required key [drug2clinic] not found\"}],\"message\":\"2 schema violations found\"},{\"schemaLocation\":\"#/oneOf/1/properties/type\",\"pointerToViolation\":\"#/type\",\"causingExceptions\":[],\"keyword\":\"const\",\"message\":\"\"}],\"message\":\"4 schema violations found\"},{\"schemaLocation\":\"#/oneOf/2\",\"pointerToViolation\":\"#\",\"causingExceptions\":[{\"schemaLocation\":\"#/oneOf/2/properties/evidence\",\"pointerToViolation\":\"#/evidence\",\"causingExceptions\":[{\"schemaLocation\":\"#/oneOf/2/properties/evidence\",\"pointerToViolation\":\"#/evidence\",\"causingExceptions\":[],\"keyword\":\"required\",\"message\":\"required key [orthologs] not found\"},{\"schemaLocation\":\"#/oneOf/2/properties/evidence\",\"pointerToViolation\":\"#/evidence\",\"causingExceptions\":[],\"keyword\":\"required\",\"message\":\"required key [biological_model] not found\"},{\"schemaLocation\":\"#/oneOf/2/properties/evidence\",\"pointerToViolation\":\"#/evidence\",\"causingExceptions\":[],\"keyword\":\"required\",\"message\":\"required key [disease_model_association] not found\"}],\"message\":\"3 schema violations found\"},{\"schemaLocation\":\"#/oneOf/2/properties/type\",\"pointerToViolation\":\"#/type\",\"causingExceptions\":[],\"keyword\":\"const\",\"message\":\"\"}],\"message\":\"4 schema violations found\"},{\"schemaLocation\":\"#/oneOf/3\",\"pointerToViolation\":\"#\",\"causingExceptions\":[{\"schemaLocation\":\"#/oneOf/3/properties/evidence\",\"pointerToViolation\":\"#/evidence\",\"causingExceptions\":[{\"pointerToViolation\":\"#/evidence\",\"causingExceptions\":[{\"schemaLocation\":\"#/definitions/evidence_base\",\"pointerToViolation\":\"#/evidence\",\"causingExceptions\":[{\"schemaLocation\":\"#/definitions/evidence_base\",\"pointerToViolation\":\"#/evidence\",\"causingExceptions\":[],\"keyword\":\"required\",\"message\":\"required key [provenance_type] not found\"},{\"schemaLocation\":\"#/definitions/evidence_base\",\"pointerToViolation\":\"#/evidence\",\"causingExceptions\":[],\"keyword\":\"required\",\"message\":\"required key [is_associated] not found\"},{\"schemaLocation\":\"#/definitions/evidence_base\",\"pointerToViolation\":\"#/evidence\",\"causingExceptions\":[],\"keyword\":\"required\",\"message\":\"required key [date_asserted] not found\"}],\"message\":\"3 schema violations found\"}],\"keyword\":\"allOf\",\"message\":\"#: only 0 subschema matches out of 1\"},{\"pointerToViolation\":\"#/evidence\",\"causingExceptions\":[],\"keyword\":\"required\",\"message\":\"required key [resource_score] not found\"}],\"keyword\":\"allOf\",\"message\":\"#: only 0 subschema matches out of 2\"},{\"schemaLocation\":\"#/oneOf/3/properties/type\",\"pointerToViolation\":\"#/type\",\"causingExceptions\":[],\"keyword\":\"const\",\"message\":\"\"}],\"message\":\"5 schema violations found\"},{\"schemaLocation\":\"#/oneOf/4/properties/evidence\",\"pointerToViolation\":\"#/evidence\",\"causingExceptions\":[{\"schemaLocation\":\"#/oneOf/4/properties/evidence/properties/gene2variant\",\"pointerToViolation\":\"#/evidence/gene2variant\",\"causingExceptions\":[{\"pointerToViolation\":\"#/evidence/gene2variant\",\"causingExceptions\":[{\"schemaLocation\":\"#/definitions/evidence_base/properties/date_asserted\",\"pointerToViolation\":\"#/evidence/gene2variant/date_asserted\",\"causingExceptions\":[],\"keyword\":\"format\",\"message\":\"[2018-12-23T00:00:00] is not a valid date-time. Expected [yyyy-MM-dd'T'HH:mm:ssZ, yyyy-MM-dd'T'HH:mm:ss.[0-9]{1,9}Z, yyyy-MM-dd'T'HH:mm:ss[+-]HH:mm, yyyy-MM-dd'T'HH:mm:ss.[0-9]{1,9}[+-]HH:mm]\"}],\"keyword\":\"allOf\",\"message\":\"#: only 0 subschema matches out of 1\"}],\"keyword\":\"allOf\",\"message\":\"#: only 1 subschema matches out of 2\"},{\"schemaLocation\":\"#/oneOf/4/properties/evidence/properties/variant2disease\",\"pointerToViolation\":\"#/evidence/variant2disease\",\"causingExceptions\":[{\"pointerToViolation\":\"#/evidence/variant2disease\",\"causingExceptions\":[{\"schemaLocation\":\"#/definitions/evidence_base/properties/date_asserted\",\"pointerToViolation\":\"#/evidence/variant2disease/date_asserted\",\"causingExceptions\":[],\"keyword\":\"format\",\"message\":\"[2018-12-23T00:00:00] is not a valid date-time. Expected [yyyy-MM-dd'T'HH:mm:ssZ, yyyy-MM-dd'T'HH:mm:ss.[0-9]{1,9}Z, yyyy-MM-dd'T'HH:mm:ss[+-]HH:mm, yyyy-MM-dd'T'HH:mm:ss.[0-9]{1,9}[+-]HH:mm]\"}],\"keyword\":\"allOf\",\"message\":\"#: only 0 subschema matches out of 1\"}],\"keyword\":\"allOf\",\"message\":\"#: only 1 subschema matches out of 2\"}],\"message\":\"2 schema violations found\"},{\"schemaLocation\":\"#/oneOf/5\",\"pointerToViolation\":\"#\",\"causingExceptions\":[{\"schemaLocation\":\"#/oneOf/5/properties/evidence\",\"pointerToViolation\":\"#/evidence\",\"causingExceptions\":[{\"pointerToViolation\":\"#/evidence\",\"causingExceptions\":[{\"schemaLocation\":\"#/definitions/evidence_base\",\"pointerToViolation\":\"#/evidence\",\"causingExceptions\":[{\"schemaLocation\":\"#/definitions/evidence_base\",\"pointerToViolation\":\"#/evidence\",\"causingExceptions\":[],\"keyword\":\"required\",\"message\":\"required key [provenance_type] not found\"},{\"schemaLocation\":\"#/definitions/evidence_base\",\"pointerToViolation\":\"#/evidence\",\"causingExceptions\":[],\"keyword\":\"required\",\"message\":\"required key [is_associated] not found\"},{\"schemaLocation\":\"#/definitions/evidence_base\",\"pointerToViolation\":\"#/evidence\",\"causingExceptions\":[],\"keyword\":\"required\",\"message\":\"required key [date_asserted] not found\"}],\"message\":\"3 schema violations found\"}],\"keyword\":\"allOf\",\"message\":\"#: only 0 subschema matches out of 1\"},{\"pointerToViolation\":\"#/evidence\",\"causingExceptions\":[{\"pointerToViolation\":\"#/evidence\",\"causingExceptions\":[],\"keyword\":\"required\",\"message\":\"required key [evidence_codes] not found\"},{\"pointerToViolation\":\"#/evidence\",\"causingExceptions\":[],\"keyword\":\"required\",\"message\":\"required key [resource_score] not found\"}],\"message\":\"2 schema violations found\"}],\"keyword\":\"allOf\",\"message\":\"#: only 0 subschema matches out of 2\"},{\"schemaLocation\":\"#/oneOf/5/properties/type\",\"pointerToViolation\":\"#/type\",\"causingExceptions\":[],\"keyword\":\"enum\",\"message\":\"genetic_association is not a valid enum value\"}],\"message\":\"6 schema violations found\"}],\"keyword\":\"oneOf\",\"message\":\"#: 0 subschemas matched instead of one\"}],\"keyword\":\"allOf\",\"message\":\"#: only 1 subschema matches out of 2\"}\n"
     ]
    }
   ],
   "source": [
    "try {\n",
    "    schema.validate(new JSONObject(rec))\n",
    "} catch {\n",
    "    case e: ValidationException => println(e.toJSON())\n",
    "}"
   ]
  },
  {
   "cell_type": "code",
   "execution_count": null,
   "metadata": {},
   "outputs": [],
   "source": []
  }
 ],
 "metadata": {
  "kernelspec": {
   "display_name": "Scala",
   "language": "scala",
   "name": "scala"
  },
  "language_info": {
   "codemirror_mode": "text/x-scala",
   "file_extension": ".scala",
   "mimetype": "text/x-scala",
   "name": "scala",
   "nbconvert_exporter": "script",
   "version": "2.12.10"
  }
 },
 "nbformat": 4,
 "nbformat_minor": 4
}
