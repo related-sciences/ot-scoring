{
 "cells": [
  {
   "cell_type": "code",
   "execution_count": 5,
   "metadata": {},
   "outputs": [],
   "source": [
    "from opentargets_ontologyutils.rdf_utils import OntologyClassReader\n",
    "import opentargets_ontologyutils.efo\n",
    "efo_uri = 'https://raw.githubusercontent.com/EBISPOT/efo/v2019-03-18/efo_inferred.owl'\n",
    "ocr = OntologyClassReader()"
   ]
  },
  {
   "cell_type": "markdown",
   "metadata": {},
   "source": [
    "### From Ontology Utils\n",
    "\n",
    "See: https://github.com/opentargets/ontology-utils/blob/master/opentargets_ontologyutils/efo.py#L17"
   ]
  },
  {
   "cell_type": "code",
   "execution_count": 6,
   "metadata": {},
   "outputs": [],
   "source": [
    "ocr.load_ontology_graph(efo_uri)"
   ]
  },
  {
   "cell_type": "code",
   "execution_count": 7,
   "metadata": {},
   "outputs": [
    {
     "data": {
      "text/plain": [
       "1266"
      ]
     },
     "execution_count": 7,
     "metadata": {},
     "output_type": "execute_result"
    }
   ],
   "source": [
    "ocr.get_deprecated_classes(obsoleted_in_version=True)"
   ]
  },
  {
   "cell_type": "code",
   "execution_count": 9,
   "metadata": {},
   "outputs": [
    {
     "data": {
      "text/plain": [
       "0"
      ]
     },
     "execution_count": 9,
     "metadata": {},
     "output_type": "execute_result"
    }
   ],
   "source": [
    "therapeutic_areas = tuple(opentargets_ontologyutils.efo.find_therapeutic_areas(ocr.rdf_graph))\n",
    "len(therapeutic_areas)"
   ]
  },
  {
   "cell_type": "code",
   "execution_count": 10,
   "metadata": {},
   "outputs": [
    {
     "data": {
      "text/plain": [
       "{}"
      ]
     },
     "execution_count": 10,
     "metadata": {},
     "output_type": "execute_result"
    }
   ],
   "source": [
    "ocr.classes_paths"
   ]
  },
  {
   "cell_type": "markdown",
   "metadata": {},
   "source": [
    "### From Data Pipeline EFO\n",
    "\n",
    "See; https://github.com/opentargets/data_pipeline/blob/e8372eac48b81a337049dd6b132dd69ff5cc7b64/mrtarget/modules/EFO.py#L199"
   ]
  },
  {
   "cell_type": "code",
   "execution_count": 12,
   "metadata": {},
   "outputs": [],
   "source": [
    "ocr = OntologyClassReader()\n",
    "opentargets_ontologyutils.efo.load_open_targets_disease_ontology(ocr,  efo_uri)"
   ]
  },
  {
   "cell_type": "code",
   "execution_count": 14,
   "metadata": {},
   "outputs": [
    {
     "data": {
      "text/plain": [
       "12401"
      ]
     },
     "execution_count": 14,
     "metadata": {},
     "output_type": "execute_result"
    }
   ],
   "source": [
    "len(ocr.classes_paths)"
   ]
  },
  {
   "cell_type": "code",
   "execution_count": 16,
   "metadata": {},
   "outputs": [
    {
     "data": {
      "text/plain": [
       "dict"
      ]
     },
     "execution_count": 16,
     "metadata": {},
     "output_type": "execute_result"
    }
   ],
   "source": [
    "type(ocr.classes_paths)"
   ]
  },
  {
   "cell_type": "code",
   "execution_count": 17,
   "metadata": {},
   "outputs": [
    {
     "data": {
      "text/plain": [
       "'http://www.ebi.ac.uk/efo/EFO_0000408'"
      ]
     },
     "execution_count": 17,
     "metadata": {},
     "output_type": "execute_result"
    }
   ],
   "source": [
    "list(ocr.classes_paths.keys())[0]"
   ]
  },
  {
   "cell_type": "code",
   "execution_count": 20,
   "metadata": {},
   "outputs": [
    {
     "data": {
      "text/plain": [
       "[[{'uri': 'http://www.ebi.ac.uk/efo/EFO_0000408',\n",
       "   'label': rdflib.term.Literal('disease', datatype=rdflib.term.URIRef('http://www.w3.org/2001/XMLSchema#string'))}]]"
      ]
     },
     "execution_count": 20,
     "metadata": {},
     "output_type": "execute_result"
    }
   ],
   "source": [
    "list(ocr.classes_paths.values())[0]['all']"
   ]
  },
  {
   "cell_type": "code",
   "execution_count": 21,
   "metadata": {},
   "outputs": [
    {
     "data": {
      "text/plain": [
       "[[{'uri': 'http://www.ebi.ac.uk/efo/EFO_0000408',\n",
       "   'label': rdflib.term.Literal('disease', datatype=rdflib.term.URIRef('http://www.w3.org/2001/XMLSchema#string'))},\n",
       "  {'uri': 'http://www.ebi.ac.uk/efo/EFO_1001221',\n",
       "   'label': rdflib.term.Literal('twin-to-twin transfusion syndrome', lang='en')}]]"
      ]
     },
     "execution_count": 21,
     "metadata": {},
     "output_type": "execute_result"
    }
   ],
   "source": [
    "list(ocr.classes_paths.values())[1]['all']"
   ]
  }
 ],
 "metadata": {
  "kernelspec": {
   "display_name": "Python 3",
   "language": "python",
   "name": "python3"
  },
  "language_info": {
   "codemirror_mode": {
    "name": "ipython",
    "version": 3
   },
   "file_extension": ".py",
   "mimetype": "text/x-python",
   "name": "python",
   "nbconvert_exporter": "python",
   "pygments_lexer": "ipython3",
   "version": "3.7.5"
  }
 },
 "nbformat": 4,
 "nbformat_minor": 4
}
