{
 "cells": [
  {
   "cell_type": "code",
   "execution_count": 1,
   "metadata": {},
   "outputs": [
    {
     "name": "stdout",
     "output_type": "stream",
     "text": [
      "Loading spark-stubs\n",
      "Creating SparkSession\n"
     ]
    },
    {
     "name": "stderr",
     "output_type": "stream",
     "text": [
      "Using Spark's default log4j profile: org/apache/spark/log4j-defaults.properties\n",
      "19/12/19 20:18:36 WARN NativeCodeLoader: Unable to load native-hadoop library for your platform... using builtin-java classes where applicable\n"
     ]
    },
    {
     "data": {
      "text/plain": [
       "\u001b[32mimport \u001b[39m\u001b[36m$file.$          , sparkinit._\n",
       "\u001b[39m\n",
       "\u001b[32mimport \u001b[39m\u001b[36m$file.$         , pathinit._\n",
       "\u001b[39m\n",
       "\u001b[32mimport \u001b[39m\u001b[36m$file.$       , cpinit._\n",
       "\u001b[39m\n",
       "\u001b[32mimport \u001b[39m\u001b[36mss.implicits._\n",
       "\u001b[39m\n",
       "\u001b[32mimport \u001b[39m\u001b[36morg.apache.spark.sql.functions._\n",
       "\u001b[39m\n",
       "\u001b[32mimport \u001b[39m\u001b[36mjava.nio.file.Paths\u001b[39m"
      ]
     },
     "execution_count": 1,
     "metadata": {},
     "output_type": "execute_result"
    }
   ],
   "source": [
    "import $file.^.sparkinit, sparkinit._\n",
    "import $file.^.pathinit, pathinit._\n",
    "import $file.^.cpinit, cpinit._\n",
    "import ss.implicits._\n",
    "import org.apache.spark.sql.functions._\n",
    "import java.nio.file.Paths"
   ]
  },
  {
   "cell_type": "code",
   "execution_count": 2,
   "metadata": {},
   "outputs": [
    {
     "data": {
      "text/plain": [
       "\u001b[36mregex\u001b[39m: \u001b[32mscala\u001b[39m.\u001b[32mutil\u001b[39m.\u001b[32mmatching\u001b[39m.\u001b[32mRegex\u001b[39m = .*evidence_(.*)_validation_.*\n",
       "\u001b[36msteps\u001b[39m: \u001b[32mSet\u001b[39m[\u001b[32mString\u001b[39m] = \u001b[33mSet\u001b[39m(\u001b[32m\"disease_id\"\u001b[39m, \u001b[32m\"schema\"\u001b[39m, \u001b[32m\"target_id\"\u001b[39m, \u001b[32m\"data_source\"\u001b[39m)"
      ]
     },
     "execution_count": 2,
     "metadata": {},
     "output_type": "execute_result"
    }
   ],
   "source": [
    "val regex = \".*evidence_(.*)_validation_.*\".r\n",
    "val steps = RESULTS_DIR.resolve(\"errors\").toFile.listFiles.map(_.toString).map({\n",
    "    case regex(k) => k\n",
    "    case _ => \"\"\n",
    "}).toSet"
   ]
  },
  {
   "cell_type": "code",
   "execution_count": 3,
   "metadata": {},
   "outputs": [
    {
     "data": {
      "text/plain": [
       "defined \u001b[32mfunction\u001b[39m \u001b[36mloadSummary\u001b[39m"
      ]
     },
     "execution_count": 3,
     "metadata": {},
     "output_type": "execute_result"
    }
   ],
   "source": [
    "def loadSummary(step: String) = ss.read\n",
    "    .parquet(RESULTS_DIR.resolve(s\"errors/evidence_${step}_validation_summary.parquet\").toString)\n",
    "    .withColumn(\"step\", lit(step))"
   ]
  },
  {
   "cell_type": "code",
   "execution_count": 4,
   "metadata": {},
   "outputs": [
    {
     "data": {
      "text/html": [
       "<script>\n",
       "var comm = Jupyter.notebook.kernel.comm_manager.new_comm('cancel-stage-29209db5-1673-4e7f-a739-c91fd3daa0c5', {});\n",
       "\n",
       "function cancelStage(stageId) {\n",
       "  console.log('Cancelling stage ' + stageId);\n",
       "  comm.send({ 'stageId': stageId });\n",
       "}\n",
       "</script>\n",
       "          "
      ]
     },
     "metadata": {},
     "output_type": "display_data"
    },
    {
     "data": {
      "text/html": [
       "<div>\n",
       "  <span style=\"float: left;\">parquet at cmd2.sc:2</span>\n",
       "</div>\n"
      ]
     },
     "metadata": {},
     "output_type": "display_data"
    },
    {
     "data": {
      "text/html": [
       "<div class=\"progress\">\n",
       "  <div class=\"progress-bar\" role=\"progressbar\" style=\"background-color: blue; width: 100%; word-wrap: normal; white-space: nowrap; text-align: center; color: white\" aria-valuenow=\"100\" aria-valuemin=\"0\" aria-valuemax=\"100\">\n",
       "    1 / 1\n",
       "  </div>\n",
       "  <div class=\"progress-bar\" role=\"progressbar\" style=\"background-color: red; width: 0%\" aria-valuenow=\"0\" aria-valuemin=\"0\" aria-valuemax=\"100\"></div>\n",
       "</div>\n"
      ]
     },
     "metadata": {},
     "output_type": "display_data"
    },
    {
     "data": {
      "text/html": [
       "<div>\n",
       "  <span style=\"float: left;\">parquet at cmd2.sc:2</span>\n",
       "</div>\n"
      ]
     },
     "metadata": {},
     "output_type": "display_data"
    },
    {
     "data": {
      "text/html": [
       "<div class=\"progress\">\n",
       "  <div class=\"progress-bar\" role=\"progressbar\" style=\"background-color: blue; width: 100%; word-wrap: normal; white-space: nowrap; text-align: center; color: white\" aria-valuenow=\"100\" aria-valuemin=\"0\" aria-valuemax=\"100\">\n",
       "    1 / 1\n",
       "  </div>\n",
       "  <div class=\"progress-bar\" role=\"progressbar\" style=\"background-color: red; width: 0%\" aria-valuenow=\"0\" aria-valuemin=\"0\" aria-valuemax=\"100\"></div>\n",
       "</div>\n"
      ]
     },
     "metadata": {},
     "output_type": "display_data"
    },
    {
     "data": {
      "text/html": [
       "<div>\n",
       "  <span style=\"float: left;\">parquet at cmd2.sc:2</span>\n",
       "</div>\n"
      ]
     },
     "metadata": {},
     "output_type": "display_data"
    },
    {
     "data": {
      "text/html": [
       "<div class=\"progress\">\n",
       "  <div class=\"progress-bar\" role=\"progressbar\" style=\"background-color: blue; width: 100%; word-wrap: normal; white-space: nowrap; text-align: center; color: white\" aria-valuenow=\"100\" aria-valuemin=\"0\" aria-valuemax=\"100\">\n",
       "    1 / 1\n",
       "  </div>\n",
       "  <div class=\"progress-bar\" role=\"progressbar\" style=\"background-color: red; width: 0%\" aria-valuenow=\"0\" aria-valuemin=\"0\" aria-valuemax=\"100\"></div>\n",
       "</div>\n"
      ]
     },
     "metadata": {},
     "output_type": "display_data"
    },
    {
     "data": {
      "text/html": [
       "<div>\n",
       "  <span style=\"float: left;\">parquet at cmd2.sc:2</span>\n",
       "</div>\n"
      ]
     },
     "metadata": {},
     "output_type": "display_data"
    },
    {
     "data": {
      "text/html": [
       "<div class=\"progress\">\n",
       "  <div class=\"progress-bar\" role=\"progressbar\" style=\"background-color: blue; width: 100%; word-wrap: normal; white-space: nowrap; text-align: center; color: white\" aria-valuenow=\"100\" aria-valuemin=\"0\" aria-valuemax=\"100\">\n",
       "    1 / 1\n",
       "  </div>\n",
       "  <div class=\"progress-bar\" role=\"progressbar\" style=\"background-color: red; width: 0%\" aria-valuenow=\"0\" aria-valuemin=\"0\" aria-valuemax=\"100\"></div>\n",
       "</div>\n"
      ]
     },
     "metadata": {},
     "output_type": "display_data"
    },
    {
     "data": {
      "text/plain": [
       "\u001b[36mdf\u001b[39m: \u001b[32morg\u001b[39m.\u001b[32mapache\u001b[39m.\u001b[32mspark\u001b[39m.\u001b[32msql\u001b[39m.\u001b[32mpackage\u001b[39m.\u001b[32mDataFrame\u001b[39m = [sourceID: string, reason: string ... 2 more fields]"
      ]
     },
     "execution_count": 4,
     "metadata": {},
     "output_type": "execute_result"
    }
   ],
   "source": [
    "val df = steps.map(loadSummary).reduce(_.union(_))"
   ]
  },
  {
   "cell_type": "code",
   "execution_count": 5,
   "metadata": {},
   "outputs": [
    {
     "data": {
      "text/html": [
       "<div>\n",
       "  <span style=\"float: left;\">show at cmd4.sc:1</span>\n",
       "</div>\n"
      ]
     },
     "metadata": {},
     "output_type": "display_data"
    },
    {
     "data": {
      "text/html": [
       "<div class=\"progress\">\n",
       "  <div class=\"progress-bar\" role=\"progressbar\" style=\"background-color: blue; width: 100%; word-wrap: normal; white-space: nowrap; text-align: center; color: white\" aria-valuenow=\"100\" aria-valuemin=\"0\" aria-valuemax=\"100\">\n",
       "    1 / 1\n",
       "  </div>\n",
       "  <div class=\"progress-bar\" role=\"progressbar\" style=\"background-color: red; width: 0%\" aria-valuenow=\"0\" aria-valuemin=\"0\" aria-valuemax=\"100\"></div>\n",
       "</div>\n"
      ]
     },
     "metadata": {},
     "output_type": "display_data"
    },
    {
     "data": {
      "text/html": [
       "<div>\n",
       "  <span style=\"float: left;\">show at cmd4.sc:1</span>\n",
       "</div>\n"
      ]
     },
     "metadata": {},
     "output_type": "display_data"
    },
    {
     "data": {
      "text/html": [
       "<div class=\"progress\">\n",
       "  <div class=\"progress-bar\" role=\"progressbar\" style=\"background-color: blue; width: 100%; word-wrap: normal; white-space: nowrap; text-align: center; color: white\" aria-valuenow=\"100\" aria-valuemin=\"0\" aria-valuemax=\"100\">\n",
       "    4 / 4\n",
       "  </div>\n",
       "  <div class=\"progress-bar\" role=\"progressbar\" style=\"background-color: red; width: 0%\" aria-valuenow=\"0\" aria-valuemin=\"0\" aria-valuemax=\"100\"></div>\n",
       "</div>\n"
      ]
     },
     "metadata": {},
     "output_type": "display_data"
    },
    {
     "data": {
      "text/html": [
       "<div>\n",
       "  <span style=\"float: left;\">show at cmd4.sc:1</span>\n",
       "</div>\n"
      ]
     },
     "metadata": {},
     "output_type": "display_data"
    },
    {
     "data": {
      "text/html": [
       "<div class=\"progress\">\n",
       "  <div class=\"progress-bar\" role=\"progressbar\" style=\"background-color: blue; width: 100%; word-wrap: normal; white-space: nowrap; text-align: center; color: white\" aria-valuenow=\"100\" aria-valuemin=\"0\" aria-valuemax=\"100\">\n",
       "    20 / 20\n",
       "  </div>\n",
       "  <div class=\"progress-bar\" role=\"progressbar\" style=\"background-color: red; width: 0%\" aria-valuenow=\"0\" aria-valuemin=\"0\" aria-valuemax=\"100\"></div>\n",
       "</div>\n"
      ]
     },
     "metadata": {},
     "output_type": "display_data"
    },
    {
     "data": {
      "text/html": [
       "<div>\n",
       "  <span style=\"float: left;\">show at cmd4.sc:1</span>\n",
       "</div>\n"
      ]
     },
     "metadata": {},
     "output_type": "display_data"
    },
    {
     "data": {
      "text/html": [
       "<div class=\"progress\">\n",
       "  <div class=\"progress-bar\" role=\"progressbar\" style=\"background-color: blue; width: 100%; word-wrap: normal; white-space: nowrap; text-align: center; color: white\" aria-valuenow=\"100\" aria-valuemin=\"0\" aria-valuemax=\"100\">\n",
       "    31 / 31\n",
       "  </div>\n",
       "  <div class=\"progress-bar\" role=\"progressbar\" style=\"background-color: red; width: 0%\" aria-valuenow=\"0\" aria-valuemin=\"0\" aria-valuemax=\"100\"></div>\n",
       "</div>\n"
      ]
     },
     "metadata": {},
     "output_type": "display_data"
    },
    {
     "name": "stdout",
     "output_type": "stream",
     "text": [
      "+------------------+------------------------------+-------+-----------+\n",
      "|sourceID          |reason                        |count  |step       |\n",
      "+------------------+------------------------------+-------+-----------+\n",
      "|uniprot_literature|id_not_found                  |10     |disease_id |\n",
      "|gene2phenotype    |id_not_found                  |3      |disease_id |\n",
      "|phewas_catalog    |id_not_found                  |8941   |disease_id |\n",
      "|cancer_gene_census|null                          |96274  |disease_id |\n",
      "|genomics_england  |id_not_found                  |522    |disease_id |\n",
      "|eva_somatic       |id_not_found                  |10     |disease_id |\n",
      "|phenodigm         |id_not_found                  |714    |disease_id |\n",
      "|europepmc         |id_not_found                  |106933 |disease_id |\n",
      "|cancer_gene_census|id_not_found                  |10     |disease_id |\n",
      "|crispr            |null                          |1844   |disease_id |\n",
      "|reactome          |id_not_found                  |30     |disease_id |\n",
      "|uniprot           |id_not_found                  |58     |disease_id |\n",
      "|progeny           |id_not_found                  |87     |disease_id |\n",
      "|gwas_catalog      |id_not_found                  |891    |disease_id |\n",
      "|sysbio            |null                          |409    |disease_id |\n",
      "|chembl            |id_not_found                  |3052   |disease_id |\n",
      "|uniprot_literature|null                          |4831   |disease_id |\n",
      "|eva               |id_not_found                  |124    |disease_id |\n",
      "|expression_atlas  |null                          |202648 |disease_id |\n",
      "|genomics_england  |null                          |10550  |disease_id |\n",
      "|uniprot_somatic   |null                          |284    |disease_id |\n",
      "|gene2phenotype    |null                          |1597   |disease_id |\n",
      "|phewas_catalog    |null                          |62024  |disease_id |\n",
      "|gwas_catalog      |null                          |192230 |disease_id |\n",
      "|eva_somatic       |null                          |7879   |disease_id |\n",
      "|slapenrich        |null                          |74570  |disease_id |\n",
      "|europepmc         |null                          |7744039|disease_id |\n",
      "|phenodigm         |null                          |501788 |disease_id |\n",
      "|reactome          |null                          |11019  |disease_id |\n",
      "|uniprot           |null                          |31600  |disease_id |\n",
      "|progeny           |null                          |319    |disease_id |\n",
      "|intogen           |null                          |2594   |disease_id |\n",
      "|chembl            |null                          |397350 |disease_id |\n",
      "|eva               |null                          |103233 |disease_id |\n",
      "|gene2phenotype    |noncompliance_with_json_schema|2      |schema     |\n",
      "|slapenrich        |noncompliance_with_json_schema|5      |schema     |\n",
      "|uniprot           |noncompliance_with_json_schema|7      |schema     |\n",
      "|cancer_gene_census|null                          |96284  |schema     |\n",
      "|uniprot_literature|null                          |4843   |schema     |\n",
      "|expression_atlas  |null                          |213490 |schema     |\n",
      "|genomics_england  |null                          |11079  |schema     |\n",
      "|uniprot_somatic   |null                          |284    |schema     |\n",
      "|gene2phenotype    |null                          |1601   |schema     |\n",
      "|phewas_catalog    |null                          |71027  |schema     |\n",
      "|gwas_catalog      |null                          |194170 |schema     |\n",
      "|null              |corrupt_json                  |1      |schema     |\n",
      "|eva_somatic       |null                          |7889   |schema     |\n",
      "|slapenrich        |null                          |74578  |schema     |\n",
      "|europepmc         |null                          |8814492|schema     |\n",
      "|phenodigm         |null                          |502550 |schema     |\n",
      "|reactome          |null                          |11049  |schema     |\n",
      "|intogen           |null                          |2594   |schema     |\n",
      "|progeny           |null                          |406    |schema     |\n",
      "|uniprot           |null                          |31658  |schema     |\n",
      "|crispr            |null                          |1844   |schema     |\n",
      "|chembl            |null                          |400440 |schema     |\n",
      "|sysbio            |null                          |409    |schema     |\n",
      "|eva               |null                          |103358 |schema     |\n",
      "|expression_atlas  |biotype_exclusion             |10391  |target_id  |\n",
      "|uniprot_literature|id_not_found                  |2      |target_id  |\n",
      "|expression_atlas  |id_not_found                  |451    |target_id  |\n",
      "|phewas_catalog    |id_not_found                  |62     |target_id  |\n",
      "|gene2phenotype    |id_not_found                  |1      |target_id  |\n",
      "|cancer_gene_census|null                          |96284  |target_id  |\n",
      "|genomics_england  |id_not_found                  |7      |target_id  |\n",
      "|slapenrich        |id_not_found                  |8      |target_id  |\n",
      "|phenodigm         |id_not_found                  |48     |target_id  |\n",
      "|europepmc         |id_not_found                  |963520 |target_id  |\n",
      "|gwas_catalog      |id_not_found                  |1049   |target_id  |\n",
      "|sysbio            |null                          |409    |target_id  |\n",
      "|chembl            |id_not_found                  |38     |target_id  |\n",
      "|uniprot_literature|null                          |4841   |target_id  |\n",
      "|eva               |id_not_found                  |1      |target_id  |\n",
      "|expression_atlas  |null                          |202648 |target_id  |\n",
      "|genomics_england  |null                          |11072  |target_id  |\n",
      "|uniprot_somatic   |null                          |284    |target_id  |\n",
      "|gene2phenotype    |null                          |1600   |target_id  |\n",
      "|phewas_catalog    |null                          |70965  |target_id  |\n",
      "|gwas_catalog      |null                          |193121 |target_id  |\n",
      "|eva_somatic       |null                          |7889   |target_id  |\n",
      "|slapenrich        |null                          |74570  |target_id  |\n",
      "|phenodigm         |null                          |502502 |target_id  |\n",
      "|europepmc         |null                          |7850972|target_id  |\n",
      "|reactome          |null                          |11049  |target_id  |\n",
      "|progeny           |null                          |406    |target_id  |\n",
      "|intogen           |null                          |2594   |target_id  |\n",
      "|uniprot           |null                          |31658  |target_id  |\n",
      "|crispr            |null                          |1844   |target_id  |\n",
      "|chembl            |null                          |400402 |target_id  |\n",
      "|eva               |null                          |103357 |target_id  |\n",
      "|cancer_gene_census|null                          |96274  |data_source|\n",
      "|uniprot_literature|null                          |4831   |data_source|\n",
      "|expression_atlas  |null                          |202648 |data_source|\n",
      "|genomics_england  |null                          |10550  |data_source|\n",
      "|uniprot_somatic   |null                          |284    |data_source|\n",
      "|gene2phenotype    |null                          |1597   |data_source|\n",
      "|phewas_catalog    |null                          |62024  |data_source|\n",
      "|gwas_catalog      |null                          |192230 |data_source|\n",
      "|eva_somatic       |null                          |7879   |data_source|\n",
      "|slapenrich        |null                          |74570  |data_source|\n",
      "|europepmc         |null                          |7744039|data_source|\n",
      "|phenodigm         |null                          |501788 |data_source|\n",
      "|reactome          |null                          |11019  |data_source|\n",
      "|uniprot           |null                          |31600  |data_source|\n",
      "|intogen           |null                          |2594   |data_source|\n",
      "|progeny           |null                          |319    |data_source|\n",
      "|crispr            |null                          |1844   |data_source|\n",
      "|chembl            |null                          |397350 |data_source|\n",
      "|sysbio            |null                          |409    |data_source|\n",
      "|eva               |null                          |103233 |data_source|\n",
      "+------------------+------------------------------+-------+-----------+\n",
      "\n"
     ]
    }
   ],
   "source": [
    "df.show(1000, false)"
   ]
  },
  {
   "cell_type": "markdown",
   "metadata": {},
   "source": [
    "### Record Invalidation Cause Frequency by Source"
   ]
  },
  {
   "cell_type": "code",
   "execution_count": 6,
   "metadata": {},
   "outputs": [
    {
     "data": {
      "text/html": [
       "<div>\n",
       "  <span style=\"float: left;\">show at cmd5.sc:1</span>\n",
       "</div>\n"
      ]
     },
     "metadata": {},
     "output_type": "display_data"
    },
    {
     "data": {
      "text/html": [
       "<div class=\"progress\">\n",
       "  <div class=\"progress-bar\" role=\"progressbar\" style=\"background-color: blue; width: 100%; word-wrap: normal; white-space: nowrap; text-align: center; color: white\" aria-valuenow=\"100\" aria-valuemin=\"0\" aria-valuemax=\"100\">\n",
       "    1 / 1\n",
       "  </div>\n",
       "  <div class=\"progress-bar\" role=\"progressbar\" style=\"background-color: red; width: 0%\" aria-valuenow=\"0\" aria-valuemin=\"0\" aria-valuemax=\"100\"></div>\n",
       "</div>\n"
      ]
     },
     "metadata": {},
     "output_type": "display_data"
    },
    {
     "data": {
      "text/html": [
       "<div>\n",
       "  <span style=\"float: left;\">show at cmd5.sc:1</span>\n",
       "</div>\n"
      ]
     },
     "metadata": {},
     "output_type": "display_data"
    },
    {
     "data": {
      "text/html": [
       "<div class=\"progress\">\n",
       "  <div class=\"progress-bar\" role=\"progressbar\" style=\"background-color: blue; width: 100%; word-wrap: normal; white-space: nowrap; text-align: center; color: white\" aria-valuenow=\"100\" aria-valuemin=\"0\" aria-valuemax=\"100\">\n",
       "    4 / 4\n",
       "  </div>\n",
       "  <div class=\"progress-bar\" role=\"progressbar\" style=\"background-color: red; width: 0%\" aria-valuenow=\"0\" aria-valuemin=\"0\" aria-valuemax=\"100\"></div>\n",
       "</div>\n"
      ]
     },
     "metadata": {},
     "output_type": "display_data"
    },
    {
     "data": {
      "text/html": [
       "<div>\n",
       "  <span style=\"float: left;\">show at cmd5.sc:1</span>\n",
       "</div>\n"
      ]
     },
     "metadata": {},
     "output_type": "display_data"
    },
    {
     "data": {
      "text/html": [
       "<div class=\"progress\">\n",
       "  <div class=\"progress-bar\" role=\"progressbar\" style=\"background-color: blue; width: 100%; word-wrap: normal; white-space: nowrap; text-align: center; color: white\" aria-valuenow=\"100\" aria-valuemin=\"0\" aria-valuemax=\"100\">\n",
       "    20 / 20\n",
       "  </div>\n",
       "  <div class=\"progress-bar\" role=\"progressbar\" style=\"background-color: red; width: 0%\" aria-valuenow=\"0\" aria-valuemin=\"0\" aria-valuemax=\"100\"></div>\n",
       "</div>\n"
      ]
     },
     "metadata": {},
     "output_type": "display_data"
    },
    {
     "data": {
      "text/html": [
       "<div>\n",
       "  <span style=\"float: left;\">show at cmd5.sc:1</span>\n",
       "</div>\n"
      ]
     },
     "metadata": {},
     "output_type": "display_data"
    },
    {
     "data": {
      "text/html": [
       "<div class=\"progress\">\n",
       "  <div class=\"progress-bar\" role=\"progressbar\" style=\"background-color: blue; width: 100%; word-wrap: normal; white-space: nowrap; text-align: center; color: white\" aria-valuenow=\"100\" aria-valuemin=\"0\" aria-valuemax=\"100\">\n",
       "    31 / 31\n",
       "  </div>\n",
       "  <div class=\"progress-bar\" role=\"progressbar\" style=\"background-color: red; width: 0%\" aria-valuenow=\"0\" aria-valuemin=\"0\" aria-valuemax=\"100\"></div>\n",
       "</div>\n"
      ]
     },
     "metadata": {},
     "output_type": "display_data"
    },
    {
     "name": "stdout",
     "output_type": "stream",
     "text": [
      "+------------------+------------------------------+------+----------+\n",
      "|sourceID          |reason                        |count |step      |\n",
      "+------------------+------------------------------+------+----------+\n",
      "|uniprot_literature|id_not_found                  |10    |disease_id|\n",
      "|gene2phenotype    |id_not_found                  |3     |disease_id|\n",
      "|phewas_catalog    |id_not_found                  |8941  |disease_id|\n",
      "|genomics_england  |id_not_found                  |522   |disease_id|\n",
      "|eva_somatic       |id_not_found                  |10    |disease_id|\n",
      "|phenodigm         |id_not_found                  |714   |disease_id|\n",
      "|europepmc         |id_not_found                  |106933|disease_id|\n",
      "|cancer_gene_census|id_not_found                  |10    |disease_id|\n",
      "|reactome          |id_not_found                  |30    |disease_id|\n",
      "|uniprot           |id_not_found                  |58    |disease_id|\n",
      "|progeny           |id_not_found                  |87    |disease_id|\n",
      "|gwas_catalog      |id_not_found                  |891   |disease_id|\n",
      "|chembl            |id_not_found                  |3052  |disease_id|\n",
      "|eva               |id_not_found                  |124   |disease_id|\n",
      "|gene2phenotype    |noncompliance_with_json_schema|2     |schema    |\n",
      "|slapenrich        |noncompliance_with_json_schema|5     |schema    |\n",
      "|uniprot           |noncompliance_with_json_schema|7     |schema    |\n",
      "|null              |corrupt_json                  |1     |schema    |\n",
      "|expression_atlas  |biotype_exclusion             |10391 |target_id |\n",
      "|uniprot_literature|id_not_found                  |2     |target_id |\n",
      "|expression_atlas  |id_not_found                  |451   |target_id |\n",
      "|phewas_catalog    |id_not_found                  |62    |target_id |\n",
      "|gene2phenotype    |id_not_found                  |1     |target_id |\n",
      "|genomics_england  |id_not_found                  |7     |target_id |\n",
      "|slapenrich        |id_not_found                  |8     |target_id |\n",
      "|phenodigm         |id_not_found                  |48    |target_id |\n",
      "|europepmc         |id_not_found                  |963520|target_id |\n",
      "|gwas_catalog      |id_not_found                  |1049  |target_id |\n",
      "|chembl            |id_not_found                  |38    |target_id |\n",
      "|eva               |id_not_found                  |1     |target_id |\n",
      "+------------------+------------------------------+------+----------+\n",
      "\n"
     ]
    }
   ],
   "source": [
    "df.filter($\"reason\".isNotNull).show(100, false)"
   ]
  }
 ],
 "metadata": {
  "kernelspec": {
   "display_name": "Scala",
   "language": "scala",
   "name": "scala"
  },
  "language_info": {
   "codemirror_mode": "text/x-scala",
   "file_extension": ".scala",
   "mimetype": "text/x-scala",
   "name": "scala",
   "nbconvert_exporter": "script",
   "version": "2.12.10"
  }
 },
 "nbformat": 4,
 "nbformat_minor": 4
}
