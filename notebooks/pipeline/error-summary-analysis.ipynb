{
 "cells": [
  {
   "cell_type": "markdown",
   "metadata": {},
   "source": [
    "## Evidence Preparation Error Summary Report"
   ]
  },
  {
   "cell_type": "code",
   "execution_count": null,
   "metadata": {},
   "outputs": [],
   "source": [
    "import $ivy.`org.plotly-scala::plotly-almond:0.7.2`\n",
    "import $file.^.sparkinit, sparkinit._\n",
    "import $file.^.pathinit, pathinit._\n",
    "import $file.^.cpinit, cpinit._\n",
    "import ss.implicits._\n",
    "import org.apache.spark.sql.DataFrame\n",
    "import org.apache.spark.sql.functions._\n",
    "import java.nio.file.Paths\n",
    "import plotly._\n",
    "import plotly.element._\n",
    "import plotly.layout._\n",
    "import plotly.Almond._\n",
    "implicit class DFOPs(df: DataFrame) { def fn[T](fn: DataFrame => T): T = fn(df)}"
   ]
  },
  {
   "cell_type": "code",
   "execution_count": 2,
   "metadata": {},
   "outputs": [
    {
     "data": {
      "text/html": [
       "\n",
       "      <script type=\"text/javascript\">\n",
       "        require.config({\n",
       "  paths: {\n",
       "    d3: 'https://cdnjs.cloudflare.com/ajax/libs/d3/3.5.17/d3.min',\n",
       "    plotly: 'https://cdn.plot.ly/plotly-1.41.3.min',\n",
       "    jquery: 'https://code.jquery.com/jquery-3.3.1.min'\n",
       "  },\n",
       "\n",
       "  shim: {\n",
       "    plotly: {\n",
       "      deps: ['d3', 'jquery'],\n",
       "      exports: 'plotly'\n",
       "    }\n",
       "  }\n",
       "});\n",
       "        \n",
       "\n",
       "        require(['plotly'], function(Plotly) {\n",
       "          window.Plotly = Plotly;\n",
       "        });\n",
       "      </script>\n",
       "    "
      ]
     },
     "metadata": {},
     "output_type": "display_data"
    }
   ],
   "source": [
    "init(offline=false)"
   ]
  },
  {
   "cell_type": "markdown",
   "metadata": {},
   "source": [
    "### Load Summary Datasets"
   ]
  },
  {
   "cell_type": "code",
   "execution_count": 3,
   "metadata": {},
   "outputs": [
    {
     "data": {
      "text/html": [
       "<script>\n",
       "var comm = Jupyter.notebook.kernel.comm_manager.new_comm('cancel-stage-46e295fc-c0e6-45b4-b301-b9ab776a4eec', {});\n",
       "\n",
       "function cancelStage(stageId) {\n",
       "  console.log('Cancelling stage ' + stageId);\n",
       "  comm.send({ 'stageId': stageId });\n",
       "}\n",
       "</script>\n",
       "          "
      ]
     },
     "metadata": {},
     "output_type": "display_data"
    },
    {
     "data": {
      "text/html": [
       "<div>\n",
       "  <span style=\"float: left;\">parquet at cmd2.sc:7</span>\n",
       "</div>\n"
      ]
     },
     "metadata": {},
     "output_type": "display_data"
    },
    {
     "data": {
      "text/html": [
       "<div class=\"progress\">\n",
       "  <div class=\"progress-bar\" role=\"progressbar\" style=\"background-color: blue; width: 100%; word-wrap: normal; white-space: nowrap; text-align: center; color: white\" aria-valuenow=\"100\" aria-valuemin=\"0\" aria-valuemax=\"100\">\n",
       "    1 / 1\n",
       "  </div>\n",
       "  <div class=\"progress-bar\" role=\"progressbar\" style=\"background-color: red; width: 0%\" aria-valuenow=\"0\" aria-valuemin=\"0\" aria-valuemax=\"100\"></div>\n",
       "</div>\n"
      ]
     },
     "metadata": {},
     "output_type": "display_data"
    },
    {
     "data": {
      "text/html": [
       "<div>\n",
       "  <span style=\"float: left;\">parquet at cmd2.sc:7</span>\n",
       "</div>\n"
      ]
     },
     "metadata": {},
     "output_type": "display_data"
    },
    {
     "data": {
      "text/html": [
       "<div class=\"progress\">\n",
       "  <div class=\"progress-bar\" role=\"progressbar\" style=\"background-color: blue; width: 100%; word-wrap: normal; white-space: nowrap; text-align: center; color: white\" aria-valuenow=\"100\" aria-valuemin=\"0\" aria-valuemax=\"100\">\n",
       "    1 / 1\n",
       "  </div>\n",
       "  <div class=\"progress-bar\" role=\"progressbar\" style=\"background-color: red; width: 0%\" aria-valuenow=\"0\" aria-valuemin=\"0\" aria-valuemax=\"100\"></div>\n",
       "</div>\n"
      ]
     },
     "metadata": {},
     "output_type": "display_data"
    },
    {
     "data": {
      "text/html": [
       "<div>\n",
       "  <span style=\"float: left;\">parquet at cmd2.sc:7</span>\n",
       "</div>\n"
      ]
     },
     "metadata": {},
     "output_type": "display_data"
    },
    {
     "data": {
      "text/html": [
       "<div class=\"progress\">\n",
       "  <div class=\"progress-bar\" role=\"progressbar\" style=\"background-color: blue; width: 100%; word-wrap: normal; white-space: nowrap; text-align: center; color: white\" aria-valuenow=\"100\" aria-valuemin=\"0\" aria-valuemax=\"100\">\n",
       "    1 / 1\n",
       "  </div>\n",
       "  <div class=\"progress-bar\" role=\"progressbar\" style=\"background-color: red; width: 0%\" aria-valuenow=\"0\" aria-valuemin=\"0\" aria-valuemax=\"100\"></div>\n",
       "</div>\n"
      ]
     },
     "metadata": {},
     "output_type": "display_data"
    },
    {
     "data": {
      "text/html": [
       "<div>\n",
       "  <span style=\"float: left;\">parquet at cmd2.sc:7</span>\n",
       "</div>\n"
      ]
     },
     "metadata": {},
     "output_type": "display_data"
    },
    {
     "data": {
      "text/html": [
       "<div class=\"progress\">\n",
       "  <div class=\"progress-bar\" role=\"progressbar\" style=\"background-color: blue; width: 100%; word-wrap: normal; white-space: nowrap; text-align: center; color: white\" aria-valuenow=\"100\" aria-valuemin=\"0\" aria-valuemax=\"100\">\n",
       "    1 / 1\n",
       "  </div>\n",
       "  <div class=\"progress-bar\" role=\"progressbar\" style=\"background-color: red; width: 0%\" aria-valuenow=\"0\" aria-valuemin=\"0\" aria-valuemax=\"100\"></div>\n",
       "</div>\n"
      ]
     },
     "metadata": {},
     "output_type": "display_data"
    },
    {
     "data": {
      "text/plain": [
       "\u001b[36mregex\u001b[39m: \u001b[32mscala\u001b[39m.\u001b[32mutil\u001b[39m.\u001b[32mmatching\u001b[39m.\u001b[32mRegex\u001b[39m = .*evidence_(.*)_validation_.*\n",
       "\u001b[36msteps\u001b[39m: \u001b[32mSet\u001b[39m[\u001b[32mString\u001b[39m] = \u001b[33mSet\u001b[39m(\u001b[32m\"disease_id\"\u001b[39m, \u001b[32m\"schema\"\u001b[39m, \u001b[32m\"target_id\"\u001b[39m, \u001b[32m\"data_source\"\u001b[39m)\n",
       "defined \u001b[32mfunction\u001b[39m \u001b[36mloadSummary\u001b[39m\n",
       "\u001b[36mdf\u001b[39m: \u001b[32mDataFrame\u001b[39m = [sourceID: string, reason: string ... 2 more fields]"
      ]
     },
     "execution_count": 3,
     "metadata": {},
     "output_type": "execute_result"
    }
   ],
   "source": [
    "val regex = \".*evidence_(.*)_validation_.*\".r\n",
    "val steps = RESULTS_DIR.resolve(\"errors\").toFile.listFiles.map(_.toString).map({\n",
    "    case regex(k) => k\n",
    "    case _ => \"\"\n",
    "}).toSet\n",
    "def loadSummary(step: String) = ss.read\n",
    "    .parquet(RESULTS_DIR.resolve(s\"errors/evidence_${step}_validation_summary.parquet\").toString)\n",
    "    .withColumn(\"step\", lit(step))\n",
    "val df = steps.map(loadSummary).reduce(_.union(_))"
   ]
  },
  {
   "cell_type": "code",
   "execution_count": 4,
   "metadata": {
    "scrolled": false
   },
   "outputs": [
    {
     "data": {
      "text/html": [
       "<div>\n",
       "  <span style=\"float: left;\">show at cmd3.sc:1</span>\n",
       "</div>\n"
      ]
     },
     "metadata": {},
     "output_type": "display_data"
    },
    {
     "data": {
      "text/html": [
       "<div class=\"progress\">\n",
       "  <div class=\"progress-bar\" role=\"progressbar\" style=\"background-color: blue; width: 100%; word-wrap: normal; white-space: nowrap; text-align: center; color: white\" aria-valuenow=\"100\" aria-valuemin=\"0\" aria-valuemax=\"100\">\n",
       "    1 / 1\n",
       "  </div>\n",
       "  <div class=\"progress-bar\" role=\"progressbar\" style=\"background-color: red; width: 0%\" aria-valuenow=\"0\" aria-valuemin=\"0\" aria-valuemax=\"100\"></div>\n",
       "</div>\n"
      ]
     },
     "metadata": {},
     "output_type": "display_data"
    },
    {
     "data": {
      "text/html": [
       "<div>\n",
       "  <span style=\"float: left;\">show at cmd3.sc:1</span>\n",
       "</div>\n"
      ]
     },
     "metadata": {},
     "output_type": "display_data"
    },
    {
     "data": {
      "text/html": [
       "<div class=\"progress\">\n",
       "  <div class=\"progress-bar\" role=\"progressbar\" style=\"background-color: blue; width: 100%; word-wrap: normal; white-space: nowrap; text-align: center; color: white\" aria-valuenow=\"100\" aria-valuemin=\"0\" aria-valuemax=\"100\">\n",
       "    4 / 4\n",
       "  </div>\n",
       "  <div class=\"progress-bar\" role=\"progressbar\" style=\"background-color: red; width: 0%\" aria-valuenow=\"0\" aria-valuemin=\"0\" aria-valuemax=\"100\"></div>\n",
       "</div>\n"
      ]
     },
     "metadata": {},
     "output_type": "display_data"
    },
    {
     "data": {
      "text/html": [
       "<div>\n",
       "  <span style=\"float: left;\">show at cmd3.sc:1</span>\n",
       "</div>\n"
      ]
     },
     "metadata": {},
     "output_type": "display_data"
    },
    {
     "data": {
      "text/html": [
       "<div class=\"progress\">\n",
       "  <div class=\"progress-bar\" role=\"progressbar\" style=\"background-color: blue; width: 100%; word-wrap: normal; white-space: nowrap; text-align: center; color: white\" aria-valuenow=\"100\" aria-valuemin=\"0\" aria-valuemax=\"100\">\n",
       "    20 / 20\n",
       "  </div>\n",
       "  <div class=\"progress-bar\" role=\"progressbar\" style=\"background-color: red; width: 0%\" aria-valuenow=\"0\" aria-valuemin=\"0\" aria-valuemax=\"100\"></div>\n",
       "</div>\n"
      ]
     },
     "metadata": {},
     "output_type": "display_data"
    },
    {
     "data": {
      "text/html": [
       "<div>\n",
       "  <span style=\"float: left;\">show at cmd3.sc:1</span>\n",
       "</div>\n"
      ]
     },
     "metadata": {},
     "output_type": "display_data"
    },
    {
     "data": {
      "text/html": [
       "<div class=\"progress\">\n",
       "  <div class=\"progress-bar\" role=\"progressbar\" style=\"background-color: blue; width: 100%; word-wrap: normal; white-space: nowrap; text-align: center; color: white\" aria-valuenow=\"100\" aria-valuemin=\"0\" aria-valuemax=\"100\">\n",
       "    31 / 31\n",
       "  </div>\n",
       "  <div class=\"progress-bar\" role=\"progressbar\" style=\"background-color: red; width: 0%\" aria-valuenow=\"0\" aria-valuemin=\"0\" aria-valuemax=\"100\"></div>\n",
       "</div>\n"
      ]
     },
     "metadata": {},
     "output_type": "display_data"
    },
    {
     "name": "stdout",
     "output_type": "stream",
     "text": [
      "+------------------+------------------------------+-------+-----------+\n",
      "|sourceID          |reason                        |count  |step       |\n",
      "+------------------+------------------------------+-------+-----------+\n",
      "|uniprot_literature|id_not_found                  |10     |disease_id |\n",
      "|gene2phenotype    |id_not_found                  |3      |disease_id |\n",
      "|phewas_catalog    |id_not_found                  |8941   |disease_id |\n",
      "|cancer_gene_census|none                          |96274  |disease_id |\n",
      "|genomics_england  |id_not_found                  |522    |disease_id |\n",
      "|eva_somatic       |id_not_found                  |10     |disease_id |\n",
      "|phenodigm         |id_not_found                  |714    |disease_id |\n",
      "|europepmc         |id_not_found                  |106933 |disease_id |\n",
      "|cancer_gene_census|id_not_found                  |10     |disease_id |\n",
      "|crispr            |none                          |1844   |disease_id |\n",
      "|reactome          |id_not_found                  |30     |disease_id |\n",
      "|uniprot           |id_not_found                  |58     |disease_id |\n",
      "|progeny           |id_not_found                  |87     |disease_id |\n",
      "|gwas_catalog      |id_not_found                  |891    |disease_id |\n",
      "|sysbio            |none                          |409    |disease_id |\n",
      "|chembl            |id_not_found                  |3052   |disease_id |\n",
      "|uniprot_literature|none                          |4831   |disease_id |\n",
      "|eva               |id_not_found                  |124    |disease_id |\n",
      "|expression_atlas  |none                          |202648 |disease_id |\n",
      "|genomics_england  |none                          |10550  |disease_id |\n",
      "|uniprot_somatic   |none                          |284    |disease_id |\n",
      "|gene2phenotype    |none                          |1597   |disease_id |\n",
      "|phewas_catalog    |none                          |62024  |disease_id |\n",
      "|gwas_catalog      |none                          |192230 |disease_id |\n",
      "|eva_somatic       |none                          |7879   |disease_id |\n",
      "|slapenrich        |none                          |74570  |disease_id |\n",
      "|europepmc         |none                          |7744039|disease_id |\n",
      "|phenodigm         |none                          |501788 |disease_id |\n",
      "|reactome          |none                          |11019  |disease_id |\n",
      "|uniprot           |none                          |31600  |disease_id |\n",
      "|progeny           |none                          |319    |disease_id |\n",
      "|intogen           |none                          |2594   |disease_id |\n",
      "|chembl            |none                          |397350 |disease_id |\n",
      "|eva               |none                          |103233 |disease_id |\n",
      "|gene2phenotype    |noncompliance_with_json_schema|2      |schema     |\n",
      "|slapenrich        |noncompliance_with_json_schema|5      |schema     |\n",
      "|uniprot           |noncompliance_with_json_schema|7      |schema     |\n",
      "|cancer_gene_census|none                          |96284  |schema     |\n",
      "|uniprot_literature|none                          |4843   |schema     |\n",
      "|expression_atlas  |none                          |213490 |schema     |\n",
      "|genomics_england  |none                          |11079  |schema     |\n",
      "|uniprot_somatic   |none                          |284    |schema     |\n",
      "|gene2phenotype    |none                          |1601   |schema     |\n",
      "|phewas_catalog    |none                          |71027  |schema     |\n",
      "|gwas_catalog      |none                          |194170 |schema     |\n",
      "|null              |corrupt_json                  |1      |schema     |\n",
      "|eva_somatic       |none                          |7889   |schema     |\n",
      "|slapenrich        |none                          |74578  |schema     |\n",
      "|europepmc         |none                          |8814492|schema     |\n",
      "|phenodigm         |none                          |502550 |schema     |\n",
      "|reactome          |none                          |11049  |schema     |\n",
      "|intogen           |none                          |2594   |schema     |\n",
      "|progeny           |none                          |406    |schema     |\n",
      "|uniprot           |none                          |31658  |schema     |\n",
      "|crispr            |none                          |1844   |schema     |\n",
      "|chembl            |none                          |400440 |schema     |\n",
      "|sysbio            |none                          |409    |schema     |\n",
      "|eva               |none                          |103358 |schema     |\n",
      "|expression_atlas  |biotype_exclusion             |10391  |target_id  |\n",
      "|uniprot_literature|id_not_found                  |2      |target_id  |\n",
      "|expression_atlas  |id_not_found                  |451    |target_id  |\n",
      "|phewas_catalog    |id_not_found                  |62     |target_id  |\n",
      "|gene2phenotype    |id_not_found                  |1      |target_id  |\n",
      "|cancer_gene_census|none                          |96284  |target_id  |\n",
      "|genomics_england  |id_not_found                  |7      |target_id  |\n",
      "|slapenrich        |id_not_found                  |8      |target_id  |\n",
      "|phenodigm         |id_not_found                  |48     |target_id  |\n",
      "|europepmc         |id_not_found                  |963520 |target_id  |\n",
      "|gwas_catalog      |id_not_found                  |1049   |target_id  |\n",
      "|sysbio            |none                          |409    |target_id  |\n",
      "|chembl            |id_not_found                  |38     |target_id  |\n",
      "|uniprot_literature|none                          |4841   |target_id  |\n",
      "|eva               |id_not_found                  |1      |target_id  |\n",
      "|expression_atlas  |none                          |202648 |target_id  |\n",
      "|genomics_england  |none                          |11072  |target_id  |\n",
      "|uniprot_somatic   |none                          |284    |target_id  |\n",
      "|gene2phenotype    |none                          |1600   |target_id  |\n",
      "|phewas_catalog    |none                          |70965  |target_id  |\n",
      "|gwas_catalog      |none                          |193121 |target_id  |\n",
      "|eva_somatic       |none                          |7889   |target_id  |\n",
      "|slapenrich        |none                          |74570  |target_id  |\n",
      "|phenodigm         |none                          |502502 |target_id  |\n",
      "|europepmc         |none                          |7850972|target_id  |\n",
      "|reactome          |none                          |11049  |target_id  |\n",
      "|progeny           |none                          |406    |target_id  |\n",
      "|intogen           |none                          |2594   |target_id  |\n",
      "|uniprot           |none                          |31658  |target_id  |\n",
      "|crispr            |none                          |1844   |target_id  |\n",
      "|chembl            |none                          |400402 |target_id  |\n",
      "|eva               |none                          |103357 |target_id  |\n",
      "|cancer_gene_census|none                          |96274  |data_source|\n",
      "|uniprot_literature|none                          |4831   |data_source|\n",
      "|expression_atlas  |none                          |202648 |data_source|\n",
      "|genomics_england  |none                          |10550  |data_source|\n",
      "|uniprot_somatic   |none                          |284    |data_source|\n",
      "|gene2phenotype    |none                          |1597   |data_source|\n",
      "|phewas_catalog    |none                          |62024  |data_source|\n",
      "|gwas_catalog      |none                          |192230 |data_source|\n",
      "|eva_somatic       |none                          |7879   |data_source|\n",
      "|slapenrich        |none                          |74570  |data_source|\n",
      "|europepmc         |none                          |7744039|data_source|\n",
      "|phenodigm         |none                          |501788 |data_source|\n",
      "|reactome          |none                          |11019  |data_source|\n",
      "|uniprot           |none                          |31600  |data_source|\n",
      "|intogen           |none                          |2594   |data_source|\n",
      "|progeny           |none                          |319    |data_source|\n",
      "|crispr            |none                          |1844   |data_source|\n",
      "|chembl            |none                          |397350 |data_source|\n",
      "|sysbio            |none                          |409    |data_source|\n",
      "|eva               |none                          |103233 |data_source|\n",
      "+------------------+------------------------------+-------+-----------+\n"
     ]
    },
    {
     "name": "stdout",
     "output_type": "stream",
     "text": [
      "\n"
     ]
    }
   ],
   "source": [
    "df.withColumn(\"reason\", coalesce($\"reason\", lit(\"none\"))).show(1000, false)"
   ]
  },
  {
   "cell_type": "markdown",
   "metadata": {},
   "source": [
    "### Record Invalidation Cause Frequency by Source\n",
    "\n",
    "Evidence records are eliminated in the pipeline for a variety of reasons, and this section shows the the frequency with which those conditions are encountered per data source.  Reason = \"none\" below indicates that the record passed all validation filters (i.e. only these records are kept, all others are lost)."
   ]
  },
  {
   "cell_type": "code",
   "execution_count": null,
   "metadata": {},
   "outputs": [],
   "source": [
    "// Visualize the number of records with some reason they were invalid alongside those that were not (reason = \"none\")\n",
    "val traces = df.select(\"step\").dropDuplicates().collect().map(_.getAs[String](\"step\")).toList.map(s => \n",
    "        df\n",
    "            .withColumn(\"reason\", coalesce($\"reason\", lit(\"none\")))\n",
    "            .withColumn(\"sourceID\", coalesce($\"sourceID\", lit(\"none\")))\n",
    "            .filter($\"step\" === s)\n",
    "            .fn(ds => {\n",
    "                s -> ds.select(\"reason\").dropDuplicates().collect.map(_.getAs[String](\"reason\")).toSeq.map(r => {\n",
    "                    ds\n",
    "                        .filter($\"reason\" === r)\n",
    "                        .sort($\"count\".desc)\n",
    "                        .fn( dsr => {\n",
    "                            Bar(\n",
    "                                x=dsr.select(\"sourceID\").collect.map(_.getAs[String](\"sourceID\")).toList,\n",
    "                                y=dsr.select(\"count\").collect.map(_.getAs[Long](\"count\")).toList,\n",
    "                                name=r,\n",
    "                                showlegend=true\n",
    "                            )\n",
    "                        })\n",
    "                })\n",
    "            })\n",
    "    ).toMap"
   ]
  },
  {
   "cell_type": "code",
   "execution_count": 6,
   "metadata": {
    "scrolled": false
   },
   "outputs": [
    {
     "data": {
      "application/vnd.plotly.v1+json": {
       "data": [
        {
         "name": "id_not_found",
         "showlegend": true,
         "type": "bar",
         "x": [
          "europepmc",
          "phewas_catalog",
          "chembl",
          "gwas_catalog",
          "phenodigm",
          "genomics_england",
          "eva",
          "progeny",
          "uniprot",
          "reactome",
          "uniprot_literature",
          "eva_somatic",
          "cancer_gene_census",
          "gene2phenotype"
         ],
         "y": [
          106933,
          8941,
          3052,
          891,
          714,
          522,
          124,
          87,
          58,
          30,
          10,
          10,
          10,
          3
         ]
        },
        {
         "name": "none",
         "showlegend": true,
         "type": "bar",
         "x": [
          "europepmc",
          "phenodigm",
          "chembl",
          "expression_atlas",
          "gwas_catalog",
          "eva",
          "cancer_gene_census",
          "slapenrich",
          "phewas_catalog",
          "uniprot",
          "reactome",
          "genomics_england",
          "eva_somatic",
          "uniprot_literature",
          "intogen",
          "crispr",
          "gene2phenotype",
          "sysbio",
          "progeny",
          "uniprot_somatic"
         ],
         "y": [
          7744039,
          501788,
          397350,
          202648,
          192230,
          103233,
          96274,
          74570,
          62024,
          31600,
          11019,
          10550,
          7879,
          4831,
          2594,
          1844,
          1597,
          409,
          319,
          284
         ]
        }
       ],
       "layout": {
        "barmode": "group",
        "margin": {
         "t": 40
        },
        "title": "Validation phase: disease_id",
        "yaxis": {
         "type": "log"
        }
       }
      },
      "text/html": [
       "<div class=\"chart\" id=\"plot-7ee473b1-a6e3-41d1-b3b5-09cb12899bb1\"></div>\n",
       "<script>require(['plotly'], function(Plotly) {\n",
       "  (function () {\n",
       "  var data0 = {\"x\":[\"europepmc\",\"phewas_catalog\",\"chembl\",\"gwas_catalog\",\"phenodigm\",\"genomics_england\",\"eva\",\"progeny\",\"uniprot\",\"reactome\",\"uniprot_literature\",\"eva_somatic\",\"cancer_gene_census\",\"gene2phenotype\"],\"name\":\"id_not_found\",\"y\":[106933.0,8941.0,3052.0,891.0,714.0,522.0,124.0,87.0,58.0,30.0,10.0,10.0,10.0,3.0],\"type\":\"bar\",\"showlegend\":true};\n",
       "  var data1 = {\"x\":[\"europepmc\",\"phenodigm\",\"chembl\",\"expression_atlas\",\"gwas_catalog\",\"eva\",\"cancer_gene_census\",\"slapenrich\",\"phewas_catalog\",\"uniprot\",\"reactome\",\"genomics_england\",\"eva_somatic\",\"uniprot_literature\",\"intogen\",\"crispr\",\"gene2phenotype\",\"sysbio\",\"progeny\",\"uniprot_somatic\"],\"name\":\"none\",\"y\":[7744039.0,501788.0,397350.0,202648.0,192230.0,103233.0,96274.0,74570.0,62024.0,31600.0,11019.0,10550.0,7879.0,4831.0,2594.0,1844.0,1597.0,409.0,319.0,284.0],\"type\":\"bar\",\"showlegend\":true};\n",
       "\n",
       "  var data = [data0, data1];\n",
       "  var layout = {\"margin\":{\"t\":40},\"barmode\":\"group\",\"title\":\"Validation phase: disease_id\",\"yaxis\":{\"type\":\"log\"}};\n",
       "\n",
       "  Plotly.plot('plot-7ee473b1-a6e3-41d1-b3b5-09cb12899bb1', data, layout);\n",
       "})();\n",
       "});\n",
       "      </script>\n",
       "           "
      ]
     },
     "metadata": {},
     "output_type": "display_data"
    },
    {
     "data": {
      "application/vnd.plotly.v1+json": {
       "data": [
        {
         "name": "noncompliance_with_json_schema",
         "showlegend": true,
         "type": "bar",
         "x": [
          "uniprot",
          "slapenrich",
          "gene2phenotype"
         ],
         "y": [
          7,
          5,
          2
         ]
        },
        {
         "name": "none",
         "showlegend": true,
         "type": "bar",
         "x": [
          "europepmc",
          "phenodigm",
          "chembl",
          "expression_atlas",
          "gwas_catalog",
          "eva",
          "cancer_gene_census",
          "slapenrich",
          "phewas_catalog",
          "uniprot",
          "genomics_england",
          "reactome",
          "eva_somatic",
          "uniprot_literature",
          "intogen",
          "crispr",
          "gene2phenotype",
          "sysbio",
          "progeny",
          "uniprot_somatic"
         ],
         "y": [
          8814492,
          502550,
          400440,
          213490,
          194170,
          103358,
          96284,
          74578,
          71027,
          31658,
          11079,
          11049,
          7889,
          4843,
          2594,
          1844,
          1601,
          409,
          406,
          284
         ]
        },
        {
         "name": "corrupt_json",
         "showlegend": true,
         "type": "bar",
         "x": [
          "none"
         ],
         "y": [
          1
         ]
        }
       ],
       "layout": {
        "barmode": "group",
        "margin": {
         "t": 40
        },
        "title": "Validation phase: schema",
        "yaxis": {
         "type": "log"
        }
       }
      },
      "text/html": [
       "<div class=\"chart\" id=\"plot-f3944117-8b0e-4184-ad48-31937de27f82\"></div>\n",
       "<script>require(['plotly'], function(Plotly) {\n",
       "  (function () {\n",
       "  var data0 = {\"x\":[\"uniprot\",\"slapenrich\",\"gene2phenotype\"],\"name\":\"noncompliance_with_json_schema\",\"y\":[7.0,5.0,2.0],\"type\":\"bar\",\"showlegend\":true};\n",
       "  var data1 = {\"x\":[\"europepmc\",\"phenodigm\",\"chembl\",\"expression_atlas\",\"gwas_catalog\",\"eva\",\"cancer_gene_census\",\"slapenrich\",\"phewas_catalog\",\"uniprot\",\"genomics_england\",\"reactome\",\"eva_somatic\",\"uniprot_literature\",\"intogen\",\"crispr\",\"gene2phenotype\",\"sysbio\",\"progeny\",\"uniprot_somatic\"],\"name\":\"none\",\"y\":[8814492.0,502550.0,400440.0,213490.0,194170.0,103358.0,96284.0,74578.0,71027.0,31658.0,11079.0,11049.0,7889.0,4843.0,2594.0,1844.0,1601.0,409.0,406.0,284.0],\"type\":\"bar\",\"showlegend\":true};\n",
       "  var data2 = {\"x\":[\"none\"],\"name\":\"corrupt_json\",\"y\":[1.0],\"type\":\"bar\",\"showlegend\":true};\n",
       "\n",
       "  var data = [data0, data1, data2];\n",
       "  var layout = {\"margin\":{\"t\":40},\"barmode\":\"group\",\"title\":\"Validation phase: schema\",\"yaxis\":{\"type\":\"log\"}};\n",
       "\n",
       "  Plotly.plot('plot-f3944117-8b0e-4184-ad48-31937de27f82', data, layout);\n",
       "})();\n",
       "});\n",
       "      </script>\n",
       "           "
      ]
     },
     "metadata": {},
     "output_type": "display_data"
    },
    {
     "data": {
      "application/vnd.plotly.v1+json": {
       "data": [
        {
         "name": "biotype_exclusion",
         "showlegend": true,
         "type": "bar",
         "x": [
          "expression_atlas"
         ],
         "y": [
          10391
         ]
        },
        {
         "name": "id_not_found",
         "showlegend": true,
         "type": "bar",
         "x": [
          "europepmc",
          "gwas_catalog",
          "expression_atlas",
          "phewas_catalog",
          "phenodigm",
          "chembl",
          "slapenrich",
          "genomics_england",
          "uniprot_literature",
          "gene2phenotype",
          "eva"
         ],
         "y": [
          963520,
          1049,
          451,
          62,
          48,
          38,
          8,
          7,
          2,
          1,
          1
         ]
        },
        {
         "name": "none",
         "showlegend": true,
         "type": "bar",
         "x": [
          "europepmc",
          "phenodigm",
          "chembl",
          "expression_atlas",
          "gwas_catalog",
          "eva",
          "cancer_gene_census",
          "slapenrich",
          "phewas_catalog",
          "uniprot",
          "genomics_england",
          "reactome",
          "eva_somatic",
          "uniprot_literature",
          "intogen",
          "crispr",
          "gene2phenotype",
          "sysbio",
          "progeny",
          "uniprot_somatic"
         ],
         "y": [
          7850972,
          502502,
          400402,
          202648,
          193121,
          103357,
          96284,
          74570,
          70965,
          31658,
          11072,
          11049,
          7889,
          4841,
          2594,
          1844,
          1600,
          409,
          406,
          284
         ]
        }
       ],
       "layout": {
        "barmode": "group",
        "margin": {
         "t": 40
        },
        "title": "Validation phase: target_id",
        "yaxis": {
         "type": "log"
        }
       }
      },
      "text/html": [
       "<div class=\"chart\" id=\"plot-b2af4d62-2837-4225-9b23-2b795dc0f33f\"></div>\n",
       "<script>require(['plotly'], function(Plotly) {\n",
       "  (function () {\n",
       "  var data0 = {\"x\":[\"expression_atlas\"],\"name\":\"biotype_exclusion\",\"y\":[10391.0],\"type\":\"bar\",\"showlegend\":true};\n",
       "  var data1 = {\"x\":[\"europepmc\",\"gwas_catalog\",\"expression_atlas\",\"phewas_catalog\",\"phenodigm\",\"chembl\",\"slapenrich\",\"genomics_england\",\"uniprot_literature\",\"gene2phenotype\",\"eva\"],\"name\":\"id_not_found\",\"y\":[963520.0,1049.0,451.0,62.0,48.0,38.0,8.0,7.0,2.0,1.0,1.0],\"type\":\"bar\",\"showlegend\":true};\n",
       "  var data2 = {\"x\":[\"europepmc\",\"phenodigm\",\"chembl\",\"expression_atlas\",\"gwas_catalog\",\"eva\",\"cancer_gene_census\",\"slapenrich\",\"phewas_catalog\",\"uniprot\",\"genomics_england\",\"reactome\",\"eva_somatic\",\"uniprot_literature\",\"intogen\",\"crispr\",\"gene2phenotype\",\"sysbio\",\"progeny\",\"uniprot_somatic\"],\"name\":\"none\",\"y\":[7850972.0,502502.0,400402.0,202648.0,193121.0,103357.0,96284.0,74570.0,70965.0,31658.0,11072.0,11049.0,7889.0,4841.0,2594.0,1844.0,1600.0,409.0,406.0,284.0],\"type\":\"bar\",\"showlegend\":true};\n",
       "\n",
       "  var data = [data0, data1, data2];\n",
       "  var layout = {\"margin\":{\"t\":40},\"barmode\":\"group\",\"title\":\"Validation phase: target_id\",\"yaxis\":{\"type\":\"log\"}};\n",
       "\n",
       "  Plotly.plot('plot-b2af4d62-2837-4225-9b23-2b795dc0f33f', data, layout);\n",
       "})();\n",
       "});\n",
       "      </script>\n",
       "           "
      ]
     },
     "metadata": {},
     "output_type": "display_data"
    },
    {
     "data": {
      "application/vnd.plotly.v1+json": {
       "data": [
        {
         "name": "none",
         "showlegend": true,
         "type": "bar",
         "x": [
          "europepmc",
          "phenodigm",
          "chembl",
          "expression_atlas",
          "gwas_catalog",
          "eva",
          "cancer_gene_census",
          "slapenrich",
          "phewas_catalog",
          "uniprot",
          "reactome",
          "genomics_england",
          "eva_somatic",
          "uniprot_literature",
          "intogen",
          "crispr",
          "gene2phenotype",
          "sysbio",
          "progeny",
          "uniprot_somatic"
         ],
         "y": [
          7744039,
          501788,
          397350,
          202648,
          192230,
          103233,
          96274,
          74570,
          62024,
          31600,
          11019,
          10550,
          7879,
          4831,
          2594,
          1844,
          1597,
          409,
          319,
          284
         ]
        }
       ],
       "layout": {
        "barmode": "group",
        "margin": {
         "t": 40
        },
        "title": "Validation phase: data_source",
        "yaxis": {
         "type": "log"
        }
       }
      },
      "text/html": [
       "<div class=\"chart\" id=\"plot-9be40457-87d9-4dae-9fb5-4690eb4fa61e\"></div>\n",
       "<script>require(['plotly'], function(Plotly) {\n",
       "  (function () {\n",
       "  var data0 = {\"x\":[\"europepmc\",\"phenodigm\",\"chembl\",\"expression_atlas\",\"gwas_catalog\",\"eva\",\"cancer_gene_census\",\"slapenrich\",\"phewas_catalog\",\"uniprot\",\"reactome\",\"genomics_england\",\"eva_somatic\",\"uniprot_literature\",\"intogen\",\"crispr\",\"gene2phenotype\",\"sysbio\",\"progeny\",\"uniprot_somatic\"],\"name\":\"none\",\"y\":[7744039.0,501788.0,397350.0,202648.0,192230.0,103233.0,96274.0,74570.0,62024.0,31600.0,11019.0,10550.0,7879.0,4831.0,2594.0,1844.0,1597.0,409.0,319.0,284.0],\"type\":\"bar\",\"showlegend\":true};\n",
       "\n",
       "  var data = [data0];\n",
       "  var layout = {\"margin\":{\"t\":40},\"barmode\":\"group\",\"title\":\"Validation phase: data_source\",\"yaxis\":{\"type\":\"log\"}};\n",
       "\n",
       "  Plotly.plot('plot-9be40457-87d9-4dae-9fb5-4690eb4fa61e', data, layout);\n",
       "})();\n",
       "});\n",
       "      </script>\n",
       "           "
      ]
     },
     "metadata": {},
     "output_type": "display_data"
    }
   ],
   "source": [
    "traces.foreach {case (k, data) => {\n",
    "    data.plot(\n",
    "        title=s\"Validation phase: $k\", \n",
    "        yaxis=Axis(`type`=AxisType.Log),\n",
    "        margin=Margin(t=40),\n",
    "        barmode=BarMode.Group\n",
    "    )\n",
    "}}"
   ]
  },
  {
   "cell_type": "markdown",
   "metadata": {},
   "source": [
    "Show only non-valid record counts for reference:"
   ]
  },
  {
   "cell_type": "code",
   "execution_count": 7,
   "metadata": {},
   "outputs": [
    {
     "data": {
      "text/html": [
       "<div>\n",
       "  <span style=\"float: left;\">show at cmd6.sc:1</span>\n",
       "</div>\n"
      ]
     },
     "metadata": {},
     "output_type": "display_data"
    },
    {
     "data": {
      "text/html": [
       "<div class=\"progress\">\n",
       "  <div class=\"progress-bar\" role=\"progressbar\" style=\"background-color: blue; width: 100%; word-wrap: normal; white-space: nowrap; text-align: center; color: white\" aria-valuenow=\"100\" aria-valuemin=\"0\" aria-valuemax=\"100\">\n",
       "    1 / 1\n",
       "  </div>\n",
       "  <div class=\"progress-bar\" role=\"progressbar\" style=\"background-color: red; width: 0%\" aria-valuenow=\"0\" aria-valuemin=\"0\" aria-valuemax=\"100\"></div>\n",
       "</div>\n"
      ]
     },
     "metadata": {},
     "output_type": "display_data"
    },
    {
     "data": {
      "text/html": [
       "<div>\n",
       "  <span style=\"float: left;\">show at cmd6.sc:1</span>\n",
       "</div>\n"
      ]
     },
     "metadata": {},
     "output_type": "display_data"
    },
    {
     "data": {
      "text/html": [
       "<div class=\"progress\">\n",
       "  <div class=\"progress-bar\" role=\"progressbar\" style=\"background-color: blue; width: 100%; word-wrap: normal; white-space: nowrap; text-align: center; color: white\" aria-valuenow=\"100\" aria-valuemin=\"0\" aria-valuemax=\"100\">\n",
       "    4 / 4\n",
       "  </div>\n",
       "  <div class=\"progress-bar\" role=\"progressbar\" style=\"background-color: red; width: 0%\" aria-valuenow=\"0\" aria-valuemin=\"0\" aria-valuemax=\"100\"></div>\n",
       "</div>\n"
      ]
     },
     "metadata": {},
     "output_type": "display_data"
    },
    {
     "data": {
      "text/html": [
       "<div>\n",
       "  <span style=\"float: left;\">show at cmd6.sc:1</span>\n",
       "</div>\n"
      ]
     },
     "metadata": {},
     "output_type": "display_data"
    },
    {
     "data": {
      "text/html": [
       "<div class=\"progress\">\n",
       "  <div class=\"progress-bar\" role=\"progressbar\" style=\"background-color: blue; width: 100%; word-wrap: normal; white-space: nowrap; text-align: center; color: white\" aria-valuenow=\"100\" aria-valuemin=\"0\" aria-valuemax=\"100\">\n",
       "    20 / 20\n",
       "  </div>\n",
       "  <div class=\"progress-bar\" role=\"progressbar\" style=\"background-color: red; width: 0%\" aria-valuenow=\"0\" aria-valuemin=\"0\" aria-valuemax=\"100\"></div>\n",
       "</div>\n"
      ]
     },
     "metadata": {},
     "output_type": "display_data"
    },
    {
     "data": {
      "text/html": [
       "<div>\n",
       "  <span style=\"float: left;\">show at cmd6.sc:1</span>\n",
       "</div>\n"
      ]
     },
     "metadata": {},
     "output_type": "display_data"
    },
    {
     "data": {
      "text/html": [
       "<div class=\"progress\">\n",
       "  <div class=\"progress-bar\" role=\"progressbar\" style=\"background-color: blue; width: 100%; word-wrap: normal; white-space: nowrap; text-align: center; color: white\" aria-valuenow=\"100\" aria-valuemin=\"0\" aria-valuemax=\"100\">\n",
       "    31 / 31\n",
       "  </div>\n",
       "  <div class=\"progress-bar\" role=\"progressbar\" style=\"background-color: red; width: 0%\" aria-valuenow=\"0\" aria-valuemin=\"0\" aria-valuemax=\"100\"></div>\n",
       "</div>\n"
      ]
     },
     "metadata": {},
     "output_type": "display_data"
    },
    {
     "name": "stdout",
     "output_type": "stream",
     "text": [
      "+------------------+------------------------------+------+----------+\n",
      "|sourceID          |reason                        |count |step      |\n",
      "+------------------+------------------------------+------+----------+\n",
      "|uniprot_literature|id_not_found                  |10    |disease_id|\n",
      "|gene2phenotype    |id_not_found                  |3     |disease_id|\n",
      "|phewas_catalog    |id_not_found                  |8941  |disease_id|\n",
      "|genomics_england  |id_not_found                  |522   |disease_id|\n",
      "|eva_somatic       |id_not_found                  |10    |disease_id|\n",
      "|phenodigm         |id_not_found                  |714   |disease_id|\n",
      "|europepmc         |id_not_found                  |106933|disease_id|\n",
      "|cancer_gene_census|id_not_found                  |10    |disease_id|\n",
      "|reactome          |id_not_found                  |30    |disease_id|\n",
      "|uniprot           |id_not_found                  |58    |disease_id|\n",
      "|progeny           |id_not_found                  |87    |disease_id|\n",
      "|gwas_catalog      |id_not_found                  |891   |disease_id|\n",
      "|chembl            |id_not_found                  |3052  |disease_id|\n",
      "|eva               |id_not_found                  |124   |disease_id|\n",
      "|gene2phenotype    |noncompliance_with_json_schema|2     |schema    |\n",
      "|slapenrich        |noncompliance_with_json_schema|5     |schema    |\n",
      "|uniprot           |noncompliance_with_json_schema|7     |schema    |\n",
      "|null              |corrupt_json                  |1     |schema    |\n",
      "|expression_atlas  |biotype_exclusion             |10391 |target_id |\n",
      "|uniprot_literature|id_not_found                  |2     |target_id |\n",
      "|expression_atlas  |id_not_found                  |451   |target_id |\n",
      "|phewas_catalog    |id_not_found                  |62    |target_id |\n",
      "|gene2phenotype    |id_not_found                  |1     |target_id |\n",
      "|genomics_england  |id_not_found                  |7     |target_id |\n",
      "|slapenrich        |id_not_found                  |8     |target_id |\n",
      "|phenodigm         |id_not_found                  |48    |target_id |\n",
      "|europepmc         |id_not_found                  |963520|target_id |\n",
      "|gwas_catalog      |id_not_found                  |1049  |target_id |\n",
      "|chembl            |id_not_found                  |38    |target_id |\n",
      "|eva               |id_not_found                  |1     |target_id |\n",
      "+------------------+------------------------------+------+----------+\n",
      "\n"
     ]
    }
   ],
   "source": [
    "df.filter($\"reason\".isNotNull).show(100, false)"
   ]
  }
 ],
 "metadata": {
  "kernelspec": {
   "display_name": "Scala",
   "language": "scala",
   "name": "scala"
  },
  "language_info": {
   "codemirror_mode": "text/x-scala",
   "file_extension": ".scala",
   "mimetype": "text/x-scala",
   "name": "scala",
   "nbconvert_exporter": "script",
   "version": "2.12.10"
  }
 },
 "nbformat": 4,
 "nbformat_minor": 4
}
