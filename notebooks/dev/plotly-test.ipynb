{
 "cells": [
  {
   "cell_type": "markdown",
   "metadata": {},
   "source": [
    "## Plotly Experiments"
   ]
  },
  {
   "cell_type": "markdown",
   "metadata": {},
   "source": [
    "#### Custom Plots\n",
    "\n",
    "This heatmap was added to [Trace.scala](https://github.com/alexarchambault/plotly-scala/blob/master/core/shared/src/main/scala/plotly/Trace.scala) in a fork of [plotly-scala](https://github.com/alexarchambault/plotly-scala) and built to local ivy2 repo ([commit](https://github.com/eric-czech/plotly-scala/commit/8d44071505e6993ca856c3a3cd324f52c989c144)).\n",
    "\n",
    "Plot.ly heatmap docs: https://plot.ly/python/reference/#heatmap\n",
    "\n",
    "#### Build Notes\n",
    "\n",
    "- Clone via ```git clone --recursive git@github.com:eric-czech/plotly-scala.git```\n",
    "- To build: \n",
    "```\n",
    "cd plotly-scala\n",
    "./sbt ++2.12.10 compile publishLocal  # for specific Scala version with publish to local ivy (publishM2 for maven)\n",
    "./sbt +compile publishLocal           # for all supported Scala versions\n",
    "```\n",
    "- See project/Settings.scala for supported Scala versions\n",
    "- A resolver for ```$HOME/.ivy2/local``` is already registered by default for Almond"
   ]
  },
  {
   "cell_type": "code",
   "execution_count": 1,
   "metadata": {},
   "outputs": [
    {
     "data": {
      "text/plain": [
       "\u001b[32mimport \u001b[39m\u001b[36m$ivy.$                                                                         \n",
       "\u001b[39m\n",
       "\u001b[32mimport \u001b[39m\u001b[36mplotly._\n",
       "\u001b[39m\n",
       "\u001b[32mimport \u001b[39m\u001b[36mplotly.element._\n",
       "\u001b[39m\n",
       "\u001b[32mimport \u001b[39m\u001b[36mplotly.layout._\n",
       "\u001b[39m\n",
       "\u001b[32mimport \u001b[39m\u001b[36mplotly.Almond._\u001b[39m"
      ]
     },
     "execution_count": 1,
     "metadata": {},
     "output_type": "execute_result"
    }
   ],
   "source": [
    "import $ivy.`org.plotly-scala::plotly-almond:0.7.2+14-f7dd66d6+20191231-1358-SNAPSHOT`\n",
    "import plotly._\n",
    "import plotly.element._\n",
    "import plotly.layout._\n",
    "import plotly.Almond._"
   ]
  },
  {
   "cell_type": "code",
   "execution_count": 2,
   "metadata": {},
   "outputs": [
    {
     "data": {
      "text/html": [
       "\n",
       "      <script type=\"text/javascript\">\n",
       "        require.config({\n",
       "  paths: {\n",
       "    d3: 'https://cdnjs.cloudflare.com/ajax/libs/d3/3.5.17/d3.min',\n",
       "    plotly: 'https://cdn.plot.ly/plotly-1.41.3.min',\n",
       "    jquery: 'https://code.jquery.com/jquery-3.3.1.min'\n",
       "  },\n",
       "\n",
       "  shim: {\n",
       "    plotly: {\n",
       "      deps: ['d3', 'jquery'],\n",
       "      exports: 'plotly'\n",
       "    }\n",
       "  }\n",
       "});\n",
       "        \n",
       "\n",
       "        require(['plotly'], function(Plotly) {\n",
       "          window.Plotly = Plotly;\n",
       "        });\n",
       "      </script>\n",
       "    "
      ]
     },
     "metadata": {},
     "output_type": "display_data"
    },
    {
     "data": {
      "application/vnd.plotly.v1+json": {
       "data": [
        {
         "type": "heatmap",
         "x": [
          "xa",
          "xb",
          "xc",
          "xa",
          "xb",
          "xc"
         ],
         "y": [
          "ya",
          "ya",
          "ya",
          "yb",
          "yb",
          "yb"
         ],
         "z": [
          1,
          2,
          3,
          4,
          5,
          6
         ]
        }
       ],
       "layout": {}
      },
      "text/html": [
       "<div class=\"chart\" id=\"plot-da55afba-e5d9-41ff-a40f-8834bf9e5ea8\"></div>\n",
       "<script>require(['plotly'], function(Plotly) {\n",
       "  (function () {\n",
       "  var data0 = {\"x\":[\"xa\",\"xb\",\"xc\",\"xa\",\"xb\",\"xc\"],\"y\":[\"ya\",\"ya\",\"ya\",\"yb\",\"yb\",\"yb\"],\"type\":\"heatmap\",\"z\":[1.0,2.0,3.0,4.0,5.0,6.0]};\n",
       "\n",
       "  var data = [data0];\n",
       "  var layout = {};\n",
       "\n",
       "  Plotly.plot('plot-da55afba-e5d9-41ff-a40f-8834bf9e5ea8', data, layout);\n",
       "})();\n",
       "});\n",
       "      </script>\n",
       "           "
      ]
     },
     "metadata": {},
     "output_type": "display_data"
    },
    {
     "data": {
      "text/plain": [
       "\u001b[36mx\u001b[39m: \u001b[32mSeq\u001b[39m[\u001b[32mString\u001b[39m] = \u001b[33mList\u001b[39m(\u001b[32m\"xa\"\u001b[39m, \u001b[32m\"xb\"\u001b[39m, \u001b[32m\"xc\"\u001b[39m, \u001b[32m\"xa\"\u001b[39m, \u001b[32m\"xb\"\u001b[39m, \u001b[32m\"xc\"\u001b[39m)\n",
       "\u001b[36my\u001b[39m: \u001b[32mSeq\u001b[39m[\u001b[32mString\u001b[39m] = \u001b[33mList\u001b[39m(\u001b[32m\"ya\"\u001b[39m, \u001b[32m\"ya\"\u001b[39m, \u001b[32m\"ya\"\u001b[39m, \u001b[32m\"yb\"\u001b[39m, \u001b[32m\"yb\"\u001b[39m, \u001b[32m\"yb\"\u001b[39m)\n",
       "\u001b[36mz\u001b[39m: \u001b[32mSeq\u001b[39m[\u001b[32mInt\u001b[39m] = \u001b[33mList\u001b[39m(\u001b[32m1\u001b[39m, \u001b[32m2\u001b[39m, \u001b[32m3\u001b[39m, \u001b[32m4\u001b[39m, \u001b[32m5\u001b[39m, \u001b[32m6\u001b[39m)\n",
       "\u001b[36mres1_3\u001b[39m: \u001b[32mString\u001b[39m = \u001b[32m\"plot-da55afba-e5d9-41ff-a40f-8834bf9e5ea8\"\u001b[39m"
      ]
     },
     "execution_count": 2,
     "metadata": {},
     "output_type": "execute_result"
    }
   ],
   "source": [
    "val x = Seq(\"xa\", \"xb\", \"xc\", \"xa\", \"xb\", \"xc\")\n",
    "val y = Seq(\"ya\", \"ya\", \"ya\", \"yb\", \"yb\", \"yb\")\n",
    "val z = Seq(1, 2, 3, 4, 5, 6)\n",
    "Heatmap(y, x, z).plot()"
   ]
  }
 ],
 "metadata": {
  "kernelspec": {
   "display_name": "Scala",
   "language": "scala",
   "name": "scala"
  },
  "language_info": {
   "codemirror_mode": "text/x-scala",
   "file_extension": ".scala",
   "mimetype": "text/x-scala",
   "name": "scala",
   "nbconvert_exporter": "script",
   "version": "2.12.10"
  }
 },
 "nbformat": 4,
 "nbformat_minor": 4
}
