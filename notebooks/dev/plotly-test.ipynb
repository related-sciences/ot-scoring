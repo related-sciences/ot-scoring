{
 "cells": [
  {
   "cell_type": "markdown",
   "metadata": {},
   "source": [
    "## Plotly Experiments"
   ]
  },
  {
   "cell_type": "markdown",
   "metadata": {},
   "source": [
    "#### Custom Plots\n",
    "\n",
    "This heatmap was added to [Trace.scala](https://github.com/alexarchambault/plotly-scala/blob/master/core/shared/src/main/scala/plotly/Trace.scala) in a fork of [plotly-scala](https://github.com/alexarchambault/plotly-scala) and built to local ivy2 repo ([commit](https://github.com/eric-czech/plotly-scala/commit/8d44071505e6993ca856c3a3cd324f52c989c144)).\n",
    "\n",
    "Plot.ly heatmap docs: https://plot.ly/python/reference/#heatmap\n",
    "\n",
    "#### Build Notes\n",
    "\n",
    "- Clone via ```git clone --recursive git@github.com:eric-czech/plotly-scala.git```\n",
    "- To build: \n",
    "```\n",
    "cd plotly-scala\n",
    "./sbt ++2.12.10 compile publishLocal  # for specific Scala version with publish to local ivy (publishM2 for maven)\n",
    "./sbt +compile publishLocal           # for all supported Scala versions\n",
    "```\n",
    "- See project/Settings.scala for supported Scala versions\n",
    "- See sbt [cross builds](https://www.scala-sbt.org/1.x/docs/Cross-Build.html)\n",
    "- A resolver for ```$HOME/.ivy2/local``` is already registered by default for Almond"
   ]
  },
  {
   "cell_type": "code",
   "execution_count": 1,
   "metadata": {},
   "outputs": [
    {
     "data": {
      "text/plain": [
       "\u001b[32mimport \u001b[39m\u001b[36m$ivy.$                                                                         \n",
       "\u001b[39m\n",
       "\u001b[32mimport \u001b[39m\u001b[36mplotly._\n",
       "\u001b[39m\n",
       "\u001b[32mimport \u001b[39m\u001b[36mplotly.element._\n",
       "\u001b[39m\n",
       "\u001b[32mimport \u001b[39m\u001b[36mplotly.layout._\n",
       "\u001b[39m\n",
       "\u001b[32mimport \u001b[39m\u001b[36mplotly.Almond._\u001b[39m"
      ]
     },
     "execution_count": 1,
     "metadata": {},
     "output_type": "execute_result"
    }
   ],
   "source": [
    "import $ivy.`org.plotly-scala::plotly-almond:0.7.2+15-8d440715+20200101-1443-SNAPSHOT`\n",
    "import plotly._\n",
    "import plotly.element._\n",
    "import plotly.layout._\n",
    "import plotly.Almond._"
   ]
  },
  {
   "cell_type": "code",
   "execution_count": 12,
   "metadata": {},
   "outputs": [
    {
     "data": {
      "application/vnd.plotly.v1+json": {
       "data": [
        {
         "colorscale": "Portland",
         "type": "heatmap",
         "z": [
          [
           1,
           20,
           30
          ],
          [
           20,
           1,
           60
          ],
          [
           30,
           60,
           1
          ]
         ]
        }
       ],
       "layout": {}
      },
      "text/html": [
       "<div class=\"chart\" id=\"plot-6ef6df1b-6f74-4418-8913-0cbaa6dd572c\"></div>\n",
       "<script>require(['plotly'], function(Plotly) {\n",
       "  (function () {\n",
       "  var data0 = {\"type\":\"heatmap\",\"colorscale\":\"Portland\",\"z\":[[1,20,30],[20,1,60],[30,60,1]]};\n",
       "\n",
       "  var data = [data0];\n",
       "  var layout = {};\n",
       "\n",
       "  Plotly.plot('plot-6ef6df1b-6f74-4418-8913-0cbaa6dd572c', data, layout);\n",
       "})();\n",
       "});\n",
       "      </script>\n",
       "           "
      ]
     },
     "metadata": {},
     "output_type": "display_data"
    },
    {
     "data": {
      "text/plain": [
       "\u001b[36mres11\u001b[39m: \u001b[32mString\u001b[39m = \u001b[32m\"plot-6ef6df1b-6f74-4418-8913-0cbaa6dd572c\"\u001b[39m"
      ]
     },
     "execution_count": 12,
     "metadata": {},
     "output_type": "execute_result"
    }
   ],
   "source": [
    "// From: https://plot.ly/python/heatmaps/#basic-heatmap-with-plotlygraphobjects\n",
    "Heatmap(\n",
    "    z=Seq(\n",
    "        Seq(1, 20, 30),\n",
    "        Seq(20, 1, 60),\n",
    "        Seq(30, 60, 1)\n",
    "    ), \n",
    "    colorscale=ColorScale.NamedScale(\"Portland\")\n",
    ").plot()"
   ]
  },
  {
   "cell_type": "code",
   "execution_count": 13,
   "metadata": {},
   "outputs": [
    {
     "data": {
      "application/vnd.plotly.v1+json": {
       "data": [
        {
         "colorscale": [
          [
           0,
           "rgb(166, 206, 227)"
          ],
          [
           0.25,
           "rgb(31, 120, 180)"
          ],
          [
           0.45,
           "rgb(178, 223, 138)"
          ],
          [
           0.65,
           "rgb(51, 160, 44)"
          ],
          [
           0.85,
           "rgb(251, 154, 153)"
          ],
          [
           1,
           "rgb(227, 26, 28)"
          ]
         ],
         "type": "heatmap",
         "z": [
          [
           10,
           10.625,
           12.5,
           15.625,
           20
          ],
          [
           5.625,
           6.25,
           8.125,
           11.25,
           15.625
          ],
          [
           2.5,
           3.125,
           5,
           8.125,
           12.5
          ],
          [
           0.625,
           1.25,
           3.125,
           6.25,
           10.625
          ],
          [
           0,
           0.625,
           2.5,
           5.625,
           10
          ]
         ]
        }
       ],
       "layout": {}
      },
      "text/html": [
       "<div class=\"chart\" id=\"plot-5e288b77-f6df-470a-9a2e-cf3dcdbf8f5b\"></div>\n",
       "<script>require(['plotly'], function(Plotly) {\n",
       "  (function () {\n",
       "  var data0 = {\"type\":\"heatmap\",\"colorscale\":[[0.0,\"rgb(166, 206, 227)\"],[0.25,\"rgb(31, 120, 180)\"],[0.45,\"rgb(178, 223, 138)\"],[0.65,\"rgb(51, 160, 44)\"],[0.85,\"rgb(251, 154, 153)\"],[1.0,\"rgb(227, 26, 28)\"]],\"z\":[[10.0,10.625,12.5,15.625,20.0],[5.625,6.25,8.125,11.25,15.625],[2.5,3.125,5.0,8.125,12.5],[0.625,1.25,3.125,6.25,10.625],[0.0,0.625,2.5,5.625,10.0]]};\n",
       "\n",
       "  var data = [data0];\n",
       "  var layout = {};\n",
       "\n",
       "  Plotly.plot('plot-5e288b77-f6df-470a-9a2e-cf3dcdbf8f5b', data, layout);\n",
       "})();\n",
       "});\n",
       "      </script>\n",
       "           "
      ]
     },
     "metadata": {},
     "output_type": "display_data"
    },
    {
     "data": {
      "text/plain": [
       "\u001b[36mres12\u001b[39m: \u001b[32mString\u001b[39m = \u001b[32m\"plot-5e288b77-f6df-470a-9a2e-cf3dcdbf8f5b\"\u001b[39m"
      ]
     },
     "execution_count": 13,
     "metadata": {},
     "output_type": "execute_result"
    }
   ],
   "source": [
    "// From: https://plot.ly/python/colorscales/\n",
    "Heatmap(\n",
    "    z=Seq(\n",
    "        Seq(10.0, 10.625, 12.5, 15.625, 20.0),\n",
    "        Seq(5.625, 6.25, 8.125, 11.25, 15.625),\n",
    "        Seq(2.5, 3.125, 5.0, 8.125, 12.5),\n",
    "        Seq(0.625, 1.25, 3.125, 6.25, 10.625),\n",
    "        Seq(0.0, 0.625, 2.5, 5.625, 10.0)\n",
    "    ),\n",
    "    colorscale=ColorScale.CustomScale(Seq(\n",
    "        (0, Color.RGB(166,206,227)),\n",
    "        (0.25, Color.RGB(31,120,180)),\n",
    "        (0.45, Color.RGB(178,223,138)),\n",
    "        (0.65, Color.RGB(51,160,44)),\n",
    "        (0.85, Color.RGB(251,154,153)),\n",
    "        (1, Color.RGB(227,26,28))\n",
    "    ))\n",
    ").plot()"
   ]
  },
  {
   "cell_type": "code",
   "execution_count": 4,
   "metadata": {},
   "outputs": [
    {
     "data": {
      "application/vnd.plotly.v1+json": {
       "data": [
        {
         "type": "heatmap",
         "x": [
          "Yes",
          "No"
         ],
         "y": [
          "Morning",
          "Evening"
         ],
         "z": [
          [
           10,
           0
          ],
          [
           10,
           0
          ]
         ]
        }
       ],
       "layout": {}
      },
      "text/html": [
       "<div class=\"chart\" id=\"plot-c409088a-345f-4a8f-977e-76a4a8e6566d\"></div>\n",
       "<script>require(['plotly'], function(Plotly) {\n",
       "  (function () {\n",
       "  var data0 = {\"x\":[\"Yes\",\"No\"],\"y\":[\"Morning\",\"Evening\"],\"type\":\"heatmap\",\"z\":[[10,0],[10,0]]};\n",
       "\n",
       "  var data = [data0];\n",
       "  var layout = {};\n",
       "\n",
       "  Plotly.plot('plot-c409088a-345f-4a8f-977e-76a4a8e6566d', data, layout);\n",
       "})();\n",
       "});\n",
       "      </script>\n",
       "           "
      ]
     },
     "metadata": {},
     "output_type": "display_data"
    },
    {
     "data": {
      "text/plain": [
       "\u001b[36mres3\u001b[39m: \u001b[32mString\u001b[39m = \u001b[32m\"plot-c409088a-345f-4a8f-977e-76a4a8e6566d\"\u001b[39m"
      ]
     },
     "execution_count": 4,
     "metadata": {},
     "output_type": "execute_result"
    }
   ],
   "source": [
    "// From https://plot.ly/javascript/heatmaps/#heatmap-with-categorical-axis-labels\n",
    "Heatmap(\n",
    "    z=Seq(\n",
    "        Seq(10, null.asInstanceOf[Int]), \n",
    "        Seq(10, null.asInstanceOf[Int])\n",
    "    ),\n",
    "    x=Seq(\"Yes\", \"No\"),\n",
    "    y=Seq(\"Morning\", \"Evening\"),\n",
    ").plot()"
   ]
  },
  {
   "cell_type": "code",
   "execution_count": 2,
   "metadata": {},
   "outputs": [
    {
     "data": {
      "text/html": [
       "\n",
       "      <script type=\"text/javascript\">\n",
       "        require.config({\n",
       "  paths: {\n",
       "    d3: 'https://cdnjs.cloudflare.com/ajax/libs/d3/3.5.17/d3.min',\n",
       "    plotly: 'https://cdn.plot.ly/plotly-1.41.3.min',\n",
       "    jquery: 'https://code.jquery.com/jquery-3.3.1.min'\n",
       "  },\n",
       "\n",
       "  shim: {\n",
       "    plotly: {\n",
       "      deps: ['d3', 'jquery'],\n",
       "      exports: 'plotly'\n",
       "    }\n",
       "  }\n",
       "});\n",
       "        \n",
       "\n",
       "        require(['plotly'], function(Plotly) {\n",
       "          window.Plotly = Plotly;\n",
       "        });\n",
       "      </script>\n",
       "    "
      ]
     },
     "metadata": {},
     "output_type": "display_data"
    },
    {
     "data": {
      "application/vnd.plotly.v1+json": {
       "data": [
        {
         "type": "heatmap",
         "x": [
          "Monday",
          "Tuesday",
          "Wednesday",
          "Thursday",
          "Friday"
         ],
         "y": [
          "Morning",
          "Afternoon",
          "Evening"
         ],
         "z": [
          [
           1,
           0,
           30,
           50,
           1
          ],
          [
           20,
           1,
           60,
           80,
           30
          ],
          [
           30,
           60,
           1,
           -10,
           20
          ]
         ]
        }
       ],
       "layout": {}
      },
      "text/html": [
       "<div class=\"chart\" id=\"plot-d536c2c0-bfec-480f-be15-09e12b2d9344\"></div>\n",
       "<script>require(['plotly'], function(Plotly) {\n",
       "  (function () {\n",
       "  var data0 = {\"x\":[\"Monday\",\"Tuesday\",\"Wednesday\",\"Thursday\",\"Friday\"],\"y\":[\"Morning\",\"Afternoon\",\"Evening\"],\"type\":\"heatmap\",\"z\":[[1,0,30,50,1],[20,1,60,80,30],[30,60,1,-10,20]]};\n",
       "\n",
       "  var data = [data0];\n",
       "  var layout = {};\n",
       "\n",
       "  Plotly.plot('plot-d536c2c0-bfec-480f-be15-09e12b2d9344', data, layout);\n",
       "})();\n",
       "});\n",
       "      </script>\n",
       "           "
      ]
     },
     "metadata": {},
     "output_type": "display_data"
    },
    {
     "data": {
      "text/plain": [
       "\u001b[36mres1\u001b[39m: \u001b[32mString\u001b[39m = \u001b[32m\"plot-d536c2c0-bfec-480f-be15-09e12b2d9344\"\u001b[39m"
      ]
     },
     "execution_count": 2,
     "metadata": {},
     "output_type": "execute_result"
    }
   ],
   "source": [
    "// From https://plot.ly/javascript/heatmaps/#heatmap-with-categorical-axis-labels\n",
    "Heatmap(\n",
    "    z=Seq(\n",
    "        Seq(1, null.asInstanceOf[Int], 30, 50, 1), \n",
    "        Seq(20, 1, 60, 80, 30), \n",
    "        Seq(30, 60, 1, -10, 20)\n",
    "    ),\n",
    "    x=Seq(\"Monday\", \"Tuesday\", \"Wednesday\", \"Thursday\", \"Friday\"),\n",
    "    y=Seq(\"Morning\", \"Afternoon\", \"Evening\"),\n",
    ").plot()"
   ]
  },
  {
   "cell_type": "code",
   "execution_count": 49,
   "metadata": {},
   "outputs": [
    {
     "data": {
      "application/vnd.plotly.v1+json": {
       "data": [
        {
         "type": "heatmap",
         "x": [
          "Monday",
          "Tuesday",
          "Wednesday",
          "Thursday",
          "Friday"
         ],
         "y": [
          "Morning",
          "Afternoon",
          "Evening"
         ],
         "z": [
          [
           1,
           0,
           30,
           50,
           1
          ],
          [
           20,
           1,
           60,
           80,
           30
          ],
          [
           30,
           60,
           1,
           -10,
           20
          ]
         ]
        }
       ],
       "layout": {
        "annotations": [
         {
          "font": {
           "color": "white"
          },
          "showarrow": false,
          "text": "1",
          "x": "Monday",
          "xref": "x1",
          "y": "Morning",
          "yref": "y1"
         },
         {
          "font": {
           "color": "white"
          },
          "showarrow": false,
          "text": "0",
          "x": "Tuesday",
          "xref": "x1",
          "y": "Morning",
          "yref": "y1"
         },
         {
          "font": {
           "color": "white"
          },
          "showarrow": false,
          "text": "30",
          "x": "Wednesday",
          "xref": "x1",
          "y": "Morning",
          "yref": "y1"
         },
         {
          "font": {
           "color": "white"
          },
          "showarrow": false,
          "text": "50",
          "x": "Thursday",
          "xref": "x1",
          "y": "Morning",
          "yref": "y1"
         },
         {
          "font": {
           "color": "white"
          },
          "showarrow": false,
          "text": "1",
          "x": "Friday",
          "xref": "x1",
          "y": "Morning",
          "yref": "y1"
         },
         {
          "font": {
           "color": "white"
          },
          "showarrow": false,
          "text": "20",
          "x": "Monday",
          "xref": "x1",
          "y": "Afternoon",
          "yref": "y1"
         },
         {
          "font": {
           "color": "white"
          },
          "showarrow": false,
          "text": "1",
          "x": "Tuesday",
          "xref": "x1",
          "y": "Afternoon",
          "yref": "y1"
         },
         {
          "font": {
           "color": "white"
          },
          "showarrow": false,
          "text": "60",
          "x": "Wednesday",
          "xref": "x1",
          "y": "Afternoon",
          "yref": "y1"
         },
         {
          "font": {
           "color": "white"
          },
          "showarrow": false,
          "text": "80",
          "x": "Thursday",
          "xref": "x1",
          "y": "Afternoon",
          "yref": "y1"
         },
         {
          "font": {
           "color": "white"
          },
          "showarrow": false,
          "text": "30",
          "x": "Friday",
          "xref": "x1",
          "y": "Afternoon",
          "yref": "y1"
         },
         {
          "font": {
           "color": "white"
          },
          "showarrow": false,
          "text": "30",
          "x": "Monday",
          "xref": "x1",
          "y": "Evening",
          "yref": "y1"
         },
         {
          "font": {
           "color": "white"
          },
          "showarrow": false,
          "text": "60",
          "x": "Tuesday",
          "xref": "x1",
          "y": "Evening",
          "yref": "y1"
         },
         {
          "font": {
           "color": "white"
          },
          "showarrow": false,
          "text": "1",
          "x": "Wednesday",
          "xref": "x1",
          "y": "Evening",
          "yref": "y1"
         },
         {
          "font": {
           "color": "white"
          },
          "showarrow": false,
          "text": "-10",
          "x": "Thursday",
          "xref": "x1",
          "y": "Evening",
          "yref": "y1"
         },
         {
          "font": {
           "color": "white"
          },
          "showarrow": false,
          "text": "20",
          "x": "Friday",
          "xref": "x1",
          "y": "Evening",
          "yref": "y1"
         }
        ]
       }
      },
      "text/html": [
       "<div class=\"chart\" id=\"plot-64d06115-494c-4069-93e3-8af2bd290d47\"></div>\n",
       "<script>require(['plotly'], function(Plotly) {\n",
       "  (function () {\n",
       "  var data0 = {\"x\":[\"Monday\",\"Tuesday\",\"Wednesday\",\"Thursday\",\"Friday\"],\"y\":[\"Morning\",\"Afternoon\",\"Evening\"],\"type\":\"heatmap\",\"z\":[[1,0,30,50,1],[20,1,60,80,30],[30,60,1,-10,20]]};\n",
       "\n",
       "  var data = [data0];\n",
       "  var layout = {\"annotations\":[{\"x\":\"Monday\",\"y\":\"Morning\",\"text\":\"1\",\"xref\":\"x1\",\"font\":{\"color\":\"white\"},\"yref\":\"y1\",\"showarrow\":false},{\"x\":\"Tuesday\",\"y\":\"Morning\",\"text\":\"0\",\"xref\":\"x1\",\"font\":{\"color\":\"white\"},\"yref\":\"y1\",\"showarrow\":false},{\"x\":\"Wednesday\",\"y\":\"Morning\",\"text\":\"30\",\"xref\":\"x1\",\"font\":{\"color\":\"white\"},\"yref\":\"y1\",\"showarrow\":false},{\"x\":\"Thursday\",\"y\":\"Morning\",\"text\":\"50\",\"xref\":\"x1\",\"font\":{\"color\":\"white\"},\"yref\":\"y1\",\"showarrow\":false},{\"x\":\"Friday\",\"y\":\"Morning\",\"text\":\"1\",\"xref\":\"x1\",\"font\":{\"color\":\"white\"},\"yref\":\"y1\",\"showarrow\":false},{\"x\":\"Monday\",\"y\":\"Afternoon\",\"text\":\"20\",\"xref\":\"x1\",\"font\":{\"color\":\"white\"},\"yref\":\"y1\",\"showarrow\":false},{\"x\":\"Tuesday\",\"y\":\"Afternoon\",\"text\":\"1\",\"xref\":\"x1\",\"font\":{\"color\":\"white\"},\"yref\":\"y1\",\"showarrow\":false},{\"x\":\"Wednesday\",\"y\":\"Afternoon\",\"text\":\"60\",\"xref\":\"x1\",\"font\":{\"color\":\"white\"},\"yref\":\"y1\",\"showarrow\":false},{\"x\":\"Thursday\",\"y\":\"Afternoon\",\"text\":\"80\",\"xref\":\"x1\",\"font\":{\"color\":\"white\"},\"yref\":\"y1\",\"showarrow\":false},{\"x\":\"Friday\",\"y\":\"Afternoon\",\"text\":\"30\",\"xref\":\"x1\",\"font\":{\"color\":\"white\"},\"yref\":\"y1\",\"showarrow\":false},{\"x\":\"Monday\",\"y\":\"Evening\",\"text\":\"30\",\"xref\":\"x1\",\"font\":{\"color\":\"white\"},\"yref\":\"y1\",\"showarrow\":false},{\"x\":\"Tuesday\",\"y\":\"Evening\",\"text\":\"60\",\"xref\":\"x1\",\"font\":{\"color\":\"white\"},\"yref\":\"y1\",\"showarrow\":false},{\"x\":\"Wednesday\",\"y\":\"Evening\",\"text\":\"1\",\"xref\":\"x1\",\"font\":{\"color\":\"white\"},\"yref\":\"y1\",\"showarrow\":false},{\"x\":\"Thursday\",\"y\":\"Evening\",\"text\":\"-10\",\"xref\":\"x1\",\"font\":{\"color\":\"white\"},\"yref\":\"y1\",\"showarrow\":false},{\"x\":\"Friday\",\"y\":\"Evening\",\"text\":\"20\",\"xref\":\"x1\",\"font\":{\"color\":\"white\"},\"yref\":\"y1\",\"showarrow\":false}]};\n",
       "\n",
       "  Plotly.plot('plot-64d06115-494c-4069-93e3-8af2bd290d47', data, layout);\n",
       "})();\n",
       "});\n",
       "      </script>\n",
       "           "
      ]
     },
     "metadata": {},
     "output_type": "display_data"
    },
    {
     "data": {
      "text/plain": [
       "\u001b[36mx\u001b[39m: \u001b[32mSeq\u001b[39m[\u001b[32mString\u001b[39m] = \u001b[33mList\u001b[39m(\u001b[32m\"Monday\"\u001b[39m, \u001b[32m\"Tuesday\"\u001b[39m, \u001b[32m\"Wednesday\"\u001b[39m, \u001b[32m\"Thursday\"\u001b[39m, \u001b[32m\"Friday\"\u001b[39m)\n",
       "\u001b[36my\u001b[39m: \u001b[32mSeq\u001b[39m[\u001b[32mString\u001b[39m] = \u001b[33mList\u001b[39m(\u001b[32m\"Morning\"\u001b[39m, \u001b[32m\"Afternoon\"\u001b[39m, \u001b[32m\"Evening\"\u001b[39m)\n",
       "\u001b[36mz\u001b[39m: \u001b[32mSeq\u001b[39m[\u001b[32mSeq\u001b[39m[\u001b[32mInt\u001b[39m]] = \u001b[33mList\u001b[39m(\n",
       "  \u001b[33mList\u001b[39m(\u001b[32m1\u001b[39m, \u001b[32m0\u001b[39m, \u001b[32m30\u001b[39m, \u001b[32m50\u001b[39m, \u001b[32m1\u001b[39m),\n",
       "  \u001b[33mList\u001b[39m(\u001b[32m20\u001b[39m, \u001b[32m1\u001b[39m, \u001b[32m60\u001b[39m, \u001b[32m80\u001b[39m, \u001b[32m30\u001b[39m),\n",
       "  \u001b[33mList\u001b[39m(\u001b[32m30\u001b[39m, \u001b[32m60\u001b[39m, \u001b[32m1\u001b[39m, \u001b[32m-10\u001b[39m, \u001b[32m20\u001b[39m)\n",
       ")\n",
       "defined \u001b[32mfunction\u001b[39m \u001b[36mannotations\u001b[39m\n",
       "\u001b[36mres48_4\u001b[39m: \u001b[32mString\u001b[39m = \u001b[32m\"plot-64d06115-494c-4069-93e3-8af2bd290d47\"\u001b[39m"
      ]
     },
     "execution_count": 49,
     "metadata": {},
     "output_type": "execute_result"
    }
   ],
   "source": [
    "// From https://plot.ly/python/heatmaps/\n",
    "val x = Seq(\"Monday\", \"Tuesday\", \"Wednesday\", \"Thursday\", \"Friday\")\n",
    "val y = Seq(\"Morning\", \"Afternoon\", \"Evening\")\n",
    "val z = Seq(\n",
    "    Seq(1, null.asInstanceOf[Int], 30, 50, 1), \n",
    "    Seq(20, 1, 60, 80, 30), \n",
    "    Seq(30, 60, 1, -10, 20)\n",
    ")\n",
    "def annotations = for { yi <- 0 to 2; xi <- 0 to 4 } yield Annotation(\n",
    "    x=x(xi),\n",
    "    y=y(yi),\n",
    "    xref=Ref.Axis(AxisReference.X1),\n",
    "    yref=Ref.Axis(AxisReference.Y1),\n",
    "    showarrow=false,\n",
    "    text=z(yi)(xi).toString,\n",
    "    font=Font(color=Color.StringColor(\"white\"))\n",
    ")\n",
    "Heatmap(\n",
    "    z=z,\n",
    "    x=x,\n",
    "    y=y,\n",
    ").plot(annotations=annotations)"
   ]
  },
  {
   "cell_type": "code",
   "execution_count": 35,
   "metadata": {},
   "outputs": [
    {
     "data": {
      "text/plain": [
       "\u001b[36mx\u001b[39m: \u001b[32mSeq\u001b[39m[\u001b[32mString\u001b[39m] = \u001b[33mList\u001b[39m(\u001b[32m\"A\"\u001b[39m, \u001b[32m\"B\"\u001b[39m, \u001b[32m\"C\"\u001b[39m, \u001b[32m\"D\"\u001b[39m, \u001b[32m\"E\"\u001b[39m)\n",
       "\u001b[36my\u001b[39m: \u001b[32mSeq\u001b[39m[\u001b[32mString\u001b[39m] = \u001b[33mList\u001b[39m(\u001b[32m\"W\"\u001b[39m, \u001b[32m\"X\"\u001b[39m, \u001b[32m\"Y\"\u001b[39m, \u001b[32m\"Z\"\u001b[39m)\n",
       "\u001b[36mz\u001b[39m: \u001b[32mSeq\u001b[39m[\u001b[32mSeq\u001b[39m[\u001b[32mDouble\u001b[39m]] = \u001b[33mList\u001b[39m(\n",
       "  \u001b[33mList\u001b[39m(\u001b[32m0.0\u001b[39m, \u001b[32m0.0\u001b[39m, \u001b[32m0.75\u001b[39m, \u001b[32m0.75\u001b[39m, \u001b[32m0.0\u001b[39m),\n",
       "  \u001b[33mList\u001b[39m(\u001b[32m0.0\u001b[39m, \u001b[32m0.0\u001b[39m, \u001b[32m0.75\u001b[39m, \u001b[32m0.75\u001b[39m, \u001b[32m0.0\u001b[39m),\n",
       "  \u001b[33mList\u001b[39m(\u001b[32m0.75\u001b[39m, \u001b[32m0.75\u001b[39m, \u001b[32m0.75\u001b[39m, \u001b[32m0.75\u001b[39m, \u001b[32m0.75\u001b[39m),\n",
       "  \u001b[33mList\u001b[39m(\u001b[32m0.0\u001b[39m, \u001b[32m0.0\u001b[39m, \u001b[32m0.0\u001b[39m, \u001b[32m0.75\u001b[39m, \u001b[32m0.0\u001b[39m)\n",
       ")\n",
       "\u001b[36mres34_3\u001b[39m: \u001b[32mSeq\u001b[39m[(\u001b[32mString\u001b[39m, \u001b[32mInt\u001b[39m, \u001b[32mString\u001b[39m, \u001b[32mInt\u001b[39m)] = \u001b[33mList\u001b[39m(\n",
       "  (\u001b[32m\"A\"\u001b[39m, \u001b[32m0\u001b[39m, \u001b[32m\"W\"\u001b[39m, \u001b[32m0\u001b[39m),\n",
       "  (\u001b[32m\"A\"\u001b[39m, \u001b[32m0\u001b[39m, \u001b[32m\"X\"\u001b[39m, \u001b[32m1\u001b[39m),\n",
       "  (\u001b[32m\"A\"\u001b[39m, \u001b[32m0\u001b[39m, \u001b[32m\"Y\"\u001b[39m, \u001b[32m2\u001b[39m),\n",
       "  (\u001b[32m\"A\"\u001b[39m, \u001b[32m0\u001b[39m, \u001b[32m\"Z\"\u001b[39m, \u001b[32m3\u001b[39m),\n",
       "  (\u001b[32m\"B\"\u001b[39m, \u001b[32m1\u001b[39m, \u001b[32m\"W\"\u001b[39m, \u001b[32m0\u001b[39m),\n",
       "  (\u001b[32m\"B\"\u001b[39m, \u001b[32m1\u001b[39m, \u001b[32m\"X\"\u001b[39m, \u001b[32m1\u001b[39m),\n",
       "  (\u001b[32m\"B\"\u001b[39m, \u001b[32m1\u001b[39m, \u001b[32m\"Y\"\u001b[39m, \u001b[32m2\u001b[39m),\n",
       "  (\u001b[32m\"B\"\u001b[39m, \u001b[32m1\u001b[39m, \u001b[32m\"Z\"\u001b[39m, \u001b[32m3\u001b[39m),\n",
       "  (\u001b[32m\"C\"\u001b[39m, \u001b[32m2\u001b[39m, \u001b[32m\"W\"\u001b[39m, \u001b[32m0\u001b[39m),\n",
       "  (\u001b[32m\"C\"\u001b[39m, \u001b[32m2\u001b[39m, \u001b[32m\"X\"\u001b[39m, \u001b[32m1\u001b[39m),\n",
       "  (\u001b[32m\"C\"\u001b[39m, \u001b[32m2\u001b[39m, \u001b[32m\"Y\"\u001b[39m, \u001b[32m2\u001b[39m),\n",
       "  (\u001b[32m\"C\"\u001b[39m, \u001b[32m2\u001b[39m, \u001b[32m\"Z\"\u001b[39m, \u001b[32m3\u001b[39m),\n",
       "  (\u001b[32m\"D\"\u001b[39m, \u001b[32m3\u001b[39m, \u001b[32m\"W\"\u001b[39m, \u001b[32m0\u001b[39m),\n",
       "  (\u001b[32m\"D\"\u001b[39m, \u001b[32m3\u001b[39m, \u001b[32m\"X\"\u001b[39m, \u001b[32m1\u001b[39m),\n",
       "  (\u001b[32m\"D\"\u001b[39m, \u001b[32m3\u001b[39m, \u001b[32m\"Y\"\u001b[39m, \u001b[32m2\u001b[39m),\n",
       "  (\u001b[32m\"D\"\u001b[39m, \u001b[32m3\u001b[39m, \u001b[32m\"Z\"\u001b[39m, \u001b[32m3\u001b[39m),\n",
       "  (\u001b[32m\"E\"\u001b[39m, \u001b[32m4\u001b[39m, \u001b[32m\"W\"\u001b[39m, \u001b[32m0\u001b[39m),\n",
       "  (\u001b[32m\"E\"\u001b[39m, \u001b[32m4\u001b[39m, \u001b[32m\"X\"\u001b[39m, \u001b[32m1\u001b[39m),\n",
       "  (\u001b[32m\"E\"\u001b[39m, \u001b[32m4\u001b[39m, \u001b[32m\"Y\"\u001b[39m, \u001b[32m2\u001b[39m),\n",
       "  (\u001b[32m\"E\"\u001b[39m, \u001b[32m4\u001b[39m, \u001b[32m\"Z\"\u001b[39m, \u001b[32m3\u001b[39m)\n",
       ")"
      ]
     },
     "execution_count": 35,
     "metadata": {},
     "output_type": "execute_result"
    }
   ],
   "source": [
    "val x = Seq(\"A\", \"B\", \"C\", \"D\", \"E\");\n",
    "val y = Seq(\"W\", \"X\", \"Y\", \"Z\");\n",
    "val z = Seq(\n",
    "  Seq(0.00, 0.00, 0.75, 0.75, 0.00),\n",
    "  Seq(0.00, 0.00, 0.75, 0.75, 0.00),\n",
    "  Seq(0.75, 0.75, 0.75, 0.75, 0.75),\n",
    "  Seq(0.00, 0.00, 0.00, 0.75, 0.00)\n",
    ")\n",
    "for { (xv, xi) <- x.zipWithIndex; (yv, yi) <- y.zipWithIndex } yield (xv, xi, yv, yi)"
   ]
  },
  {
   "cell_type": "code",
   "execution_count": 45,
   "metadata": {},
   "outputs": [
    {
     "data": {
      "application/vnd.plotly.v1+json": {
       "data": [
        {
         "colorscale": [
          [
           0,
           "#3D9970"
          ],
          [
           1,
           "#001f3f"
          ]
         ],
         "showscale": false,
         "type": "heatmap",
         "x": [
          "A",
          "B",
          "C",
          "D",
          "E"
         ],
         "y": [
          "W",
          "X",
          "Y",
          "Z"
         ],
         "z": [
          [
           0,
           0,
           0.75,
           0.75,
           0
          ],
          [
           0,
           0,
           0.75,
           0.75,
           0
          ],
          [
           0.75,
           0.75,
           0.75,
           0.75,
           0.75
          ],
          [
           0,
           0,
           0,
           0.75,
           0
          ]
         ]
        }
       ],
       "layout": {
        "annotations": [
         {
          "font": {
           "color": "white"
          },
          "showarrow": false,
          "text": "0.0",
          "x": "A",
          "xref": "x1",
          "y": "W",
          "yref": "y1"
         },
         {
          "font": {
           "color": "white"
          },
          "showarrow": false,
          "text": "0.0",
          "x": "A",
          "xref": "x1",
          "y": "X",
          "yref": "y1"
         },
         {
          "font": {
           "color": "white"
          },
          "showarrow": false,
          "text": "0.75",
          "x": "A",
          "xref": "x1",
          "y": "Y",
          "yref": "y1"
         },
         {
          "font": {
           "color": "white"
          },
          "showarrow": false,
          "text": "0.0",
          "x": "A",
          "xref": "x1",
          "y": "Z",
          "yref": "y1"
         },
         {
          "font": {
           "color": "white"
          },
          "showarrow": false,
          "text": "0.0",
          "x": "B",
          "xref": "x1",
          "y": "W",
          "yref": "y1"
         },
         {
          "font": {
           "color": "white"
          },
          "showarrow": false,
          "text": "0.0",
          "x": "B",
          "xref": "x1",
          "y": "X",
          "yref": "y1"
         },
         {
          "font": {
           "color": "white"
          },
          "showarrow": false,
          "text": "0.75",
          "x": "B",
          "xref": "x1",
          "y": "Y",
          "yref": "y1"
         },
         {
          "font": {
           "color": "white"
          },
          "showarrow": false,
          "text": "0.0",
          "x": "B",
          "xref": "x1",
          "y": "Z",
          "yref": "y1"
         },
         {
          "font": {
           "color": "white"
          },
          "showarrow": false,
          "text": "0.75",
          "x": "C",
          "xref": "x1",
          "y": "W",
          "yref": "y1"
         },
         {
          "font": {
           "color": "white"
          },
          "showarrow": false,
          "text": "0.75",
          "x": "C",
          "xref": "x1",
          "y": "X",
          "yref": "y1"
         },
         {
          "font": {
           "color": "white"
          },
          "showarrow": false,
          "text": "0.75",
          "x": "C",
          "xref": "x1",
          "y": "Y",
          "yref": "y1"
         },
         {
          "font": {
           "color": "white"
          },
          "showarrow": false,
          "text": "0.0",
          "x": "C",
          "xref": "x1",
          "y": "Z",
          "yref": "y1"
         },
         {
          "font": {
           "color": "white"
          },
          "showarrow": false,
          "text": "0.75",
          "x": "D",
          "xref": "x1",
          "y": "W",
          "yref": "y1"
         },
         {
          "font": {
           "color": "white"
          },
          "showarrow": false,
          "text": "0.75",
          "x": "D",
          "xref": "x1",
          "y": "X",
          "yref": "y1"
         },
         {
          "font": {
           "color": "white"
          },
          "showarrow": false,
          "text": "0.75",
          "x": "D",
          "xref": "x1",
          "y": "Y",
          "yref": "y1"
         },
         {
          "font": {
           "color": "white"
          },
          "showarrow": false,
          "text": "0.75",
          "x": "D",
          "xref": "x1",
          "y": "Z",
          "yref": "y1"
         },
         {
          "font": {
           "color": "white"
          },
          "showarrow": false,
          "text": "0.0",
          "x": "E",
          "xref": "x1",
          "y": "W",
          "yref": "y1"
         },
         {
          "font": {
           "color": "white"
          },
          "showarrow": false,
          "text": "0.0",
          "x": "E",
          "xref": "x1",
          "y": "X",
          "yref": "y1"
         },
         {
          "font": {
           "color": "white"
          },
          "showarrow": false,
          "text": "0.75",
          "x": "E",
          "xref": "x1",
          "y": "Y",
          "yref": "y1"
         },
         {
          "font": {
           "color": "white"
          },
          "showarrow": false,
          "text": "0.0",
          "x": "E",
          "xref": "x1",
          "y": "Z",
          "yref": "y1"
         }
        ],
        "title": "Annotated Heatmap",
        "xaxis": {
         "side": "top",
         "ticks": ""
        },
        "yaxis": {
         "ticks": "",
         "ticksuffix": " "
        }
       }
      },
      "text/html": [
       "<div class=\"chart\" id=\"plot-c3c0769a-71c8-487e-9149-1e84f959243d\"></div>\n",
       "<script>require(['plotly'], function(Plotly) {\n",
       "  (function () {\n",
       "  var data0 = {\"x\":[\"A\",\"B\",\"C\",\"D\",\"E\"],\"y\":[\"W\",\"X\",\"Y\",\"Z\"],\"showscale\":false,\"type\":\"heatmap\",\"colorscale\":[[0.0,\"#3D9970\"],[1.0,\"#001f3f\"]],\"z\":[[0.0,0.0,0.75,0.75,0.0],[0.0,0.0,0.75,0.75,0.0],[0.75,0.75,0.75,0.75,0.75],[0.0,0.0,0.0,0.75,0.0]]};\n",
       "\n",
       "  var data = [data0];\n",
       "  var layout = {\"annotations\":[{\"x\":\"A\",\"y\":\"W\",\"text\":\"0.0\",\"xref\":\"x1\",\"font\":{\"color\":\"white\"},\"yref\":\"y1\",\"showarrow\":false},{\"x\":\"A\",\"y\":\"X\",\"text\":\"0.0\",\"xref\":\"x1\",\"font\":{\"color\":\"white\"},\"yref\":\"y1\",\"showarrow\":false},{\"x\":\"A\",\"y\":\"Y\",\"text\":\"0.75\",\"xref\":\"x1\",\"font\":{\"color\":\"white\"},\"yref\":\"y1\",\"showarrow\":false},{\"x\":\"A\",\"y\":\"Z\",\"text\":\"0.0\",\"xref\":\"x1\",\"font\":{\"color\":\"white\"},\"yref\":\"y1\",\"showarrow\":false},{\"x\":\"B\",\"y\":\"W\",\"text\":\"0.0\",\"xref\":\"x1\",\"font\":{\"color\":\"white\"},\"yref\":\"y1\",\"showarrow\":false},{\"x\":\"B\",\"y\":\"X\",\"text\":\"0.0\",\"xref\":\"x1\",\"font\":{\"color\":\"white\"},\"yref\":\"y1\",\"showarrow\":false},{\"x\":\"B\",\"y\":\"Y\",\"text\":\"0.75\",\"xref\":\"x1\",\"font\":{\"color\":\"white\"},\"yref\":\"y1\",\"showarrow\":false},{\"x\":\"B\",\"y\":\"Z\",\"text\":\"0.0\",\"xref\":\"x1\",\"font\":{\"color\":\"white\"},\"yref\":\"y1\",\"showarrow\":false},{\"x\":\"C\",\"y\":\"W\",\"text\":\"0.75\",\"xref\":\"x1\",\"font\":{\"color\":\"white\"},\"yref\":\"y1\",\"showarrow\":false},{\"x\":\"C\",\"y\":\"X\",\"text\":\"0.75\",\"xref\":\"x1\",\"font\":{\"color\":\"white\"},\"yref\":\"y1\",\"showarrow\":false},{\"x\":\"C\",\"y\":\"Y\",\"text\":\"0.75\",\"xref\":\"x1\",\"font\":{\"color\":\"white\"},\"yref\":\"y1\",\"showarrow\":false},{\"x\":\"C\",\"y\":\"Z\",\"text\":\"0.0\",\"xref\":\"x1\",\"font\":{\"color\":\"white\"},\"yref\":\"y1\",\"showarrow\":false},{\"x\":\"D\",\"y\":\"W\",\"text\":\"0.75\",\"xref\":\"x1\",\"font\":{\"color\":\"white\"},\"yref\":\"y1\",\"showarrow\":false},{\"x\":\"D\",\"y\":\"X\",\"text\":\"0.75\",\"xref\":\"x1\",\"font\":{\"color\":\"white\"},\"yref\":\"y1\",\"showarrow\":false},{\"x\":\"D\",\"y\":\"Y\",\"text\":\"0.75\",\"xref\":\"x1\",\"font\":{\"color\":\"white\"},\"yref\":\"y1\",\"showarrow\":false},{\"x\":\"D\",\"y\":\"Z\",\"text\":\"0.75\",\"xref\":\"x1\",\"font\":{\"color\":\"white\"},\"yref\":\"y1\",\"showarrow\":false},{\"x\":\"E\",\"y\":\"W\",\"text\":\"0.0\",\"xref\":\"x1\",\"font\":{\"color\":\"white\"},\"yref\":\"y1\",\"showarrow\":false},{\"x\":\"E\",\"y\":\"X\",\"text\":\"0.0\",\"xref\":\"x1\",\"font\":{\"color\":\"white\"},\"yref\":\"y1\",\"showarrow\":false},{\"x\":\"E\",\"y\":\"Y\",\"text\":\"0.75\",\"xref\":\"x1\",\"font\":{\"color\":\"white\"},\"yref\":\"y1\",\"showarrow\":false},{\"x\":\"E\",\"y\":\"Z\",\"text\":\"0.0\",\"xref\":\"x1\",\"font\":{\"color\":\"white\"},\"yref\":\"y1\",\"showarrow\":false}],\"title\":\"Annotated Heatmap\",\"yaxis\":{\"ticksuffix\":\" \",\"ticks\":\"\"},\"xaxis\":{\"side\":\"top\",\"ticks\":\"\"}};\n",
       "\n",
       "  Plotly.plot('plot-c3c0769a-71c8-487e-9149-1e84f959243d', data, layout);\n",
       "})();\n",
       "});\n",
       "      </script>\n",
       "           "
      ]
     },
     "metadata": {},
     "output_type": "display_data"
    },
    {
     "data": {
      "text/plain": [
       "\u001b[36mx\u001b[39m: \u001b[32mSeq\u001b[39m[\u001b[32mString\u001b[39m] = \u001b[33mList\u001b[39m(\u001b[32m\"A\"\u001b[39m, \u001b[32m\"B\"\u001b[39m, \u001b[32m\"C\"\u001b[39m, \u001b[32m\"D\"\u001b[39m, \u001b[32m\"E\"\u001b[39m)\n",
       "\u001b[36my\u001b[39m: \u001b[32mSeq\u001b[39m[\u001b[32mString\u001b[39m] = \u001b[33mList\u001b[39m(\u001b[32m\"W\"\u001b[39m, \u001b[32m\"X\"\u001b[39m, \u001b[32m\"Y\"\u001b[39m, \u001b[32m\"Z\"\u001b[39m)\n",
       "\u001b[36mz\u001b[39m: \u001b[32mSeq\u001b[39m[\u001b[32mSeq\u001b[39m[\u001b[32mDouble\u001b[39m]] = \u001b[33mList\u001b[39m(\n",
       "  \u001b[33mList\u001b[39m(\u001b[32m0.0\u001b[39m, \u001b[32m0.0\u001b[39m, \u001b[32m0.75\u001b[39m, \u001b[32m0.75\u001b[39m, \u001b[32m0.0\u001b[39m),\n",
       "  \u001b[33mList\u001b[39m(\u001b[32m0.0\u001b[39m, \u001b[32m0.0\u001b[39m, \u001b[32m0.75\u001b[39m, \u001b[32m0.75\u001b[39m, \u001b[32m0.0\u001b[39m),\n",
       "  \u001b[33mList\u001b[39m(\u001b[32m0.75\u001b[39m, \u001b[32m0.75\u001b[39m, \u001b[32m0.75\u001b[39m, \u001b[32m0.75\u001b[39m, \u001b[32m0.75\u001b[39m),\n",
       "  \u001b[33mList\u001b[39m(\u001b[32m0.0\u001b[39m, \u001b[32m0.0\u001b[39m, \u001b[32m0.0\u001b[39m, \u001b[32m0.75\u001b[39m, \u001b[32m0.0\u001b[39m)\n",
       ")\n",
       "\u001b[36mres44_3\u001b[39m: \u001b[32mString\u001b[39m = \u001b[32m\"plot-c3c0769a-71c8-487e-9149-1e84f959243d\"\u001b[39m"
      ]
     },
     "execution_count": 45,
     "metadata": {},
     "output_type": "execute_result"
    }
   ],
   "source": [
    "// From https://plot.ly/javascript/heatmaps/#annotated-heatmap\n",
    "val x = Seq(\"A\", \"B\", \"C\", \"D\", \"E\");\n",
    "val y = Seq(\"W\", \"X\", \"Y\", \"Z\");\n",
    "val z = Seq(\n",
    "  Seq(0.00, 0.00, 0.75, 0.75, 0.00),\n",
    "  Seq(0.00, 0.00, 0.75, 0.75, 0.00),\n",
    "  Seq(0.75, 0.75, 0.75, 0.75, 0.75),\n",
    "  Seq(0.00, 0.00, 0.00, 0.75, 0.00)\n",
    ")\n",
    "Heatmap(\n",
    "    z=z, x=x, y=y, showscale=false,\n",
    "    colorscale = ColorScale.CustomScale(Seq(\n",
    "        (0, Color.StringColor(\"#3D9970\")),\n",
    "        (1, Color.StringColor(\"#001f3f\"))\n",
    "    ))\n",
    ").plot(\n",
    "    title = \"Annotated Heatmap\",\n",
    "    xaxis = Axis(ticks=Ticks.Empty, side=Side.Top),\n",
    "    yaxis = Axis(ticks=Ticks.Empty, ticksuffix=\" \"),\n",
    "    annotations = for { \n",
    "        (xv, xi) <- x.zipWithIndex; \n",
    "        (yv, yi) <- y.zipWithIndex \n",
    "    } yield Annotation(\n",
    "        x=xv,\n",
    "        y=yv,\n",
    "        xref=Ref.Axis(AxisReference.X1),\n",
    "        yref=Ref.Axis(AxisReference.Y1),\n",
    "        showarrow=false,\n",
    "        text=z(yi)(xi).toString,\n",
    "        font=Font(color=Color.StringColor(\"white\"))\n",
    "    )\n",
    ")"
   ]
  }
 ],
 "metadata": {
  "kernelspec": {
   "display_name": "Scala",
   "language": "scala",
   "name": "scala"
  },
  "language_info": {
   "codemirror_mode": "text/x-scala",
   "file_extension": ".scala",
   "mimetype": "text/x-scala",
   "name": "scala",
   "nbconvert_exporter": "script",
   "version": "2.12.10"
  }
 },
 "nbformat": 4,
 "nbformat_minor": 4
}
