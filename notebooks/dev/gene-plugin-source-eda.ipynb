{
 "cells": [
  {
   "cell_type": "code",
   "execution_count": 2,
   "metadata": {},
   "outputs": [],
   "source": [
    "import pandas as pd\n",
    "import numpy as np"
   ]
  },
  {
   "cell_type": "markdown",
   "metadata": {},
   "source": [
    "## Ensembl\n",
    "\n",
    "See [plugins/gene/ensembl.py](https://github.com/opentargets/data_pipeline/blob/329ff219f9510d137c7609478b05d358c9195579/mrtarget/plugins/gene/ensembl.py)"
   ]
  },
  {
   "cell_type": "code",
   "execution_count": 23,
   "metadata": {},
   "outputs": [
    {
     "name": "stdout",
     "output_type": "stream",
     "text": [
      "<class 'pandas.core.frame.DataFrame'>\n",
      "RangeIndex: 60564 entries, 0 to 60563\n",
      "Data columns (total 17 columns):\n",
      "id                 60564 non-null object\n",
      "display_name       60564 non-null object\n",
      "description        60564 non-null object\n",
      "biotype            60564 non-null object\n",
      "source             60564 non-null object\n",
      "version            60564 non-null int64\n",
      "logic_name         60564 non-null object\n",
      "seq_region_name    60564 non-null object\n",
      "start              60564 non-null int64\n",
      "end                60564 non-null int64\n",
      "strand             60564 non-null int64\n",
      "assembly_name      60564 non-null object\n",
      "db_type            60564 non-null object\n",
      "ensembl_release    60564 non-null int64\n",
      "species            60564 non-null object\n",
      "object_type        60564 non-null object\n",
      "is_reference       60564 non-null bool\n",
      "dtypes: bool(1), int64(5), object(11)\n",
      "memory usage: 7.5+ MB\n"
     ]
    }
   ],
   "source": [
    "url = 'https://storage.googleapis.com/open-targets-data-releases/19.11/input/annotation-files/homo_sapiens_core_98_38_genes.json.gz'\n",
    "df = pd.read_json(url, lines=True)\n",
    "df.info()"
   ]
  },
  {
   "cell_type": "code",
   "execution_count": 13,
   "metadata": {},
   "outputs": [
    {
     "data": {
      "text/html": [
       "<div>\n",
       "<style scoped>\n",
       "    .dataframe tbody tr th:only-of-type {\n",
       "        vertical-align: middle;\n",
       "    }\n",
       "\n",
       "    .dataframe tbody tr th {\n",
       "        vertical-align: top;\n",
       "    }\n",
       "\n",
       "    .dataframe thead th {\n",
       "        text-align: right;\n",
       "    }\n",
       "</style>\n",
       "<table border=\"1\" class=\"dataframe\">\n",
       "  <thead>\n",
       "    <tr style=\"text-align: right;\">\n",
       "      <th></th>\n",
       "      <th>id</th>\n",
       "      <th>display_name</th>\n",
       "      <th>description</th>\n",
       "      <th>biotype</th>\n",
       "      <th>source</th>\n",
       "      <th>version</th>\n",
       "      <th>logic_name</th>\n",
       "      <th>seq_region_name</th>\n",
       "      <th>start</th>\n",
       "      <th>end</th>\n",
       "      <th>strand</th>\n",
       "      <th>assembly_name</th>\n",
       "      <th>db_type</th>\n",
       "      <th>ensembl_release</th>\n",
       "      <th>species</th>\n",
       "      <th>object_type</th>\n",
       "      <th>is_reference</th>\n",
       "    </tr>\n",
       "  </thead>\n",
       "  <tbody>\n",
       "    <tr>\n",
       "      <th>0</th>\n",
       "      <td>ENSG00000210049</td>\n",
       "      <td>MT-TF</td>\n",
       "      <td>mitochondrially encoded tRNA-Phe (UUU/C) [Sour...</td>\n",
       "      <td>Mt_tRNA</td>\n",
       "      <td>insdc</td>\n",
       "      <td>1</td>\n",
       "      <td>mt_genbank_import_homo_sapiens</td>\n",
       "      <td>MT</td>\n",
       "      <td>577</td>\n",
       "      <td>647</td>\n",
       "      <td>1</td>\n",
       "      <td>GRCh38</td>\n",
       "      <td>core</td>\n",
       "      <td>98</td>\n",
       "      <td>homo_sapiens</td>\n",
       "      <td>Gene</td>\n",
       "      <td>True</td>\n",
       "    </tr>\n",
       "    <tr>\n",
       "      <th>1</th>\n",
       "      <td>ENSG00000211459</td>\n",
       "      <td>MT-RNR1</td>\n",
       "      <td>mitochondrially encoded 12S rRNA [Source:HGNC ...</td>\n",
       "      <td>Mt_rRNA</td>\n",
       "      <td>insdc</td>\n",
       "      <td>2</td>\n",
       "      <td>mt_genbank_import_homo_sapiens</td>\n",
       "      <td>MT</td>\n",
       "      <td>648</td>\n",
       "      <td>1601</td>\n",
       "      <td>1</td>\n",
       "      <td>GRCh38</td>\n",
       "      <td>core</td>\n",
       "      <td>98</td>\n",
       "      <td>homo_sapiens</td>\n",
       "      <td>Gene</td>\n",
       "      <td>True</td>\n",
       "    </tr>\n",
       "    <tr>\n",
       "      <th>2</th>\n",
       "      <td>ENSG00000210077</td>\n",
       "      <td>MT-TV</td>\n",
       "      <td>mitochondrially encoded tRNA-Val (GUN) [Source...</td>\n",
       "      <td>Mt_tRNA</td>\n",
       "      <td>insdc</td>\n",
       "      <td>1</td>\n",
       "      <td>mt_genbank_import_homo_sapiens</td>\n",
       "      <td>MT</td>\n",
       "      <td>1602</td>\n",
       "      <td>1670</td>\n",
       "      <td>1</td>\n",
       "      <td>GRCh38</td>\n",
       "      <td>core</td>\n",
       "      <td>98</td>\n",
       "      <td>homo_sapiens</td>\n",
       "      <td>Gene</td>\n",
       "      <td>True</td>\n",
       "    </tr>\n",
       "  </tbody>\n",
       "</table>\n",
       "</div>"
      ],
      "text/plain": [
       "                id display_name  \\\n",
       "0  ENSG00000210049        MT-TF   \n",
       "1  ENSG00000211459      MT-RNR1   \n",
       "2  ENSG00000210077        MT-TV   \n",
       "\n",
       "                                         description  biotype source  version  \\\n",
       "0  mitochondrially encoded tRNA-Phe (UUU/C) [Sour...  Mt_tRNA  insdc        1   \n",
       "1  mitochondrially encoded 12S rRNA [Source:HGNC ...  Mt_rRNA  insdc        2   \n",
       "2  mitochondrially encoded tRNA-Val (GUN) [Source...  Mt_tRNA  insdc        1   \n",
       "\n",
       "                       logic_name seq_region_name  start   end  strand  \\\n",
       "0  mt_genbank_import_homo_sapiens              MT    577   647       1   \n",
       "1  mt_genbank_import_homo_sapiens              MT    648  1601       1   \n",
       "2  mt_genbank_import_homo_sapiens              MT   1602  1670       1   \n",
       "\n",
       "  assembly_name db_type  ensembl_release       species object_type  \\\n",
       "0        GRCh38    core               98  homo_sapiens        Gene   \n",
       "1        GRCh38    core               98  homo_sapiens        Gene   \n",
       "2        GRCh38    core               98  homo_sapiens        Gene   \n",
       "\n",
       "   is_reference  \n",
       "0          True  \n",
       "1          True  \n",
       "2          True  "
      ]
     },
     "execution_count": 13,
     "metadata": {},
     "output_type": "execute_result"
    }
   ],
   "source": [
    "df.head(3)"
   ]
  },
  {
   "cell_type": "code",
   "execution_count": 24,
   "metadata": {},
   "outputs": [
    {
     "data": {
      "text/plain": [
       "True"
      ]
     },
     "execution_count": 24,
     "metadata": {},
     "output_type": "execute_result"
    }
   ],
   "source": [
    "df.id.is_unique"
   ]
  },
  {
   "cell_type": "code",
   "execution_count": 18,
   "metadata": {},
   "outputs": [
    {
     "data": {
      "text/plain": [
       "GRCh38    60564\n",
       "Name: assembly_name, dtype: int64"
      ]
     },
     "execution_count": 18,
     "metadata": {},
     "output_type": "execute_result"
    }
   ],
   "source": [
    "df.assembly_name.value_counts()"
   ]
  },
  {
   "cell_type": "code",
   "execution_count": 19,
   "metadata": {},
   "outputs": [
    {
     "data": {
      "text/plain": [
       "1     5472\n",
       "2     4197\n",
       "11    3361\n",
       "3     3185\n",
       "17    3060\n",
       "6     3057\n",
       "12    3052\n",
       "7     3014\n",
       "19    2992\n",
       "5     2984\n",
       "4     2653\n",
       "16    2555\n",
       "8     2482\n",
       "X     2423\n",
       "10    2332\n",
       "9     2326\n",
       "14    2286\n",
       "15    2219\n",
       "20    1457\n",
       "13    1398\n",
       "22    1386\n",
       "18    1242\n",
       "21     872\n",
       "Y      522\n",
       "MT      37\n",
       "Name: seq_region_name, dtype: int64"
      ]
     },
     "execution_count": 19,
     "metadata": {},
     "output_type": "execute_result"
    }
   ],
   "source": [
    "df.seq_region_name.value_counts() "
   ]
  },
  {
   "cell_type": "code",
   "execution_count": 17,
   "metadata": {},
   "outputs": [
    {
     "data": {
      "text/plain": [
       "98    60564\n",
       "Name: ensembl_release, dtype: int64"
      ]
     },
     "execution_count": 17,
     "metadata": {},
     "output_type": "execute_result"
    }
   ],
   "source": [
    "df.ensembl_release.value_counts()"
   ]
  },
  {
   "cell_type": "code",
   "execution_count": 21,
   "metadata": {},
   "outputs": [
    {
     "data": {
      "text/plain": [
       "15    60564\n",
       "Name: id, dtype: int64"
      ]
     },
     "execution_count": 21,
     "metadata": {},
     "output_type": "execute_result"
    }
   ],
   "source": [
    "df.id.str.len().value_counts()"
   ]
  },
  {
   "cell_type": "markdown",
   "metadata": {},
   "source": [
    "### HGNC\n",
    "\n",
    "See [plugins/gene/hgnc.py](https://github.com/opentargets/data_pipeline/blob/329ff219f9510d137c7609478b05d358c9195579/mrtarget/plugins/gene/hgnc.py)"
   ]
  },
  {
   "cell_type": "code",
   "execution_count": 30,
   "metadata": {},
   "outputs": [
    {
     "name": "stdout",
     "output_type": "stream",
     "text": [
      "--2019-12-20 16:27:28--  https://storage.googleapis.com/open-targets-data-releases/19.11/input/annotation-files/hgnc_complete_set-2019-10-31.json\n",
      "Resolving storage.googleapis.com (storage.googleapis.com)... 172.217.13.240, 2607:f8b0:4004:808::2010\n",
      "Connecting to storage.googleapis.com (storage.googleapis.com)|172.217.13.240|:443... connected.\n",
      "HTTP request sent, awaiting response... 200 OK\n",
      "Length: 31913288 (30M) [application/json]\n",
      "Saving to: ‘/tmp/hgnc_complete_set-2019-10-31.json’\n",
      "\n",
      "hgnc_complete_set-2 100%[===================>]  30.43M  8.54MB/s    in 3.9s    \n",
      "\n",
      "2019-12-20 16:27:33 (7.84 MB/s) - ‘/tmp/hgnc_complete_set-2019-10-31.json’ saved [31913288/31913288]\n",
      "\n"
     ]
    }
   ],
   "source": [
    "!wget -P /tmp https://storage.googleapis.com/open-targets-data-releases/19.11/input/annotation-files/hgnc_complete_set-2019-10-31.json"
   ]
  },
  {
   "cell_type": "code",
   "execution_count": 49,
   "metadata": {},
   "outputs": [
    {
     "name": "stdout",
     "output_type": "stream",
     "text": [
      "<class 'pandas.core.frame.DataFrame'>\n",
      "Int64Index: 38385 entries, 0 to 43378\n",
      "Data columns (total 52 columns):\n",
      "date_approved_reserved    38385 non-null object\n",
      "vega_id                   32076 non-null object\n",
      "locus_group               38385 non-null object\n",
      "status                    38385 non-null object\n",
      "_version_                 38385 non-null int64\n",
      "uuid                      38385 non-null object\n",
      "merops                    716 non-null object\n",
      "refseq_accession          37798 non-null object\n",
      "locus_type                38385 non-null object\n",
      "cosmic                    17479 non-null object\n",
      "hgnc_id                   38385 non-null object\n",
      "rgd_id                    17928 non-null object\n",
      "ensembl_gene_id           38385 non-null object\n",
      "entrez_id                 38376 non-null object\n",
      "gene_group                18684 non-null object\n",
      "omim_id                   15959 non-null object\n",
      "symbol                    38385 non-null object\n",
      "location                  38367 non-null object\n",
      "name                      38385 non-null object\n",
      "date_modified             38385 non-null object\n",
      "mgd_id                    18169 non-null object\n",
      "ucsc_id                   24300 non-null object\n",
      "uniprot_ids               20119 non-null object\n",
      "ccds_id                   19003 non-null object\n",
      "gene_group_id             18684 non-null object\n",
      "pubmed_id                 20474 non-null object\n",
      "location_sortable         38367 non-null object\n",
      "alias_symbol              20580 non-null object\n",
      "rna_central_id            6193 non-null object\n",
      "prev_name                 20622 non-null object\n",
      "date_name_changed         22217 non-null object\n",
      "lncipedia                 2453 non-null object\n",
      "prev_symbol               11004 non-null object\n",
      "ena                       19324 non-null object\n",
      "date_symbol_changed       8632 non-null object\n",
      "orphanet                  4412 non-null float64\n",
      "pseudogene.org            7211 non-null object\n",
      "alias_name                6425 non-null object\n",
      "lsdb                      2106 non-null object\n",
      "enzyme_id                 1803 non-null object\n",
      "iuphar                    3361 non-null object\n",
      "cd                        367 non-null object\n",
      "lncrnadb                  135 non-null object\n",
      "homeodb                   309 non-null float64\n",
      "kznf_gene_catalog         614 non-null float64\n",
      "imgt                      648 non-null object\n",
      "bioparadigms_slc          453 non-null object\n",
      "mirbase                   1853 non-null object\n",
      "mamit-trnadb              22 non-null float64\n",
      "horde_id                  846 non-null object\n",
      "snornabase                381 non-null object\n",
      "gtrnadb                   0 non-null object\n",
      "dtypes: float64(4), int64(1), object(47)\n",
      "memory usage: 15.5+ MB\n"
     ]
    }
   ],
   "source": [
    "import json\n",
    "with open('/tmp/hgnc_complete_set-2019-10-31.json', 'r') as fd:\n",
    "    # Immediately filter to ensembl_gene presence as all others are ignored in module\n",
    "    df = pd.DataFrame(json.load(fd)['response']['docs'])\\\n",
    "        .pipe(lambda df: df[df['ensembl_gene_id'].notnull()])\n",
    "df.info()"
   ]
  },
  {
   "cell_type": "code",
   "execution_count": 50,
   "metadata": {},
   "outputs": [
    {
     "data": {
      "text/plain": [
       "0"
      ]
     },
     "execution_count": 50,
     "metadata": {},
     "output_type": "execute_result"
    }
   ],
   "source": [
    "(df.ensembl_gene_id.dropna().str.len() == 0).sum()"
   ]
  },
  {
   "cell_type": "code",
   "execution_count": 51,
   "metadata": {},
   "outputs": [
    {
     "data": {
      "text/plain": [
       "(False, True)"
      ]
     },
     "execution_count": 51,
     "metadata": {},
     "output_type": "execute_result"
    }
   ],
   "source": [
    "df.ensembl_gene_id.is_unique, df.hgnc_id.is_unique"
   ]
  },
  {
   "cell_type": "code",
   "execution_count": 52,
   "metadata": {},
   "outputs": [
    {
     "data": {
      "text/plain": [
       "1    38385\n",
       "dtype: int64"
      ]
     },
     "execution_count": 52,
     "metadata": {},
     "output_type": "execute_result"
    }
   ],
   "source": [
    "df.groupby(['ensembl_gene_id', 'hgnc_id']).size().value_counts()"
   ]
  },
  {
   "cell_type": "code",
   "execution_count": 53,
   "metadata": {},
   "outputs": [
    {
     "data": {
      "text/plain": [
       "Approved    38385\n",
       "Name: status, dtype: int64"
      ]
     },
     "execution_count": 53,
     "metadata": {},
     "output_type": "execute_result"
    }
   ],
   "source": [
    "df['status'].value_counts()"
   ]
  }
 ],
 "metadata": {
  "kernelspec": {
   "display_name": "Python 3",
   "language": "python",
   "name": "python3"
  },
  "language_info": {
   "codemirror_mode": {
    "name": "ipython",
    "version": 3
   },
   "file_extension": ".py",
   "mimetype": "text/x-python",
   "name": "python",
   "nbconvert_exporter": "python",
   "pygments_lexer": "ipython3",
   "version": "3.7.3"
  }
 },
 "nbformat": 4,
 "nbformat_minor": 4
}
