{
 "cells": [
  {
   "cell_type": "code",
   "execution_count": 1,
   "metadata": {},
   "outputs": [
    {
     "name": "stdout",
     "output_type": "stream",
     "text": [
      "Loading spark-stubs\n",
      "Creating SparkSession\n"
     ]
    },
    {
     "name": "stderr",
     "output_type": "stream",
     "text": [
      "Using Spark's default log4j profile: org/apache/spark/log4j-defaults.properties\n",
      "19/12/12 21:36:53 WARN NativeCodeLoader: Unable to load native-hadoop library for your platform... using builtin-java classes where applicable\n"
     ]
    },
    {
     "data": {
      "text/plain": [
       "\u001b[32mimport \u001b[39m\u001b[36m$file.$            , testgeninit._\n",
       "\u001b[39m\n",
       "\u001b[32mimport \u001b[39m\u001b[36m$file.$          , sparkinit._\n",
       "\u001b[39m\n",
       "\u001b[32mimport \u001b[39m\u001b[36m$file.$         , pathinit._\n",
       "\u001b[39m\n",
       "\u001b[32mimport \u001b[39m\u001b[36m$file.$       , cpinit._\n",
       "\u001b[39m\n",
       "\u001b[32mimport \u001b[39m\u001b[36mss.implicits._\n",
       "\u001b[39m\n",
       "\u001b[32mimport \u001b[39m\u001b[36morg.apache.spark.sql.functions._\n",
       "\u001b[39m\n",
       "\u001b[32mimport \u001b[39m\u001b[36mjava.nio.file.Paths\n",
       "\u001b[39m\n",
       "\u001b[32mimport \u001b[39m\u001b[36mcom.relatedsciences.opentargets.etl.pipeline.SparkImplicits._\n",
       "\u001b[39m\n",
       "\u001b[32mimport \u001b[39m\u001b[36mscala.io.Source\u001b[39m"
      ]
     },
     "execution_count": 1,
     "metadata": {},
     "output_type": "execute_result"
    }
   ],
   "source": [
    "import $file.^.testgeninit, testgeninit._\n",
    "import $file.^.sparkinit, sparkinit._\n",
    "import $file.^.pathinit, pathinit._\n",
    "import $file.^.cpinit, cpinit._\n",
    "import ss.implicits._\n",
    "import org.apache.spark.sql.functions._\n",
    "import java.nio.file.Paths\n",
    "import com.relatedsciences.opentargets.etl.pipeline.SparkImplicits._\n",
    "import scala.io.Source"
   ]
  },
  {
   "cell_type": "code",
   "execution_count": 2,
   "metadata": {},
   "outputs": [
    {
     "data": {
      "text/html": [
       "<script>\n",
       "var comm = Jupyter.notebook.kernel.comm_manager.new_comm('cancel-stage-4094e6aa-cf8c-473d-9e33-481b9b8a5614', {});\n",
       "\n",
       "function cancelStage(stageId) {\n",
       "  console.log('Cancelling stage ' + stageId);\n",
       "  comm.send({ 'stageId': stageId });\n",
       "}\n",
       "</script>\n",
       "          "
      ]
     },
     "metadata": {},
     "output_type": "display_data"
    },
    {
     "data": {
      "text/html": [
       "<div>\n",
       "  <span style=\"float: left;\">json at cmd1.sc:1</span>\n",
       "</div>\n"
      ]
     },
     "metadata": {},
     "output_type": "display_data"
    },
    {
     "data": {
      "text/html": [
       "<div class=\"progress\">\n",
       "  <div class=\"progress-bar\" role=\"progressbar\" style=\"background-color: blue; width: 100%; word-wrap: normal; white-space: nowrap; text-align: center; color: white\" aria-valuenow=\"100\" aria-valuemin=\"0\" aria-valuemax=\"100\">\n",
       "    9 / 9\n",
       "  </div>\n",
       "  <div class=\"progress-bar\" role=\"progressbar\" style=\"background-color: red; width: 0%\" aria-valuenow=\"0\" aria-valuemin=\"0\" aria-valuemax=\"100\"></div>\n",
       "</div>\n"
      ]
     },
     "metadata": {},
     "output_type": "display_data"
    },
    {
     "name": "stderr",
     "output_type": "stream",
     "text": [
      "19/12/12 21:37:17 WARN Utils: Truncated the string representation of a plan since it was too large. This behavior can be adjusted by setting 'spark.debug.maxToStringFields' in SparkEnv.conf.\n"
     ]
    },
    {
     "data": {
      "text/plain": [
       "\u001b[36mdf\u001b[39m: \u001b[32morg\u001b[39m.\u001b[32mapache\u001b[39m.\u001b[32mspark\u001b[39m.\u001b[32msql\u001b[39m.\u001b[32mpackage\u001b[39m.\u001b[32mDataFrame\u001b[39m = [_corrupt_record: string, access_level: string ... 10 more fields]"
      ]
     },
     "execution_count": 2,
     "metadata": {},
     "output_type": "execute_result"
    }
   ],
   "source": [
    "// Load raw evidence extract \n",
    "val df = ss.read.json(EXTRACT_DIR.resolve(\"evidence_raw.json\").toString)"
   ]
  },
  {
   "cell_type": "code",
   "execution_count": 3,
   "metadata": {},
   "outputs": [
    {
     "data": {
      "text/plain": [
       "\u001b[36mnormalize\u001b[39m: \u001b[32morg\u001b[39m.\u001b[32mapache\u001b[39m.\u001b[32mspark\u001b[39m.\u001b[32msql\u001b[39m.\u001b[32mColumn\u001b[39m = ((type = genetic_association) AND (evidence.gene2variant IS NOT NULL))\n",
       "defined \u001b[32mfunction\u001b[39m \u001b[36mgetECOScores\u001b[39m\n",
       "\u001b[36mecolkp\u001b[39m: \u001b[32morg\u001b[39m.\u001b[32mapache\u001b[39m.\u001b[32mspark\u001b[39m.\u001b[32msql\u001b[39m.\u001b[32mColumn\u001b[39m = keys: [http://purl.obolibrary.org/obo/SO_0001060,http://purl.obolibrary.org/obo/SO_0001894,http://purl.obolibrary.org/obo/SO_0001627,http://purl.obolibrary.org/obo/SO_0001575,http://purl.obolibrary.org/obo/SO_0001566,http://purl.obolibrary.org/obo/SO_0001623,http://purl.obolibrary.org/obo/SO_0001782,http://purl.obolibrary.org/obo/SO_0001819,http://purl.obolibrary.org/obo/ECO_0000205,http://purl.obolibrary.org/obo/SO_0001589,http://purl.obolibrary.org/obo/SO_0001583,http://purl.obolibrary.org/obo/SO_0001792,http://purl.obolibrary.org/obo/SO_0001893,http://purl.obolibrary.org/obo/SO_0001587,http://purl.obolibrary.org/obo/SO_0001628,http://purl.obolibrary.org/obo/SO_0001567,http://purl.obolibrary.org/obo/SO_0001619,http://purl.obolibrary.org/obo/SO_0001574,http://purl.obolibrary.org/obo/SO_0001578,http://purl.obolibrary.org/obo/SO_0001907,http://purl.obolibrary.org/obo/SO_0001624,http://purl.obolibrary.org/obo/SO_0001582,http://purl.obolibrary.org/obo/SO_0002165,http://purl.obolibrary.org/obo/SO_0001822,http://purl.obolibrary.org/obo/SO_0001892,http://purl.obolibrary.org/obo/SO_0001621,http://purl.obolibrary.org/obo/SO_0001631,http://purl.obolibrary.org/obo/SO_0001889,http://purl.obolibrary.org/obo/SO_0001620,http://purl.obolibrary.org/obo/SO_0002012,http://targetvalidation.org/sequence/nearest_gene_five_prime_end,http://purl.obolibrary.org/obo/SO_0001821,http://targetvalidation.org/sequence/regulatory_nearest_gene_five_prime_end,http://purl.obolibrary.org/obo/SO_0001906,http://identifiers.org/eco/cttv_mapping_pipeline,http://purl.obolibrary.org/obo/SO_0001895,http://purl.obolibrary.org/obo/SO_0001632,http://purl.obolibrary.org/obo/SO_0001626,http://purl.obolibrary.org/obo/SO_0001818,http://purl.obolibrary.org/obo/SO_0001630,http://purl.obolibrary.org/obo/SO_0001580,http://purl.obolibrary.org/obo/SO_0001825,http://purl.obolibrary.org/obo/SO_0001891], values: [0.5,0.6,0.65,0.95,0.6,0.65,0.6,0.65,1.0,0.95,0.7,0.65,1.0,0.95,0.5,0.65,0.65,0.95,0.9,0.6,0.65,0.7,1.0,0.7,0.6,0.65,0.6,0.6,0.65,0.95,0.5,0.7,0.6,0.6,1.0,0.6,0.6,0.9,0.7,0.95,0.95,0.5,0.6]"
      ]
     },
     "execution_count": 3,
     "metadata": {},
     "output_type": "execute_result"
    }
   ],
   "source": [
    "val normalize = $\"type\" === \"genetic_association\" && $\"evidence.gene2variant\".isNotNull\n",
    "def getECOScores: Map[String, Double] = {\n",
    "    Source.fromURL(\"https://storage.googleapis.com/open-targets-data-releases/19.11/input/annotation-files/eco_scores-2019-10-31.tsv\")\n",
    "      .mkString\n",
    "        .split(\"\\n\")\n",
    "        .map(_.split(\"\\t\"))\n",
    "        .map(r => r(0) -> r(2).toDouble).toMap\n",
    "}\n",
    "val ecolkp = typedLit(getECOScores)"
   ]
  },
  {
   "cell_type": "code",
   "execution_count": 20,
   "metadata": {},
   "outputs": [
    {
     "data": {
      "text/plain": [
       "\u001b[36mdfe\u001b[39m: \u001b[32morg\u001b[39m.\u001b[32mapache\u001b[39m.\u001b[32mspark\u001b[39m.\u001b[32msql\u001b[39m.\u001b[32mpackage\u001b[39m.\u001b[32mDataFrame\u001b[39m = [_corrupt_record: string, access_level: string ... 12 more fields]"
      ]
     },
     "execution_count": 20,
     "metadata": {},
     "output_type": "execute_result"
    }
   ],
   "source": [
    "// Override resources scores only for ECO codes that are in the static score mapping (i.e. \"enforce\" them\n",
    "// when known, otherwise leave them alone)\n",
    "val dfe = df\n",
    "  // Extract current resource score\n",
    "  .withColumn(\"resource_score_original\", when(normalize,\n",
    "    coalesce($\"evidence.gene2variant.resource_score.value\", $\"evidence.resource_score.value\")\n",
    "  ))\n",
    "  // Get ECO URI for evidence\n",
    "  .withColumn(\"resource_score_eco_uri\", when(normalize,\n",
    "    coalesce($\"evidence.gene2variant.functional_consequence\", $\"evidence.evidence_codes\".getItem(0))\n",
    "  ))\n",
    "  // Get expected score based on static URI -> score map\n",
    "  .withColumn(\"resource_score_expected\", when(normalize, ecolkp($\"resource_score_eco_uri\")))\n",
    "  // Add flag for whether or not this \"enforcement\" is applicable\n",
    "  .withColumn(\"resource_score_enforced_by_eco_code\", $\"resource_score_expected\".isNotNull)\n",
    "  // Add flag to indicate whether an update was actually necessary\n",
    "      // Add flag to indicate what the value was changed to, if any change occurs\n",
    "  .withColumn(\"resource_score_enforced_update\",\n",
    "    when($\"resource_score_enforced_by_eco_code\",\n",
    "        when($\"resource_score_original\".isNull, lit(\"value_null\"))\n",
    "        .when($\"resource_score_original\" =!= $\"resource_score_expected\", lit(\"value_unequal\"))\n",
    "        .otherwise(lit(\"value_equal\"))\n",
    "    )\n",
    "  )\n",
    "  // Leave the resource score as is unless an override was applicable\n",
    "  // .withColumn(\"evidence.gene2variant.resource_score\",\n",
    "  .withColumn(\"resource_score_new\",\n",
    "    when($\"resource_score_enforced_by_eco_code\", struct(\n",
    "      $\"evidence.gene2variant.resource_score.method\".as(\"method\"),\n",
    "      lit(\"probability\").as(\"type\"),\n",
    "      $\"resource_score_expected\".as(\"value\")\n",
    "    ))\n",
    "    .otherwise($\"evidence.gene2variant.resource_score\")\n",
    "  )\n",
    "  // Drop some intermediate fields, move others to retained context\n",
    "  .drop(\"resource_score_original\", \"resource_score_eco_uri\", \"resource_score_expected\")\n",
    "  .appendStruct(\"context\", \"resource_score_enforced_by_eco_code\", \"resource_score_enforced_update\")"
   ]
  },
  {
   "cell_type": "code",
   "execution_count": 21,
   "metadata": {},
   "outputs": [
    {
     "data": {
      "text/html": [
       "<div>\n",
       "  <span style=\"float: left;\">show at cmd20.sc:1</span>\n",
       "</div>\n"
      ]
     },
     "metadata": {},
     "output_type": "display_data"
    },
    {
     "data": {
      "text/html": [
       "<div class=\"progress\">\n",
       "  <div class=\"progress-bar\" role=\"progressbar\" style=\"background-color: blue; width: 100%; word-wrap: normal; white-space: nowrap; text-align: center; color: white\" aria-valuenow=\"100\" aria-valuemin=\"0\" aria-valuemax=\"100\">\n",
       "    9 / 9\n",
       "  </div>\n",
       "  <div class=\"progress-bar\" role=\"progressbar\" style=\"background-color: red; width: 0%\" aria-valuenow=\"0\" aria-valuemin=\"0\" aria-valuemax=\"100\"></div>\n",
       "</div>\n"
      ]
     },
     "metadata": {},
     "output_type": "display_data"
    },
    {
     "data": {
      "text/html": [
       "<div>\n",
       "  <span style=\"float: left;\">show at cmd20.sc:1</span>\n",
       "</div>\n"
      ]
     },
     "metadata": {},
     "output_type": "display_data"
    },
    {
     "data": {
      "text/html": [
       "<div class=\"progress\">\n",
       "  <div class=\"progress-bar\" role=\"progressbar\" style=\"background-color: blue; width: 100%; word-wrap: normal; white-space: nowrap; text-align: center; color: white\" aria-valuenow=\"100\" aria-valuemin=\"0\" aria-valuemax=\"100\">\n",
       "    1 / 1\n",
       "  </div>\n",
       "  <div class=\"progress-bar\" role=\"progressbar\" style=\"background-color: red; width: 0%\" aria-valuenow=\"0\" aria-valuemin=\"0\" aria-valuemax=\"100\"></div>\n",
       "</div>\n"
      ]
     },
     "metadata": {},
     "output_type": "display_data"
    },
    {
     "name": "stdout",
     "output_type": "stream",
     "text": [
      "+-----------------------------------+-------------------+------+\n",
      "|resource_score_enforced_by_eco_code|               type| count|\n",
      "+-----------------------------------+-------------------+------+\n",
      "|                              false|       animal_model|502550|\n",
      "|                              false|         known_drug|400440|\n",
      "|                              false|     rna_expression|213490|\n",
      "|                               true|genetic_association|400212|\n",
      "|                              false|   somatic_mutation|107051|\n",
      "|                              false|genetic_association|     8|\n",
      "|                              false|   affected_pathway| 88291|\n",
      "|                              false| genetic_literature| 17525|\n",
      "|                              false|         literature|  1000|\n",
      "|                              false|               null|     1|\n",
      "+-----------------------------------+-------------------+------+\n",
      "\n"
     ]
    }
   ],
   "source": [
    "dfe.groupBy(\"context.resource_score_enforced_by_eco_code\", \"type\").count.show"
   ]
  },
  {
   "cell_type": "code",
   "execution_count": 22,
   "metadata": {},
   "outputs": [
    {
     "data": {
      "text/html": [
       "<div>\n",
       "  <span style=\"float: left;\">show at cmd21.sc:3</span>\n",
       "</div>\n"
      ]
     },
     "metadata": {},
     "output_type": "display_data"
    },
    {
     "data": {
      "text/html": [
       "<div class=\"progress\">\n",
       "  <div class=\"progress-bar\" role=\"progressbar\" style=\"background-color: blue; width: 100%; word-wrap: normal; white-space: nowrap; text-align: center; color: white\" aria-valuenow=\"100\" aria-valuemin=\"0\" aria-valuemax=\"100\">\n",
       "    9 / 9\n",
       "  </div>\n",
       "  <div class=\"progress-bar\" role=\"progressbar\" style=\"background-color: red; width: 0%\" aria-valuenow=\"0\" aria-valuemin=\"0\" aria-valuemax=\"100\"></div>\n",
       "</div>\n"
      ]
     },
     "metadata": {},
     "output_type": "display_data"
    },
    {
     "data": {
      "text/html": [
       "<div>\n",
       "  <span style=\"float: left;\">show at cmd21.sc:3</span>\n",
       "</div>\n"
      ]
     },
     "metadata": {},
     "output_type": "display_data"
    },
    {
     "data": {
      "text/html": [
       "<div class=\"progress\">\n",
       "  <div class=\"progress-bar\" role=\"progressbar\" style=\"background-color: blue; width: 100%; word-wrap: normal; white-space: nowrap; text-align: center; color: white\" aria-valuenow=\"100\" aria-valuemin=\"0\" aria-valuemax=\"100\">\n",
       "    1 / 1\n",
       "  </div>\n",
       "  <div class=\"progress-bar\" role=\"progressbar\" style=\"background-color: red; width: 0%\" aria-valuenow=\"0\" aria-valuemin=\"0\" aria-valuemax=\"100\"></div>\n",
       "</div>\n"
      ]
     },
     "metadata": {},
     "output_type": "display_data"
    },
    {
     "name": "stdout",
     "output_type": "stream",
     "text": [
      "+-----------------------------------+------------------------------+-------+\n",
      "|resource_score_enforced_by_eco_code|resource_score_enforced_update|  count|\n",
      "+-----------------------------------+------------------------------+-------+\n",
      "|                              false|                          null|1330356|\n",
      "|                               true|                    value_null| 296855|\n",
      "|                               true|                 value_unequal| 103357|\n",
      "+-----------------------------------+------------------------------+-------+\n",
      "\n"
     ]
    }
   ],
   "source": [
    "dfe.groupBy(\n",
    "    $\"context.resource_score_enforced_by_eco_code\",\n",
    "    $\"context.resource_score_enforced_update\"\n",
    ").count.show"
   ]
  },
  {
   "cell_type": "code",
   "execution_count": 23,
   "metadata": {},
   "outputs": [
    {
     "data": {
      "text/html": [
       "<div>\n",
       "  <span style=\"float: left;\">show at cmd22.sc:8</span>\n",
       "</div>\n"
      ]
     },
     "metadata": {},
     "output_type": "display_data"
    },
    {
     "data": {
      "text/html": [
       "<div class=\"progress\">\n",
       "  <div class=\"progress-bar\" role=\"progressbar\" style=\"background-color: blue; width: 100%; word-wrap: normal; white-space: nowrap; text-align: center; color: white\" aria-valuenow=\"100\" aria-valuemin=\"0\" aria-valuemax=\"100\">\n",
       "    1 / 1\n",
       "  </div>\n",
       "  <div class=\"progress-bar\" role=\"progressbar\" style=\"background-color: red; width: 0%\" aria-valuenow=\"0\" aria-valuemin=\"0\" aria-valuemax=\"100\"></div>\n",
       "</div>\n"
      ]
     },
     "metadata": {},
     "output_type": "display_data"
    },
    {
     "data": {
      "text/html": [
       "<div>\n",
       "  <span style=\"float: left;\">show at cmd22.sc:8</span>\n",
       "</div>\n"
      ]
     },
     "metadata": {},
     "output_type": "display_data"
    },
    {
     "data": {
      "text/html": [
       "<div class=\"progress\">\n",
       "  <div class=\"progress-bar\" role=\"progressbar\" style=\"background-color: blue; width: 100%; word-wrap: normal; white-space: nowrap; text-align: center; color: white\" aria-valuenow=\"100\" aria-valuemin=\"0\" aria-valuemax=\"100\">\n",
       "    4 / 4\n",
       "  </div>\n",
       "  <div class=\"progress-bar\" role=\"progressbar\" style=\"background-color: red; width: 0%\" aria-valuenow=\"0\" aria-valuemin=\"0\" aria-valuemax=\"100\"></div>\n",
       "</div>\n"
      ]
     },
     "metadata": {},
     "output_type": "display_data"
    },
    {
     "name": "stdout",
     "output_type": "stream",
     "text": [
      "+-----------------------------------------+-------------------------------+------+------+--------------+----------------------------------------------+-----------------------------------------+\n",
      "|functional_consequence                   |method                         |type  |value |evidence_codes|id                                            |id                                       |\n",
      "+-----------------------------------------+-------------------------------+------+------+--------------+----------------------------------------------+-----------------------------------------+\n",
      "|http://purl.obolibrary.org/obo/SO_0001583|[Not provided by data supplier]|pvalue|1.0E-7|null          |http://identifiers.org/ensembl/ENSG00000070915|http://www.orpha.net/ORDO/Orphanet_358   |\n",
      "|http://purl.obolibrary.org/obo/SO_0001583|[Not provided by data supplier]|pvalue|1.0E-7|null          |http://identifiers.org/ensembl/ENSG00000123297|http://www.orpha.net/ORDO/Orphanet_168566|\n",
      "|http://purl.obolibrary.org/obo/SO_0001583|[Not provided by data supplier]|pvalue|1.0E-7|null          |http://identifiers.org/ensembl/ENSG00000165091|http://www.ebi.ac.uk/efo/EFO_0001063     |\n",
      "|http://purl.obolibrary.org/obo/SO_0001583|[Not provided by data supplier]|pvalue|1.0E-7|null          |http://identifiers.org/ensembl/ENSG00000165091|http://www.ebi.ac.uk/efo/EFO_0001063     |\n",
      "|http://purl.obolibrary.org/obo/SO_0001583|[Not provided by data supplier]|pvalue|1.0E-7|null          |http://identifiers.org/ensembl/ENSG00000165091|http://www.ebi.ac.uk/efo/EFO_0001063     |\n",
      "+-----------------------------------------+-------------------------------+------+------+--------------+----------------------------------------------+-----------------------------------------+\n",
      "only showing top 5 rows\n",
      "\n"
     ]
    }
   ],
   "source": [
    "// The values are unequal b/c they come in as \"pvalue\" type, not \"probability\"\n",
    "dfe.filter($\"context.resource_score_enforced_update\" === \"value_unequal\")\n",
    "    .select(\n",
    "        \"evidence.gene2variant.functional_consequence\",\n",
    "        \"evidence.gene2variant.resource_score.*\", \n",
    "        \"evidence.evidence_codes\",\n",
    "        \"target.id\", \"disease.id\"\n",
    "    )\n",
    "    .show(5, false)"
   ]
  }
 ],
 "metadata": {
  "kernelspec": {
   "display_name": "Scala",
   "language": "scala",
   "name": "scala"
  },
  "language_info": {
   "codemirror_mode": "text/x-scala",
   "file_extension": ".scala",
   "mimetype": "text/x-scala",
   "name": "scala",
   "nbconvert_exporter": "script",
   "version": "2.12.10"
  }
 },
 "nbformat": 4,
 "nbformat_minor": 4
}
