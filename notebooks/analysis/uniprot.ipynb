{
 "cells": [
  {
   "cell_type": "markdown",
   "metadata": {},
   "source": [
    "# UniProt Analysis\n",
    "\n",
    "Resources:\n",
    "\n",
    "- [XML Schema](https://www.uniprot.org/docs/uniprot.xsd)\n",
    "- [User Manual](https://www.uniprot.org/help/uniprotkb_manual)\n",
    "- [Text File Format Manual](https://web.expasy.org/docs/userman.html)\n",
    "\n",
    "Contents:\n",
    "\n",
    "- [Schema](#schema): Inferred Spark schema \n",
    "- [Accession Numbers](#accession_numbers)\n",
    "- [Organisms](#organisms)\n",
    "- [Protein Existence](#protein_existence)"
   ]
  },
  {
   "cell_type": "code",
   "execution_count": 1,
   "metadata": {},
   "outputs": [
    {
     "name": "stdout",
     "output_type": "stream",
     "text": [
      "Loading spark-stubs\n",
      "Creating SparkSession\n"
     ]
    },
    {
     "name": "stderr",
     "output_type": "stream",
     "text": [
      "Using Spark's default log4j profile: org/apache/spark/log4j-defaults.properties\n",
      "19/12/27 19:37:57 WARN NativeCodeLoader: Unable to load native-hadoop library for your platform... using builtin-java classes where applicable\n"
     ]
    },
    {
     "data": {
      "text/plain": [
       "\u001b[32mimport \u001b[39m\u001b[36m$file.$          , sparkinit._\n",
       "\u001b[39m\n",
       "\u001b[32mimport \u001b[39m\u001b[36m$file.$         , pathinit._\n",
       "\u001b[39m\n",
       "\u001b[32mimport \u001b[39m\u001b[36m$ivy.$                                         \n",
       "\u001b[39m\n",
       "\u001b[32mimport \u001b[39m\u001b[36m$ivy.$                                \n",
       "\u001b[39m\n",
       "\u001b[32mimport \u001b[39m\u001b[36mss.implicits._\n",
       "\u001b[39m\n",
       "\u001b[32mimport \u001b[39m\u001b[36morg.apache.spark.sql.functions._\u001b[39m"
      ]
     },
     "execution_count": 1,
     "metadata": {},
     "output_type": "execute_result"
    }
   ],
   "source": [
    "import $file.^.sparkinit, sparkinit._\n",
    "import $file.^.pathinit, pathinit._\n",
    "import $ivy.`com.github.pathikrit::better-files:3.8.0`\n",
    "import $ivy.`com.databricks::spark-xml:0.7.0`\n",
    "import ss.implicits._\n",
    "import org.apache.spark.sql.functions._\n",
    "import org.apache.spark.sql.expressions.Window\n",
    "import better.files._"
   ]
  },
  {
   "cell_type": "markdown",
   "metadata": {},
   "source": [
    "## Partition\n",
    "\n",
    "Break the raw xml up into parquet partitions (and save the schema):"
   ]
  },
  {
   "cell_type": "code",
   "execution_count": 14,
   "metadata": {},
   "outputs": [
    {
     "data": {
      "text/html": [
       "<script>\n",
       "var comm = Jupyter.notebook.kernel.comm_manager.new_comm('cancel-stage-4edb1c9c-7b27-4005-8e08-3fda79e154d4', {});\n",
       "\n",
       "function cancelStage(stageId) {\n",
       "  console.log('Cancelling stage ' + stageId);\n",
       "  comm.send({ 'stageId': stageId });\n",
       "}\n",
       "</script>\n",
       "          "
      ]
     },
     "metadata": {},
     "output_type": "display_data"
    },
    {
     "data": {
      "text/html": [
       "<div>\n",
       "  <span style=\"float: left;\">fold at InferSchema.scala:115</span>\n",
       "</div>\n"
      ]
     },
     "metadata": {},
     "output_type": "display_data"
    },
    {
     "data": {
      "text/html": [
       "<div class=\"progress\">\n",
       "  <div class=\"progress-bar\" role=\"progressbar\" style=\"background-color: blue; width: 100%; word-wrap: normal; white-space: nowrap; text-align: center; color: white\" aria-valuenow=\"100\" aria-valuemin=\"0\" aria-valuemax=\"100\">\n",
       "    202 / 202\n",
       "  </div>\n",
       "  <div class=\"progress-bar\" role=\"progressbar\" style=\"background-color: red; width: 0%\" aria-valuenow=\"0\" aria-valuemin=\"0\" aria-valuemax=\"100\"></div>\n",
       "</div>\n"
      ]
     },
     "metadata": {},
     "output_type": "display_data"
    },
    {
     "name": "stderr",
     "output_type": "stream",
     "text": [
      "19/12/27 19:11:21 WARN Utils: Truncated the string representation of a plan since it was too large. This behavior can be adjusted by setting 'spark.debug.maxToStringFields' in SparkEnv.conf.\n"
     ]
    },
    {
     "data": {
      "text/plain": [
       "\u001b[36mpath\u001b[39m: \u001b[32mString\u001b[39m = \u001b[32m\"/home/eczech/data/ot/cache/uniprot/uniprot_sprot.xml\"\u001b[39m\n",
       "\u001b[36mdf\u001b[39m: \u001b[32morg\u001b[39m.\u001b[32mapache\u001b[39m.\u001b[32mspark\u001b[39m.\u001b[32msql\u001b[39m.\u001b[32mpackage\u001b[39m.\u001b[32mDataFrame\u001b[39m = [_created: string, _dataset: string ... 18 more fields]"
      ]
     },
     "execution_count": 14,
     "metadata": {},
     "output_type": "execute_result"
    }
   ],
   "source": [
    "// Download from https://www.uniprot.org/downloads (Swiss-Prot only for now)\n",
    "val path = (File(DATA_CACHE_DIR) / \"uniprot\" / \"uniprot_sprot.xml\").toString\n",
    "val df = ss.read\n",
    "    .format(\"com.databricks.spark.xml\")\n",
    "    .option(\"rowTag\", \"entry\")\n",
    "    .load(path)"
   ]
  },
  {
   "cell_type": "markdown",
   "metadata": {},
   "source": [
    "<h3><a id=\"schema\">Schema</a></h3>"
   ]
  },
  {
   "cell_type": "code",
   "execution_count": 55,
   "metadata": {},
   "outputs": [
    {
     "name": "stdout",
     "output_type": "stream",
     "text": [
      "root\n",
      " |-- _created: string (nullable = true)\n",
      " |-- _dataset: string (nullable = true)\n",
      " |-- _modified: string (nullable = true)\n",
      " |-- _version: long (nullable = true)\n",
      " |-- _xmlns: string (nullable = true)\n",
      " |-- accession: array (nullable = true)\n",
      " |    |-- element: string (containsNull = true)\n",
      " |-- comment: array (nullable = true)\n",
      " |    |-- element: struct (containsNull = true)\n",
      " |    |    |-- _VALUE: string (nullable = true)\n",
      " |    |    |-- _error: double (nullable = true)\n",
      " |    |    |-- _evidence: string (nullable = true)\n",
      " |    |    |-- _locationType: string (nullable = true)\n",
      " |    |    |-- _mass: double (nullable = true)\n",
      " |    |    |-- _method: string (nullable = true)\n",
      " |    |    |-- _name: string (nullable = true)\n",
      " |    |    |-- _type: string (nullable = true)\n",
      " |    |    |-- absorption: struct (nullable = true)\n",
      " |    |    |    |-- max: struct (nullable = true)\n",
      " |    |    |    |    |-- _VALUE: string (nullable = true)\n",
      " |    |    |    |    |-- _evidence: string (nullable = true)\n",
      " |    |    |    |-- text: struct (nullable = true)\n",
      " |    |    |    |    |-- _VALUE: string (nullable = true)\n",
      " |    |    |    |    |-- _evidence: string (nullable = true)\n",
      " |    |    |-- cofactor: array (nullable = true)\n",
      " |    |    |    |-- element: struct (containsNull = true)\n",
      " |    |    |    |    |-- _evidence: string (nullable = true)\n",
      " |    |    |    |    |-- dbReference: struct (nullable = true)\n",
      " |    |    |    |    |    |-- _VALUE: string (nullable = true)\n",
      " |    |    |    |    |    |-- _id: string (nullable = true)\n",
      " |    |    |    |    |    |-- _type: string (nullable = true)\n",
      " |    |    |    |    |-- name: string (nullable = true)\n",
      " |    |    |-- conflict: struct (nullable = true)\n",
      " |    |    |    |-- _VALUE: string (nullable = true)\n",
      " |    |    |    |-- _ref: long (nullable = true)\n",
      " |    |    |    |-- _type: string (nullable = true)\n",
      " |    |    |    |-- sequence: struct (nullable = true)\n",
      " |    |    |    |    |-- _VALUE: string (nullable = true)\n",
      " |    |    |    |    |-- _id: string (nullable = true)\n",
      " |    |    |    |    |-- _resource: string (nullable = true)\n",
      " |    |    |    |    |-- _version: long (nullable = true)\n",
      " |    |    |-- disease: struct (nullable = true)\n",
      " |    |    |    |-- _id: string (nullable = true)\n",
      " |    |    |    |-- acronym: string (nullable = true)\n",
      " |    |    |    |-- dbReference: struct (nullable = true)\n",
      " |    |    |    |    |-- _VALUE: string (nullable = true)\n",
      " |    |    |    |    |-- _id: long (nullable = true)\n",
      " |    |    |    |    |-- _type: string (nullable = true)\n",
      " |    |    |    |-- description: string (nullable = true)\n",
      " |    |    |    |-- name: string (nullable = true)\n",
      " |    |    |-- event: array (nullable = true)\n",
      " |    |    |    |-- element: struct (containsNull = true)\n",
      " |    |    |    |    |-- _VALUE: string (nullable = true)\n",
      " |    |    |    |    |-- _type: string (nullable = true)\n",
      " |    |    |-- experiments: long (nullable = true)\n",
      " |    |    |-- interactant: array (nullable = true)\n",
      " |    |    |    |-- element: struct (containsNull = true)\n",
      " |    |    |    |    |-- _VALUE: string (nullable = true)\n",
      " |    |    |    |    |-- _intactId: string (nullable = true)\n",
      " |    |    |    |    |-- id: string (nullable = true)\n",
      " |    |    |    |    |-- label: string (nullable = true)\n",
      " |    |    |-- isoform: array (nullable = true)\n",
      " |    |    |    |-- element: struct (containsNull = true)\n",
      " |    |    |    |    |-- id: array (nullable = true)\n",
      " |    |    |    |    |    |-- element: string (containsNull = true)\n",
      " |    |    |    |    |-- name: array (nullable = true)\n",
      " |    |    |    |    |    |-- element: struct (containsNull = true)\n",
      " |    |    |    |    |    |    |-- _VALUE: string (nullable = true)\n",
      " |    |    |    |    |    |    |-- _evidence: string (nullable = true)\n",
      " |    |    |    |    |-- sequence: struct (nullable = true)\n",
      " |    |    |    |    |    |-- _VALUE: string (nullable = true)\n",
      " |    |    |    |    |    |-- _ref: string (nullable = true)\n",
      " |    |    |    |    |    |-- _type: string (nullable = true)\n",
      " |    |    |-- kinetics: struct (nullable = true)\n",
      " |    |    |    |-- KM: array (nullable = true)\n",
      " |    |    |    |    |-- element: struct (containsNull = true)\n",
      " |    |    |    |    |    |-- _VALUE: string (nullable = true)\n",
      " |    |    |    |    |    |-- _evidence: string (nullable = true)\n",
      " |    |    |    |-- Vmax: array (nullable = true)\n",
      " |    |    |    |    |-- element: struct (containsNull = true)\n",
      " |    |    |    |    |    |-- _VALUE: string (nullable = true)\n",
      " |    |    |    |    |    |-- _evidence: string (nullable = true)\n",
      " |    |    |    |-- text: struct (nullable = true)\n",
      " |    |    |    |    |-- _VALUE: string (nullable = true)\n",
      " |    |    |    |    |-- _evidence: string (nullable = true)\n",
      " |    |    |-- link: struct (nullable = true)\n",
      " |    |    |    |-- _VALUE: string (nullable = true)\n",
      " |    |    |    |-- _uri: string (nullable = true)\n",
      " |    |    |-- location: array (nullable = true)\n",
      " |    |    |    |-- element: struct (containsNull = true)\n",
      " |    |    |    |    |-- position: struct (nullable = true)\n",
      " |    |    |    |    |    |-- _VALUE: string (nullable = true)\n",
      " |    |    |    |    |    |-- _evidence: string (nullable = true)\n",
      " |    |    |    |    |    |-- _position: long (nullable = true)\n",
      " |    |    |-- molecule: string (nullable = true)\n",
      " |    |    |-- organismsDiffer: boolean (nullable = true)\n",
      " |    |    |-- phDependence: struct (nullable = true)\n",
      " |    |    |    |-- text: struct (nullable = true)\n",
      " |    |    |    |    |-- _VALUE: string (nullable = true)\n",
      " |    |    |    |    |-- _evidence: string (nullable = true)\n",
      " |    |    |-- physiologicalReaction: array (nullable = true)\n",
      " |    |    |    |-- element: struct (containsNull = true)\n",
      " |    |    |    |    |-- _direction: string (nullable = true)\n",
      " |    |    |    |    |-- _evidence: string (nullable = true)\n",
      " |    |    |    |    |-- dbReference: struct (nullable = true)\n",
      " |    |    |    |    |    |-- _VALUE: string (nullable = true)\n",
      " |    |    |    |    |    |-- _id: string (nullable = true)\n",
      " |    |    |    |    |    |-- _type: string (nullable = true)\n",
      " |    |    |-- reaction: struct (nullable = true)\n",
      " |    |    |    |-- _evidence: string (nullable = true)\n",
      " |    |    |    |-- dbReference: array (nullable = true)\n",
      " |    |    |    |    |-- element: struct (containsNull = true)\n",
      " |    |    |    |    |    |-- _VALUE: string (nullable = true)\n",
      " |    |    |    |    |    |-- _id: string (nullable = true)\n",
      " |    |    |    |    |    |-- _type: string (nullable = true)\n",
      " |    |    |    |-- text: string (nullable = true)\n",
      " |    |    |-- redoxPotential: struct (nullable = true)\n",
      " |    |    |    |-- text: struct (nullable = true)\n",
      " |    |    |    |    |-- _VALUE: string (nullable = true)\n",
      " |    |    |    |    |-- _evidence: string (nullable = true)\n",
      " |    |    |-- subcellularLocation: array (nullable = true)\n",
      " |    |    |    |-- element: struct (containsNull = true)\n",
      " |    |    |    |    |-- location: array (nullable = true)\n",
      " |    |    |    |    |    |-- element: struct (containsNull = true)\n",
      " |    |    |    |    |    |    |-- _VALUE: string (nullable = true)\n",
      " |    |    |    |    |    |    |-- _evidence: string (nullable = true)\n",
      " |    |    |    |    |-- orientation: struct (nullable = true)\n",
      " |    |    |    |    |    |-- _VALUE: string (nullable = true)\n",
      " |    |    |    |    |    |-- _evidence: string (nullable = true)\n",
      " |    |    |    |    |-- topology: array (nullable = true)\n",
      " |    |    |    |    |    |-- element: struct (containsNull = true)\n",
      " |    |    |    |    |    |    |-- _VALUE: string (nullable = true)\n",
      " |    |    |    |    |    |    |-- _evidence: string (nullable = true)\n",
      " |    |    |-- temperatureDependence: struct (nullable = true)\n",
      " |    |    |    |-- text: struct (nullable = true)\n",
      " |    |    |    |    |-- _VALUE: string (nullable = true)\n",
      " |    |    |    |    |-- _evidence: string (nullable = true)\n",
      " |    |    |-- text: struct (nullable = true)\n",
      " |    |    |    |-- _VALUE: string (nullable = true)\n",
      " |    |    |    |-- _evidence: string (nullable = true)\n",
      " |-- dbReference: array (nullable = true)\n",
      " |    |-- element: struct (containsNull = true)\n",
      " |    |    |-- _VALUE: string (nullable = true)\n",
      " |    |    |-- _evidence: string (nullable = true)\n",
      " |    |    |-- _id: string (nullable = true)\n",
      " |    |    |-- _type: string (nullable = true)\n",
      " |    |    |-- molecule: struct (nullable = true)\n",
      " |    |    |    |-- _VALUE: string (nullable = true)\n",
      " |    |    |    |-- _id: string (nullable = true)\n",
      " |    |    |-- property: array (nullable = true)\n",
      " |    |    |    |-- element: struct (containsNull = true)\n",
      " |    |    |    |    |-- _VALUE: string (nullable = true)\n",
      " |    |    |    |    |-- _type: string (nullable = true)\n",
      " |    |    |    |    |-- _value: string (nullable = true)\n",
      " |-- evidence: array (nullable = true)\n",
      " |    |-- element: struct (containsNull = true)\n",
      " |    |    |-- _VALUE: string (nullable = true)\n",
      " |    |    |-- _key: long (nullable = true)\n",
      " |    |    |-- _type: string (nullable = true)\n",
      " |    |    |-- source: struct (nullable = true)\n",
      " |    |    |    |-- _VALUE: string (nullable = true)\n",
      " |    |    |    |-- _ref: long (nullable = true)\n",
      " |    |    |    |-- dbReference: struct (nullable = true)\n",
      " |    |    |    |    |-- _VALUE: string (nullable = true)\n",
      " |    |    |    |    |-- _id: string (nullable = true)\n",
      " |    |    |    |    |-- _type: string (nullable = true)\n",
      " |-- feature: array (nullable = true)\n",
      " |    |-- element: struct (containsNull = true)\n",
      " |    |    |-- _description: string (nullable = true)\n",
      " |    |    |-- _evidence: string (nullable = true)\n",
      " |    |    |-- _id: string (nullable = true)\n",
      " |    |    |-- _ref: string (nullable = true)\n",
      " |    |    |-- _type: string (nullable = true)\n",
      " |    |    |-- location: struct (nullable = true)\n",
      " |    |    |    |-- _sequence: string (nullable = true)\n",
      " |    |    |    |-- begin: struct (nullable = true)\n",
      " |    |    |    |    |-- _VALUE: string (nullable = true)\n",
      " |    |    |    |    |-- _position: long (nullable = true)\n",
      " |    |    |    |    |-- _status: string (nullable = true)\n",
      " |    |    |    |-- end: struct (nullable = true)\n",
      " |    |    |    |    |-- _VALUE: string (nullable = true)\n",
      " |    |    |    |    |-- _position: long (nullable = true)\n",
      " |    |    |    |    |-- _status: string (nullable = true)\n",
      " |    |    |    |-- position: struct (nullable = true)\n",
      " |    |    |    |    |-- _VALUE: string (nullable = true)\n",
      " |    |    |    |    |-- _position: long (nullable = true)\n",
      " |    |    |    |    |-- _status: string (nullable = true)\n",
      " |    |    |-- original: string (nullable = true)\n",
      " |    |    |-- variation: array (nullable = true)\n",
      " |    |    |    |-- element: string (containsNull = true)\n",
      " |-- gene: array (nullable = true)\n",
      " |    |-- element: struct (containsNull = true)\n",
      " |    |    |-- name: array (nullable = true)\n",
      " |    |    |    |-- element: struct (containsNull = true)\n",
      " |    |    |    |    |-- _VALUE: string (nullable = true)\n",
      " |    |    |    |    |-- _evidence: string (nullable = true)\n",
      " |    |    |    |    |-- _type: string (nullable = true)\n",
      " |-- geneLocation: array (nullable = true)\n",
      " |    |-- element: struct (containsNull = true)\n",
      " |    |    |-- _VALUE: string (nullable = true)\n",
      " |    |    |-- _evidence: string (nullable = true)\n",
      " |    |    |-- _type: string (nullable = true)\n",
      " |    |    |-- name: array (nullable = true)\n",
      " |    |    |    |-- element: string (containsNull = true)\n",
      " |-- keyword: array (nullable = true)\n",
      " |    |-- element: struct (containsNull = true)\n",
      " |    |    |-- _VALUE: string (nullable = true)\n",
      " |    |    |-- _id: string (nullable = true)\n",
      " |-- name: string (nullable = true)\n",
      " |-- organism: struct (nullable = true)\n",
      " |    |-- _evidence: string (nullable = true)\n",
      " |    |-- dbReference: struct (nullable = true)\n",
      " |    |    |-- _VALUE: string (nullable = true)\n",
      " |    |    |-- _id: long (nullable = true)\n",
      " |    |    |-- _type: string (nullable = true)\n",
      " |    |-- lineage: struct (nullable = true)\n",
      " |    |    |-- taxon: array (nullable = true)\n",
      " |    |    |    |-- element: string (containsNull = true)\n",
      " |    |-- name: array (nullable = true)\n",
      " |    |    |-- element: struct (containsNull = true)\n",
      " |    |    |    |-- _VALUE: string (nullable = true)\n",
      " |    |    |    |-- _type: string (nullable = true)\n",
      " |-- organismHost: array (nullable = true)\n",
      " |    |-- element: struct (containsNull = true)\n",
      " |    |    |-- dbReference: struct (nullable = true)\n",
      " |    |    |    |-- _VALUE: string (nullable = true)\n",
      " |    |    |    |-- _id: long (nullable = true)\n",
      " |    |    |    |-- _type: string (nullable = true)\n",
      " |    |    |-- name: array (nullable = true)\n",
      " |    |    |    |-- element: struct (containsNull = true)\n",
      " |    |    |    |    |-- _VALUE: string (nullable = true)\n",
      " |    |    |    |    |-- _type: string (nullable = true)\n",
      " |-- protein: struct (nullable = true)\n",
      " |    |-- allergenName: struct (nullable = true)\n",
      " |    |    |-- _VALUE: string (nullable = true)\n",
      " |    |    |-- _evidence: string (nullable = true)\n",
      " |    |-- alternativeName: array (nullable = true)\n",
      " |    |    |-- element: struct (containsNull = true)\n",
      " |    |    |    |-- ecNumber: array (nullable = true)\n",
      " |    |    |    |    |-- element: struct (containsNull = true)\n",
      " |    |    |    |    |    |-- _VALUE: string (nullable = true)\n",
      " |    |    |    |    |    |-- _evidence: string (nullable = true)\n",
      " |    |    |    |-- fullName: struct (nullable = true)\n",
      " |    |    |    |    |-- _VALUE: string (nullable = true)\n",
      " |    |    |    |    |-- _evidence: string (nullable = true)\n",
      " |    |    |    |-- shortName: array (nullable = true)\n",
      " |    |    |    |    |-- element: struct (containsNull = true)\n",
      " |    |    |    |    |    |-- _VALUE: string (nullable = true)\n",
      " |    |    |    |    |    |-- _evidence: string (nullable = true)\n",
      " |    |-- cdAntigenName: struct (nullable = true)\n",
      " |    |    |-- _VALUE: string (nullable = true)\n",
      " |    |    |-- _evidence: string (nullable = true)\n",
      " |    |-- component: array (nullable = true)\n",
      " |    |    |-- element: struct (containsNull = true)\n",
      " |    |    |    |-- allergenName: struct (nullable = true)\n",
      " |    |    |    |    |-- _VALUE: string (nullable = true)\n",
      " |    |    |    |    |-- _evidence: long (nullable = true)\n",
      " |    |    |    |-- alternativeName: array (nullable = true)\n",
      " |    |    |    |    |-- element: struct (containsNull = true)\n",
      " |    |    |    |    |    |-- ecNumber: struct (nullable = true)\n",
      " |    |    |    |    |    |    |-- _VALUE: string (nullable = true)\n",
      " |    |    |    |    |    |    |-- _evidence: string (nullable = true)\n",
      " |    |    |    |    |    |-- fullName: struct (nullable = true)\n",
      " |    |    |    |    |    |    |-- _VALUE: string (nullable = true)\n",
      " |    |    |    |    |    |    |-- _evidence: string (nullable = true)\n",
      " |    |    |    |    |    |-- shortName: array (nullable = true)\n",
      " |    |    |    |    |    |    |-- element: struct (containsNull = true)\n",
      " |    |    |    |    |    |    |    |-- _VALUE: string (nullable = true)\n",
      " |    |    |    |    |    |    |    |-- _evidence: string (nullable = true)\n",
      " |    |    |    |-- recommendedName: struct (nullable = true)\n",
      " |    |    |    |    |-- ecNumber: array (nullable = true)\n",
      " |    |    |    |    |    |-- element: struct (containsNull = true)\n",
      " |    |    |    |    |    |    |-- _VALUE: string (nullable = true)\n",
      " |    |    |    |    |    |    |-- _evidence: string (nullable = true)\n",
      " |    |    |    |    |-- fullName: struct (nullable = true)\n",
      " |    |    |    |    |    |-- _VALUE: string (nullable = true)\n",
      " |    |    |    |    |    |-- _evidence: string (nullable = true)\n",
      " |    |    |    |    |-- shortName: array (nullable = true)\n",
      " |    |    |    |    |    |-- element: struct (containsNull = true)\n",
      " |    |    |    |    |    |    |-- _VALUE: string (nullable = true)\n",
      " |    |    |    |    |    |    |-- _evidence: string (nullable = true)\n",
      " |    |-- domain: array (nullable = true)\n",
      " |    |    |-- element: struct (containsNull = true)\n",
      " |    |    |    |-- alternativeName: array (nullable = true)\n",
      " |    |    |    |    |-- element: struct (containsNull = true)\n",
      " |    |    |    |    |    |-- ecNumber: struct (nullable = true)\n",
      " |    |    |    |    |    |    |-- _VALUE: string (nullable = true)\n",
      " |    |    |    |    |    |    |-- _evidence: string (nullable = true)\n",
      " |    |    |    |    |    |-- fullName: struct (nullable = true)\n",
      " |    |    |    |    |    |    |-- _VALUE: string (nullable = true)\n",
      " |    |    |    |    |    |    |-- _evidence: string (nullable = true)\n",
      " |    |    |    |    |    |-- shortName: array (nullable = true)\n",
      " |    |    |    |    |    |    |-- element: struct (containsNull = true)\n",
      " |    |    |    |    |    |    |    |-- _VALUE: string (nullable = true)\n",
      " |    |    |    |    |    |    |    |-- _evidence: string (nullable = true)\n",
      " |    |    |    |-- recommendedName: struct (nullable = true)\n",
      " |    |    |    |    |-- ecNumber: array (nullable = true)\n",
      " |    |    |    |    |    |-- element: struct (containsNull = true)\n",
      " |    |    |    |    |    |    |-- _VALUE: string (nullable = true)\n",
      " |    |    |    |    |    |    |-- _evidence: string (nullable = true)\n",
      " |    |    |    |    |-- fullName: struct (nullable = true)\n",
      " |    |    |    |    |    |-- _VALUE: string (nullable = true)\n",
      " |    |    |    |    |    |-- _evidence: string (nullable = true)\n",
      " |    |    |    |    |-- shortName: array (nullable = true)\n",
      " |    |    |    |    |    |-- element: struct (containsNull = true)\n",
      " |    |    |    |    |    |    |-- _VALUE: string (nullable = true)\n",
      " |    |    |    |    |    |    |-- _evidence: string (nullable = true)\n",
      " |    |-- innName: array (nullable = true)\n",
      " |    |    |-- element: struct (containsNull = true)\n",
      " |    |    |    |-- _VALUE: string (nullable = true)\n",
      " |    |    |    |-- _evidence: string (nullable = true)\n",
      " |    |-- recommendedName: struct (nullable = true)\n",
      " |    |    |-- ecNumber: array (nullable = true)\n",
      " |    |    |    |-- element: struct (containsNull = true)\n",
      " |    |    |    |    |-- _VALUE: string (nullable = true)\n",
      " |    |    |    |    |-- _evidence: string (nullable = true)\n",
      " |    |    |-- fullName: struct (nullable = true)\n",
      " |    |    |    |-- _VALUE: string (nullable = true)\n",
      " |    |    |    |-- _evidence: string (nullable = true)\n",
      " |    |    |-- shortName: array (nullable = true)\n",
      " |    |    |    |-- element: struct (containsNull = true)\n",
      " |    |    |    |    |-- _VALUE: string (nullable = true)\n",
      " |    |    |    |    |-- _evidence: string (nullable = true)\n",
      " |-- proteinExistence: struct (nullable = true)\n",
      " |    |-- _VALUE: string (nullable = true)\n",
      " |    |-- _type: string (nullable = true)\n",
      " |-- reference: array (nullable = true)\n",
      " |    |-- element: struct (containsNull = true)\n",
      " |    |    |-- _evidence: string (nullable = true)\n",
      " |    |    |-- _key: long (nullable = true)\n",
      " |    |    |-- citation: struct (nullable = true)\n",
      " |    |    |    |-- _city: string (nullable = true)\n",
      " |    |    |    |-- _country: string (nullable = true)\n",
      " |    |    |    |-- _date: string (nullable = true)\n",
      " |    |    |    |-- _db: string (nullable = true)\n",
      " |    |    |    |-- _first: string (nullable = true)\n",
      " |    |    |    |-- _institute: string (nullable = true)\n",
      " |    |    |    |-- _last: string (nullable = true)\n",
      " |    |    |    |-- _name: string (nullable = true)\n",
      " |    |    |    |-- _number: string (nullable = true)\n",
      " |    |    |    |-- _publisher: string (nullable = true)\n",
      " |    |    |    |-- _type: string (nullable = true)\n",
      " |    |    |    |-- _volume: string (nullable = true)\n",
      " |    |    |    |-- authorList: struct (nullable = true)\n",
      " |    |    |    |    |-- consortium: array (nullable = true)\n",
      " |    |    |    |    |    |-- element: struct (containsNull = true)\n",
      " |    |    |    |    |    |    |-- _VALUE: string (nullable = true)\n",
      " |    |    |    |    |    |    |-- _name: string (nullable = true)\n",
      " |    |    |    |    |-- person: array (nullable = true)\n",
      " |    |    |    |    |    |-- element: struct (containsNull = true)\n",
      " |    |    |    |    |    |    |-- _VALUE: string (nullable = true)\n",
      " |    |    |    |    |    |    |-- _name: string (nullable = true)\n",
      " |    |    |    |-- dbReference: array (nullable = true)\n",
      " |    |    |    |    |-- element: struct (containsNull = true)\n",
      " |    |    |    |    |    |-- _VALUE: string (nullable = true)\n",
      " |    |    |    |    |    |-- _id: string (nullable = true)\n",
      " |    |    |    |    |    |-- _type: string (nullable = true)\n",
      " |    |    |    |-- editorList: struct (nullable = true)\n",
      " |    |    |    |    |-- person: array (nullable = true)\n",
      " |    |    |    |    |    |-- element: struct (containsNull = true)\n",
      " |    |    |    |    |    |    |-- _VALUE: string (nullable = true)\n",
      " |    |    |    |    |    |    |-- _name: string (nullable = true)\n",
      " |    |    |    |-- locator: string (nullable = true)\n",
      " |    |    |    |-- title: string (nullable = true)\n",
      " |    |    |-- scope: array (nullable = true)\n",
      " |    |    |    |-- element: string (containsNull = true)\n",
      " |    |    |-- source: struct (nullable = true)\n",
      " |    |    |    |-- plasmid: array (nullable = true)\n",
      " |    |    |    |    |-- element: struct (containsNull = true)\n",
      " |    |    |    |    |    |-- _VALUE: string (nullable = true)\n",
      " |    |    |    |    |    |-- _evidence: long (nullable = true)\n",
      " |    |    |    |-- strain: array (nullable = true)\n",
      " |    |    |    |    |-- element: struct (containsNull = true)\n",
      " |    |    |    |    |    |-- _VALUE: string (nullable = true)\n",
      " |    |    |    |    |    |-- _evidence: string (nullable = true)\n",
      " |    |    |    |-- tissue: array (nullable = true)\n",
      " |    |    |    |    |-- element: struct (containsNull = true)\n",
      " |    |    |    |    |    |-- _VALUE: string (nullable = true)\n",
      " |    |    |    |    |    |-- _evidence: string (nullable = true)\n",
      " |    |    |    |-- transposon: array (nullable = true)\n",
      " |    |    |    |    |-- element: string (containsNull = true)\n",
      " |-- sequence: struct (nullable = true)\n",
      " |    |-- _VALUE: string (nullable = true)\n",
      " |    |-- _checksum: string (nullable = true)\n",
      " |    |-- _fragment: string (nullable = true)\n",
      " |    |-- _length: long (nullable = true)\n",
      " |    |-- _mass: long (nullable = true)\n",
      " |    |-- _modified: string (nullable = true)\n",
      " |    |-- _precursor: boolean (nullable = true)\n",
      " |    |-- _version: long (nullable = true)\n",
      "\n"
     ]
    }
   ],
   "source": [
    "df.printSchema"
   ]
  },
  {
   "cell_type": "code",
   "execution_count": 20,
   "metadata": {},
   "outputs": [
    {
     "data": {
      "text/plain": [
       "\u001b[36mpath\u001b[39m: \u001b[32mFile\u001b[39m = /home/eczech/data/ot/cache/uniprot/uniprot_sprot.schema.txt\n",
       "\u001b[36mres19_1\u001b[39m: \u001b[32mFile\u001b[39m = /home/eczech/data/ot/cache/uniprot/uniprot_sprot.schema.txt"
      ]
     },
     "execution_count": 20,
     "metadata": {},
     "output_type": "execute_result"
    }
   ],
   "source": [
    "val path = (File(DATA_CACHE_DIR) / \"uniprot\" / \"uniprot_sprot.schema.txt\")\n",
    "path.overwrite(df.schema.treeString)"
   ]
  },
  {
   "cell_type": "code",
   "execution_count": 16,
   "metadata": {},
   "outputs": [
    {
     "data": {
      "text/html": [
       "<div>\n",
       "  <span style=\"float: left;\">save at cmd15.sc:2</span>\n",
       "</div>\n"
      ]
     },
     "metadata": {},
     "output_type": "display_data"
    },
    {
     "data": {
      "text/html": [
       "<div class=\"progress\">\n",
       "  <div class=\"progress-bar\" role=\"progressbar\" style=\"background-color: blue; width: 100%; word-wrap: normal; white-space: nowrap; text-align: center; color: white\" aria-valuenow=\"100\" aria-valuemin=\"0\" aria-valuemax=\"100\">\n",
       "    202 / 202\n",
       "  </div>\n",
       "  <div class=\"progress-bar\" role=\"progressbar\" style=\"background-color: red; width: 0%\" aria-valuenow=\"0\" aria-valuemin=\"0\" aria-valuemax=\"100\"></div>\n",
       "</div>\n"
      ]
     },
     "metadata": {},
     "output_type": "display_data"
    },
    {
     "data": {
      "text/plain": [
       "\u001b[36mpath\u001b[39m: \u001b[32mString\u001b[39m = \u001b[32m\"/home/eczech/data/ot/cache/uniprot/uniprot_sprot.parquet\"\u001b[39m"
      ]
     },
     "execution_count": 16,
     "metadata": {},
     "output_type": "execute_result"
    }
   ],
   "source": [
    "val path = (File(DATA_CACHE_DIR) / \"uniprot\" / \"uniprot_sprot.parquet\").toString\n",
    "df.write.format(\"parquet\").save(path)"
   ]
  },
  {
   "cell_type": "markdown",
   "metadata": {},
   "source": [
    "## Load "
   ]
  },
  {
   "cell_type": "code",
   "execution_count": 3,
   "metadata": {},
   "outputs": [
    {
     "data": {
      "text/html": [
       "<script>\n",
       "var comm = Jupyter.notebook.kernel.comm_manager.new_comm('cancel-stage-2367f9db-5112-403b-b774-8e260dacfd41', {});\n",
       "\n",
       "function cancelStage(stageId) {\n",
       "  console.log('Cancelling stage ' + stageId);\n",
       "  comm.send({ 'stageId': stageId });\n",
       "}\n",
       "</script>\n",
       "          "
      ]
     },
     "metadata": {},
     "output_type": "display_data"
    },
    {
     "data": {
      "text/html": [
       "<div>\n",
       "  <span style=\"float: left;\">parquet at cmd2.sc:1</span>\n",
       "</div>\n"
      ]
     },
     "metadata": {},
     "output_type": "display_data"
    },
    {
     "data": {
      "text/html": [
       "<div class=\"progress\">\n",
       "  <div class=\"progress-bar\" role=\"progressbar\" style=\"background-color: blue; width: 100%; word-wrap: normal; white-space: nowrap; text-align: center; color: white\" aria-valuenow=\"100\" aria-valuemin=\"0\" aria-valuemax=\"100\">\n",
       "    1 / 1\n",
       "  </div>\n",
       "  <div class=\"progress-bar\" role=\"progressbar\" style=\"background-color: red; width: 0%\" aria-valuenow=\"0\" aria-valuemin=\"0\" aria-valuemax=\"100\"></div>\n",
       "</div>\n"
      ]
     },
     "metadata": {},
     "output_type": "display_data"
    },
    {
     "name": "stderr",
     "output_type": "stream",
     "text": [
      "19/12/27 19:38:47 WARN Utils: Truncated the string representation of a plan since it was too large. This behavior can be adjusted by setting 'spark.debug.maxToStringFields' in SparkEnv.conf.\n"
     ]
    },
    {
     "data": {
      "text/plain": [
       "\u001b[36mdf\u001b[39m: \u001b[32morg\u001b[39m.\u001b[32mapache\u001b[39m.\u001b[32mspark\u001b[39m.\u001b[32msql\u001b[39m.\u001b[32mpackage\u001b[39m.\u001b[32mDataFrame\u001b[39m = [_created: string, _dataset: string ... 18 more fields]"
      ]
     },
     "execution_count": 3,
     "metadata": {},
     "output_type": "execute_result"
    }
   ],
   "source": [
    "val df = ss.read.parquet((File(DATA_CACHE_DIR) / \"uniprot\" / \"uniprot_sprot.parquet\").toString)"
   ]
  },
  {
   "cell_type": "code",
   "execution_count": 113,
   "metadata": {},
   "outputs": [
    {
     "data": {
      "text/plain": [
       "\u001b[36mNCBI_HUMAN\u001b[39m: \u001b[32mInt\u001b[39m = \u001b[32m9606\u001b[39m\n",
       "\u001b[36mPROJ_ENTRY_MAIN\u001b[39m: \u001b[32mSeq\u001b[39m[\u001b[32morg\u001b[39m.\u001b[32mapache\u001b[39m.\u001b[32mspark\u001b[39m.\u001b[32msql\u001b[39m.\u001b[32mColumn\u001b[39m] = \u001b[33mList\u001b[39m(\n",
       "  accession[0] AS `primary_accession`,\n",
       "  name AS `entry_name`,\n",
       "  protein.recommendedName.fullName._VALUE AS `protein_name`\n",
       ")"
      ]
     },
     "execution_count": 113,
     "metadata": {},
     "output_type": "execute_result"
    }
   ],
   "source": [
    "// CONSTANTS\n",
    "val NCBI_HUMAN = 9606\n",
    "\n",
    "// Set common projections\n",
    "val PROJ_ENTRY_MAIN = Seq(\n",
    "    $\"accession\".getItem(0).as(\"primary_accession\"), \n",
    "    $\"name\".as(\"entry_name\"), \n",
    "    $\"protein.recommendedName.fullName._VALUE\".as(\"protein_name\"))"
   ]
  },
  {
   "cell_type": "markdown",
   "metadata": {},
   "source": [
    "<h3><a id=\"accession_numbers\">Accession Numbers</a></h3>\n",
    "\n",
    "See https://www.uniprot.org/help/accession_numbers.  When entries are split or merged, they are assigned new accession numbers so many entries have multiple ids but the first should be used as the primary accession.  \n",
    "\n",
    "See https://www.uniprot.org/help/entry_name for information on how entry names are assigned.  Notably, orthologous proteins across species are assigned the same \"mnemoic code\" (i.e. the \"UBL1\" in \"UBL1_YEAST\") even if the gene names differ. Otherwise the mnemoic code appears to often be similar to the gene name."
   ]
  },
  {
   "cell_type": "code",
   "execution_count": 92,
   "metadata": {},
   "outputs": [
    {
     "data": {
      "text/html": [
       "<div>\n",
       "  <span style=\"float: left;\">show at cmd91.sc:3</span>\n",
       "</div>\n"
      ]
     },
     "metadata": {},
     "output_type": "display_data"
    },
    {
     "data": {
      "text/html": [
       "<div class=\"progress\">\n",
       "  <div class=\"progress-bar\" role=\"progressbar\" style=\"background-color: blue; width: 100%; word-wrap: normal; white-space: nowrap; text-align: center; color: white\" aria-valuenow=\"100\" aria-valuemin=\"0\" aria-valuemax=\"100\">\n",
       "    16 / 16\n",
       "  </div>\n",
       "  <div class=\"progress-bar\" role=\"progressbar\" style=\"background-color: red; width: 0%\" aria-valuenow=\"0\" aria-valuemin=\"0\" aria-valuemax=\"100\"></div>\n",
       "</div>\n"
      ]
     },
     "metadata": {},
     "output_type": "display_data"
    },
    {
     "data": {
      "text/html": [
       "<div>\n",
       "  <span style=\"float: left;\">show at cmd91.sc:3</span>\n",
       "</div>\n"
      ]
     },
     "metadata": {},
     "output_type": "display_data"
    },
    {
     "data": {
      "text/html": [
       "<div class=\"progress\">\n",
       "  <div class=\"progress-bar\" role=\"progressbar\" style=\"background-color: blue; width: 100%; word-wrap: normal; white-space: nowrap; text-align: center; color: white\" aria-valuenow=\"100\" aria-valuemin=\"0\" aria-valuemax=\"100\">\n",
       "    1 / 1\n",
       "  </div>\n",
       "  <div class=\"progress-bar\" role=\"progressbar\" style=\"background-color: red; width: 0%\" aria-valuenow=\"0\" aria-valuemin=\"0\" aria-valuemax=\"100\"></div>\n",
       "</div>\n"
      ]
     },
     "metadata": {},
     "output_type": "display_data"
    },
    {
     "name": "stdout",
     "output_type": "stream",
     "text": [
      "+---------------+------+\n",
      "|accession_count|count |\n",
      "+---------------+------+\n",
      "|1              |443515|\n",
      "|2              |65071 |\n",
      "|3              |25317 |\n",
      "|4              |13518 |\n",
      "|5              |5537  |\n",
      "+---------------+------+\n",
      "only showing top 5 rows\n",
      "\n"
     ]
    }
   ],
   "source": [
    "df.select(size($\"accession\").as(\"accession_count\"))\n",
    "    .groupBy(\"accession_count\").count.sort($\"count\".desc)\n",
    "    .show(5, false)"
   ]
  },
  {
   "cell_type": "code",
   "execution_count": 99,
   "metadata": {},
   "outputs": [
    {
     "data": {
      "text/html": [
       "<div>\n",
       "  <span style=\"float: left;\">show at cmd98.sc:3</span>\n",
       "</div>\n"
      ]
     },
     "metadata": {},
     "output_type": "display_data"
    },
    {
     "data": {
      "text/html": [
       "<div class=\"progress\">\n",
       "  <div class=\"progress-bar\" role=\"progressbar\" style=\"background-color: blue; width: 100%; word-wrap: normal; white-space: nowrap; text-align: center; color: white\" aria-valuenow=\"100\" aria-valuemin=\"0\" aria-valuemax=\"100\">\n",
       "    1 / 1\n",
       "  </div>\n",
       "  <div class=\"progress-bar\" role=\"progressbar\" style=\"background-color: red; width: 0%\" aria-valuenow=\"0\" aria-valuemin=\"0\" aria-valuemax=\"100\"></div>\n",
       "</div>\n"
      ]
     },
     "metadata": {},
     "output_type": "display_data"
    },
    {
     "name": "stdout",
     "output_type": "stream",
     "text": [
      "+-----------------+-----------+------------------------------------------+------------------------------------------------+\n",
      "|primary_accession|entry_name |protein_name                              |all_accessions                                  |\n",
      "+-----------------+-----------+------------------------------------------+------------------------------------------------+\n",
      "|P35127           |UBL1_YEAST |Ubiquitin carboxyl-terminal hydrolase YUH1|[P35127, D6VWR8]                                |\n",
      "|O95164           |UBL3_HUMAN |Ubiquitin-like protein 3                  |[O95164, B2R4J1, Q5RL72, Q5VZS0, Q6FIG8, Q96SG7]|\n",
      "|Q9Z2M6           |UBL3_MOUSE |Ubiquitin-like protein 3                  |[Q9Z2M6, A4FTW0, Q3UKM1]                        |\n",
      "|P11441           |UBL4A_HUMAN|Ubiquitin-like protein 4A                 |[P11441, Q5HY80]                                |\n",
      "|Q0D261           |UBL4A_XENLA|Ubiquitin-like protein 4A                 |[Q0D261, A7YT11, Q52KN4]                        |\n",
      "+-----------------+-----------+------------------------------------------+------------------------------------------------+\n",
      "only showing top 5 rows\n",
      "\n"
     ]
    }
   ],
   "source": [
    "// Show multi-accession record sample and associated entry/protein names\n",
    "df\n",
    "    .filter(size($\"accession\") > 1)\n",
    "    .select((PROJ_ENTRY_MAIN :+ $\"accession\".as(\"all_accessions\")):_*)\n",
    "    .show(5, false)"
   ]
  },
  {
   "cell_type": "markdown",
   "metadata": {},
   "source": [
    "<h3><a id=\"organisms\">Organisms</a></h3>\n",
    "\n",
    "Relevant links:\n",
    "\n",
    "- https://www.uniprot.org/help/organism-name: general information on organisms\n",
    "- https://www.uniprot.org/help/taxonomic_identifier: info on use of NCBI taxonomy ids\n",
    "- https://www.uniprot.org/docs/speclist: full list of supported organisms."
   ]
  },
  {
   "cell_type": "code",
   "execution_count": 27,
   "metadata": {},
   "outputs": [
    {
     "name": "stdout",
     "output_type": "stream",
     "text": [
      "root\n",
      " |-- organism: struct (nullable = true)\n",
      " |    |-- _evidence: string (nullable = true)\n",
      " |    |-- dbReference: struct (nullable = true)\n",
      " |    |    |-- _VALUE: string (nullable = true)\n",
      " |    |    |-- _id: long (nullable = true)\n",
      " |    |    |-- _type: string (nullable = true)\n",
      " |    |-- lineage: struct (nullable = true)\n",
      " |    |    |-- taxon: array (nullable = true)\n",
      " |    |    |    |-- element: string (containsNull = true)\n",
      " |    |-- name: array (nullable = true)\n",
      " |    |    |-- element: struct (containsNull = true)\n",
      " |    |    |    |-- _VALUE: string (nullable = true)\n",
      " |    |    |    |-- _type: string (nullable = true)\n",
      "\n"
     ]
    }
   ],
   "source": [
    "df.select(\"organism\").printSchema"
   ]
  },
  {
   "cell_type": "code",
   "execution_count": 105,
   "metadata": {},
   "outputs": [
    {
     "data": {
      "text/html": [
       "<div>\n",
       "  <span style=\"float: left;\">show at cmd104.sc:1</span>\n",
       "</div>\n"
      ]
     },
     "metadata": {},
     "output_type": "display_data"
    },
    {
     "data": {
      "text/html": [
       "<div class=\"progress\">\n",
       "  <div class=\"progress-bar\" role=\"progressbar\" style=\"background-color: blue; width: 100%; word-wrap: normal; white-space: nowrap; text-align: center; color: white\" aria-valuenow=\"100\" aria-valuemin=\"0\" aria-valuemax=\"100\">\n",
       "    1 / 1\n",
       "  </div>\n",
       "  <div class=\"progress-bar\" role=\"progressbar\" style=\"background-color: red; width: 0%\" aria-valuenow=\"0\" aria-valuemin=\"0\" aria-valuemax=\"100\"></div>\n",
       "</div>\n"
      ]
     },
     "metadata": {},
     "output_type": "display_data"
    },
    {
     "name": "stdout",
     "output_type": "stream",
     "text": [
      "+-------------+------+\n",
      "|_type        |_id   |\n",
      "+-------------+------+\n",
      "|NCBI Taxonomy|349521|\n",
      "|NCBI Taxonomy|349124|\n",
      "|NCBI Taxonomy|572265|\n",
      "+-------------+------+\n",
      "only showing top 3 rows\n",
      "\n"
     ]
    }
   ],
   "source": [
    "// The \"id\" property in the \"dbReference\" field is the primary accession for species\n",
    "df.select(\"organism.dbReference._type\", \"organism.dbReference._id\").show(3, false)"
   ]
  },
  {
   "cell_type": "code",
   "execution_count": 108,
   "metadata": {},
   "outputs": [
    {
     "data": {
      "text/html": [
       "<div>\n",
       "  <span style=\"float: left;\">show at cmd107.sc:1</span>\n",
       "</div>\n"
      ]
     },
     "metadata": {},
     "output_type": "display_data"
    },
    {
     "data": {
      "text/html": [
       "<div class=\"progress\">\n",
       "  <div class=\"progress-bar\" role=\"progressbar\" style=\"background-color: blue; width: 100%; word-wrap: normal; white-space: nowrap; text-align: center; color: white\" aria-valuenow=\"100\" aria-valuemin=\"0\" aria-valuemax=\"100\">\n",
       "    16 / 16\n",
       "  </div>\n",
       "  <div class=\"progress-bar\" role=\"progressbar\" style=\"background-color: red; width: 0%\" aria-valuenow=\"0\" aria-valuemin=\"0\" aria-valuemax=\"100\"></div>\n",
       "</div>\n"
      ]
     },
     "metadata": {},
     "output_type": "display_data"
    },
    {
     "data": {
      "text/html": [
       "<div>\n",
       "  <span style=\"float: left;\">show at cmd107.sc:1</span>\n",
       "</div>\n"
      ]
     },
     "metadata": {},
     "output_type": "display_data"
    },
    {
     "data": {
      "text/html": [
       "<div class=\"progress\">\n",
       "  <div class=\"progress-bar\" role=\"progressbar\" style=\"background-color: blue; width: 100%; word-wrap: normal; white-space: nowrap; text-align: center; color: white\" aria-valuenow=\"100\" aria-valuemin=\"0\" aria-valuemax=\"100\">\n",
       "    1 / 1\n",
       "  </div>\n",
       "  <div class=\"progress-bar\" role=\"progressbar\" style=\"background-color: red; width: 0%\" aria-valuenow=\"0\" aria-valuemin=\"0\" aria-valuemax=\"100\"></div>\n",
       "</div>\n"
      ]
     },
     "metadata": {},
     "output_type": "display_data"
    },
    {
     "data": {
      "text/html": [
       "<div>\n",
       "  <span style=\"float: left;\">show at cmd107.sc:1</span>\n",
       "</div>\n"
      ]
     },
     "metadata": {},
     "output_type": "display_data"
    },
    {
     "data": {
      "text/html": [
       "<div class=\"progress\">\n",
       "  <div class=\"progress-bar\" role=\"progressbar\" style=\"background-color: blue; width: 100%; word-wrap: normal; white-space: nowrap; text-align: center; color: white\" aria-valuenow=\"100\" aria-valuemin=\"0\" aria-valuemax=\"100\">\n",
       "    1 / 1\n",
       "  </div>\n",
       "  <div class=\"progress-bar\" role=\"progressbar\" style=\"background-color: red; width: 0%\" aria-valuenow=\"0\" aria-valuemin=\"0\" aria-valuemax=\"100\"></div>\n",
       "</div>\n"
      ]
     },
     "metadata": {},
     "output_type": "display_data"
    },
    {
     "name": "stdout",
     "output_type": "stream",
     "text": [
      "+-------------+----------------------------------------+\n",
      "|        _type|count(DISTINCT organism.dbReference._id)|\n",
      "+-------------+----------------------------------------+\n",
      "|NCBI Taxonomy|                                   13856|\n",
      "+-------------+----------------------------------------+\n",
      "\n"
     ]
    }
   ],
   "source": [
    "// Show that all ids come from NCBI and that over 13k species are represented\n",
    "df.groupBy(\"organism.dbReference._type\").agg(countDistinct(\"organism.dbReference._id\")).show"
   ]
  },
  {
   "cell_type": "code",
   "execution_count": 103,
   "metadata": {},
   "outputs": [
    {
     "data": {
      "text/html": [
       "<div>\n",
       "  <span style=\"float: left;\">show at cmd102.sc:5</span>\n",
       "</div>\n"
      ]
     },
     "metadata": {},
     "output_type": "display_data"
    },
    {
     "data": {
      "text/html": [
       "<div class=\"progress\">\n",
       "  <div class=\"progress-bar\" role=\"progressbar\" style=\"background-color: blue; width: 100%; word-wrap: normal; white-space: nowrap; text-align: center; color: white\" aria-valuenow=\"100\" aria-valuemin=\"0\" aria-valuemax=\"100\">\n",
       "    16 / 16\n",
       "  </div>\n",
       "  <div class=\"progress-bar\" role=\"progressbar\" style=\"background-color: red; width: 0%\" aria-valuenow=\"0\" aria-valuemin=\"0\" aria-valuemax=\"100\"></div>\n",
       "</div>\n"
      ]
     },
     "metadata": {},
     "output_type": "display_data"
    },
    {
     "data": {
      "text/html": [
       "<div>\n",
       "  <span style=\"float: left;\">show at cmd102.sc:5</span>\n",
       "</div>\n"
      ]
     },
     "metadata": {},
     "output_type": "display_data"
    },
    {
     "data": {
      "text/html": [
       "<div class=\"progress\">\n",
       "  <div class=\"progress-bar\" role=\"progressbar\" style=\"background-color: blue; width: 100%; word-wrap: normal; white-space: nowrap; text-align: center; color: white\" aria-valuenow=\"100\" aria-valuemin=\"0\" aria-valuemax=\"100\">\n",
       "    1 / 1\n",
       "  </div>\n",
       "  <div class=\"progress-bar\" role=\"progressbar\" style=\"background-color: red; width: 0%\" aria-valuenow=\"0\" aria-valuemin=\"0\" aria-valuemax=\"100\"></div>\n",
       "</div>\n"
      ]
     },
     "metadata": {},
     "output_type": "display_data"
    },
    {
     "data": {
      "text/html": [
       "<div>\n",
       "  <span style=\"float: left;\">show at cmd102.sc:5</span>\n",
       "</div>\n"
      ]
     },
     "metadata": {},
     "output_type": "display_data"
    },
    {
     "data": {
      "text/html": [
       "<div class=\"progress\">\n",
       "  <div class=\"progress-bar\" role=\"progressbar\" style=\"background-color: blue; width: 100%; word-wrap: normal; white-space: nowrap; text-align: center; color: white\" aria-valuenow=\"100\" aria-valuemin=\"0\" aria-valuemax=\"100\">\n",
       "    1 / 1\n",
       "  </div>\n",
       "  <div class=\"progress-bar\" role=\"progressbar\" style=\"background-color: red; width: 0%\" aria-valuenow=\"0\" aria-valuemin=\"0\" aria-valuemax=\"100\"></div>\n",
       "</div>\n"
      ]
     },
     "metadata": {},
     "output_type": "display_data"
    },
    {
     "name": "stdout",
     "output_type": "stream",
     "text": [
      "+----------+----------------------+\n",
      "|_type     |count(DISTINCT _VALUE)|\n",
      "+----------+----------------------+\n",
      "|scientific|13856                 |\n",
      "|common    |8094                  |\n",
      "|synonym   |3422                  |\n",
      "+----------+----------------------+\n",
      "\n"
     ]
    }
   ],
   "source": [
    "// Show distinct counts of organism names by type (note that the \"scientific\" names match cardinality of NCBI ids above)\n",
    "df\n",
    "    .withColumn(\"organism\", explode($\"organism.name\"))\n",
    "    .select(\"organism.*\")\n",
    "    .groupBy(\"_type\").agg(countDistinct(\"_VALUE\"))\n",
    "    .show(3, false)"
   ]
  },
  {
   "cell_type": "code",
   "execution_count": 117,
   "metadata": {},
   "outputs": [
    {
     "data": {
      "text/html": [
       "<div>\n",
       "  <span style=\"float: left;\">show at cmd116.sc:4</span>\n",
       "</div>\n"
      ]
     },
     "metadata": {},
     "output_type": "display_data"
    },
    {
     "data": {
      "text/html": [
       "<div class=\"progress\">\n",
       "  <div class=\"progress-bar\" role=\"progressbar\" style=\"background-color: blue; width: 100%; word-wrap: normal; white-space: nowrap; text-align: center; color: white\" aria-valuenow=\"100\" aria-valuemin=\"0\" aria-valuemax=\"100\">\n",
       "    16 / 16\n",
       "  </div>\n",
       "  <div class=\"progress-bar\" role=\"progressbar\" style=\"background-color: red; width: 0%\" aria-valuenow=\"0\" aria-valuemin=\"0\" aria-valuemax=\"100\"></div>\n",
       "</div>\n"
      ]
     },
     "metadata": {},
     "output_type": "display_data"
    },
    {
     "data": {
      "text/html": [
       "<div>\n",
       "  <span style=\"float: left;\">show at cmd116.sc:4</span>\n",
       "</div>\n"
      ]
     },
     "metadata": {},
     "output_type": "display_data"
    },
    {
     "data": {
      "text/html": [
       "<div class=\"progress\">\n",
       "  <div class=\"progress-bar\" role=\"progressbar\" style=\"background-color: blue; width: 100%; word-wrap: normal; white-space: nowrap; text-align: center; color: white\" aria-valuenow=\"100\" aria-valuemin=\"0\" aria-valuemax=\"100\">\n",
       "    1 / 1\n",
       "  </div>\n",
       "  <div class=\"progress-bar\" role=\"progressbar\" style=\"background-color: red; width: 0%\" aria-valuenow=\"0\" aria-valuemin=\"0\" aria-valuemax=\"100\"></div>\n",
       "</div>\n"
      ]
     },
     "metadata": {},
     "output_type": "display_data"
    },
    {
     "data": {
      "text/html": [
       "<div>\n",
       "  <span style=\"float: left;\">show at cmd116.sc:4</span>\n",
       "</div>\n"
      ]
     },
     "metadata": {},
     "output_type": "display_data"
    },
    {
     "data": {
      "text/html": [
       "<div class=\"progress\">\n",
       "  <div class=\"progress-bar\" role=\"progressbar\" style=\"background-color: blue; width: 100%; word-wrap: normal; white-space: nowrap; text-align: center; color: white\" aria-valuenow=\"100\" aria-valuemin=\"0\" aria-valuemax=\"100\">\n",
       "    1 / 1\n",
       "  </div>\n",
       "  <div class=\"progress-bar\" role=\"progressbar\" style=\"background-color: red; width: 0%\" aria-valuenow=\"0\" aria-valuemin=\"0\" aria-valuemax=\"100\"></div>\n",
       "</div>\n"
      ]
     },
     "metadata": {},
     "output_type": "display_data"
    },
    {
     "name": "stdout",
     "output_type": "stream",
     "text": [
      "+-----+------+\n",
      "|count| count|\n",
      "+-----+------+\n",
      "|    1|850764|\n",
      "+-----+------+\n",
      "\n"
     ]
    }
   ],
   "source": [
    "// Show that organism name types are unique for each record (e.g. there are never multiple \"scientific\" names)\n",
    "df\n",
    "    .withColumn(\"organism_name\", explode($\"organism.name\"))\n",
    "    .groupBy($\"accession\".getItem(0), $\"organism_name._type\")\n",
    "    .count.groupBy(\"count\").count.show"
   ]
  },
  {
   "cell_type": "code",
   "execution_count": 116,
   "metadata": {},
   "outputs": [
    {
     "data": {
      "text/html": [
       "<div>\n",
       "  <span style=\"float: left;\">show at cmd115.sc:1</span>\n",
       "</div>\n"
      ]
     },
     "metadata": {},
     "output_type": "display_data"
    },
    {
     "data": {
      "text/html": [
       "<div class=\"progress\">\n",
       "  <div class=\"progress-bar\" role=\"progressbar\" style=\"background-color: blue; width: 100%; word-wrap: normal; white-space: nowrap; text-align: center; color: white\" aria-valuenow=\"100\" aria-valuemin=\"0\" aria-valuemax=\"100\">\n",
       "    16 / 16\n",
       "  </div>\n",
       "  <div class=\"progress-bar\" role=\"progressbar\" style=\"background-color: red; width: 0%\" aria-valuenow=\"0\" aria-valuemin=\"0\" aria-valuemax=\"100\"></div>\n",
       "</div>\n"
      ]
     },
     "metadata": {},
     "output_type": "display_data"
    },
    {
     "data": {
      "text/html": [
       "<div>\n",
       "  <span style=\"float: left;\">show at cmd115.sc:1</span>\n",
       "</div>\n"
      ]
     },
     "metadata": {},
     "output_type": "display_data"
    },
    {
     "data": {
      "text/html": [
       "<div class=\"progress\">\n",
       "  <div class=\"progress-bar\" role=\"progressbar\" style=\"background-color: blue; width: 100%; word-wrap: normal; white-space: nowrap; text-align: center; color: white\" aria-valuenow=\"100\" aria-valuemin=\"0\" aria-valuemax=\"100\">\n",
       "    1 / 1\n",
       "  </div>\n",
       "  <div class=\"progress-bar\" role=\"progressbar\" style=\"background-color: red; width: 0%\" aria-valuenow=\"0\" aria-valuemin=\"0\" aria-valuemax=\"100\"></div>\n",
       "</div>\n"
      ]
     },
     "metadata": {},
     "output_type": "display_data"
    },
    {
     "name": "stdout",
     "output_type": "stream",
     "text": [
      "+---------------------------------------------+-----+\n",
      "|name                                         |count|\n",
      "+---------------------------------------------+-----+\n",
      "|[[Homo sapiens, scientific], [Human, common]]|20367|\n",
      "+---------------------------------------------+-----+\n",
      "\n"
     ]
    }
   ],
   "source": [
    "// Show organism name for humans\n",
    "df.filter($\"organism.dbReference._id\" === NCBI_HUMAN).groupBy($\"organism.name\").count.show(false)"
   ]
  },
  {
   "cell_type": "code",
   "execution_count": 35,
   "metadata": {},
   "outputs": [
    {
     "data": {
      "text/html": [
       "<div>\n",
       "  <span style=\"float: left;\">show at cmd34.sc:8</span>\n",
       "</div>\n"
      ]
     },
     "metadata": {},
     "output_type": "display_data"
    },
    {
     "data": {
      "text/html": [
       "<div class=\"progress\">\n",
       "  <div class=\"progress-bar\" role=\"progressbar\" style=\"background-color: blue; width: 100%; word-wrap: normal; white-space: nowrap; text-align: center; color: white\" aria-valuenow=\"100\" aria-valuemin=\"0\" aria-valuemax=\"100\">\n",
       "    16 / 16\n",
       "  </div>\n",
       "  <div class=\"progress-bar\" role=\"progressbar\" style=\"background-color: red; width: 0%\" aria-valuenow=\"0\" aria-valuemin=\"0\" aria-valuemax=\"100\"></div>\n",
       "</div>\n"
      ]
     },
     "metadata": {},
     "output_type": "display_data"
    },
    {
     "data": {
      "text/html": [
       "<div>\n",
       "  <span style=\"float: left;\">show at cmd34.sc:8</span>\n",
       "</div>\n"
      ]
     },
     "metadata": {},
     "output_type": "display_data"
    },
    {
     "data": {
      "text/html": [
       "<div class=\"progress\">\n",
       "  <div class=\"progress-bar\" role=\"progressbar\" style=\"background-color: blue; width: 100%; word-wrap: normal; white-space: nowrap; text-align: center; color: white\" aria-valuenow=\"100\" aria-valuemin=\"0\" aria-valuemax=\"100\">\n",
       "    1 / 1\n",
       "  </div>\n",
       "  <div class=\"progress-bar\" role=\"progressbar\" style=\"background-color: red; width: 0%\" aria-valuenow=\"0\" aria-valuemin=\"0\" aria-valuemax=\"100\"></div>\n",
       "</div>\n"
      ]
     },
     "metadata": {},
     "output_type": "display_data"
    },
    {
     "name": "stdout",
     "output_type": "stream",
     "text": [
      "+------------------------------------------------------+-----+\n",
      "|_VALUE                                                |count|\n",
      "+------------------------------------------------------+-----+\n",
      "|Homo sapiens                                          |20367|\n",
      "|Mus musculus                                          |17027|\n",
      "|Arabidopsis thaliana                                  |15922|\n",
      "|Rattus norvegicus                                     |8085 |\n",
      "|Saccharomyces cerevisiae (strain ATCC 204508 / S288c) |6721 |\n",
      "|Bos taurus                                            |6008 |\n",
      "|Schizosaccharomyces pombe (strain 972 / ATCC 24843)   |5140 |\n",
      "|Escherichia coli (strain K12)                         |4518 |\n",
      "|Bacillus subtilis (strain 168)                        |4188 |\n",
      "|Dictyostelium discoideum                              |4149 |\n",
      "|Caenorhabditis elegans                                |4105 |\n",
      "|Oryza sativa subsp. japonica                          |4070 |\n",
      "|Drosophila melanogaster                               |3599 |\n",
      "|Xenopus laevis                                        |3448 |\n",
      "|Danio rerio                                           |3138 |\n",
      "|Gallus gallus                                         |2291 |\n",
      "|Pongo abelii                                          |2218 |\n",
      "|Mycobacterium tuberculosis (strain ATCC 25618 / H37Rv)|2191 |\n",
      "|Escherichia coli O157:H7                              |2040 |\n",
      "|Mycobacterium tuberculosis (strain CDC 1551 / Oshkosh)|1898 |\n",
      "+------------------------------------------------------+-----+\n",
      "only showing top 20 rows\n",
      "\n"
     ]
    }
   ],
   "source": [
    "// Show frequencies of organisms by name\n",
    "df\n",
    "    .withColumn(\"organism\", explode($\"organism.name\")) \n",
    "    .select(\"organism.*\")\n",
    "    // Filter to scientific name will align resulting frequency with counts across entries \n",
    "    // rather than counts across multiple records per entry (there is only one scientific name per entry)\n",
    "    .filter($\"_type\" === \"scientific\")\n",
    "    .groupBy(\"_VALUE\")\n",
    "    .count\n",
    "    .sort($\"count\".desc)\n",
    "    .show(10, false)"
   ]
  },
  {
   "cell_type": "code",
   "execution_count": 119,
   "metadata": {},
   "outputs": [
    {
     "data": {
      "text/html": [
       "<div>\n",
       "  <span style=\"float: left;\">count at cmd118.sc:3</span>\n",
       "</div>\n"
      ]
     },
     "metadata": {},
     "output_type": "display_data"
    },
    {
     "data": {
      "text/html": [
       "<div class=\"progress\">\n",
       "  <div class=\"progress-bar\" role=\"progressbar\" style=\"background-color: blue; width: 100%; word-wrap: normal; white-space: nowrap; text-align: center; color: white\" aria-valuenow=\"100\" aria-valuemin=\"0\" aria-valuemax=\"100\">\n",
       "    16 / 16\n",
       "  </div>\n",
       "  <div class=\"progress-bar\" role=\"progressbar\" style=\"background-color: red; width: 0%\" aria-valuenow=\"0\" aria-valuemin=\"0\" aria-valuemax=\"100\"></div>\n",
       "</div>\n"
      ]
     },
     "metadata": {},
     "output_type": "display_data"
    },
    {
     "data": {
      "text/html": [
       "<div>\n",
       "  <span style=\"float: left;\">count at cmd118.sc:3</span>\n",
       "</div>\n"
      ]
     },
     "metadata": {},
     "output_type": "display_data"
    },
    {
     "data": {
      "text/html": [
       "<div class=\"progress\">\n",
       "  <div class=\"progress-bar\" role=\"progressbar\" style=\"background-color: blue; width: 100%; word-wrap: normal; white-space: nowrap; text-align: center; color: white\" aria-valuenow=\"100\" aria-valuemin=\"0\" aria-valuemax=\"100\">\n",
       "    1 / 1\n",
       "  </div>\n",
       "  <div class=\"progress-bar\" role=\"progressbar\" style=\"background-color: red; width: 0%\" aria-valuenow=\"0\" aria-valuemin=\"0\" aria-valuemax=\"100\"></div>\n",
       "</div>\n"
      ]
     },
     "metadata": {},
     "output_type": "display_data"
    },
    {
     "data": {
      "text/plain": [
       "\u001b[36mres118\u001b[39m: \u001b[32mLong\u001b[39m = \u001b[32m20367L\u001b[39m"
      ]
     },
     "execution_count": 119,
     "metadata": {},
     "output_type": "execute_result"
    }
   ],
   "source": [
    "// Show count for exact match on scientific name\n",
    "df.filter(array_contains($\"organism.name\", struct(\n",
    "    lit(\"Homo sapiens\").as(\"_VALUE\"),\n",
    "    lit(\"scientific\").as(\"_type\")\n",
    "))).count"
   ]
  },
  {
   "cell_type": "code",
   "execution_count": 120,
   "metadata": {},
   "outputs": [
    {
     "data": {
      "text/html": [
       "<div>\n",
       "  <span style=\"float: left;\">count at cmd119.sc:2</span>\n",
       "</div>\n"
      ]
     },
     "metadata": {},
     "output_type": "display_data"
    },
    {
     "data": {
      "text/html": [
       "<div class=\"progress\">\n",
       "  <div class=\"progress-bar\" role=\"progressbar\" style=\"background-color: blue; width: 100%; word-wrap: normal; white-space: nowrap; text-align: center; color: white\" aria-valuenow=\"100\" aria-valuemin=\"0\" aria-valuemax=\"100\">\n",
       "    16 / 16\n",
       "  </div>\n",
       "  <div class=\"progress-bar\" role=\"progressbar\" style=\"background-color: red; width: 0%\" aria-valuenow=\"0\" aria-valuemin=\"0\" aria-valuemax=\"100\"></div>\n",
       "</div>\n"
      ]
     },
     "metadata": {},
     "output_type": "display_data"
    },
    {
     "data": {
      "text/html": [
       "<div>\n",
       "  <span style=\"float: left;\">count at cmd119.sc:2</span>\n",
       "</div>\n"
      ]
     },
     "metadata": {},
     "output_type": "display_data"
    },
    {
     "data": {
      "text/html": [
       "<div class=\"progress\">\n",
       "  <div class=\"progress-bar\" role=\"progressbar\" style=\"background-color: blue; width: 100%; word-wrap: normal; white-space: nowrap; text-align: center; color: white\" aria-valuenow=\"100\" aria-valuemin=\"0\" aria-valuemax=\"100\">\n",
       "    1 / 1\n",
       "  </div>\n",
       "  <div class=\"progress-bar\" role=\"progressbar\" style=\"background-color: red; width: 0%\" aria-valuenow=\"0\" aria-valuemin=\"0\" aria-valuemax=\"100\"></div>\n",
       "</div>\n"
      ]
     },
     "metadata": {},
     "output_type": "display_data"
    },
    {
     "data": {
      "text/plain": [
       "\u001b[36mdfh\u001b[39m: \u001b[32morg\u001b[39m.\u001b[32mapache\u001b[39m.\u001b[32mspark\u001b[39m.\u001b[32msql\u001b[39m.\u001b[32mDataset\u001b[39m[\u001b[32morg\u001b[39m.\u001b[32mapache\u001b[39m.\u001b[32mspark\u001b[39m.\u001b[32msql\u001b[39m.\u001b[32mRow\u001b[39m] = [_created: string, _dataset: string ... 18 more fields]\n",
       "\u001b[36mres119_1\u001b[39m: \u001b[32mLong\u001b[39m = \u001b[32m20367L\u001b[39m"
      ]
     },
     "execution_count": 120,
     "metadata": {},
     "output_type": "execute_result"
    }
   ],
   "source": [
    "// Use NCBI id for filter on downstream data and compare count to above\n",
    "val dfh = df.filter($\"organism.dbReference._id\" === NCBI_HUMAN)\n",
    "dfh.count"
   ]
  },
  {
   "cell_type": "markdown",
   "metadata": {},
   "source": [
    "<h3><a id=\"protein_existence\">Protein Existence</a></h3>\n",
    "\n",
    "While most of the UP entries are proteins observed at some point in a laboratory setting, a significant portion of them are also assumed to exist based on transcript measurement or some other less direct method (see https://web.expasy.org/docs/userman.html#PE_line)."
   ]
  },
  {
   "cell_type": "code",
   "execution_count": 9,
   "metadata": {},
   "outputs": [
    {
     "data": {
      "text/html": [
       "<div>\n",
       "  <span style=\"float: left;\">show at cmd8.sc:1</span>\n",
       "</div>\n"
      ]
     },
     "metadata": {},
     "output_type": "display_data"
    },
    {
     "data": {
      "text/html": [
       "<div class=\"progress\">\n",
       "  <div class=\"progress-bar\" role=\"progressbar\" style=\"background-color: blue; width: 100%; word-wrap: normal; white-space: nowrap; text-align: center; color: white\" aria-valuenow=\"100\" aria-valuemin=\"0\" aria-valuemax=\"100\">\n",
       "    16 / 16\n",
       "  </div>\n",
       "  <div class=\"progress-bar\" role=\"progressbar\" style=\"background-color: red; width: 0%\" aria-valuenow=\"0\" aria-valuemin=\"0\" aria-valuemax=\"100\"></div>\n",
       "</div>\n"
      ]
     },
     "metadata": {},
     "output_type": "display_data"
    },
    {
     "data": {
      "text/html": [
       "<div>\n",
       "  <span style=\"float: left;\">show at cmd8.sc:1</span>\n",
       "</div>\n"
      ]
     },
     "metadata": {},
     "output_type": "display_data"
    },
    {
     "data": {
      "text/html": [
       "<div class=\"progress\">\n",
       "  <div class=\"progress-bar\" role=\"progressbar\" style=\"background-color: blue; width: 100%; word-wrap: normal; white-space: nowrap; text-align: center; color: white\" aria-valuenow=\"100\" aria-valuemin=\"0\" aria-valuemax=\"100\">\n",
       "    1 / 1\n",
       "  </div>\n",
       "  <div class=\"progress-bar\" role=\"progressbar\" style=\"background-color: red; width: 0%\" aria-valuenow=\"0\" aria-valuemin=\"0\" aria-valuemax=\"100\"></div>\n",
       "</div>\n"
      ]
     },
     "metadata": {},
     "output_type": "display_data"
    },
    {
     "name": "stdout",
     "output_type": "stream",
     "text": [
      "+----------------------------+-----+\n",
      "|_type                       |count|\n",
      "+----------------------------+-----+\n",
      "|evidence at protein level   |15428|\n",
      "|inferred from homology      |814  |\n",
      "|evidence at transcript level|3373 |\n",
      "|uncertain                   |592  |\n",
      "|predicted                   |160  |\n",
      "+----------------------------+-----+\n",
      "\n"
     ]
    }
   ],
   "source": [
    "dfh.groupBy(\"proteinExistence._type\").count.show(false)"
   ]
  },
  {
   "cell_type": "markdown",
   "metadata": {},
   "source": [
    "### Evidence Codes\n",
    "\n",
    "Evidence codes are associated with a variety of the different types of evidence provided (see https://web.expasy.org/docs/userman.html#ev_description) and they are also stated at the root level of the entries as a generalization of what curation process an entry underwent.  The codes at this level are:\n",
    "\n",
    "- ECO:0000269 - [experimental evidence used in manual assertion](https://www.ebi.ac.uk/QuickGO/term/ECO:0000269)\n",
    "- ECO:0000244 - [combinatorial evidence used in manual assertion](https://www.ebi.ac.uk/QuickGO/term/ECO:0000244)\n",
    "- ECO:0000255 - [match to sequence model evidence used in manual assertion](https://www.ebi.ac.uk/QuickGO/term/ECO:0000255)\n",
    "- ECO:0000303 - [author statement without traceable support used in manual assertion](https://www.ebi.ac.uk/QuickGO/term/ECO:0000303)\n",
    "- ECO:0000305 - [curator inference used in manual assertion](https://www.ebi.ac.uk/QuickGO/term/ECO:0000305)\n",
    "- ECO:0000250 - [sequence similarity evidence used in manual assertion](https://www.ebi.ac.uk/QuickGO/term/ECO:0000250)\n",
    "- ECO:0000312 - [imported information used in manual assertion](https://www.ebi.ac.uk/QuickGO/term/ECO:0000312)"
   ]
  },
  {
   "cell_type": "code",
   "execution_count": 51,
   "metadata": {},
   "outputs": [
    {
     "data": {
      "text/html": [
       "<div>\n",
       "  <span style=\"float: left;\">show at cmd50.sc:3</span>\n",
       "</div>\n"
      ]
     },
     "metadata": {},
     "output_type": "display_data"
    },
    {
     "data": {
      "text/html": [
       "<div class=\"progress\">\n",
       "  <div class=\"progress-bar\" role=\"progressbar\" style=\"background-color: blue; width: 100%; word-wrap: normal; white-space: nowrap; text-align: center; color: white\" aria-valuenow=\"100\" aria-valuemin=\"0\" aria-valuemax=\"100\">\n",
       "    16 / 16\n",
       "  </div>\n",
       "  <div class=\"progress-bar\" role=\"progressbar\" style=\"background-color: red; width: 0%\" aria-valuenow=\"0\" aria-valuemin=\"0\" aria-valuemax=\"100\"></div>\n",
       "</div>\n"
      ]
     },
     "metadata": {},
     "output_type": "display_data"
    },
    {
     "data": {
      "text/html": [
       "<div>\n",
       "  <span style=\"float: left;\">show at cmd50.sc:3</span>\n",
       "</div>\n"
      ]
     },
     "metadata": {},
     "output_type": "display_data"
    },
    {
     "data": {
      "text/html": [
       "<div class=\"progress\">\n",
       "  <div class=\"progress-bar\" role=\"progressbar\" style=\"background-color: blue; width: 100%; word-wrap: normal; white-space: nowrap; text-align: center; color: white\" aria-valuenow=\"100\" aria-valuemin=\"0\" aria-valuemax=\"100\">\n",
       "    1 / 1\n",
       "  </div>\n",
       "  <div class=\"progress-bar\" role=\"progressbar\" style=\"background-color: red; width: 0%\" aria-valuenow=\"0\" aria-valuemin=\"0\" aria-valuemax=\"100\"></div>\n",
       "</div>\n"
      ]
     },
     "metadata": {},
     "output_type": "display_data"
    },
    {
     "name": "stdout",
     "output_type": "stream",
     "text": [
      "+-----------+------+\n",
      "|       code| count|\n",
      "+-----------+------+\n",
      "|ECO:0000269|101169|\n",
      "|ECO:0000244| 43423|\n",
      "|ECO:0000255| 24583|\n",
      "|ECO:0000303| 23939|\n",
      "|ECO:0000305| 22751|\n",
      "|ECO:0000250| 18315|\n",
      "|ECO:0000312|  4279|\n",
      "+-----------+------+\n",
      "\n"
     ]
    }
   ],
   "source": [
    "// Code frequency, independent of combinations\n",
    "dfh.withColumn(\"evidence_codes\", explode($\"evidence\"))\n",
    "    .groupBy($\"evidence_codes._type\".as(\"code\")).count\n",
    "    .sort($\"count\".desc).show"
   ]
  },
  {
   "cell_type": "code",
   "execution_count": 54,
   "metadata": {},
   "outputs": [
    {
     "data": {
      "text/html": [
       "<div>\n",
       "  <span style=\"float: left;\">show at cmd53.sc:5</span>\n",
       "</div>\n"
      ]
     },
     "metadata": {},
     "output_type": "display_data"
    },
    {
     "data": {
      "text/html": [
       "<div class=\"progress\">\n",
       "  <div class=\"progress-bar\" role=\"progressbar\" style=\"background-color: blue; width: 100%; word-wrap: normal; white-space: nowrap; text-align: center; color: white\" aria-valuenow=\"100\" aria-valuemin=\"0\" aria-valuemax=\"100\">\n",
       "    16 / 16\n",
       "  </div>\n",
       "  <div class=\"progress-bar\" role=\"progressbar\" style=\"background-color: red; width: 0%\" aria-valuenow=\"0\" aria-valuemin=\"0\" aria-valuemax=\"100\"></div>\n",
       "</div>\n"
      ]
     },
     "metadata": {},
     "output_type": "display_data"
    },
    {
     "data": {
      "text/html": [
       "<div>\n",
       "  <span style=\"float: left;\">show at cmd53.sc:5</span>\n",
       "</div>\n"
      ]
     },
     "metadata": {},
     "output_type": "display_data"
    },
    {
     "data": {
      "text/html": [
       "<div class=\"progress\">\n",
       "  <div class=\"progress-bar\" role=\"progressbar\" style=\"background-color: blue; width: 100%; word-wrap: normal; white-space: nowrap; text-align: center; color: white\" aria-valuenow=\"100\" aria-valuemin=\"0\" aria-valuemax=\"100\">\n",
       "    1 / 1\n",
       "  </div>\n",
       "  <div class=\"progress-bar\" role=\"progressbar\" style=\"background-color: red; width: 0%\" aria-valuenow=\"0\" aria-valuemin=\"0\" aria-valuemax=\"100\"></div>\n",
       "</div>\n"
      ]
     },
     "metadata": {},
     "output_type": "display_data"
    },
    {
     "data": {
      "text/html": [
       "<div>\n",
       "  <span style=\"float: left;\">show at cmd53.sc:5</span>\n",
       "</div>\n"
      ]
     },
     "metadata": {},
     "output_type": "display_data"
    },
    {
     "data": {
      "text/html": [
       "<div class=\"progress\">\n",
       "  <div class=\"progress-bar\" role=\"progressbar\" style=\"background-color: blue; width: 100%; word-wrap: normal; white-space: nowrap; text-align: center; color: white\" aria-valuenow=\"100\" aria-valuemin=\"0\" aria-valuemax=\"100\">\n",
       "    1 / 1\n",
       "  </div>\n",
       "  <div class=\"progress-bar\" role=\"progressbar\" style=\"background-color: red; width: 0%\" aria-valuenow=\"0\" aria-valuemin=\"0\" aria-valuemax=\"100\"></div>\n",
       "</div>\n"
      ]
     },
     "metadata": {},
     "output_type": "display_data"
    },
    {
     "name": "stdout",
     "output_type": "stream",
     "text": [
      "+-------------------------------------------------------------------------------------------+-----+\n",
      "|codes                                                                                      |count|\n",
      "+-------------------------------------------------------------------------------------------+-----+\n",
      "|[ECO:0000305, ECO:0000255, ECO:0000303, ECO:0000244, ECO:0000250, ECO:0000269]             |2741 |\n",
      "|[ECO:0000305, ECO:0000255, ECO:0000303, ECO:0000250, ECO:0000269]                          |1376 |\n",
      "|[ECO:0000305, ECO:0000255, ECO:0000244, ECO:0000250, ECO:0000269]                          |1246 |\n",
      "|[ECO:0000305, ECO:0000255, ECO:0000250, ECO:0000269]                                       |1116 |\n",
      "|[ECO:0000305, ECO:0000255, ECO:0000303, ECO:0000244, ECO:0000269]                          |1029 |\n",
      "|[ECO:0000305, ECO:0000303, ECO:0000244, ECO:0000250, ECO:0000269]                          |839  |\n",
      "|[ECO:0000305, ECO:0000255, ECO:0000303, ECO:0000269]                                       |837  |\n",
      "|[ECO:0000305, ECO:0000255]                                                                 |823  |\n",
      "|[ECO:0000305, ECO:0000255, ECO:0000269]                                                    |816  |\n",
      "|[ECO:0000312, ECO:0000305, ECO:0000255, ECO:0000303, ECO:0000244, ECO:0000250, ECO:0000269]|666  |\n",
      "+-------------------------------------------------------------------------------------------+-----+\n",
      "only showing top 10 rows\n",
      "\n"
     ]
    }
   ],
   "source": [
    "// Most common combinations associated with an individual entry\n",
    "dfh.select($\"accession\".getItem(0).as(\"id\"), explode($\"evidence\").as(\"evidence\"))\n",
    "    .groupBy(\"id\").agg(collect_set($\"evidence._type\").as(\"codes\"))\n",
    "    .groupBy(\"codes\").count\n",
    "    .sort($\"count\".desc)\n",
    "    .show(10, false)"
   ]
  },
  {
   "cell_type": "markdown",
   "metadata": {},
   "source": [
    "### CD Antigen Names\n",
    "\n",
    "See https://www.uniprot.org/docs/cdlist for a full list of the CD molecules in UniProt.\n",
    "\n",
    "CD names are typically unique however there are a few cases where the same name is assigned to both receptors and ligands:"
   ]
  },
  {
   "cell_type": "code",
   "execution_count": 23,
   "metadata": {},
   "outputs": [
    {
     "data": {
      "text/html": [
       "<div>\n",
       "  <span style=\"float: left;\">show at cmd22.sc:2</span>\n",
       "</div>\n"
      ]
     },
     "metadata": {},
     "output_type": "display_data"
    },
    {
     "data": {
      "text/html": [
       "<div class=\"progress\">\n",
       "  <div class=\"progress-bar\" role=\"progressbar\" style=\"background-color: blue; width: 100%; word-wrap: normal; white-space: nowrap; text-align: center; color: white\" aria-valuenow=\"100\" aria-valuemin=\"0\" aria-valuemax=\"100\">\n",
       "    16 / 16\n",
       "  </div>\n",
       "  <div class=\"progress-bar\" role=\"progressbar\" style=\"background-color: red; width: 0%\" aria-valuenow=\"0\" aria-valuemin=\"0\" aria-valuemax=\"100\"></div>\n",
       "</div>\n"
      ]
     },
     "metadata": {},
     "output_type": "display_data"
    },
    {
     "data": {
      "text/html": [
       "<div>\n",
       "  <span style=\"float: left;\">show at cmd22.sc:2</span>\n",
       "</div>\n"
      ]
     },
     "metadata": {},
     "output_type": "display_data"
    },
    {
     "data": {
      "text/html": [
       "<div class=\"progress\">\n",
       "  <div class=\"progress-bar\" role=\"progressbar\" style=\"background-color: blue; width: 100%; word-wrap: normal; white-space: nowrap; text-align: center; color: white\" aria-valuenow=\"100\" aria-valuemin=\"0\" aria-valuemax=\"100\">\n",
       "    1 / 1\n",
       "  </div>\n",
       "  <div class=\"progress-bar\" role=\"progressbar\" style=\"background-color: red; width: 0%\" aria-valuenow=\"0\" aria-valuemin=\"0\" aria-valuemax=\"100\"></div>\n",
       "</div>\n"
      ]
     },
     "metadata": {},
     "output_type": "display_data"
    },
    {
     "name": "stdout",
     "output_type": "stream",
     "text": [
      "+------+-----+\n",
      "|_VALUE|count|\n",
      "+------+-----+\n",
      "|null  |19969|\n",
      "|CD36  |3    |\n",
      "|CD32  |3    |\n",
      "|CD99  |2    |\n",
      "|CD87  |1    |\n",
      "|CD109 |1    |\n",
      "|CD98  |1    |\n",
      "|CD37  |1    |\n",
      "+------+-----+\n",
      "only showing top 8 rows\n",
      "\n"
     ]
    }
   ],
   "source": [
    "dfh.groupBy(\"protein.cdAntigenName._VALUE\")\n",
    "    .count.sort($\"count\".desc).show(8, false)"
   ]
  },
  {
   "cell_type": "code",
   "execution_count": 100,
   "metadata": {},
   "outputs": [
    {
     "data": {
      "text/html": [
       "<div>\n",
       "  <span style=\"float: left;\">show at cmd99.sc:3</span>\n",
       "</div>\n"
      ]
     },
     "metadata": {},
     "output_type": "display_data"
    },
    {
     "data": {
      "text/html": [
       "<div class=\"progress\">\n",
       "  <div class=\"progress-bar\" role=\"progressbar\" style=\"background-color: blue; width: 100%; word-wrap: normal; white-space: nowrap; text-align: center; color: white\" aria-valuenow=\"100\" aria-valuemin=\"0\" aria-valuemax=\"100\">\n",
       "    1 / 1\n",
       "  </div>\n",
       "  <div class=\"progress-bar\" role=\"progressbar\" style=\"background-color: red; width: 0%\" aria-valuenow=\"0\" aria-valuemin=\"0\" aria-valuemax=\"100\"></div>\n",
       "</div>\n"
      ]
     },
     "metadata": {},
     "output_type": "display_data"
    },
    {
     "data": {
      "text/html": [
       "<div>\n",
       "  <span style=\"float: left;\">show at cmd99.sc:3</span>\n",
       "</div>\n"
      ]
     },
     "metadata": {},
     "output_type": "display_data"
    },
    {
     "data": {
      "text/html": [
       "<div class=\"progress\">\n",
       "  <div class=\"progress-bar\" role=\"progressbar\" style=\"background-color: blue; width: 100%; word-wrap: normal; white-space: nowrap; text-align: center; color: white\" aria-valuenow=\"100\" aria-valuemin=\"0\" aria-valuemax=\"100\">\n",
       "    4 / 4\n",
       "  </div>\n",
       "  <div class=\"progress-bar\" role=\"progressbar\" style=\"background-color: red; width: 0%\" aria-valuenow=\"0\" aria-valuemin=\"0\" aria-valuemax=\"100\"></div>\n",
       "</div>\n"
      ]
     },
     "metadata": {},
     "output_type": "display_data"
    },
    {
     "data": {
      "text/html": [
       "<div>\n",
       "  <span style=\"float: left;\">show at cmd99.sc:3</span>\n",
       "</div>\n"
      ]
     },
     "metadata": {},
     "output_type": "display_data"
    },
    {
     "data": {
      "text/html": [
       "<div class=\"progress\">\n",
       "  <div class=\"progress-bar\" role=\"progressbar\" style=\"background-color: blue; width: 100%; word-wrap: normal; white-space: nowrap; text-align: center; color: white\" aria-valuenow=\"100\" aria-valuemin=\"0\" aria-valuemax=\"100\">\n",
       "    11 / 11\n",
       "  </div>\n",
       "  <div class=\"progress-bar\" role=\"progressbar\" style=\"background-color: red; width: 0%\" aria-valuenow=\"0\" aria-valuemin=\"0\" aria-valuemax=\"100\"></div>\n",
       "</div>\n"
      ]
     },
     "metadata": {},
     "output_type": "display_data"
    },
    {
     "name": "stdout",
     "output_type": "stream",
     "text": [
      "+-----------------+-----------+-----------------------------------+---------------------------------------+\n",
      "|primary_accession|entry_name |protein_name                       |flatten(gene.name AS name#27355)._VALUE|\n",
      "+-----------------+-----------+-----------------------------------+---------------------------------------+\n",
      "|P16671           |CD36_HUMAN |Platelet glycoprotein 4            |[CD36, GP3B, GP4]                      |\n",
      "|Q8WTV0           |SCRB1_HUMAN|Scavenger receptor class B member 1|[SCARB1, CD36L1, CLA1]                 |\n",
      "|Q14108           |SCRB2_HUMAN|Lysosome membrane protein 2        |[SCARB2, CD36L2, LIMP2, LIMPII]        |\n",
      "+-----------------+-----------+-----------------------------------+---------------------------------------+\n",
      "\n"
     ]
    }
   ],
   "source": [
    "// Set common projections\n",
    "dfh.filter($\"protein.cdAntigenName._VALUE\" === \"CD36\")\n",
    "    .select((PROJ_ENTRY_MAIN :+ flatten($\"gene.name\")(\"_VALUE\")): _*)\n",
    "    .show(false)"
   ]
  },
  {
   "cell_type": "markdown",
   "metadata": {},
   "source": [
    "### Gene Name Types\n",
    "\n",
    "See https://www.uniprot.org/help/gene_name (as well as https://web.expasy.org/docs/userman.html#GN_line) for a description of the four types of gene names that can be associated with an entry.  Of note, the official names and synonyms do not appear to be from one source or nomenclature committee but are instead aggregated and maintained by UniProt.  Also, \"OrderedLocusName\" does not appear in the data while \"ORF\" does and indicates preliminary gene designations (before they are adequately characterized).  See below for a few human proteins with no official gene name, just an ORF from whatever sequencing project discovered them:"
   ]
  },
  {
   "cell_type": "code",
   "execution_count": 66,
   "metadata": {},
   "outputs": [
    {
     "data": {
      "text/html": [
       "<div>\n",
       "  <span style=\"float: left;\">show at cmd65.sc:1</span>\n",
       "</div>\n"
      ]
     },
     "metadata": {},
     "output_type": "display_data"
    },
    {
     "data": {
      "text/html": [
       "<div class=\"progress\">\n",
       "  <div class=\"progress-bar\" role=\"progressbar\" style=\"background-color: blue; width: 100%; word-wrap: normal; white-space: nowrap; text-align: center; color: white\" aria-valuenow=\"100\" aria-valuemin=\"0\" aria-valuemax=\"100\">\n",
       "    16 / 16\n",
       "  </div>\n",
       "  <div class=\"progress-bar\" role=\"progressbar\" style=\"background-color: red; width: 0%\" aria-valuenow=\"0\" aria-valuemin=\"0\" aria-valuemax=\"100\"></div>\n",
       "</div>\n"
      ]
     },
     "metadata": {},
     "output_type": "display_data"
    },
    {
     "data": {
      "text/html": [
       "<div>\n",
       "  <span style=\"float: left;\">show at cmd65.sc:1</span>\n",
       "</div>\n"
      ]
     },
     "metadata": {},
     "output_type": "display_data"
    },
    {
     "data": {
      "text/html": [
       "<div class=\"progress\">\n",
       "  <div class=\"progress-bar\" role=\"progressbar\" style=\"background-color: blue; width: 100%; word-wrap: normal; white-space: nowrap; text-align: center; color: white\" aria-valuenow=\"100\" aria-valuemin=\"0\" aria-valuemax=\"100\">\n",
       "    1 / 1\n",
       "  </div>\n",
       "  <div class=\"progress-bar\" role=\"progressbar\" style=\"background-color: red; width: 0%\" aria-valuenow=\"0\" aria-valuemin=\"0\" aria-valuemax=\"100\"></div>\n",
       "</div>\n"
      ]
     },
     "metadata": {},
     "output_type": "display_data"
    },
    {
     "name": "stdout",
     "output_type": "stream",
     "text": [
      "+-----------------------+-----+\n",
      "|type                   |count|\n",
      "+-----------------------+-----+\n",
      "|[primary, synonym]     |11594|\n",
      "|[primary]              |6425 |\n",
      "|[primary, synonym, ORF]|1502 |\n",
      "|[primary, ORF]         |677  |\n",
      "|null                   |146  |\n",
      "|[ORF]                  |23   |\n",
      "+-----------------------+-----+\n",
      "\n"
     ]
    }
   ],
   "source": [
    "// Show the frequency of distinct gene types that occur for each entry\n",
    "dfh.select(array_distinct(flatten($\"gene.name\")(\"_type\")).as(\"type\"))\n",
    "    .groupBy(\"type\").count.show(false)"
   ]
  },
  {
   "cell_type": "code",
   "execution_count": 101,
   "metadata": {},
   "outputs": [
    {
     "data": {
      "text/html": [
       "<div>\n",
       "  <span style=\"float: left;\">show at cmd100.sc:4</span>\n",
       "</div>\n"
      ]
     },
     "metadata": {},
     "output_type": "display_data"
    },
    {
     "data": {
      "text/html": [
       "<div class=\"progress\">\n",
       "  <div class=\"progress-bar\" role=\"progressbar\" style=\"background-color: blue; width: 100%; word-wrap: normal; white-space: nowrap; text-align: center; color: white\" aria-valuenow=\"100\" aria-valuemin=\"0\" aria-valuemax=\"100\">\n",
       "    16 / 16\n",
       "  </div>\n",
       "  <div class=\"progress-bar\" role=\"progressbar\" style=\"background-color: red; width: 0%\" aria-valuenow=\"0\" aria-valuemin=\"0\" aria-valuemax=\"100\"></div>\n",
       "</div>\n"
      ]
     },
     "metadata": {},
     "output_type": "display_data"
    },
    {
     "name": "stdout",
     "output_type": "stream",
     "text": [
      "+-----------------+-----------+----------------------------------------------------------+-----------------------------------+----------------------------+\n",
      "|primary_accession|entry_name |protein_name                                              |gene                               |protein_existence           |\n",
      "+-----------------+-----------+----------------------------------------------------------+-----------------------------------+----------------------------+\n",
      "|Q9UI72           |YE014_HUMAN|Putative uncharacterized protein PRO0255                  |[[PRO0255,, ORF]]                  |uncertain                   |\n",
      "|Q9P1D8           |YP008_HUMAN|Putative uncharacterized protein PRO2289                  |[[PRO2289,, ORF]]                  |uncertain                   |\n",
      "|Q9UHU1           |YK039_HUMAN|Putative uncharacterized protein PRO1716                  |[[PRO1716,, ORF]]                  |uncertain                   |\n",
      "|Q6UXP9           |YO001_HUMAN|Putative uncharacterized protein UNQ9370/PRO34162         |[[UNQ9370/PRO34162,, ORF]]         |uncertain                   |\n",
      "|Q6UXR8           |YS001_HUMAN|Putative uncharacterized protein UNQ6493/PRO21345         |[[UNQ6493/PRO21345,, ORF]]         |uncertain                   |\n",
      "|Q6UXQ8           |YO002_HUMAN|Putative uncharacterized protein UNQ6190/PRO20217         |[[UNQ6190/PRO20217,, ORF]]         |uncertain                   |\n",
      "|Q9P1C3           |YN010_HUMAN|Putative uncharacterized protein PRO2829                  |[[PRO2829,, ORF]]                  |uncertain                   |\n",
      "|Q9UI25           |YP002_HUMAN|Putative uncharacterized protein PRO0461                  |[[PRO0461,, ORF]]                  |uncertain                   |\n",
      "|Q9BZS9           |YG041_HUMAN|Putative uncharacterized protein PNAS-138                 |[[PNAS-138,, ORF]]                 |uncertain                   |\n",
      "|Q9H354           |YJ001_HUMAN|Putative uncharacterized protein PRO1933                  |[[PRO1933,, ORF]]                  |uncertain                   |\n",
      "|Q0P140           |YA037_HUMAN|Putative uncharacterized protein HSD52                    |[[HSD52,, ORF]]                    |uncertain                   |\n",
      "|Q9UHT4           |YG001_HUMAN|Putative uncharacterized protein PRO1854                  |[[PRO1854,, ORF]]                  |uncertain                   |\n",
      "|Q71RG6           |YH006_HUMAN|Putative chemokine-related protein FP248                  |[[FP248,, ORF]]                    |uncertain                   |\n",
      "|Q6UXR6           |YI004_HUMAN|Putative uncharacterized protein UNQ6494/PRO21346         |[[UNQ6494/PRO21346,, ORF]]         |uncertain                   |\n",
      "|Q9H379           |YI012_HUMAN|Putative uncharacterized protein PRO3102                  |[[PRO3102,, ORF]]                  |uncertain                   |\n",
      "|Q9UI54           |YT001_HUMAN|Putative uncharacterized protein PRO0628                  |[[PRO0628,, ORF]]                  |uncertain                   |\n",
      "|Q6XCG6           |YA011_HUMAN|Putative uncharacterized protein PP632                    |[[PP632,, ORF]]                    |predicted                   |\n",
      "|Q6UWF5           |YF002_HUMAN|Putative uncharacterized protein UNQ5815/PRO19632         |[[UNQ5815/PRO19632,, ORF]]         |predicted                   |\n",
      "|Q6UY13           |YB003_HUMAN|Putative uncharacterized protein UNQ5830/PRO19650/PRO19816|[[UNQ5830/PRO19650/PRO19816,, ORF]]|inferred from homology      |\n",
      "|Q8WZ26           |YS006_HUMAN|Putative uncharacterized protein PP6455                   |[[PP6455,, ORF]]                   |evidence at transcript level|\n",
      "|Q6UXU0           |YS002_HUMAN|Putative uncharacterized protein UNQ9165/PRO28630         |[[UNQ9165/PRO28630,, ORF]]         |evidence at transcript level|\n",
      "|Q6UXV3           |YV010_HUMAN|Uncharacterized protein UNQ6126/PRO20091                  |[[UNQ6126/PRO20091,, ORF]]         |evidence at transcript level|\n",
      "|P09565           |IG2R_HUMAN |Putative insulin-like growth factor 2-associated protein  |[[GIG44,, ORF], [PP9974,, ORF]]    |evidence at protein level   |\n",
      "+-----------------+-----------+----------------------------------------------------------+-----------------------------------+----------------------------+\n",
      "\n"
     ]
    }
   ],
   "source": [
    "// Pull the records for the examples above that have only an ORF designation\n",
    "dfh.filter(array_distinct(flatten($\"gene.name\")(\"_type\")) === array(lit(\"ORF\")))\n",
    "    .select(PROJ_ENTRY_MAIN ++ Seq(flatten($\"gene.name\").as(\"gene\"), $\"proteinExistence._type\".as(\"protein_existence\")):_*)\n",
    "    .sort($\"protein_existence\".desc)\n",
    "    .show(23, false)"
   ]
  },
  {
   "cell_type": "code",
   "execution_count": 83,
   "metadata": {},
   "outputs": [
    {
     "data": {
      "text/html": [
       "<div>\n",
       "  <span style=\"float: left;\">pivot at cmd82.sc:10</span>\n",
       "</div>\n"
      ]
     },
     "metadata": {},
     "output_type": "display_data"
    },
    {
     "data": {
      "text/html": [
       "<div class=\"progress\">\n",
       "  <div class=\"progress-bar\" role=\"progressbar\" style=\"background-color: blue; width: 100%; word-wrap: normal; white-space: nowrap; text-align: center; color: white\" aria-valuenow=\"100\" aria-valuemin=\"0\" aria-valuemax=\"100\">\n",
       "    16 / 16\n",
       "  </div>\n",
       "  <div class=\"progress-bar\" role=\"progressbar\" style=\"background-color: red; width: 0%\" aria-valuenow=\"0\" aria-valuemin=\"0\" aria-valuemax=\"100\"></div>\n",
       "</div>\n"
      ]
     },
     "metadata": {},
     "output_type": "display_data"
    },
    {
     "data": {
      "text/html": [
       "<div>\n",
       "  <span style=\"float: left;\">pivot at cmd82.sc:10</span>\n",
       "</div>\n"
      ]
     },
     "metadata": {},
     "output_type": "display_data"
    },
    {
     "data": {
      "text/html": [
       "<div class=\"progress\">\n",
       "  <div class=\"progress-bar\" role=\"progressbar\" style=\"background-color: blue; width: 100%; word-wrap: normal; white-space: nowrap; text-align: center; color: white\" aria-valuenow=\"100\" aria-valuemin=\"0\" aria-valuemax=\"100\">\n",
       "    1 / 1\n",
       "  </div>\n",
       "  <div class=\"progress-bar\" role=\"progressbar\" style=\"background-color: red; width: 0%\" aria-valuenow=\"0\" aria-valuemin=\"0\" aria-valuemax=\"100\"></div>\n",
       "</div>\n"
      ]
     },
     "metadata": {},
     "output_type": "display_data"
    },
    {
     "data": {
      "text/html": [
       "<div>\n",
       "  <span style=\"float: left;\">pivot at cmd82.sc:10</span>\n",
       "</div>\n"
      ]
     },
     "metadata": {},
     "output_type": "display_data"
    },
    {
     "data": {
      "text/html": [
       "<div class=\"progress\">\n",
       "  <div class=\"progress-bar\" role=\"progressbar\" style=\"background-color: blue; width: 100%; word-wrap: normal; white-space: nowrap; text-align: center; color: white\" aria-valuenow=\"100\" aria-valuemin=\"0\" aria-valuemax=\"100\">\n",
       "    1 / 1\n",
       "  </div>\n",
       "  <div class=\"progress-bar\" role=\"progressbar\" style=\"background-color: red; width: 0%\" aria-valuenow=\"0\" aria-valuemin=\"0\" aria-valuemax=\"100\"></div>\n",
       "</div>\n"
      ]
     },
     "metadata": {},
     "output_type": "display_data"
    },
    {
     "data": {
      "text/html": [
       "<div>\n",
       "  <span style=\"float: left;\">show at cmd82.sc:11</span>\n",
       "</div>\n"
      ]
     },
     "metadata": {},
     "output_type": "display_data"
    },
    {
     "data": {
      "text/html": [
       "<div class=\"progress\">\n",
       "  <div class=\"progress-bar\" role=\"progressbar\" style=\"background-color: blue; width: 100%; word-wrap: normal; white-space: nowrap; text-align: center; color: white\" aria-valuenow=\"100\" aria-valuemin=\"0\" aria-valuemax=\"100\">\n",
       "    16 / 16\n",
       "  </div>\n",
       "  <div class=\"progress-bar\" role=\"progressbar\" style=\"background-color: red; width: 0%\" aria-valuenow=\"0\" aria-valuemin=\"0\" aria-valuemax=\"100\"></div>\n",
       "</div>\n"
      ]
     },
     "metadata": {},
     "output_type": "display_data"
    },
    {
     "data": {
      "text/html": [
       "<div>\n",
       "  <span style=\"float: left;\">show at cmd82.sc:11</span>\n",
       "</div>\n"
      ]
     },
     "metadata": {},
     "output_type": "display_data"
    },
    {
     "data": {
      "text/html": [
       "<div class=\"progress\">\n",
       "  <div class=\"progress-bar\" role=\"progressbar\" style=\"background-color: blue; width: 100%; word-wrap: normal; white-space: nowrap; text-align: center; color: white\" aria-valuenow=\"100\" aria-valuemin=\"0\" aria-valuemax=\"100\">\n",
       "    1 / 1\n",
       "  </div>\n",
       "  <div class=\"progress-bar\" role=\"progressbar\" style=\"background-color: red; width: 0%\" aria-valuenow=\"0\" aria-valuemin=\"0\" aria-valuemax=\"100\"></div>\n",
       "</div>\n"
      ]
     },
     "metadata": {},
     "output_type": "display_data"
    },
    {
     "data": {
      "text/html": [
       "<div>\n",
       "  <span style=\"float: left;\">show at cmd82.sc:11</span>\n",
       "</div>\n"
      ]
     },
     "metadata": {},
     "output_type": "display_data"
    },
    {
     "data": {
      "text/html": [
       "<div class=\"progress\">\n",
       "  <div class=\"progress-bar\" role=\"progressbar\" style=\"background-color: blue; width: 100%; word-wrap: normal; white-space: nowrap; text-align: center; color: white\" aria-valuenow=\"100\" aria-valuemin=\"0\" aria-valuemax=\"100\">\n",
       "    1 / 1\n",
       "  </div>\n",
       "  <div class=\"progress-bar\" role=\"progressbar\" style=\"background-color: red; width: 0%\" aria-valuenow=\"0\" aria-valuemin=\"0\" aria-valuemax=\"100\"></div>\n",
       "</div>\n"
      ]
     },
     "metadata": {},
     "output_type": "display_data"
    },
    {
     "name": "stdout",
     "output_type": "stream",
     "text": [
      "+----------------+-------+--------+\n",
      "|ORF             |primary|synonym |\n",
      "+----------------+-------+--------+\n",
      "|UNQ150/PRO176   |GBA    |NCX1    |\n",
      "|UNQ2423/PRO4981 |HLA-B  |NGRH1   |\n",
      "|HSD13           |CYP3A7 |DECTIN2 |\n",
      "|UNQ403/PRO740   |RAET1E |TWA1    |\n",
      "|UNQ743/PRO1471  |CYP2J2 |ILT7    |\n",
      "|PTD019          |EXTL3  |MHF2    |\n",
      "|CGI-143         |CYP26A1|UTP11L  |\n",
      "|CDA03           |MRM3   |A3GALT2P|\n",
      "|UNQ9427/PRO34683|IGHA2  |AAT1    |\n",
      "|UNQ1850/PRO3580 |SFXN4  |KIAA1731|\n",
      "+----------------+-------+--------+\n",
      "\n"
     ]
    },
    {
     "data": {
      "text/plain": [
       "\u001b[32mimport \u001b[39m\u001b[36morg.apache.spark.sql.expressions.Window\n",
       "\n",
       "\u001b[39m"
      ]
     },
     "execution_count": 83,
     "metadata": {},
     "output_type": "execute_result"
    }
   ],
   "source": [
    "// Show a few examples of all types of gene names for each type\n",
    "dfh.select(explode($\"gene.name\").as(\"gene\"))\n",
    "    .select(explode($\"gene\").as(\"gene\"))\n",
    "    .select(\"gene.*\")\n",
    "    // Get 10 example values for each gene name type\n",
    "    .withColumn(\"rid\", row_number.over(Window.partitionBy(\"_type\").orderBy($\"_evidence\".desc)))\n",
    "    .filter($\"rid\" <= 10)\n",
    "    // Pivot to show examples concatenated horizontally\n",
    "    .groupBy(\"rid\").pivot(\"_type\").agg(max(\"_VALUE\"))\n",
    "    .drop(\"rid\").show(10, false)"
   ]
  },
  {
   "cell_type": "markdown",
   "metadata": {},
   "source": [
    "## Comments"
   ]
  },
  {
   "cell_type": "code",
   "execution_count": 12,
   "metadata": {},
   "outputs": [
    {
     "name": "stdout",
     "output_type": "stream",
     "text": [
      "root\n",
      " |-- _VALUE: string (nullable = true)\n",
      " |-- _error: double (nullable = true)\n",
      " |-- _evidence: string (nullable = true)\n",
      " |-- _locationType: string (nullable = true)\n",
      " |-- _mass: double (nullable = true)\n",
      " |-- _method: string (nullable = true)\n",
      " |-- _name: string (nullable = true)\n",
      " |-- _type: string (nullable = true)\n",
      " |-- absorption: struct (nullable = true)\n",
      " |    |-- max: struct (nullable = true)\n",
      " |    |    |-- _VALUE: string (nullable = true)\n",
      " |    |    |-- _evidence: string (nullable = true)\n",
      " |    |-- text: struct (nullable = true)\n",
      " |    |    |-- _VALUE: string (nullable = true)\n",
      " |    |    |-- _evidence: string (nullable = true)\n",
      " |-- cofactor: array (nullable = true)\n",
      " |    |-- element: struct (containsNull = true)\n",
      " |    |    |-- _evidence: string (nullable = true)\n",
      " |    |    |-- dbReference: struct (nullable = true)\n",
      " |    |    |    |-- _VALUE: string (nullable = true)\n",
      " |    |    |    |-- _id: string (nullable = true)\n",
      " |    |    |    |-- _type: string (nullable = true)\n",
      " |    |    |-- name: string (nullable = true)\n",
      " |-- conflict: struct (nullable = true)\n",
      " |    |-- _VALUE: string (nullable = true)\n",
      " |    |-- _ref: long (nullable = true)\n",
      " |    |-- _type: string (nullable = true)\n",
      " |    |-- sequence: struct (nullable = true)\n",
      " |    |    |-- _VALUE: string (nullable = true)\n",
      " |    |    |-- _id: string (nullable = true)\n",
      " |    |    |-- _resource: string (nullable = true)\n",
      " |    |    |-- _version: long (nullable = true)\n",
      " |-- disease: struct (nullable = true)\n",
      " |    |-- _id: string (nullable = true)\n",
      " |    |-- acronym: string (nullable = true)\n",
      " |    |-- dbReference: struct (nullable = true)\n",
      " |    |    |-- _VALUE: string (nullable = true)\n",
      " |    |    |-- _id: long (nullable = true)\n",
      " |    |    |-- _type: string (nullable = true)\n",
      " |    |-- description: string (nullable = true)\n",
      " |    |-- name: string (nullable = true)\n",
      " |-- event: array (nullable = true)\n",
      " |    |-- element: struct (containsNull = true)\n",
      " |    |    |-- _VALUE: string (nullable = true)\n",
      " |    |    |-- _type: string (nullable = true)\n",
      " |-- experiments: long (nullable = true)\n",
      " |-- interactant: array (nullable = true)\n",
      " |    |-- element: struct (containsNull = true)\n",
      " |    |    |-- _VALUE: string (nullable = true)\n",
      " |    |    |-- _intactId: string (nullable = true)\n",
      " |    |    |-- id: string (nullable = true)\n",
      " |    |    |-- label: string (nullable = true)\n",
      " |-- isoform: array (nullable = true)\n",
      " |    |-- element: struct (containsNull = true)\n",
      " |    |    |-- id: array (nullable = true)\n",
      " |    |    |    |-- element: string (containsNull = true)\n",
      " |    |    |-- name: array (nullable = true)\n",
      " |    |    |    |-- element: struct (containsNull = true)\n",
      " |    |    |    |    |-- _VALUE: string (nullable = true)\n",
      " |    |    |    |    |-- _evidence: string (nullable = true)\n",
      " |    |    |-- sequence: struct (nullable = true)\n",
      " |    |    |    |-- _VALUE: string (nullable = true)\n",
      " |    |    |    |-- _ref: string (nullable = true)\n",
      " |    |    |    |-- _type: string (nullable = true)\n",
      " |-- kinetics: struct (nullable = true)\n",
      " |    |-- KM: array (nullable = true)\n",
      " |    |    |-- element: struct (containsNull = true)\n",
      " |    |    |    |-- _VALUE: string (nullable = true)\n",
      " |    |    |    |-- _evidence: string (nullable = true)\n",
      " |    |-- Vmax: array (nullable = true)\n",
      " |    |    |-- element: struct (containsNull = true)\n",
      " |    |    |    |-- _VALUE: string (nullable = true)\n",
      " |    |    |    |-- _evidence: string (nullable = true)\n",
      " |    |-- text: struct (nullable = true)\n",
      " |    |    |-- _VALUE: string (nullable = true)\n",
      " |    |    |-- _evidence: string (nullable = true)\n",
      " |-- link: struct (nullable = true)\n",
      " |    |-- _VALUE: string (nullable = true)\n",
      " |    |-- _uri: string (nullable = true)\n",
      " |-- location: array (nullable = true)\n",
      " |    |-- element: struct (containsNull = true)\n",
      " |    |    |-- position: struct (nullable = true)\n",
      " |    |    |    |-- _VALUE: string (nullable = true)\n",
      " |    |    |    |-- _evidence: string (nullable = true)\n",
      " |    |    |    |-- _position: long (nullable = true)\n",
      " |-- molecule: string (nullable = true)\n",
      " |-- organismsDiffer: boolean (nullable = true)\n",
      " |-- phDependence: struct (nullable = true)\n",
      " |    |-- text: struct (nullable = true)\n",
      " |    |    |-- _VALUE: string (nullable = true)\n",
      " |    |    |-- _evidence: string (nullable = true)\n",
      " |-- physiologicalReaction: array (nullable = true)\n",
      " |    |-- element: struct (containsNull = true)\n",
      " |    |    |-- _direction: string (nullable = true)\n",
      " |    |    |-- _evidence: string (nullable = true)\n",
      " |    |    |-- dbReference: struct (nullable = true)\n",
      " |    |    |    |-- _VALUE: string (nullable = true)\n",
      " |    |    |    |-- _id: string (nullable = true)\n",
      " |    |    |    |-- _type: string (nullable = true)\n",
      " |-- reaction: struct (nullable = true)\n",
      " |    |-- _evidence: string (nullable = true)\n",
      " |    |-- dbReference: array (nullable = true)\n",
      " |    |    |-- element: struct (containsNull = true)\n",
      " |    |    |    |-- _VALUE: string (nullable = true)\n",
      " |    |    |    |-- _id: string (nullable = true)\n",
      " |    |    |    |-- _type: string (nullable = true)\n",
      " |    |-- text: string (nullable = true)\n",
      " |-- redoxPotential: struct (nullable = true)\n",
      " |    |-- text: struct (nullable = true)\n",
      " |    |    |-- _VALUE: string (nullable = true)\n",
      " |    |    |-- _evidence: string (nullable = true)\n",
      " |-- subcellularLocation: array (nullable = true)\n",
      " |    |-- element: struct (containsNull = true)\n",
      " |    |    |-- location: array (nullable = true)\n",
      " |    |    |    |-- element: struct (containsNull = true)\n",
      " |    |    |    |    |-- _VALUE: string (nullable = true)\n",
      " |    |    |    |    |-- _evidence: string (nullable = true)\n",
      " |    |    |-- orientation: struct (nullable = true)\n",
      " |    |    |    |-- _VALUE: string (nullable = true)\n",
      " |    |    |    |-- _evidence: string (nullable = true)\n",
      " |    |    |-- topology: array (nullable = true)\n",
      " |    |    |    |-- element: struct (containsNull = true)\n",
      " |    |    |    |    |-- _VALUE: string (nullable = true)\n",
      " |    |    |    |    |-- _evidence: string (nullable = true)\n",
      " |-- temperatureDependence: struct (nullable = true)\n",
      " |    |-- text: struct (nullable = true)\n",
      " |    |    |-- _VALUE: string (nullable = true)\n",
      " |    |    |-- _evidence: string (nullable = true)\n",
      " |-- text: struct (nullable = true)\n",
      " |    |-- _VALUE: string (nullable = true)\n",
      " |    |-- _evidence: string (nullable = true)\n",
      "\n"
     ]
    }
   ],
   "source": [
    "dfh.withColumn(\"comments\", explode($\"comment\")).select(\"comments.*\")\n",
    "    .printSchema"
   ]
  },
  {
   "cell_type": "code",
   "execution_count": 18,
   "metadata": {},
   "outputs": [
    {
     "data": {
      "text/html": [
       "<div>\n",
       "  <span style=\"float: left;\">show at cmd17.sc:4</span>\n",
       "</div>\n"
      ]
     },
     "metadata": {},
     "output_type": "display_data"
    },
    {
     "data": {
      "text/html": [
       "<div class=\"progress\">\n",
       "  <div class=\"progress-bar\" role=\"progressbar\" style=\"background-color: blue; width: 100%; word-wrap: normal; white-space: nowrap; text-align: center; color: white\" aria-valuenow=\"100\" aria-valuemin=\"0\" aria-valuemax=\"100\">\n",
       "    16 / 16\n",
       "  </div>\n",
       "  <div class=\"progress-bar\" role=\"progressbar\" style=\"background-color: red; width: 0%\" aria-valuenow=\"0\" aria-valuemin=\"0\" aria-valuemax=\"100\"></div>\n",
       "</div>\n"
      ]
     },
     "metadata": {},
     "output_type": "display_data"
    },
    {
     "data": {
      "text/html": [
       "<div>\n",
       "  <span style=\"float: left;\">show at cmd17.sc:4</span>\n",
       "</div>\n"
      ]
     },
     "metadata": {},
     "output_type": "display_data"
    },
    {
     "data": {
      "text/html": [
       "<div class=\"progress\">\n",
       "  <div class=\"progress-bar\" role=\"progressbar\" style=\"background-color: blue; width: 100%; word-wrap: normal; white-space: nowrap; text-align: center; color: white\" aria-valuenow=\"100\" aria-valuemin=\"0\" aria-valuemax=\"100\">\n",
       "    1 / 1\n",
       "  </div>\n",
       "  <div class=\"progress-bar\" role=\"progressbar\" style=\"background-color: red; width: 0%\" aria-valuenow=\"0\" aria-valuemin=\"0\" aria-valuemax=\"100\"></div>\n",
       "</div>\n"
      ]
     },
     "metadata": {},
     "output_type": "display_data"
    },
    {
     "name": "stdout",
     "output_type": "stream",
     "text": [
      "+-----------------------------+-----+\n",
      "|_type                        |count|\n",
      "+-----------------------------+-----+\n",
      "|interaction                  |55521|\n",
      "|subcellular location         |17911|\n",
      "|function                     |17451|\n",
      "|similarity                   |14346|\n",
      "|subunit                      |12499|\n",
      "|sequence caution             |11883|\n",
      "|alternative products         |10628|\n",
      "|tissue specificity           |9826 |\n",
      "|PTM                          |7273 |\n",
      "|disease                      |6740 |\n",
      "|catalytic activity           |6545 |\n",
      "|domain                       |4376 |\n",
      "|online information           |4165 |\n",
      "|miscellaneous                |4024 |\n",
      "|caution                      |2198 |\n",
      "|induction                    |1885 |\n",
      "|cofactor                     |1712 |\n",
      "|pathway                      |1344 |\n",
      "|activity regulation          |1282 |\n",
      "|biophysicochemical properties|859  |\n",
      "+-----------------------------+-----+\n",
      "only showing top 20 rows\n",
      "\n"
     ]
    }
   ],
   "source": [
    "dfh.withColumn(\"comments\", explode($\"comment\"))\n",
    "    .groupBy(\"comments._type\")\n",
    "    .count.sort($\"count\".desc)\n",
    "    .show(false)"
   ]
  }
 ],
 "metadata": {
  "kernelspec": {
   "display_name": "Scala",
   "language": "scala",
   "name": "scala"
  },
  "language_info": {
   "codemirror_mode": "text/x-scala",
   "file_extension": ".scala",
   "mimetype": "text/x-scala",
   "name": "scala",
   "nbconvert_exporter": "script",
   "version": "2.12.10"
  }
 },
 "nbformat": 4,
 "nbformat_minor": 4
}
