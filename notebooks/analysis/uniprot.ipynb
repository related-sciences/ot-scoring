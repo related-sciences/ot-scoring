{
 "cells": [
  {
   "cell_type": "markdown",
   "metadata": {},
   "source": [
    "# UniProt Analysis"
   ]
  },
  {
   "cell_type": "code",
   "execution_count": 1,
   "metadata": {},
   "outputs": [
    {
     "name": "stdout",
     "output_type": "stream",
     "text": [
      "Loading spark-stubs\n",
      "Creating SparkSession\n"
     ]
    },
    {
     "name": "stderr",
     "output_type": "stream",
     "text": [
      "Using Spark's default log4j profile: org/apache/spark/log4j-defaults.properties\n",
      "19/12/27 19:37:57 WARN NativeCodeLoader: Unable to load native-hadoop library for your platform... using builtin-java classes where applicable\n"
     ]
    },
    {
     "data": {
      "text/plain": [
       "\u001b[32mimport \u001b[39m\u001b[36m$file.$          , sparkinit._\n",
       "\u001b[39m\n",
       "\u001b[32mimport \u001b[39m\u001b[36m$file.$         , pathinit._\n",
       "\u001b[39m\n",
       "\u001b[32mimport \u001b[39m\u001b[36m$ivy.$                                         \n",
       "\u001b[39m\n",
       "\u001b[32mimport \u001b[39m\u001b[36m$ivy.$                                \n",
       "\u001b[39m\n",
       "\u001b[32mimport \u001b[39m\u001b[36mss.implicits._\n",
       "\u001b[39m\n",
       "\u001b[32mimport \u001b[39m\u001b[36morg.apache.spark.sql.functions._\u001b[39m"
      ]
     },
     "execution_count": 1,
     "metadata": {},
     "output_type": "execute_result"
    }
   ],
   "source": [
    "import $file.^.sparkinit, sparkinit._\n",
    "import $file.^.pathinit, pathinit._\n",
    "import $ivy.`com.github.pathikrit::better-files:3.8.0`\n",
    "import $ivy.`com.databricks::spark-xml:0.7.0`\n",
    "import ss.implicits._\n",
    "import org.apache.spark.sql.functions._\n",
    "import better.files._"
   ]
  },
  {
   "cell_type": "markdown",
   "metadata": {},
   "source": [
    "## Partition\n",
    "\n",
    "Break the raw xml up into parquet partitions (and save the schema):"
   ]
  },
  {
   "cell_type": "code",
   "execution_count": 14,
   "metadata": {},
   "outputs": [
    {
     "data": {
      "text/html": [
       "<script>\n",
       "var comm = Jupyter.notebook.kernel.comm_manager.new_comm('cancel-stage-4edb1c9c-7b27-4005-8e08-3fda79e154d4', {});\n",
       "\n",
       "function cancelStage(stageId) {\n",
       "  console.log('Cancelling stage ' + stageId);\n",
       "  comm.send({ 'stageId': stageId });\n",
       "}\n",
       "</script>\n",
       "          "
      ]
     },
     "metadata": {},
     "output_type": "display_data"
    },
    {
     "data": {
      "text/html": [
       "<div>\n",
       "  <span style=\"float: left;\">fold at InferSchema.scala:115</span>\n",
       "</div>\n"
      ]
     },
     "metadata": {},
     "output_type": "display_data"
    },
    {
     "data": {
      "text/html": [
       "<div class=\"progress\">\n",
       "  <div class=\"progress-bar\" role=\"progressbar\" style=\"background-color: blue; width: 100%; word-wrap: normal; white-space: nowrap; text-align: center; color: white\" aria-valuenow=\"100\" aria-valuemin=\"0\" aria-valuemax=\"100\">\n",
       "    202 / 202\n",
       "  </div>\n",
       "  <div class=\"progress-bar\" role=\"progressbar\" style=\"background-color: red; width: 0%\" aria-valuenow=\"0\" aria-valuemin=\"0\" aria-valuemax=\"100\"></div>\n",
       "</div>\n"
      ]
     },
     "metadata": {},
     "output_type": "display_data"
    },
    {
     "name": "stderr",
     "output_type": "stream",
     "text": [
      "19/12/27 19:11:21 WARN Utils: Truncated the string representation of a plan since it was too large. This behavior can be adjusted by setting 'spark.debug.maxToStringFields' in SparkEnv.conf.\n"
     ]
    },
    {
     "data": {
      "text/plain": [
       "\u001b[36mpath\u001b[39m: \u001b[32mString\u001b[39m = \u001b[32m\"/home/eczech/data/ot/cache/uniprot/uniprot_sprot.xml\"\u001b[39m\n",
       "\u001b[36mdf\u001b[39m: \u001b[32morg\u001b[39m.\u001b[32mapache\u001b[39m.\u001b[32mspark\u001b[39m.\u001b[32msql\u001b[39m.\u001b[32mpackage\u001b[39m.\u001b[32mDataFrame\u001b[39m = [_created: string, _dataset: string ... 18 more fields]"
      ]
     },
     "execution_count": 14,
     "metadata": {},
     "output_type": "execute_result"
    }
   ],
   "source": [
    "// Download from https://www.uniprot.org/downloads (Swiss-Prot only for now)\n",
    "val path = (File(DATA_CACHE_DIR) / \"uniprot\" / \"uniprot_sprot.xml\").toString\n",
    "val df = ss.read\n",
    "    .format(\"com.databricks.spark.xml\")\n",
    "    .option(\"rowTag\", \"entry\")\n",
    "    .load(path)"
   ]
  },
  {
   "cell_type": "code",
   "execution_count": null,
   "metadata": {},
   "outputs": [
    {
     "name": "stdout",
     "output_type": "stream",
     "text": [
      "root\n",
      " |-- _created: string (nullable = true)\n",
      " |-- _dataset: string (nullable = true)\n",
      " |-- _modified: string (nullable = true)\n",
      " |-- _version: long (nullable = true)\n",
      " |-- _xmlns: string (nullable = true)\n",
      " |-- accession: array (nullable = true)\n",
      " |    |-- element: string (containsNull = true)\n",
      " |-- comment: array (nullable = true)\n",
      " |    |-- element: struct (containsNull = true)\n",
      " |    |    |-- _VALUE: string (nullable = true)\n",
      " |    |    |-- _error: double (nullable = true)\n",
      " |    |    |-- _evidence: string (nullable = true)\n",
      " |    |    |-- _locationType: string (nullable = true)\n",
      " |    |    |-- _mass: double (nullable = true)\n",
      " |    |    |-- _method: string (nullable = true)\n",
      " |    |    |-- _name: string (nullable = true)\n",
      " |    |    |-- _type: string (nullable = true)\n",
      " |    |    |-- absorption: struct (nullable = true)\n",
      " |    |    |    |-- max: struct (nullable = true)\n",
      " |    |    |    |    |-- _VALUE: string (nullable = true)\n",
      " |    |    |    |    |-- _evidence: string (nullable = true)\n",
      " |    |    |    |-- text: struct (nullable = true)\n",
      " |    |    |    |    |-- _VALUE: string (nullable = true)\n",
      " |    |    |    |    |-- _evidence: string (nullable = true)\n",
      " |    |    |-- cofactor: array (nullable = true)\n",
      " |    |    |    |-- element: struct (containsNull = true)\n",
      " |    |    |    |    |-- _evidence: string (nullable = true)\n",
      " |    |    |    |    |-- dbReference: struct (nullable = true)\n",
      " |    |    |    |    |    |-- _VALUE: string (nullable = true)\n",
      " |    |    |    |    |    |-- _id: string (nullable = true)\n",
      " |    |    |    |    |    |-- _type: string (nullable = true)\n",
      " |    |    |    |    |-- name: string (nullable = true)\n",
      " |    |    |-- conflict: struct (nullable = true)\n",
      " |    |    |    |-- _VALUE: string (nullable = true)\n",
      " |    |    |    |-- _ref: long (nullable = true)\n",
      " |    |    |    |-- _type: string (nullable = true)\n",
      " |    |    |    |-- sequence: struct (nullable = true)\n",
      " |    |    |    |    |-- _VALUE: string (nullable = true)\n",
      " |    |    |    |    |-- _id: string (nullable = true)\n",
      " |    |    |    |    |-- _resource: string (nullable = true)\n",
      " |    |    |    |    |-- _version: long (nullable = true)\n",
      " |    |    |-- disease: struct (nullable = true)\n",
      " |    |    |    |-- _id: string (nullable = true)\n",
      " |    |    |    |-- acronym: string (nullable = true)\n",
      " |    |    |    |-- dbReference: struct (nullable = true)\n",
      " |    |    |    |    |-- _VALUE: string (nullable = true)\n",
      " |    |    |    |    |-- _id: long (nullable = true)\n",
      " |    |    |    |    |-- _type: string (nullable = true)\n",
      " |    |    |    |-- description: string (nullable = true)\n",
      " |    |    |    |-- name: string (nullable = true)\n",
      " |    |    |-- event: array (nullable = true)\n",
      " |    |    |    |-- element: struct (containsNull = true)\n",
      " |    |    |    |    |-- _VALUE: string (nullable = true)\n",
      " |    |    |    |    |-- _type: string (nullable = true)\n",
      " |    |    |-- experiments: long (nullable = true)\n",
      " |    |    |-- interactant: array (nullable = true)\n",
      " |    |    |    |-- element: struct (containsNull = true)\n",
      " |    |    |    |    |-- _VALUE: string (nullable = true)\n",
      " |    |    |    |    |-- _intactId: string (nullable = true)\n",
      " |    |    |    |    |-- id: string (nullable = true)\n",
      " |    |    |    |    |-- label: string (nullable = true)\n",
      " |    |    |-- isoform: array (nullable = true)\n",
      " |    |    |    |-- element: struct (containsNull = true)\n",
      " |    |    |    |    |-- id: array (nullable = true)\n",
      " |    |    |    |    |    |-- element: string (containsNull = true)\n",
      " |    |    |    |    |-- name: array (nullable = true)\n",
      " |    |    |    |    |    |-- element: struct (containsNull = true)\n",
      " |    |    |    |    |    |    |-- _VALUE: string (nullable = true)\n",
      " |    |    |    |    |    |    |-- _evidence: string (nullable = true)\n",
      " |    |    |    |    |-- sequence: struct (nullable = true)\n",
      " |    |    |    |    |    |-- _VALUE: string (nullable = true)\n",
      " |    |    |    |    |    |-- _ref: string (nullable = true)\n",
      " |    |    |    |    |    |-- _type: string (nullable = true)\n",
      " |    |    |-- kinetics: struct (nullable = true)\n",
      " |    |    |    |-- KM: array (nullable = true)\n",
      " |    |    |    |    |-- element: struct (containsNull = true)\n",
      " |    |    |    |    |    |-- _VALUE: string (nullable = true)\n",
      " |    |    |    |    |    |-- _evidence: string (nullable = true)\n",
      " |    |    |    |-- Vmax: array (nullable = true)\n",
      " |    |    |    |    |-- element: struct (containsNull = true)\n",
      " |    |    |    |    |    |-- _VALUE: string (nullable = true)\n",
      " |    |    |    |    |    |-- _evidence: string (nullable = true)\n",
      " |    |    |    |-- text: struct (nullable = true)\n",
      " |    |    |    |    |-- _VALUE: string (nullable = true)\n",
      " |    |    |    |    |-- _evidence: string (nullable = true)\n",
      " |    |    |-- link: struct (nullable = true)\n",
      " |    |    |    |-- _VALUE: string (nullable = true)\n",
      " |    |    |    |-- _uri: string (nullable = true)\n",
      " |    |    |-- location: array (nullable = true)\n",
      " |    |    |    |-- element: struct (containsNull = true)\n",
      " |    |    |    |    |-- position: struct (nullable = true)\n",
      " |    |    |    |    |    |-- _VALUE: string (nullable = true)\n",
      " |    |    |    |    |    |-- _evidence: string (nullable = true)\n",
      " |    |    |    |    |    |-- _position: long (nullable = true)\n",
      " |    |    |-- molecule: string (nullable = true)\n",
      " |    |    |-- organismsDiffer: boolean (nullable = true)\n",
      " |    |    |-- phDependence: struct (nullable = true)\n",
      " |    |    |    |-- text: struct (nullable = true)\n",
      " |    |    |    |    |-- _VALUE: string (nullable = true)\n",
      " |    |    |    |    |-- _evidence: string (nullable = true)\n",
      " |    |    |-- physiologicalReaction: array (nullable = true)\n",
      " |    |    |    |-- element: struct (containsNull = true)\n",
      " |    |    |    |    |-- _direction: string (nullable = true)\n",
      " |    |    |    |    |-- _evidence: string (nullable = true)\n",
      " |    |    |    |    |-- dbReference: struct (nullable = true)\n",
      " |    |    |    |    |    |-- _VALUE: string (nullable = true)\n",
      " |    |    |    |    |    |-- _id: string (nullable = true)\n",
      " |    |    |    |    |    |-- _type: string (nullable = true)\n",
      " |    |    |-- reaction: struct (nullable = true)\n",
      " |    |    |    |-- _evidence: string (nullable = true)\n",
      " |    |    |    |-- dbReference: array (nullable = true)\n",
      " |    |    |    |    |-- element: struct (containsNull = true)\n",
      " |    |    |    |    |    |-- _VALUE: string (nullable = true)\n",
      " |    |    |    |    |    |-- _id: string (nullable = true)\n",
      " |    |    |    |    |    |-- _type: string (nullable = true)\n",
      " |    |    |    |-- text: string (nullable = true)\n",
      " |    |    |-- redoxPotential: struct (nullable = true)\n",
      " |    |    |    |-- text: struct (nullable = true)\n",
      " |    |    |    |    |-- _VALUE: string (nullable = true)\n",
      " |    |    |    |    |-- _evidence: string (nullable = true)\n",
      " |    |    |-- subcellularLocation: array (nullable = true)\n",
      " |    |    |    |-- element: struct (containsNull = true)\n",
      " |    |    |    |    |-- location: array (nullable = true)\n",
      " |    |    |    |    |    |-- element: struct (containsNull = true)\n",
      " |    |    |    |    |    |    |-- _VALUE: string (nullable = true)\n",
      " |    |    |    |    |    |    |-- _evidence: string (nullable = true)\n",
      " |    |    |    |    |-- orientation: struct (nullable = true)\n",
      " |    |    |    |    |    |-- _VALUE: strin"
     ]
    }
   ],
   "source": [
    "df.printSchema"
   ]
  },
  {
   "cell_type": "code",
   "execution_count": 20,
   "metadata": {},
   "outputs": [
    {
     "data": {
      "text/plain": [
       "\u001b[36mpath\u001b[39m: \u001b[32mFile\u001b[39m = /home/eczech/data/ot/cache/uniprot/uniprot_sprot.schema.txt\n",
       "\u001b[36mres19_1\u001b[39m: \u001b[32mFile\u001b[39m = /home/eczech/data/ot/cache/uniprot/uniprot_sprot.schema.txt"
      ]
     },
     "execution_count": 20,
     "metadata": {},
     "output_type": "execute_result"
    }
   ],
   "source": [
    "val path = (File(DATA_CACHE_DIR) / \"uniprot\" / \"uniprot_sprot.schema.txt\")\n",
    "path.overwrite(df.schema.treeString)"
   ]
  },
  {
   "cell_type": "code",
   "execution_count": 16,
   "metadata": {},
   "outputs": [
    {
     "data": {
      "text/html": [
       "<div>\n",
       "  <span style=\"float: left;\">save at cmd15.sc:2</span>\n",
       "</div>\n"
      ]
     },
     "metadata": {},
     "output_type": "display_data"
    },
    {
     "data": {
      "text/html": [
       "<div class=\"progress\">\n",
       "  <div class=\"progress-bar\" role=\"progressbar\" style=\"background-color: blue; width: 100%; word-wrap: normal; white-space: nowrap; text-align: center; color: white\" aria-valuenow=\"100\" aria-valuemin=\"0\" aria-valuemax=\"100\">\n",
       "    202 / 202\n",
       "  </div>\n",
       "  <div class=\"progress-bar\" role=\"progressbar\" style=\"background-color: red; width: 0%\" aria-valuenow=\"0\" aria-valuemin=\"0\" aria-valuemax=\"100\"></div>\n",
       "</div>\n"
      ]
     },
     "metadata": {},
     "output_type": "display_data"
    },
    {
     "data": {
      "text/plain": [
       "\u001b[36mpath\u001b[39m: \u001b[32mString\u001b[39m = \u001b[32m\"/home/eczech/data/ot/cache/uniprot/uniprot_sprot.parquet\"\u001b[39m"
      ]
     },
     "execution_count": 16,
     "metadata": {},
     "output_type": "execute_result"
    }
   ],
   "source": [
    "val path = (File(DATA_CACHE_DIR) / \"uniprot\" / \"uniprot_sprot.parquet\").toString\n",
    "df.write.format(\"parquet\").save(path)"
   ]
  },
  {
   "cell_type": "markdown",
   "metadata": {},
   "source": [
    "## Load "
   ]
  },
  {
   "cell_type": "code",
   "execution_count": 3,
   "metadata": {},
   "outputs": [
    {
     "data": {
      "text/html": [
       "<script>\n",
       "var comm = Jupyter.notebook.kernel.comm_manager.new_comm('cancel-stage-2367f9db-5112-403b-b774-8e260dacfd41', {});\n",
       "\n",
       "function cancelStage(stageId) {\n",
       "  console.log('Cancelling stage ' + stageId);\n",
       "  comm.send({ 'stageId': stageId });\n",
       "}\n",
       "</script>\n",
       "          "
      ]
     },
     "metadata": {},
     "output_type": "display_data"
    },
    {
     "data": {
      "text/html": [
       "<div>\n",
       "  <span style=\"float: left;\">parquet at cmd2.sc:1</span>\n",
       "</div>\n"
      ]
     },
     "metadata": {},
     "output_type": "display_data"
    },
    {
     "data": {
      "text/html": [
       "<div class=\"progress\">\n",
       "  <div class=\"progress-bar\" role=\"progressbar\" style=\"background-color: blue; width: 100%; word-wrap: normal; white-space: nowrap; text-align: center; color: white\" aria-valuenow=\"100\" aria-valuemin=\"0\" aria-valuemax=\"100\">\n",
       "    1 / 1\n",
       "  </div>\n",
       "  <div class=\"progress-bar\" role=\"progressbar\" style=\"background-color: red; width: 0%\" aria-valuenow=\"0\" aria-valuemin=\"0\" aria-valuemax=\"100\"></div>\n",
       "</div>\n"
      ]
     },
     "metadata": {},
     "output_type": "display_data"
    },
    {
     "name": "stderr",
     "output_type": "stream",
     "text": [
      "19/12/27 19:38:47 WARN Utils: Truncated the string representation of a plan since it was too large. This behavior can be adjusted by setting 'spark.debug.maxToStringFields' in SparkEnv.conf.\n"
     ]
    },
    {
     "data": {
      "text/plain": [
       "\u001b[36mdf\u001b[39m: \u001b[32morg\u001b[39m.\u001b[32mapache\u001b[39m.\u001b[32mspark\u001b[39m.\u001b[32msql\u001b[39m.\u001b[32mpackage\u001b[39m.\u001b[32mDataFrame\u001b[39m = [_created: string, _dataset: string ... 18 more fields]"
      ]
     },
     "execution_count": 3,
     "metadata": {},
     "output_type": "execute_result"
    }
   ],
   "source": [
    "val df = ss.read.parquet((File(DATA_CACHE_DIR) / \"uniprot\" / \"uniprot_sprot.parquet\").toString)"
   ]
  },
  {
   "cell_type": "markdown",
   "metadata": {},
   "source": [
    "### Organisms"
   ]
  },
  {
   "cell_type": "code",
   "execution_count": 27,
   "metadata": {},
   "outputs": [
    {
     "name": "stdout",
     "output_type": "stream",
     "text": [
      "root\n",
      " |-- organism: struct (nullable = true)\n",
      " |    |-- _evidence: string (nullable = true)\n",
      " |    |-- dbReference: struct (nullable = true)\n",
      " |    |    |-- _VALUE: string (nullable = true)\n",
      " |    |    |-- _id: long (nullable = true)\n",
      " |    |    |-- _type: string (nullable = true)\n",
      " |    |-- lineage: struct (nullable = true)\n",
      " |    |    |-- taxon: array (nullable = true)\n",
      " |    |    |    |-- element: string (containsNull = true)\n",
      " |    |-- name: array (nullable = true)\n",
      " |    |    |-- element: struct (containsNull = true)\n",
      " |    |    |    |-- _VALUE: string (nullable = true)\n",
      " |    |    |    |-- _type: string (nullable = true)\n",
      "\n"
     ]
    }
   ],
   "source": [
    "df.select(\"organism\").printSchema"
   ]
  },
  {
   "cell_type": "code",
   "execution_count": 35,
   "metadata": {},
   "outputs": [
    {
     "data": {
      "text/html": [
       "<div>\n",
       "  <span style=\"float: left;\">show at cmd34.sc:8</span>\n",
       "</div>\n"
      ]
     },
     "metadata": {},
     "output_type": "display_data"
    },
    {
     "data": {
      "text/html": [
       "<div class=\"progress\">\n",
       "  <div class=\"progress-bar\" role=\"progressbar\" style=\"background-color: blue; width: 100%; word-wrap: normal; white-space: nowrap; text-align: center; color: white\" aria-valuenow=\"100\" aria-valuemin=\"0\" aria-valuemax=\"100\">\n",
       "    16 / 16\n",
       "  </div>\n",
       "  <div class=\"progress-bar\" role=\"progressbar\" style=\"background-color: red; width: 0%\" aria-valuenow=\"0\" aria-valuemin=\"0\" aria-valuemax=\"100\"></div>\n",
       "</div>\n"
      ]
     },
     "metadata": {},
     "output_type": "display_data"
    },
    {
     "data": {
      "text/html": [
       "<div>\n",
       "  <span style=\"float: left;\">show at cmd34.sc:8</span>\n",
       "</div>\n"
      ]
     },
     "metadata": {},
     "output_type": "display_data"
    },
    {
     "data": {
      "text/html": [
       "<div class=\"progress\">\n",
       "  <div class=\"progress-bar\" role=\"progressbar\" style=\"background-color: blue; width: 100%; word-wrap: normal; white-space: nowrap; text-align: center; color: white\" aria-valuenow=\"100\" aria-valuemin=\"0\" aria-valuemax=\"100\">\n",
       "    1 / 1\n",
       "  </div>\n",
       "  <div class=\"progress-bar\" role=\"progressbar\" style=\"background-color: red; width: 0%\" aria-valuenow=\"0\" aria-valuemin=\"0\" aria-valuemax=\"100\"></div>\n",
       "</div>\n"
      ]
     },
     "metadata": {},
     "output_type": "display_data"
    },
    {
     "name": "stdout",
     "output_type": "stream",
     "text": [
      "+------------------------------------------------------+-----+\n",
      "|_VALUE                                                |count|\n",
      "+------------------------------------------------------+-----+\n",
      "|Homo sapiens                                          |20367|\n",
      "|Mus musculus                                          |17027|\n",
      "|Arabidopsis thaliana                                  |15922|\n",
      "|Rattus norvegicus                                     |8085 |\n",
      "|Saccharomyces cerevisiae (strain ATCC 204508 / S288c) |6721 |\n",
      "|Bos taurus                                            |6008 |\n",
      "|Schizosaccharomyces pombe (strain 972 / ATCC 24843)   |5140 |\n",
      "|Escherichia coli (strain K12)                         |4518 |\n",
      "|Bacillus subtilis (strain 168)                        |4188 |\n",
      "|Dictyostelium discoideum                              |4149 |\n",
      "|Caenorhabditis elegans                                |4105 |\n",
      "|Oryza sativa subsp. japonica                          |4070 |\n",
      "|Drosophila melanogaster                               |3599 |\n",
      "|Xenopus laevis                                        |3448 |\n",
      "|Danio rerio                                           |3138 |\n",
      "|Gallus gallus                                         |2291 |\n",
      "|Pongo abelii                                          |2218 |\n",
      "|Mycobacterium tuberculosis (strain ATCC 25618 / H37Rv)|2191 |\n",
      "|Escherichia coli O157:H7                              |2040 |\n",
      "|Mycobacterium tuberculosis (strain CDC 1551 / Oshkosh)|1898 |\n",
      "+------------------------------------------------------+-----+\n",
      "only showing top 20 rows\n",
      "\n"
     ]
    }
   ],
   "source": [
    "df\n",
    "    .withColumn(\"organism\", explode($\"organism.name\"))\n",
    "    .select(\"organism.*\")\n",
    "    /* Organism type frequencies:\n",
    "    +----------+------+\n",
    "    |     _type| count|\n",
    "    +----------+------+\n",
    "    |scientific|561568|\n",
    "    |    common|243738|\n",
    "    |   synonym| 45458|\n",
    "    +----------+------+\n",
    "    */\n",
    "    .filter($\"_type\" === \"scientific\")\n",
    "    .groupBy(\"_VALUE\")\n",
    "    .count\n",
    "    .sort($\"count\".desc)\n",
    "    .show(false)"
   ]
  },
  {
   "cell_type": "code",
   "execution_count": 7,
   "metadata": {},
   "outputs": [
    {
     "data": {
      "text/html": [
       "<div>\n",
       "  <span style=\"float: left;\">count at cmd6.sc:5</span>\n",
       "</div>\n"
      ]
     },
     "metadata": {},
     "output_type": "display_data"
    },
    {
     "data": {
      "text/html": [
       "<div class=\"progress\">\n",
       "  <div class=\"progress-bar\" role=\"progressbar\" style=\"background-color: blue; width: 100%; word-wrap: normal; white-space: nowrap; text-align: center; color: white\" aria-valuenow=\"100\" aria-valuemin=\"0\" aria-valuemax=\"100\">\n",
       "    16 / 16\n",
       "  </div>\n",
       "  <div class=\"progress-bar\" role=\"progressbar\" style=\"background-color: red; width: 0%\" aria-valuenow=\"0\" aria-valuemin=\"0\" aria-valuemax=\"100\"></div>\n",
       "</div>\n"
      ]
     },
     "metadata": {},
     "output_type": "display_data"
    },
    {
     "data": {
      "text/html": [
       "<div>\n",
       "  <span style=\"float: left;\">count at cmd6.sc:5</span>\n",
       "</div>\n"
      ]
     },
     "metadata": {},
     "output_type": "display_data"
    },
    {
     "data": {
      "text/html": [
       "<div class=\"progress\">\n",
       "  <div class=\"progress-bar\" role=\"progressbar\" style=\"background-color: blue; width: 100%; word-wrap: normal; white-space: nowrap; text-align: center; color: white\" aria-valuenow=\"100\" aria-valuemin=\"0\" aria-valuemax=\"100\">\n",
       "    1 / 1\n",
       "  </div>\n",
       "  <div class=\"progress-bar\" role=\"progressbar\" style=\"background-color: red; width: 0%\" aria-valuenow=\"0\" aria-valuemin=\"0\" aria-valuemax=\"100\"></div>\n",
       "</div>\n"
      ]
     },
     "metadata": {},
     "output_type": "display_data"
    },
    {
     "data": {
      "text/plain": [
       "\u001b[36mdfh\u001b[39m: \u001b[32morg\u001b[39m.\u001b[32mapache\u001b[39m.\u001b[32mspark\u001b[39m.\u001b[32msql\u001b[39m.\u001b[32mDataset\u001b[39m[\u001b[32morg\u001b[39m.\u001b[32mapache\u001b[39m.\u001b[32mspark\u001b[39m.\u001b[32msql\u001b[39m.\u001b[32mRow\u001b[39m] = [_created: string, _dataset: string ... 18 more fields]\n",
       "\u001b[36mres6_1\u001b[39m: \u001b[32mLong\u001b[39m = \u001b[32m20367L\u001b[39m"
      ]
     },
     "execution_count": 7,
     "metadata": {},
     "output_type": "execute_result"
    }
   ],
   "source": [
    "val dfh = df.filter(array_contains($\"organism.name\", struct(\n",
    "    lit(\"Homo sapiens\").as(\"_VALUE\"),\n",
    "    lit(\"scientific\").as(\"_type\")\n",
    ")))\n",
    "dfh.count"
   ]
  },
  {
   "cell_type": "markdown",
   "metadata": {},
   "source": [
    "### Protein Existence\n",
    "\n",
    "While most of the UP entries are proteins observed at some point in a laboratory setting, a significant portion of them are also assumed to exist based on transcript measurement or some other less direct method (see https://web.expasy.org/docs/userman.html#PE_line)."
   ]
  },
  {
   "cell_type": "code",
   "execution_count": 9,
   "metadata": {},
   "outputs": [
    {
     "data": {
      "text/html": [
       "<div>\n",
       "  <span style=\"float: left;\">show at cmd8.sc:1</span>\n",
       "</div>\n"
      ]
     },
     "metadata": {},
     "output_type": "display_data"
    },
    {
     "data": {
      "text/html": [
       "<div class=\"progress\">\n",
       "  <div class=\"progress-bar\" role=\"progressbar\" style=\"background-color: blue; width: 100%; word-wrap: normal; white-space: nowrap; text-align: center; color: white\" aria-valuenow=\"100\" aria-valuemin=\"0\" aria-valuemax=\"100\">\n",
       "    16 / 16\n",
       "  </div>\n",
       "  <div class=\"progress-bar\" role=\"progressbar\" style=\"background-color: red; width: 0%\" aria-valuenow=\"0\" aria-valuemin=\"0\" aria-valuemax=\"100\"></div>\n",
       "</div>\n"
      ]
     },
     "metadata": {},
     "output_type": "display_data"
    },
    {
     "data": {
      "text/html": [
       "<div>\n",
       "  <span style=\"float: left;\">show at cmd8.sc:1</span>\n",
       "</div>\n"
      ]
     },
     "metadata": {},
     "output_type": "display_data"
    },
    {
     "data": {
      "text/html": [
       "<div class=\"progress\">\n",
       "  <div class=\"progress-bar\" role=\"progressbar\" style=\"background-color: blue; width: 100%; word-wrap: normal; white-space: nowrap; text-align: center; color: white\" aria-valuenow=\"100\" aria-valuemin=\"0\" aria-valuemax=\"100\">\n",
       "    1 / 1\n",
       "  </div>\n",
       "  <div class=\"progress-bar\" role=\"progressbar\" style=\"background-color: red; width: 0%\" aria-valuenow=\"0\" aria-valuemin=\"0\" aria-valuemax=\"100\"></div>\n",
       "</div>\n"
      ]
     },
     "metadata": {},
     "output_type": "display_data"
    },
    {
     "name": "stdout",
     "output_type": "stream",
     "text": [
      "+----------------------------+-----+\n",
      "|_type                       |count|\n",
      "+----------------------------+-----+\n",
      "|evidence at protein level   |15428|\n",
      "|inferred from homology      |814  |\n",
      "|evidence at transcript level|3373 |\n",
      "|uncertain                   |592  |\n",
      "|predicted                   |160  |\n",
      "+----------------------------+-----+\n",
      "\n"
     ]
    }
   ],
   "source": [
    "dfh.groupBy(\"proteinExistence._type\").count.show(false)"
   ]
  },
  {
   "cell_type": "markdown",
   "metadata": {},
   "source": [
    "### Evidence Codes\n",
    "\n",
    "Evidence codes are associated with a variety of the different types of evidence provided (see https://web.expasy.org/docs/userman.html#ev_description) and they are also stated at the root level of the entries as a generalization of what curation process an entry underwent.  The codes at this level are:\n",
    "\n",
    "- ECO:0000269 - [experimental evidence used in manual assertion](https://www.ebi.ac.uk/QuickGO/term/ECO:0000269)\n",
    "- ECO:0000244 - [combinatorial evidence used in manual assertion](https://www.ebi.ac.uk/QuickGO/term/ECO:0000244)\n",
    "- ECO:0000255 - [match to sequence model evidence used in manual assertion](https://www.ebi.ac.uk/QuickGO/term/ECO:0000255)\n",
    "- ECO:0000303 - [author statement without traceable support used in manual assertion](https://www.ebi.ac.uk/QuickGO/term/ECO:0000303)\n",
    "- ECO:0000305 - [curator inference used in manual assertion](https://www.ebi.ac.uk/QuickGO/term/ECO:0000305)\n",
    "- ECO:0000250 - [sequence similarity evidence used in manual assertion](https://www.ebi.ac.uk/QuickGO/term/ECO:0000250)\n",
    "- ECO:0000312 - [imported information used in manual assertion](https://www.ebi.ac.uk/QuickGO/term/ECO:0000312)"
   ]
  },
  {
   "cell_type": "code",
   "execution_count": 51,
   "metadata": {},
   "outputs": [
    {
     "data": {
      "text/html": [
       "<div>\n",
       "  <span style=\"float: left;\">show at cmd50.sc:3</span>\n",
       "</div>\n"
      ]
     },
     "metadata": {},
     "output_type": "display_data"
    },
    {
     "data": {
      "text/html": [
       "<div class=\"progress\">\n",
       "  <div class=\"progress-bar\" role=\"progressbar\" style=\"background-color: blue; width: 100%; word-wrap: normal; white-space: nowrap; text-align: center; color: white\" aria-valuenow=\"100\" aria-valuemin=\"0\" aria-valuemax=\"100\">\n",
       "    16 / 16\n",
       "  </div>\n",
       "  <div class=\"progress-bar\" role=\"progressbar\" style=\"background-color: red; width: 0%\" aria-valuenow=\"0\" aria-valuemin=\"0\" aria-valuemax=\"100\"></div>\n",
       "</div>\n"
      ]
     },
     "metadata": {},
     "output_type": "display_data"
    },
    {
     "data": {
      "text/html": [
       "<div>\n",
       "  <span style=\"float: left;\">show at cmd50.sc:3</span>\n",
       "</div>\n"
      ]
     },
     "metadata": {},
     "output_type": "display_data"
    },
    {
     "data": {
      "text/html": [
       "<div class=\"progress\">\n",
       "  <div class=\"progress-bar\" role=\"progressbar\" style=\"background-color: blue; width: 100%; word-wrap: normal; white-space: nowrap; text-align: center; color: white\" aria-valuenow=\"100\" aria-valuemin=\"0\" aria-valuemax=\"100\">\n",
       "    1 / 1\n",
       "  </div>\n",
       "  <div class=\"progress-bar\" role=\"progressbar\" style=\"background-color: red; width: 0%\" aria-valuenow=\"0\" aria-valuemin=\"0\" aria-valuemax=\"100\"></div>\n",
       "</div>\n"
      ]
     },
     "metadata": {},
     "output_type": "display_data"
    },
    {
     "name": "stdout",
     "output_type": "stream",
     "text": [
      "+-----------+------+\n",
      "|       code| count|\n",
      "+-----------+------+\n",
      "|ECO:0000269|101169|\n",
      "|ECO:0000244| 43423|\n",
      "|ECO:0000255| 24583|\n",
      "|ECO:0000303| 23939|\n",
      "|ECO:0000305| 22751|\n",
      "|ECO:0000250| 18315|\n",
      "|ECO:0000312|  4279|\n",
      "+-----------+------+\n",
      "\n"
     ]
    }
   ],
   "source": [
    "// Code frequency, independent of combinations\n",
    "dfh.withColumn(\"evidence_codes\", explode($\"evidence\"))\n",
    "    .groupBy($\"evidence_codes._type\".as(\"code\")).count\n",
    "    .sort($\"count\".desc).show"
   ]
  },
  {
   "cell_type": "code",
   "execution_count": 54,
   "metadata": {},
   "outputs": [
    {
     "data": {
      "text/html": [
       "<div>\n",
       "  <span style=\"float: left;\">show at cmd53.sc:5</span>\n",
       "</div>\n"
      ]
     },
     "metadata": {},
     "output_type": "display_data"
    },
    {
     "data": {
      "text/html": [
       "<div class=\"progress\">\n",
       "  <div class=\"progress-bar\" role=\"progressbar\" style=\"background-color: blue; width: 100%; word-wrap: normal; white-space: nowrap; text-align: center; color: white\" aria-valuenow=\"100\" aria-valuemin=\"0\" aria-valuemax=\"100\">\n",
       "    16 / 16\n",
       "  </div>\n",
       "  <div class=\"progress-bar\" role=\"progressbar\" style=\"background-color: red; width: 0%\" aria-valuenow=\"0\" aria-valuemin=\"0\" aria-valuemax=\"100\"></div>\n",
       "</div>\n"
      ]
     },
     "metadata": {},
     "output_type": "display_data"
    },
    {
     "data": {
      "text/html": [
       "<div>\n",
       "  <span style=\"float: left;\">show at cmd53.sc:5</span>\n",
       "</div>\n"
      ]
     },
     "metadata": {},
     "output_type": "display_data"
    },
    {
     "data": {
      "text/html": [
       "<div class=\"progress\">\n",
       "  <div class=\"progress-bar\" role=\"progressbar\" style=\"background-color: blue; width: 100%; word-wrap: normal; white-space: nowrap; text-align: center; color: white\" aria-valuenow=\"100\" aria-valuemin=\"0\" aria-valuemax=\"100\">\n",
       "    1 / 1\n",
       "  </div>\n",
       "  <div class=\"progress-bar\" role=\"progressbar\" style=\"background-color: red; width: 0%\" aria-valuenow=\"0\" aria-valuemin=\"0\" aria-valuemax=\"100\"></div>\n",
       "</div>\n"
      ]
     },
     "metadata": {},
     "output_type": "display_data"
    },
    {
     "data": {
      "text/html": [
       "<div>\n",
       "  <span style=\"float: left;\">show at cmd53.sc:5</span>\n",
       "</div>\n"
      ]
     },
     "metadata": {},
     "output_type": "display_data"
    },
    {
     "data": {
      "text/html": [
       "<div class=\"progress\">\n",
       "  <div class=\"progress-bar\" role=\"progressbar\" style=\"background-color: blue; width: 100%; word-wrap: normal; white-space: nowrap; text-align: center; color: white\" aria-valuenow=\"100\" aria-valuemin=\"0\" aria-valuemax=\"100\">\n",
       "    1 / 1\n",
       "  </div>\n",
       "  <div class=\"progress-bar\" role=\"progressbar\" style=\"background-color: red; width: 0%\" aria-valuenow=\"0\" aria-valuemin=\"0\" aria-valuemax=\"100\"></div>\n",
       "</div>\n"
      ]
     },
     "metadata": {},
     "output_type": "display_data"
    },
    {
     "name": "stdout",
     "output_type": "stream",
     "text": [
      "+-------------------------------------------------------------------------------------------+-----+\n",
      "|codes                                                                                      |count|\n",
      "+-------------------------------------------------------------------------------------------+-----+\n",
      "|[ECO:0000305, ECO:0000255, ECO:0000303, ECO:0000244, ECO:0000250, ECO:0000269]             |2741 |\n",
      "|[ECO:0000305, ECO:0000255, ECO:0000303, ECO:0000250, ECO:0000269]                          |1376 |\n",
      "|[ECO:0000305, ECO:0000255, ECO:0000244, ECO:0000250, ECO:0000269]                          |1246 |\n",
      "|[ECO:0000305, ECO:0000255, ECO:0000250, ECO:0000269]                                       |1116 |\n",
      "|[ECO:0000305, ECO:0000255, ECO:0000303, ECO:0000244, ECO:0000269]                          |1029 |\n",
      "|[ECO:0000305, ECO:0000303, ECO:0000244, ECO:0000250, ECO:0000269]                          |839  |\n",
      "|[ECO:0000305, ECO:0000255, ECO:0000303, ECO:0000269]                                       |837  |\n",
      "|[ECO:0000305, ECO:0000255]                                                                 |823  |\n",
      "|[ECO:0000305, ECO:0000255, ECO:0000269]                                                    |816  |\n",
      "|[ECO:0000312, ECO:0000305, ECO:0000255, ECO:0000303, ECO:0000244, ECO:0000250, ECO:0000269]|666  |\n",
      "+-------------------------------------------------------------------------------------------+-----+\n",
      "only showing top 10 rows\n",
      "\n"
     ]
    }
   ],
   "source": [
    "// Most common combinations associated with an individual entry\n",
    "dfh.select($\"accession\".getItem(0).as(\"id\"), explode($\"evidence\").as(\"evidence\"))\n",
    "    .groupBy(\"id\").agg(collect_set($\"evidence._type\").as(\"codes\"))\n",
    "    .groupBy(\"codes\").count\n",
    "    .sort($\"count\".desc)\n",
    "    .show(10, false)"
   ]
  },
  {
   "cell_type": "markdown",
   "metadata": {},
   "source": [
    "### CD Antigen Names"
   ]
  },
  {
   "cell_type": "code",
   "execution_count": 23,
   "metadata": {},
   "outputs": [
    {
     "data": {
      "text/html": [
       "<div>\n",
       "  <span style=\"float: left;\">show at cmd22.sc:2</span>\n",
       "</div>\n"
      ]
     },
     "metadata": {},
     "output_type": "display_data"
    },
    {
     "data": {
      "text/html": [
       "<div class=\"progress\">\n",
       "  <div class=\"progress-bar\" role=\"progressbar\" style=\"background-color: blue; width: 100%; word-wrap: normal; white-space: nowrap; text-align: center; color: white\" aria-valuenow=\"100\" aria-valuemin=\"0\" aria-valuemax=\"100\">\n",
       "    16 / 16\n",
       "  </div>\n",
       "  <div class=\"progress-bar\" role=\"progressbar\" style=\"background-color: red; width: 0%\" aria-valuenow=\"0\" aria-valuemin=\"0\" aria-valuemax=\"100\"></div>\n",
       "</div>\n"
      ]
     },
     "metadata": {},
     "output_type": "display_data"
    },
    {
     "data": {
      "text/html": [
       "<div>\n",
       "  <span style=\"float: left;\">show at cmd22.sc:2</span>\n",
       "</div>\n"
      ]
     },
     "metadata": {},
     "output_type": "display_data"
    },
    {
     "data": {
      "text/html": [
       "<div class=\"progress\">\n",
       "  <div class=\"progress-bar\" role=\"progressbar\" style=\"background-color: blue; width: 100%; word-wrap: normal; white-space: nowrap; text-align: center; color: white\" aria-valuenow=\"100\" aria-valuemin=\"0\" aria-valuemax=\"100\">\n",
       "    1 / 1\n",
       "  </div>\n",
       "  <div class=\"progress-bar\" role=\"progressbar\" style=\"background-color: red; width: 0%\" aria-valuenow=\"0\" aria-valuemin=\"0\" aria-valuemax=\"100\"></div>\n",
       "</div>\n"
      ]
     },
     "metadata": {},
     "output_type": "display_data"
    },
    {
     "name": "stdout",
     "output_type": "stream",
     "text": [
      "+------+-----+\n",
      "|_VALUE|count|\n",
      "+------+-----+\n",
      "|null  |19969|\n",
      "|CD36  |3    |\n",
      "|CD32  |3    |\n",
      "|CD99  |2    |\n",
      "|CD87  |1    |\n",
      "|CD109 |1    |\n",
      "|CD98  |1    |\n",
      "|CD37  |1    |\n",
      "+------+-----+\n",
      "only showing top 8 rows\n",
      "\n"
     ]
    }
   ],
   "source": [
    "dfh.groupBy(\"protein.cdAntigenName._VALUE\")\n",
    "    .count.sort($\"count\".desc).show(8, false)"
   ]
  },
  {
   "cell_type": "markdown",
   "metadata": {},
   "source": [
    "## Comments"
   ]
  },
  {
   "cell_type": "code",
   "execution_count": 12,
   "metadata": {},
   "outputs": [
    {
     "name": "stdout",
     "output_type": "stream",
     "text": [
      "root\n",
      " |-- _VALUE: string (nullable = true)\n",
      " |-- _error: double (nullable = true)\n",
      " |-- _evidence: string (nullable = true)\n",
      " |-- _locationType: string (nullable = true)\n",
      " |-- _mass: double (nullable = true)\n",
      " |-- _method: string (nullable = true)\n",
      " |-- _name: string (nullable = true)\n",
      " |-- _type: string (nullable = true)\n",
      " |-- absorption: struct (nullable = true)\n",
      " |    |-- max: struct (nullable = true)\n",
      " |    |    |-- _VALUE: string (nullable = true)\n",
      " |    |    |-- _evidence: string (nullable = true)\n",
      " |    |-- text: struct (nullable = true)\n",
      " |    |    |-- _VALUE: string (nullable = true)\n",
      " |    |    |-- _evidence: string (nullable = true)\n",
      " |-- cofactor: array (nullable = true)\n",
      " |    |-- element: struct (containsNull = true)\n",
      " |    |    |-- _evidence: string (nullable = true)\n",
      " |    |    |-- dbReference: struct (nullable = true)\n",
      " |    |    |    |-- _VALUE: string (nullable = true)\n",
      " |    |    |    |-- _id: string (nullable = true)\n",
      " |    |    |    |-- _type: string (nullable = true)\n",
      " |    |    |-- name: string (nullable = true)\n",
      " |-- conflict: struct (nullable = true)\n",
      " |    |-- _VALUE: string (nullable = true)\n",
      " |    |-- _ref: long (nullable = true)\n",
      " |    |-- _type: string (nullable = true)\n",
      " |    |-- sequence: struct (nullable = true)\n",
      " |    |    |-- _VALUE: string (nullable = true)\n",
      " |    |    |-- _id: string (nullable = true)\n",
      " |    |    |-- _resource: string (nullable = true)\n",
      " |    |    |-- _version: long (nullable = true)\n",
      " |-- disease: struct (nullable = true)\n",
      " |    |-- _id: string (nullable = true)\n",
      " |    |-- acronym: string (nullable = true)\n",
      " |    |-- dbReference: struct (nullable = true)\n",
      " |    |    |-- _VALUE: string (nullable = true)\n",
      " |    |    |-- _id: long (nullable = true)\n",
      " |    |    |-- _type: string (nullable = true)\n",
      " |    |-- description: string (nullable = true)\n",
      " |    |-- name: string (nullable = true)\n",
      " |-- event: array (nullable = true)\n",
      " |    |-- element: struct (containsNull = true)\n",
      " |    |    |-- _VALUE: string (nullable = true)\n",
      " |    |    |-- _type: string (nullable = true)\n",
      " |-- experiments: long (nullable = true)\n",
      " |-- interactant: array (nullable = true)\n",
      " |    |-- element: struct (containsNull = true)\n",
      " |    |    |-- _VALUE: string (nullable = true)\n",
      " |    |    |-- _intactId: string (nullable = true)\n",
      " |    |    |-- id: string (nullable = true)\n",
      " |    |    |-- label: string (nullable = true)\n",
      " |-- isoform: array (nullable = true)\n",
      " |    |-- element: struct (containsNull = true)\n",
      " |    |    |-- id: array (nullable = true)\n",
      " |    |    |    |-- element: string (containsNull = true)\n",
      " |    |    |-- name: array (nullable = true)\n",
      " |    |    |    |-- element: struct (containsNull = true)\n",
      " |    |    |    |    |-- _VALUE: string (nullable = true)\n",
      " |    |    |    |    |-- _evidence: string (nullable = true)\n",
      " |    |    |-- sequence: struct (nullable = true)\n",
      " |    |    |    |-- _VALUE: string (nullable = true)\n",
      " |    |    |    |-- _ref: string (nullable = true)\n",
      " |    |    |    |-- _type: string (nullable = true)\n",
      " |-- kinetics: struct (nullable = true)\n",
      " |    |-- KM: array (nullable = true)\n",
      " |    |    |-- element: struct (containsNull = true)\n",
      " |    |    |    |-- _VALUE: string (nullable = true)\n",
      " |    |    |    |-- _evidence: string (nullable = true)\n",
      " |    |-- Vmax: array (nullable = true)\n",
      " |    |    |-- element: struct (containsNull = true)\n",
      " |    |    |    |-- _VALUE: string (nullable = true)\n",
      " |    |    |    |-- _evidence: string (nullable = true)\n",
      " |    |-- text: struct (nullable = true)\n",
      " |    |    |-- _VALUE: string (nullable = true)\n",
      " |    |    |-- _evidence: string (nullable = true)\n",
      " |-- link: struct (nullable = true)\n",
      " |    |-- _VALUE: string (nullable = true)\n",
      " |    |-- _uri: string (nullable = true)\n",
      " |-- location: array (nullable = true)\n",
      " |    |-- element: struct (containsNull = true)\n",
      " |    |    |-- position: struct (nullable = true)\n",
      " |    |    |    |-- _VALUE: string (nullable = true)\n",
      " |    |    |    |-- _evidence: string (nullable = true)\n",
      " |    |    |    |-- _position: long (nullable = true)\n",
      " |-- molecule: string (nullable = true)\n",
      " |-- organismsDiffer: boolean (nullable = true)\n",
      " |-- phDependence: struct (nullable = true)\n",
      " |    |-- text: struct (nullable = true)\n",
      " |    |    |-- _VALUE: string (nullable = true)\n",
      " |    |    |-- _evidence: string (nullable = true)\n",
      " |-- physiologicalReaction: array (nullable = true)\n",
      " |    |-- element: struct (containsNull = true)\n",
      " |    |    |-- _direction: string (nullable = true)\n",
      " |    |    |-- _evidence: string (nullable = true)\n",
      " |    |    |-- dbReference: struct (nullable = true)\n",
      " |    |    |    |-- _VALUE: string (nullable = true)\n",
      " |    |    |    |-- _id: string (nullable = true)\n",
      " |    |    |    |-- _type: string (nullable = true)\n",
      " |-- reaction: struct (nullable = true)\n",
      " |    |-- _evidence: string (nullable = true)\n",
      " |    |-- dbReference: array (nullable = true)\n",
      " |    |    |-- element: struct (containsNull = true)\n",
      " |    |    |    |-- _VALUE: string (nullable = true)\n",
      " |    |    |    |-- _id: string (nullable = true)\n",
      " |    |    |    |-- _type: string (nullable = true)\n",
      " |    |-- text: string (nullable = true)\n",
      " |-- redoxPotential: struct (nullable = true)\n",
      " |    |-- text: struct (nullable = true)\n",
      " |    |    |-- _VALUE: string (nullable = true)\n",
      " |    |    |-- _evidence: string (nullable = true)\n",
      " |-- subcellularLocation: array (nullable = true)\n",
      " |    |-- element: struct (containsNull = true)\n",
      " |    |    |-- location: array (nullable = true)\n",
      " |    |    |    |-- element: struct (containsNull = true)\n",
      " |    |    |    |    |-- _VALUE: string (nullable = true)\n",
      " |    |    |    |    |-- _evidence: string (nullable = true)\n",
      " |    |    |-- orientation: struct (nullable = true)\n",
      " |    |    |    |-- _VALUE: string (nullable = true)\n",
      " |    |    |    |-- _evidence: string (nullable = true)\n",
      " |    |    |-- topology: array (nullable = true)\n",
      " |    |    |    |-- element: struct (containsNull = true)\n",
      " |    |    |    |    |-- _VALUE: string (nullable = true)\n",
      " |    |    |    |    |-- _evidence: string (nullable = true)\n",
      " |-- temperatureDependence: struct (nullable = true)\n",
      " |    |-- text: struct (nullable = true)\n",
      " |    |    |-- _VALUE: string (nullable = true)\n",
      " |    |    |-- _evidence: string (nullable = true)\n",
      " |-- text: struct (nullable = true)\n",
      " |    |-- _VALUE: string (nullable = true)\n",
      " |    |-- _evidence: string (nullable = true)\n",
      "\n"
     ]
    }
   ],
   "source": [
    "dfh.withColumn(\"comments\", explode($\"comment\")).select(\"comments.*\")\n",
    "    .printSchema"
   ]
  },
  {
   "cell_type": "code",
   "execution_count": 20,
   "metadata": {},
   "outputs": [
    {
     "data": {
      "text/html": [
       "<div>\n",
       "  <span style=\"float: left;\">show at cmd19.sc:2</span>\n",
       "</div>\n"
      ]
     },
     "metadata": {},
     "output_type": "display_data"
    },
    {
     "data": {
      "text/html": [
       "<div class=\"progress\">\n",
       "  <div class=\"progress-bar\" role=\"progressbar\" style=\"background-color: blue; width: 100%; word-wrap: normal; white-space: nowrap; text-align: center; color: white\" aria-valuenow=\"100\" aria-valuemin=\"0\" aria-valuemax=\"100\">\n",
       "    1 / 1\n",
       "  </div>\n",
       "  <div class=\"progress-bar\" role=\"progressbar\" style=\"background-color: red; width: 0%\" aria-valuenow=\"0\" aria-valuemin=\"0\" aria-valuemax=\"100\"></div>\n",
       "</div>\n"
      ]
     },
     "metadata": {},
     "output_type": "display_data"
    },
    {
     "name": "stdout",
     "output_type": "stream",
     "text": [
      "+---------+\n",
      "|_evidence|\n",
      "+---------+\n",
      "|null     |\n",
      "|null     |\n",
      "|null     |\n",
      "|null     |\n",
      "|null     |\n",
      "|null     |\n",
      "|null     |\n",
      "|null     |\n",
      "|null     |\n",
      "|null     |\n",
      "|null     |\n",
      "|null     |\n",
      "|null     |\n",
      "|null     |\n",
      "|null     |\n",
      "|null     |\n",
      "|null     |\n",
      "|null     |\n",
      "|null     |\n",
      "|null     |\n",
      "|7        |\n",
      "|null     |\n",
      "|null     |\n",
      "|null     |\n",
      "|null     |\n",
      "|null     |\n",
      "|6        |\n",
      "|null     |\n",
      "|null     |\n",
      "|null     |\n",
      "|null     |\n",
      "|null     |\n",
      "|null     |\n",
      "|null     |\n",
      "|null     |\n",
      "|null     |\n",
      "|null     |\n",
      "|null     |\n",
      "|null     |\n",
      "|null     |\n",
      "|null     |\n",
      "|null     |\n",
      "|9        |\n",
      "|null     |\n",
      "|null     |\n",
      "|null     |\n",
      "|null     |\n",
      "|null     |\n",
      "|null     |\n",
      "|null     |\n",
      "+---------+\n",
      "only showing top 50 rows\n",
      "\n"
     ]
    }
   ],
   "source": [
    "dfh.withColumn(\"comments\", explode($\"comment\"))\n",
    "    .select(\"comments._evidence\").show(50, false)\n",
    "    //.count.sort($\"count\".desc).show(false)"
   ]
  },
  {
   "cell_type": "code",
   "execution_count": 18,
   "metadata": {},
   "outputs": [
    {
     "data": {
      "text/html": [
       "<div>\n",
       "  <span style=\"float: left;\">show at cmd17.sc:4</span>\n",
       "</div>\n"
      ]
     },
     "metadata": {},
     "output_type": "display_data"
    },
    {
     "data": {
      "text/html": [
       "<div class=\"progress\">\n",
       "  <div class=\"progress-bar\" role=\"progressbar\" style=\"background-color: blue; width: 100%; word-wrap: normal; white-space: nowrap; text-align: center; color: white\" aria-valuenow=\"100\" aria-valuemin=\"0\" aria-valuemax=\"100\">\n",
       "    16 / 16\n",
       "  </div>\n",
       "  <div class=\"progress-bar\" role=\"progressbar\" style=\"background-color: red; width: 0%\" aria-valuenow=\"0\" aria-valuemin=\"0\" aria-valuemax=\"100\"></div>\n",
       "</div>\n"
      ]
     },
     "metadata": {},
     "output_type": "display_data"
    },
    {
     "data": {
      "text/html": [
       "<div>\n",
       "  <span style=\"float: left;\">show at cmd17.sc:4</span>\n",
       "</div>\n"
      ]
     },
     "metadata": {},
     "output_type": "display_data"
    },
    {
     "data": {
      "text/html": [
       "<div class=\"progress\">\n",
       "  <div class=\"progress-bar\" role=\"progressbar\" style=\"background-color: blue; width: 100%; word-wrap: normal; white-space: nowrap; text-align: center; color: white\" aria-valuenow=\"100\" aria-valuemin=\"0\" aria-valuemax=\"100\">\n",
       "    1 / 1\n",
       "  </div>\n",
       "  <div class=\"progress-bar\" role=\"progressbar\" style=\"background-color: red; width: 0%\" aria-valuenow=\"0\" aria-valuemin=\"0\" aria-valuemax=\"100\"></div>\n",
       "</div>\n"
      ]
     },
     "metadata": {},
     "output_type": "display_data"
    },
    {
     "name": "stdout",
     "output_type": "stream",
     "text": [
      "+-----------------------------+-----+\n",
      "|_type                        |count|\n",
      "+-----------------------------+-----+\n",
      "|interaction                  |55521|\n",
      "|subcellular location         |17911|\n",
      "|function                     |17451|\n",
      "|similarity                   |14346|\n",
      "|subunit                      |12499|\n",
      "|sequence caution             |11883|\n",
      "|alternative products         |10628|\n",
      "|tissue specificity           |9826 |\n",
      "|PTM                          |7273 |\n",
      "|disease                      |6740 |\n",
      "|catalytic activity           |6545 |\n",
      "|domain                       |4376 |\n",
      "|online information           |4165 |\n",
      "|miscellaneous                |4024 |\n",
      "|caution                      |2198 |\n",
      "|induction                    |1885 |\n",
      "|cofactor                     |1712 |\n",
      "|pathway                      |1344 |\n",
      "|activity regulation          |1282 |\n",
      "|biophysicochemical properties|859  |\n",
      "+-----------------------------+-----+\n",
      "only showing top 20 rows\n",
      "\n"
     ]
    }
   ],
   "source": [
    "dfh.withColumn(\"comments\", explode($\"comment\"))\n",
    "    .groupBy(\"comments._type\")\n",
    "    .count.sort($\"count\".desc)\n",
    "    .show(false)"
   ]
  }
 ],
 "metadata": {
  "kernelspec": {
   "display_name": "Scala",
   "language": "scala",
   "name": "scala"
  },
  "language_info": {
   "codemirror_mode": "text/x-scala",
   "file_extension": ".scala",
   "mimetype": "text/x-scala",
   "name": "scala",
   "nbconvert_exporter": "script",
   "version": "2.12.10"
  }
 },
 "nbformat": 4,
 "nbformat_minor": 4
}
